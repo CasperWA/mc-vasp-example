{
 "cells": [
  {
   "cell_type": "code",
   "execution_count": 1,
   "metadata": {},
   "outputs": [],
   "source": [
    "import ipywidgets as ipw\n",
    "from IPython.display import display\n",
    "import sys\n",
    "import py"
   ]
  },
  {
   "cell_type": "code",
   "execution_count": 2,
   "metadata": {},
   "outputs": [],
   "source": [
    "def capture(output_widget):\n",
    "    def decorator(func):\n",
    "        def decorated(*args, **kwargs):\n",
    "            output_widget.clear_output()\n",
    "            result = {}\n",
    "            with output_widget:\n",
    "                result = func(*args, **kwargs)\n",
    "            return result\n",
    "        return decorated\n",
    "    return decorator"
   ]
  },
  {
   "cell_type": "code",
   "execution_count": 3,
   "metadata": {},
   "outputs": [],
   "source": [
    "WORKCHAIN_PK = ipw.IntText(description='Workchain')"
   ]
  },
  {
   "cell_type": "code",
   "execution_count": 4,
   "metadata": {},
   "outputs": [],
   "source": [
    "VERDI_BIN = ipw.Text(description='verdi bin', default='verdi')\n",
    "#VERDI_BIN.value = py.path.local(sys.executable).dirpath().join('verdi').strpath\n",
    "VERDI_BIN.value = 'verdi'"
   ]
  },
  {
   "cell_type": "code",
   "execution_count": 5,
   "metadata": {},
   "outputs": [],
   "source": [
    "COMPUTER = ipw.HTML(description='Computer')"
   ]
  },
  {
   "cell_type": "code",
   "execution_count": 6,
   "metadata": {},
   "outputs": [],
   "source": [
    "CHECK = ipw.Button(description='Check')\n",
    "CHECK = ipw.Button(description='Check ')"
   ]
  },
  {
   "cell_type": "code",
   "execution_count": 7,
   "metadata": {},
   "outputs": [],
   "source": [
    "STATE = ipw.HTML(description='State')"
   ]
  },
  {
   "cell_type": "code",
   "execution_count": 8,
   "metadata": {},
   "outputs": [],
   "source": [
    "RUNTIME = ipw.HTML(description='Runtime')"
   ]
  },
  {
   "cell_type": "code",
   "execution_count": 9,
   "metadata": {},
   "outputs": [],
   "source": [
    "FORMULA = ipw.HTML(description='Structure')"
   ]
  },
  {
   "cell_type": "code",
   "execution_count": 10,
   "metadata": {},
   "outputs": [],
   "source": [
    "TREE = ipw.Output()"
   ]
  },
  {
   "cell_type": "code",
   "execution_count": 11,
   "metadata": {},
   "outputs": [],
   "source": [
    "WORK_LIST = ipw.Output()"
   ]
  },
  {
   "cell_type": "code",
   "execution_count": 12,
   "metadata": {},
   "outputs": [],
   "source": [
    "CALC_LIST = ipw.Output()"
   ]
  },
  {
   "cell_type": "code",
   "execution_count": 13,
   "metadata": {},
   "outputs": [],
   "source": [
    "GET_INFO_ERR = ipw.Output()"
   ]
  },
  {
   "cell_type": "code",
   "execution_count": 14,
   "metadata": {},
   "outputs": [],
   "source": [
    "BANDS = ipw.Output()"
   ]
  },
  {
   "cell_type": "code",
   "execution_count": 15,
   "metadata": {},
   "outputs": [],
   "source": [
    "RESULTS = ipw.HTML(description='Results')"
   ]
  },
  {
   "cell_type": "code",
   "execution_count": 16,
   "metadata": {},
   "outputs": [],
   "source": [
    "OUTPUT = ipw.HBox([RESULTS, BANDS])"
   ]
  },
  {
   "cell_type": "code",
   "execution_count": 17,
   "metadata": {},
   "outputs": [],
   "source": [
    "def dict2html(in_dict):\n",
    "    lines = ['{} = {}'.format(key, val) for key, val in in_dict.items()]\n",
    "    return '<br/>'.join(lines)\n",
    "        "
   ]
  },
  {
   "cell_type": "code",
   "execution_count": 18,
   "metadata": {},
   "outputs": [],
   "source": [
    "def plot_mpl(all_data):\n",
    "    from matplotlib import rc\n",
    "    \n",
    "    # Uncomment to change default font\n",
    "    #rc('font',**{'family':'sans-serif','sans-serif':['Helvetica']})\n",
    "    #rc('font', **{'family': 'serif', 'serif': ['Computer Modern', 'CMU Serif', 'Times New Roman']})\n",
    "    # To use proper font for, e.g., Gamma if usetex is set to False\n",
    "    rc('mathtext', fontset='cm')\n",
    "\n",
    "    rc('text', usetex=True)\n",
    "    import matplotlib.pyplot as plt\n",
    "    plt.rcParams.update({'text.latex.preview': True})\n",
    "\n",
    "    import pylab as pl\n",
    "\n",
    "    # I use json to make sure the input is sanitized\n",
    "    import json\n",
    "\n",
    "    print_comment = False\n",
    "\n",
    "    if not all_data.get('use_latex', False):\n",
    "        rc('text', usetex=False)\n",
    "\n",
    "    #x = all_data['x']\n",
    "    #bands = all_data['bands']\n",
    "    paths = all_data['paths']\n",
    "    tick_pos = all_data['tick_pos']\n",
    "    tick_labels = all_data['tick_labels']\n",
    "\n",
    "    # Option for bands (all, or those of type 1 if there are two spins)\n",
    "    further_plot_options1 = {}\n",
    "    further_plot_options1['color'] = all_data.get('bands_color', 'k')\n",
    "    further_plot_options1['linewidth'] = all_data.get('bands_linewidth', 0.5)\n",
    "    further_plot_options1['linestyle'] = all_data.get('bands_linestyle', None)\n",
    "    further_plot_options1['marker'] = all_data.get('bands_marker', None)\n",
    "    further_plot_options1['markersize'] = all_data.get('bands_markersize', None)\n",
    "    further_plot_options1['markeredgecolor'] = all_data.get('bands_markeredgecolor', None)\n",
    "    further_plot_options1['markeredgewidth'] = all_data.get('bands_markeredgewidth', None)\n",
    "    further_plot_options1['markerfacecolor'] = all_data.get('bands_markerfacecolor', None)\n",
    "\n",
    "    # Options for second-type of bands if present (e.g. spin up vs. spin down)\n",
    "    further_plot_options2 = {}\n",
    "    further_plot_options2['color'] = all_data.get('bands_color2', 'r')\n",
    "    # Use the values of further_plot_options1 by default\n",
    "    further_plot_options2['linewidth'] = all_data.get('bands_linewidth2',\n",
    "        further_plot_options1['linewidth']\n",
    "        )\n",
    "    further_plot_options2['linestyle'] = all_data.get('bands_linestyle2',\n",
    "        further_plot_options1['linestyle']\n",
    "        )\n",
    "    further_plot_options2['marker'] = all_data.get('bands_marker2',\n",
    "        further_plot_options1['marker']\n",
    "        )\n",
    "    further_plot_options2['markersize'] = all_data.get('bands_markersize2',\n",
    "        further_plot_options1['markersize']\n",
    "        )\n",
    "    further_plot_options2['markeredgecolor'] = all_data.get('bands_markeredgecolor2',\n",
    "        further_plot_options1['markeredgecolor']\n",
    "        )\n",
    "    further_plot_options2['markeredgewidth'] = all_data.get('bands_markeredgewidth2',\n",
    "        further_plot_options1['markeredgewidth']\n",
    "        )\n",
    "    further_plot_options2['markerfacecolor'] = all_data.get('bands_markerfacecolor2',\n",
    "        further_plot_options1['markerfacecolor']\n",
    "        )\n",
    "\n",
    "    fig = pl.figure()\n",
    "    p = fig.add_subplot(1,1,1)\n",
    "\n",
    "    first_band_1 = True\n",
    "    first_band_2 = True\n",
    "\n",
    "    for path in paths:\n",
    "        if path['length'] <= 1:\n",
    "            # Avoid printing empty lines\n",
    "            continue\n",
    "        x = path['x']\n",
    "        #for band in bands:\n",
    "        for band, band_type in zip(path['values'], all_data['band_type_idx']):\n",
    "\n",
    "            # For now we support only two colors\n",
    "            if band_type % 2 == 0:\n",
    "                further_plot_options = further_plot_options1\n",
    "            else:\n",
    "                further_plot_options = further_plot_options2\n",
    "\n",
    "            # Put the legend text only once\n",
    "            label = None\n",
    "            if first_band_1 and band_type % 2 == 0:\n",
    "                first_band_1 = False\n",
    "                label = all_data.get('legend_text', None)\n",
    "            elif first_band_2 and band_type % 2 == 1:\n",
    "                first_band_2 = False\n",
    "                label = all_data.get('legend_text2', None)\n",
    "\n",
    "            p.plot(x, band, label=label,\n",
    "                   **further_plot_options\n",
    "            )\n",
    "\n",
    "\n",
    "    p.set_xticks(tick_pos)\n",
    "    p.set_xticklabels(tick_labels)\n",
    "    p.set_xlim([all_data['x_min_lim'], all_data['x_max_lim']])\n",
    "    p.set_ylim([all_data['y_min_lim'], all_data['y_max_lim']])\n",
    "    p.xaxis.grid(True, which='major', color='#888888', linestyle='-', linewidth=0.5)\n",
    "\n",
    "    if all_data.get('plot_zero_axis', False):\n",
    "        p.axhline(\n",
    "            0.,\n",
    "            color=all_data.get('zero_axis_color', '#888888'),\n",
    "            linestyle=all_data.get('zero_axis_linestyle', '--'),\n",
    "            linewidth=all_data.get('zero_axis_linewidth', 0.5),\n",
    "            )\n",
    "    if all_data['title']:\n",
    "        p.set_title(all_data['title'])\n",
    "    if all_data['legend_text']:\n",
    "        p.legend(loc='best')\n",
    "    p.set_ylabel(all_data['yaxis_label'])\n",
    "\n",
    "    try:\n",
    "        if print_comment:\n",
    "            print all_data['comment']\n",
    "    except KeyError:\n",
    "        pass\n",
    "    pl.close()\n",
    "    #pl.show()\n",
    "    return fig"
   ]
  },
  {
   "cell_type": "code",
   "execution_count": 19,
   "metadata": {},
   "outputs": [],
   "source": [
    "@capture(GET_INFO_ERR)\n",
    "def get_workchain_info(pk):\n",
    "    from mc_vasp_example import vasp_example as vex\n",
    "    vex.load_dbenv_if_not_loaded()\n",
    "    from aiida.orm import load_node, Code\n",
    "    from aiida.utils.timezone import now\n",
    "    \n",
    "    state = 'N/A'\n",
    "    wc = load_node(pk)\n",
    "    \n",
    "    end_time = now()\n",
    "    try:\n",
    "        if wc.has_finished():\n",
    "            state = 'Finished'\n",
    "            end_time = wc.mtime\n",
    "            if wc.has_finished_ok():\n",
    "                state = 'Finished OK'\n",
    "            elif wc.has_failed():\n",
    "                state = 'Failed'\n",
    "            elif wc.has_aborted():\n",
    "                state = 'Aborted'\n",
    "        else:\n",
    "            state = 'Running'\n",
    "    except AttributeError as err:\n",
    "        raise TypeError('{} Is not a WorkCalculation'.format(pk))\n",
    "    \n",
    "    if state != 'N/A':\n",
    "        runtime_delta = end_time - wc.ctime\n",
    "        runtime = runtime_delta.total_seconds()\n",
    "    else:\n",
    "        runtime = 'N/A'\n",
    "    \n",
    "    inputs = wc.get_inputs_dict()\n",
    "    \n",
    "    structure = inputs.get('structure', None)\n",
    "    formula = ''\n",
    "    if structure:\n",
    "        formula = wc.inp.structure.get_formula()\n",
    "    \n",
    "    codename = inputs.get('vasp_codename', None)\n",
    "    computer = ''\n",
    "    if codename:\n",
    "        computer = Code.get_from_string(codename.value).get_computer().name\n",
    "        \n",
    "    outputs = wc.get_outputs_dict()\n",
    "    \n",
    "    out_bands = outputs.get('bands', None)\n",
    "    bands_data = None\n",
    "    if out_bands:\n",
    "        bands_data = out_bands._matplotlib_get_dict()\n",
    "    \n",
    "    results = 'N/A'\n",
    "    if out_bands:\n",
    "        bands_calc_res = out_bands.inp.output_band.get_outputs_dict().get('output_parameters', None)\n",
    "        results = dict2html(bands_calc_res.get_dict())\n",
    "    \n",
    "    return {'state': state, 'runtime': runtime, 'formula': formula, 'computer': computer, 'bands': bands_data, 'results': results}\n",
    "\n",
    "\n",
    "def get_workchain_tree(pk, verdi_bin='verdi'):\n",
    "    import subprocess as sp\n",
    "    output = sp.check_output([verdi_bin, 'work', 'tree', str(pk)])\n",
    "    TREE.clear_output()\n",
    "    with TREE:\n",
    "    #return sp.check_output([verdi_bin, 'work', 'tree', str(pk)])\n",
    "        print output\n",
    "   \n",
    "\n",
    "def get_verdi_work_list(pk, verdi_bin='verdi'):\n",
    "    import subprocess as sp\n",
    "    output = sp.check_output([verdi_bin, 'work', 'list'])\n",
    "    WORK_LIST.clear_output()\n",
    "    with WORK_LIST:\n",
    "        print output\n",
    "        \n",
    "\n",
    "def get_verdi_calc_list(pk, verdi_bin='verdi'):\n",
    "    import subprocess as sp\n",
    "    output = sp.check_output([verdi_bin, 'calculation', 'list'])\n",
    "    CALC_LIST.clear_output()    \n",
    "    with CALC_LIST:\n",
    "        print output\n",
    "\n",
    "        \n",
    "def preplot(check_button):\n",
    "    from matplotlib import pyplot\n",
    "    \n",
    "    #global WORKCHAIN_PK\n",
    "    #info = get_workchain_info(WORKCHAIN_PK.value)\n",
    "    #bands = info.get('bands', 'NA')\n",
    "    #if bands:\n",
    "    #    display(plot_mpl(bands))\n",
    "        \n",
    "    pyplot.close()\n",
    "    \n",
    "\n",
    "def update_bands(bands):\n",
    "    global BANDS, OUTPUT\n",
    "    fig = plot_mpl(bands)\n",
    "    BANDS = ipw.Output()\n",
    "    output_children = [i for i in OUTPUT.children]\n",
    "    output_children[1] = BANDS\n",
    "    OUTPUT.children = output_children\n",
    "    BANDS.append_display_data(fig)\n",
    "    \n",
    "\n",
    "def check_workchain(check_button):\n",
    "    global WORKCHAIN_PK, VERDI_BIN, STATE, RUNTIME, TREE, RESULTS\n",
    "    \n",
    "    check_button.disabled=True\n",
    "    try:\n",
    "        info = get_workchain_info(WORKCHAIN_PK.value)\n",
    "        #state, runtime, formula, computer = get_workchain_info(WORKCHAIN_PK.value)\n",
    "        STATE.value = info.get('state', 'N/A')\n",
    "        RUNTIME.value = '{} sec'.format(info.get('runtime', 'N/A'))\n",
    "        FORMULA.value = info.get('formula', 'N/A')\n",
    "        COMPUTER.value = info.get('computer', 'N/A')\n",
    "        RESULTS.value = info.get('results', 'N/A')\n",
    "        #TREE.value = get_workchain_tree(WORKCHAIN_PK.value, verdi_bin=VERDI_BIN.value)\n",
    "        get_workchain_tree(WORKCHAIN_PK.value, verdi_bin=VERDI_BIN.value)\n",
    "        bands = info.get('bands', None)\n",
    "        BANDS.clear_output()\n",
    "        if bands:\n",
    "            update_bands(bands)\n",
    "            \n",
    "        get_verdi_work_list(WORKCHAIN_PK.value, verdi_bin=VERDI_BIN.value)\n",
    "        get_verdi_calc_list(WORKCHAIN_PK.value, verdi_bin=VERDI_BIN.value)\n",
    "    finally:\n",
    "        check_button.disabled = False\n",
    "\n",
    "    \n",
    "#CHECK.on_click(preplot)\n",
    "CHECK.on_click(check_workchain)"
   ]
  },
  {
   "cell_type": "code",
   "execution_count": 20,
   "metadata": {},
   "outputs": [
    {
     "data": {
      "application/vnd.jupyter.widget-view+json": {
       "model_id": "0ee142e3cf3d4c4684c1eb5faa78e75c",
       "version_major": 2,
       "version_minor": 0
      },
      "text/html": [
       "<p>Failed to display Jupyter Widget of type <code>VBox</code>.</p>\n",
       "<p>\n",
       "  If you're reading this message in the Jupyter Notebook or JupyterLab Notebook, it may mean\n",
       "  that the widgets JavaScript is still loading. If this message persists, it\n",
       "  likely means that the widgets JavaScript library is either not installed or\n",
       "  not enabled. See the <a href=\"https://ipywidgets.readthedocs.io/en/stable/user_install.html\">Jupyter\n",
       "  Widgets Documentation</a> for setup instructions.\n",
       "</p>\n",
       "<p>\n",
       "  If you're reading this message in another frontend (for example, a static\n",
       "  rendering on GitHub or <a href=\"https://nbviewer.jupyter.org/\">NBViewer</a>),\n",
       "  it may mean that your frontend doesn't currently support widgets.\n",
       "</p>\n"
      ],
      "text/plain": [
       "VBox(children=(HBox(children=(VBox(children=(IntText(value=0, description=u'Workchain'), HTML(value=u'', description=u'Computer'), HTML(value=u'', description=u'State'), HTML(value=u'', description=u'Runtime'), HTML(value=u'', description=u'Structure'))), Output())), VBox(children=(HBox(children=(HTML(value=u'', description=u'Results'), Output())), Accordion(children=(VBox(children=(Output(), Label(value=u''), Output())),), selected_index=None, _titles={u'0': 'Running Processes'}))), Button(description=u'Check ', style=ButtonStyle()), Output()))"
      ]
     },
     "metadata": {},
     "output_type": "display_data"
    }
   ],
   "source": [
    "INPUT_STATE = ipw.VBox([WORKCHAIN_PK, COMPUTER, STATE, RUNTIME, FORMULA])\n",
    "TOP = ipw.HBox([INPUT_STATE, TREE])\n",
    "LISTS = ipw.Accordion([ipw.VBox([WORK_LIST, ipw.Label(value=''), CALC_LIST])])\n",
    "LISTS.set_title(0, 'Running Processes')\n",
    "LISTS.selected_index = None\n",
    "BOTTOM = ipw.VBox([OUTPUT, LISTS])\n",
    "display(ipw.VBox([\n",
    "    TOP,\n",
    "    BOTTOM,\n",
    "    CHECK,\n",
    "    GET_INFO_ERR\n",
    "]))"
   ]
  },
  {
   "cell_type": "code",
   "execution_count": 21,
   "metadata": {},
   "outputs": [],
   "source": [
    "#!/Users/ricohaeuselmann/.venvwrap/matcloud-jupyter-py2/bin/verdi work list"
   ]
  },
  {
   "cell_type": "code",
   "execution_count": 22,
   "metadata": {},
   "outputs": [],
   "source": [
    "#!/Users/ricohaeuselmann/.venvwrap/matcloud-jupyter-py2/bin/verdi calculation list"
   ]
  },
  {
   "cell_type": "code",
   "execution_count": 23,
   "metadata": {},
   "outputs": [],
   "source": [
    "## Output: Add Total energy + bandstructure"
   ]
  },
  {
   "cell_type": "code",
   "execution_count": 24,
   "metadata": {},
   "outputs": [],
   "source": [
    "DEV_NULL = ipw.Output()\n",
    "from matplotlib import pyplot\n",
    "with DEV_NULL:\n",
    "    fig = plot_mpl(get_workchain_info(813)['bands'])\n",
    "    display(fig)\n",
    "    pyplot.close()"
   ]
  },
  {
   "cell_type": "code",
   "execution_count": 25,
   "metadata": {},
   "outputs": [],
   "source": [
    "#Si - 813\n",
    "#GaAs - 859"
   ]
  }
 ],
 "metadata": {
  "kernelspec": {
   "display_name": "Python 2",
   "language": "python",
   "name": "python2"
  },
  "language_info": {
   "codemirror_mode": {
    "name": "ipython",
    "version": 2
   },
   "file_extension": ".py",
   "mimetype": "text/x-python",
   "name": "python",
   "nbconvert_exporter": "python",
   "pygments_lexer": "ipython2",
   "version": "2.7.14"
  },
  "widgets": {
   "application/vnd.jupyter.widget-state+json": {
    "state": {
     "00767851207544c9a31b06e4e7f7cabf": {
      "model_module": "@jupyter-widgets/controls",
      "model_module_version": "1.0.0",
      "model_name": "DescriptionStyleModel",
      "state": {
       "description_width": ""
      }
     },
     "007d39bbb9e546a7ad7823420644ebff": {
      "model_module": "@jupyter-widgets/controls",
      "model_module_version": "1.0.0",
      "model_name": "DescriptionStyleModel",
      "state": {
       "description_width": ""
      }
     },
     "018111776d8544768a59fa7d76af24ee": {
      "model_module": "@jupyter-widgets/controls",
      "model_module_version": "1.0.0",
      "model_name": "ButtonModel",
      "state": {
       "description": "Check",
       "layout": "IPY_MODEL_8266c92a8543418facdb4b83110a1757",
       "style": "IPY_MODEL_3d3d35145b9a4667bddab8a04ff29422"
      }
     },
     "02bf3d9240d943298868d21284cb1485": {
      "model_module": "@jupyter-widgets/controls",
      "model_module_version": "1.0.0",
      "model_name": "VBoxModel",
      "state": {
       "children": [
        "IPY_MODEL_fce32697323c47feaf0b21126f93ff16",
        "IPY_MODEL_d700b1bad0be46ef83b1a7ed99fc8f18",
        "IPY_MODEL_b5bc07ce9db344d7b392c42233c7b1d8",
        "IPY_MODEL_8ee9d5ba6fb447bf87f747eb45486228",
        "IPY_MODEL_ed53d5d8d9164e20bf730813467834a0",
        "IPY_MODEL_ef574c9af3fe42428fa76a21a1247344"
       ],
       "layout": "IPY_MODEL_bbd0b9b27d114e82a78a16fcdc65d949"
      }
     },
     "034a2b57f3674615bf204b85ba961084": {
      "model_module": "@jupyter-widgets/output",
      "model_module_version": "1.0.0",
      "model_name": "OutputModel",
      "state": {
       "layout": "IPY_MODEL_b8c3815d2ee64a0f82ba815cab32c7c3",
       "outputs": [
        {
         "name": "stdout",
         "output_type": "stream",
         "text": "PID    Creation time    Process Label    State    Sealed\n-----  ---------------  ---------------  -------  --------\n\n"
        }
       ]
      }
     },
     "0377d68e421b4c2c92f4903a1b1139d1": {
      "model_module": "@jupyter-widgets/controls",
      "model_module_version": "1.0.0",
      "model_name": "DescriptionStyleModel",
      "state": {
       "description_width": ""
      }
     },
     "03933fa5e9854046a72f6b02210f706c": {
      "model_module": "@jupyter-widgets/controls",
      "model_module_version": "1.0.0",
      "model_name": "DescriptionStyleModel",
      "state": {
       "description_width": ""
      }
     },
     "04202ea3b6154476874ad1f1c2158746": {
      "model_module": "@jupyter-widgets/base",
      "model_module_version": "1.0.0",
      "model_name": "LayoutModel",
      "state": {}
     },
     "042cba70226f45adb31ef1617aa83437": {
      "model_module": "@jupyter-widgets/base",
      "model_module_version": "1.0.0",
      "model_name": "LayoutModel",
      "state": {}
     },
     "048c11b52d2047ee8a01bf5b569f1962": {
      "model_module": "@jupyter-widgets/controls",
      "model_module_version": "1.0.0",
      "model_name": "VBoxModel",
      "state": {
       "children": [
        "IPY_MODEL_89dadf7347a448f1a939128d8e2d1d81",
        "IPY_MODEL_53f67f1a79ad476ebdd8f1d227f8f49d",
        "IPY_MODEL_bb7a14121cc149afab4f690cede07207",
        "IPY_MODEL_919e787b1d1a4a538f99e346e4bac472"
       ],
       "layout": "IPY_MODEL_78ff5bbe64874882972fae15e2cbfb0e"
      }
     },
     "0569a62183a442f48e741a0b9ff1f6a8": {
      "model_module": "@jupyter-widgets/controls",
      "model_module_version": "1.0.0",
      "model_name": "TextModel",
      "state": {
       "description": "verdi bin",
       "layout": "IPY_MODEL_23e5f0599ea44a7ea7617aad169cdf79",
       "style": "IPY_MODEL_a05c4817bb244134a57c2eb53c5342d0",
       "value": "/Users/ricohaeuselmann/.venvwrap/matcloud-jupyter-py2/bin/verdi"
      }
     },
     "05990a47d7c2481cad606a274d2121d9": {
      "model_module": "@jupyter-widgets/controls",
      "model_module_version": "1.0.0",
      "model_name": "DescriptionStyleModel",
      "state": {
       "description_width": ""
      }
     },
     "05da9b6207bf49c892caf42cc9e42e1a": {
      "model_module": "@jupyter-widgets/controls",
      "model_module_version": "1.0.0",
      "model_name": "DescriptionStyleModel",
      "state": {
       "description_width": ""
      }
     },
     "06337acdc0a048099f75883c5a451611": {
      "model_module": "@jupyter-widgets/output",
      "model_module_version": "1.0.0",
      "model_name": "OutputModel",
      "state": {
       "layout": "IPY_MODEL_dea025b6a01b4c598e25be9f7d3fafec"
      }
     },
     "06ab942c851b4dc3a2fd36c608473cdb": {
      "model_module": "@jupyter-widgets/controls",
      "model_module_version": "1.0.0",
      "model_name": "DescriptionStyleModel",
      "state": {
       "description_width": ""
      }
     },
     "07c20b0511c846599fcaaab689df3092": {
      "model_module": "@jupyter-widgets/base",
      "model_module_version": "1.0.0",
      "model_name": "LayoutModel",
      "state": {}
     },
     "08769851710f45ff88e72d59360239ea": {
      "model_module": "@jupyter-widgets/controls",
      "model_module_version": "1.0.0",
      "model_name": "DescriptionStyleModel",
      "state": {
       "description_width": ""
      }
     },
     "094212cd68274ce996225316a66ed700": {
      "model_module": "@jupyter-widgets/controls",
      "model_module_version": "1.0.0",
      "model_name": "ButtonModel",
      "state": {
       "description": "Check",
       "layout": "IPY_MODEL_f889da8138ca405bb1861dd91dbf3fca",
       "style": "IPY_MODEL_aae0499df3a04b7783d7dc0681aeb482"
      }
     },
     "0a6f4baeef404586aca98e0e65fdc04c": {
      "model_module": "@jupyter-widgets/base",
      "model_module_version": "1.0.0",
      "model_name": "LayoutModel",
      "state": {}
     },
     "0c50d55805614b158b48bf3e6e3b58a4": {
      "model_module": "@jupyter-widgets/controls",
      "model_module_version": "1.0.0",
      "model_name": "HBoxModel",
      "state": {
       "children": [
        "IPY_MODEL_0c6aac07b52e408f901a53760b4fd984",
        "IPY_MODEL_919e787b1d1a4a538f99e346e4bac472"
       ],
       "layout": "IPY_MODEL_bc6ae564bd0f42799a1f7b17bae910fb"
      }
     },
     "0c6aac07b52e408f901a53760b4fd984": {
      "model_module": "@jupyter-widgets/controls",
      "model_module_version": "1.0.0",
      "model_name": "VBoxModel",
      "state": {
       "children": [
        "IPY_MODEL_89dadf7347a448f1a939128d8e2d1d81",
        "IPY_MODEL_53f67f1a79ad476ebdd8f1d227f8f49d",
        "IPY_MODEL_bb7a14121cc149afab4f690cede07207",
        "IPY_MODEL_919e787b1d1a4a538f99e346e4bac472"
       ],
       "layout": "IPY_MODEL_ffd016fa12f3495ba78362dec4c2b9c0"
      }
     },
     "0d2602786a5046c59ffbc023b60ff1e8": {
      "model_module": "@jupyter-widgets/base",
      "model_module_version": "1.0.0",
      "model_name": "LayoutModel",
      "state": {}
     },
     "0dee749ddf714fdd81870f328284bb29": {
      "model_module": "@jupyter-widgets/controls",
      "model_module_version": "1.0.0",
      "model_name": "HTMLModel",
      "state": {
       "description": "Structure",
       "layout": "IPY_MODEL_44dd5b7ee1234e1c8726c2cf64752cda",
       "style": "IPY_MODEL_fc9110860787401cb977b71c64272bf4"
      }
     },
     "0e5bdcabf9c6480e9906f1d570b4700a": {
      "model_module": "@jupyter-widgets/controls",
      "model_module_version": "1.0.0",
      "model_name": "DescriptionStyleModel",
      "state": {
       "description_width": ""
      }
     },
     "0e64a983c2d74b27a69289c51e5de01b": {
      "model_module": "@jupyter-widgets/controls",
      "model_module_version": "1.0.0",
      "model_name": "HTMLModel",
      "state": {
       "description": "Runtime",
       "layout": "IPY_MODEL_ec5f1f03b7994a8aa58dbc70af2061f2",
       "style": "IPY_MODEL_62e724aa65ff454f807393e01c3fa766",
       "value": "0.251433 sec"
      }
     },
     "10e639e0c21d49e49019514a6e399092": {
      "model_module": "@jupyter-widgets/base",
      "model_module_version": "1.0.0",
      "model_name": "LayoutModel",
      "state": {}
     },
     "124e968675c74b48a18ef5f8d4c8dd27": {
      "model_module": "@jupyter-widgets/base",
      "model_module_version": "1.0.0",
      "model_name": "LayoutModel",
      "state": {}
     },
     "125532b7d2b14146a312150d177e80ec": {
      "model_module": "@jupyter-widgets/controls",
      "model_module_version": "1.0.0",
      "model_name": "HTMLModel",
      "state": {
       "description": "Structure",
       "layout": "IPY_MODEL_ff6c93bd77dc4253b81ca945804318bc",
       "style": "IPY_MODEL_89707352f37a4898a96f5b409311e947",
       "value": "C2"
      }
     },
     "12559757f1d24b9c839c10fdcaf089c1": {
      "model_module": "@jupyter-widgets/controls",
      "model_module_version": "1.0.0",
      "model_name": "DescriptionStyleModel",
      "state": {
       "description_width": ""
      }
     },
     "126b763b232842c5a37f17ebd4cd1d01": {
      "model_module": "@jupyter-widgets/controls",
      "model_module_version": "1.0.0",
      "model_name": "DescriptionStyleModel",
      "state": {
       "description_width": ""
      }
     },
     "1376ae820b48486da4f06338ae712dc5": {
      "model_module": "@jupyter-widgets/base",
      "model_module_version": "1.0.0",
      "model_name": "LayoutModel",
      "state": {}
     },
     "138d406e49c8405bbea68e8b12233655": {
      "model_module": "@jupyter-widgets/base",
      "model_module_version": "1.0.0",
      "model_name": "LayoutModel",
      "state": {}
     },
     "13b97846e0e247f9a201ef582d06d9e9": {
      "model_module": "@jupyter-widgets/base",
      "model_module_version": "1.0.0",
      "model_name": "LayoutModel",
      "state": {}
     },
     "13cb784734864797b5525053d201ce42": {
      "model_module": "@jupyter-widgets/controls",
      "model_module_version": "1.0.0",
      "model_name": "VBoxModel",
      "state": {
       "children": [
        "IPY_MODEL_ffaa460408b04ee3a665a0dc8d10c14d",
        "IPY_MODEL_e07f9a761dfe483090a31b74cfde8913",
        "IPY_MODEL_61d3ed5bf4674a5596882e86d06c7891",
        "IPY_MODEL_c13b5405b16346d4ae5acd4b6e38596a",
        "IPY_MODEL_26687d1871ea4bf4a76b2acde87c3d99",
        "IPY_MODEL_bf099abd3b2f43138fd7bad649a3fb4e"
       ],
       "layout": "IPY_MODEL_7fff9832018e4b468e1ed2c05157f769"
      }
     },
     "1523d034a9254cc7a7a67a0913459731": {
      "model_module": "@jupyter-widgets/base",
      "model_module_version": "1.0.0",
      "model_name": "LayoutModel",
      "state": {}
     },
     "15c96216d92e48dfb9d72c9b17d97b9b": {
      "model_module": "@jupyter-widgets/base",
      "model_module_version": "1.0.0",
      "model_name": "LayoutModel",
      "state": {}
     },
     "162fc33ba4794658a6412eda1d31a756": {
      "model_module": "@jupyter-widgets/controls",
      "model_module_version": "1.0.0",
      "model_name": "DescriptionStyleModel",
      "state": {
       "description_width": ""
      }
     },
     "1673f0210bc24899926dae845226cd64": {
      "model_module": "@jupyter-widgets/base",
      "model_module_version": "1.0.0",
      "model_name": "LayoutModel",
      "state": {}
     },
     "1797ba8309b1480ebf0bf9c81fad09d9": {
      "model_module": "@jupyter-widgets/base",
      "model_module_version": "1.0.0",
      "model_name": "LayoutModel",
      "state": {}
     },
     "1877a085d81b4c04af84ad3e00242299": {
      "model_module": "@jupyter-widgets/controls",
      "model_module_version": "1.0.0",
      "model_name": "HTMLModel",
      "state": {
       "description": "State",
       "layout": "IPY_MODEL_9e78179240584f18912589ed6c637d38",
       "style": "IPY_MODEL_162fc33ba4794658a6412eda1d31a756",
       "value": "Finished OK"
      }
     },
     "194ca163cc9f452e82dc20bed33e20e5": {
      "model_module": "@jupyter-widgets/base",
      "model_module_version": "1.0.0",
      "model_name": "LayoutModel",
      "state": {}
     },
     "1985d7cb42504515ada24433c20b9c5c": {
      "model_module": "@jupyter-widgets/base",
      "model_module_version": "1.0.0",
      "model_name": "LayoutModel",
      "state": {}
     },
     "1a026cbae1964ffea46224bfa09289e8": {
      "model_module": "@jupyter-widgets/controls",
      "model_module_version": "1.0.0",
      "model_name": "DescriptionStyleModel",
      "state": {
       "description_width": ""
      }
     },
     "1adf564bd107423f91f0379fdfe00973": {
      "model_module": "@jupyter-widgets/base",
      "model_module_version": "1.0.0",
      "model_name": "LayoutModel",
      "state": {}
     },
     "1af53088e53341149f7aebfad90c3bed": {
      "model_module": "@jupyter-widgets/base",
      "model_module_version": "1.0.0",
      "model_name": "LayoutModel",
      "state": {}
     },
     "1c2170c286034b8e87230ca6a16973cc": {
      "model_module": "@jupyter-widgets/output",
      "model_module_version": "1.0.0",
      "model_name": "OutputModel",
      "state": {
       "layout": "IPY_MODEL_9db72209e80f45eb860a116dc8e8a203"
      }
     },
     "1caa01b4dc444085bd441e19140d8f84": {
      "model_module": "@jupyter-widgets/controls",
      "model_module_version": "1.0.0",
      "model_name": "VBoxModel",
      "state": {
       "children": [
        "IPY_MODEL_89dadf7347a448f1a939128d8e2d1d81",
        "IPY_MODEL_53f67f1a79ad476ebdd8f1d227f8f49d",
        "IPY_MODEL_bb7a14121cc149afab4f690cede07207",
        "IPY_MODEL_919e787b1d1a4a538f99e346e4bac472"
       ],
       "layout": "IPY_MODEL_30f1798b0af34fa893f79bf17b9c12c4"
      }
     },
     "1e557d3ee50347b8908f8682c5f9d53c": {
      "model_module": "@jupyter-widgets/base",
      "model_module_version": "1.0.0",
      "model_name": "LayoutModel",
      "state": {}
     },
     "1ed4aa7aa40b47d88220e45914684479": {
      "model_module": "@jupyter-widgets/controls",
      "model_module_version": "1.0.0",
      "model_name": "DescriptionStyleModel",
      "state": {
       "description_width": ""
      }
     },
     "2035eb52513045d9a1b948b01b09faaa": {
      "model_module": "@jupyter-widgets/base",
      "model_module_version": "1.0.0",
      "model_name": "LayoutModel",
      "state": {}
     },
     "2082693ac5b541958b83ece9818b5b48": {
      "model_module": "@jupyter-widgets/controls",
      "model_module_version": "1.0.0",
      "model_name": "ButtonStyleModel",
      "state": {}
     },
     "21e51b9877f84fd18ac881a2377806d7": {
      "model_module": "@jupyter-widgets/base",
      "model_module_version": "1.0.0",
      "model_name": "LayoutModel",
      "state": {}
     },
     "220662ef14834111a4929ceed030a42c": {
      "model_module": "@jupyter-widgets/controls",
      "model_module_version": "1.0.0",
      "model_name": "DescriptionStyleModel",
      "state": {
       "description_width": ""
      }
     },
     "2207b08a17e04ebbb62ea781fcf20241": {
      "model_module": "@jupyter-widgets/controls",
      "model_module_version": "1.0.0",
      "model_name": "VBoxModel",
      "state": {
       "children": [
        "IPY_MODEL_89dadf7347a448f1a939128d8e2d1d81",
        "IPY_MODEL_53f67f1a79ad476ebdd8f1d227f8f49d",
        "IPY_MODEL_bb7a14121cc149afab4f690cede07207",
        "IPY_MODEL_919e787b1d1a4a538f99e346e4bac472"
       ],
       "layout": "IPY_MODEL_31ae81f7cd1a450fbecd37a5c77686b5"
      }
     },
     "220a9b684ded4c99a8db7e7fe45a9661": {
      "model_module": "@jupyter-widgets/controls",
      "model_module_version": "1.0.0",
      "model_name": "ButtonModel",
      "state": {
       "description": "Check",
       "layout": "IPY_MODEL_9bb664cfa7ea4b8b9f255750d5abbddc",
       "style": "IPY_MODEL_76635a5e1abc4b00bf994bc5b922f4f3"
      }
     },
     "23d740652e4d44ff9634a631c7d8cc83": {
      "model_module": "@jupyter-widgets/controls",
      "model_module_version": "1.0.0",
      "model_name": "LabelModel",
      "state": {
       "layout": "IPY_MODEL_c13c7abfb7154944b8c9e835b930f74a",
       "style": "IPY_MODEL_ae9b54212ccd4bd3bb326d60f21d4826"
      }
     },
     "23e5f0599ea44a7ea7617aad169cdf79": {
      "model_module": "@jupyter-widgets/base",
      "model_module_version": "1.0.0",
      "model_name": "LayoutModel",
      "state": {}
     },
     "24cf743f231b4cd2845728a71705191a": {
      "model_module": "@jupyter-widgets/base",
      "model_module_version": "1.0.0",
      "model_name": "LayoutModel",
      "state": {}
     },
     "264ca9cacda6451ca81d5a816d0571b4": {
      "model_module": "@jupyter-widgets/controls",
      "model_module_version": "1.0.0",
      "model_name": "DescriptionStyleModel",
      "state": {
       "description_width": ""
      }
     },
     "26687d1871ea4bf4a76b2acde87c3d99": {
      "model_module": "@jupyter-widgets/controls",
      "model_module_version": "1.0.0",
      "model_name": "ButtonModel",
      "state": {
       "description": "Check ",
       "layout": "IPY_MODEL_1523d034a9254cc7a7a67a0913459731",
       "style": "IPY_MODEL_9afd915de60b4733ae82227835d0bf5b"
      }
     },
     "26a34557ae0b49bfaeb42d9c0ce8d3b2": {
      "model_module": "@jupyter-widgets/controls",
      "model_module_version": "1.0.0",
      "model_name": "DescriptionStyleModel",
      "state": {
       "description_width": ""
      }
     },
     "27f2f3a64f274b4bb5088f599014facd": {
      "model_module": "@jupyter-widgets/controls",
      "model_module_version": "1.0.0",
      "model_name": "TextModel",
      "state": {
       "description": "verdi bin",
       "layout": "IPY_MODEL_04202ea3b6154476874ad1f1c2158746",
       "style": "IPY_MODEL_2b90ceff397c41398b5eac21f7c2ec72",
       "value": "/Users/ricohaeuselmann/.venvwrap/matcloud-jupyter-py2/bin/verdi"
      }
     },
     "285972cc069644739ca2711d7ce18dc0": {
      "model_module": "@jupyter-widgets/controls",
      "model_module_version": "1.0.0",
      "model_name": "VBoxModel",
      "state": {
       "children": [
        "IPY_MODEL_51a7c033c27b4cac8dc4d45899e660e1",
        "IPY_MODEL_8c9019fe9f994b24aab7ccef431fce98",
        "IPY_MODEL_a8c19c7a2f394f18bfecc0a0b773c75d",
        "IPY_MODEL_e9cbc8c83ad54203a90156147a723d38",
        "IPY_MODEL_7fa265ca453f40b095db43dddbb6fb94"
       ],
       "layout": "IPY_MODEL_9a1cc8be57d642fc8374deade0b4b30f"
      }
     },
     "296f1a5f26b84d5f9244e5e1d79daa84": {
      "model_module": "@jupyter-widgets/base",
      "model_module_version": "1.0.0",
      "model_name": "LayoutModel",
      "state": {}
     },
     "29b7dd7e4c0c4e1295da0081f031745a": {
      "model_module": "@jupyter-widgets/base",
      "model_module_version": "1.0.0",
      "model_name": "LayoutModel",
      "state": {}
     },
     "2b90ceff397c41398b5eac21f7c2ec72": {
      "model_module": "@jupyter-widgets/controls",
      "model_module_version": "1.0.0",
      "model_name": "DescriptionStyleModel",
      "state": {
       "description_width": ""
      }
     },
     "2d06cea99ac34e2abcc99a2b1d74539c": {
      "model_module": "@jupyter-widgets/controls",
      "model_module_version": "1.0.0",
      "model_name": "ButtonStyleModel",
      "state": {}
     },
     "2d1fc2c6453b412c93f95b01145ddecf": {
      "model_module": "@jupyter-widgets/controls",
      "model_module_version": "1.0.0",
      "model_name": "LabelModel",
      "state": {
       "layout": "IPY_MODEL_529893b0820949909f263dba9f27dfa1",
       "style": "IPY_MODEL_ec13d015584343b98b0c9ce07d498d6a"
      }
     },
     "2d5095c778a84aebb7e13a4734c38183": {
      "model_module": "@jupyter-widgets/controls",
      "model_module_version": "1.0.0",
      "model_name": "HBoxModel",
      "state": {
       "children": [
        "IPY_MODEL_2ddbaf34835546c2872e7aca9cf25db1",
        "IPY_MODEL_33e2565e98ef4490a33e7169605f01fe"
       ],
       "layout": "IPY_MODEL_ab24eeb343aa471b97202e2d0ed76265"
      }
     },
     "2d7f0fbc56334f69ab62f66843f65414": {
      "model_module": "@jupyter-widgets/base",
      "model_module_version": "1.0.0",
      "model_name": "LayoutModel",
      "state": {}
     },
     "2ddbaf34835546c2872e7aca9cf25db1": {
      "model_module": "@jupyter-widgets/controls",
      "model_module_version": "1.0.0",
      "model_name": "VBoxModel",
      "state": {
       "children": [
        "IPY_MODEL_2e982aa770444add8097ce6136952a98",
        "IPY_MODEL_e6a2baa4658f429dbc25d046372bf19d",
        "IPY_MODEL_6c14e7dec1db4c0e92fdcd043e2aa6e6",
        "IPY_MODEL_57d6f13fbc54417fb655483a9ad0ed63",
        "IPY_MODEL_933f84452d544670b5bcadaebf7949a1"
       ],
       "layout": "IPY_MODEL_15c96216d92e48dfb9d72c9b17d97b9b"
      }
     },
     "2e982aa770444add8097ce6136952a98": {
      "model_module": "@jupyter-widgets/controls",
      "model_module_version": "1.0.0",
      "model_name": "IntTextModel",
      "state": {
       "description": "Workchain",
       "layout": "IPY_MODEL_fbe15e07211040ce8435f43e638e2307",
       "step": 1,
       "style": "IPY_MODEL_220662ef14834111a4929ceed030a42c",
       "value": 3111
      }
     },
     "2ec2475433d3495db03227cf751cd89c": {
      "model_module": "@jupyter-widgets/controls",
      "model_module_version": "1.0.0",
      "model_name": "TextModel",
      "state": {
       "description": "verdi bin",
       "layout": "IPY_MODEL_9b0c6929a6c74f8f84fbaa9c68e27a2e",
       "style": "IPY_MODEL_8cf497095bf74bc09600cda9d46c577b",
       "value": "/Users/ricohaeuselmann/.venvwrap/matcloud-jupyter-py2/bin/verdi"
      }
     },
     "302635dfadd548528ba7308656e08bce": {
      "model_module": "@jupyter-widgets/base",
      "model_module_version": "1.0.0",
      "model_name": "LayoutModel",
      "state": {}
     },
     "30c224cccbe0467a92848cd052ef40a3": {
      "model_module": "@jupyter-widgets/controls",
      "model_module_version": "1.0.0",
      "model_name": "HTMLModel",
      "state": {
       "description": "Computer",
       "layout": "IPY_MODEL_3cefc0d0a9194308bbb081c302502fa3",
       "style": "IPY_MODEL_accdb7253fa0492cab9c3d58484fe5a7"
      }
     },
     "30f1798b0af34fa893f79bf17b9c12c4": {
      "model_module": "@jupyter-widgets/base",
      "model_module_version": "1.0.0",
      "model_name": "LayoutModel",
      "state": {}
     },
     "31ae81f7cd1a450fbecd37a5c77686b5": {
      "model_module": "@jupyter-widgets/base",
      "model_module_version": "1.0.0",
      "model_name": "LayoutModel",
      "state": {}
     },
     "33e2565e98ef4490a33e7169605f01fe": {
      "model_module": "@jupyter-widgets/output",
      "model_module_version": "1.0.0",
      "model_name": "OutputModel",
      "state": {
       "layout": "IPY_MODEL_95d2a007f5974deca59f951d9398de33",
       "outputs": [
        {
         "name": "stdout",
         "output_type": "stream",
         "text": "\n                         /-VaspCalculation [3114]\n                        |\n                        |--seekpath [3121]\n-- /ExampleWorkflow [3111]\n                        |--VaspCalculation [3128]\n                        |\n                         \\-BandsData [3133]\n\n"
        }
       ]
      }
     },
     "33f6041928a44eb5923e8188dafc3d60": {
      "model_module": "@jupyter-widgets/controls",
      "model_module_version": "1.0.0",
      "model_name": "VBoxModel",
      "state": {
       "children": [
        "IPY_MODEL_4c3fda7c14d9450eb3c825b11d72e7d5",
        "IPY_MODEL_d700b1bad0be46ef83b1a7ed99fc8f18",
        "IPY_MODEL_ec83818f5c604380bc87618f9a3bb572",
        "IPY_MODEL_8ee9d5ba6fb447bf87f747eb45486228",
        "IPY_MODEL_ed53d5d8d9164e20bf730813467834a0",
        "IPY_MODEL_ef574c9af3fe42428fa76a21a1247344"
       ],
       "layout": "IPY_MODEL_e96ecdefcc224bb9bc2ae425e2e4d827"
      }
     },
     "344cb8b5cf4d4355839d84e429984d65": {
      "model_module": "@jupyter-widgets/controls",
      "model_module_version": "1.0.0",
      "model_name": "ButtonModel",
      "state": {
       "description": "Check",
       "layout": "IPY_MODEL_903217b30ab942adacce62994f096c21",
       "style": "IPY_MODEL_2d06cea99ac34e2abcc99a2b1d74539c"
      }
     },
     "3470f83b9b4f4637919ff93bd124cff9": {
      "model_module": "@jupyter-widgets/controls",
      "model_module_version": "1.0.0",
      "model_name": "LabelModel",
      "state": {
       "layout": "IPY_MODEL_51a96235c3614906813a4f37bacc9058",
       "style": "IPY_MODEL_c7d38d7707644437b3c7901c35900794"
      }
     },
     "3497da9cee034b91879fb56cd846a5b9": {
      "model_module": "@jupyter-widgets/controls",
      "model_module_version": "1.0.0",
      "model_name": "VBoxModel",
      "state": {
       "children": [
        "IPY_MODEL_51a7c033c27b4cac8dc4d45899e660e1",
        "IPY_MODEL_8c9019fe9f994b24aab7ccef431fce98",
        "IPY_MODEL_a8c19c7a2f394f18bfecc0a0b773c75d",
        "IPY_MODEL_e9cbc8c83ad54203a90156147a723d38",
        "IPY_MODEL_7fa265ca453f40b095db43dddbb6fb94"
       ],
       "layout": "IPY_MODEL_3c21d17f966846f1ac08bb8a73efcbe5"
      }
     },
     "35bbe92e20d9416cbffa83eecc298bf4": {
      "model_module": "@jupyter-widgets/base",
      "model_module_version": "1.0.0",
      "model_name": "LayoutModel",
      "state": {}
     },
     "365faf821f2342d3903a71ec911540ef": {
      "model_module": "@jupyter-widgets/base",
      "model_module_version": "1.0.0",
      "model_name": "LayoutModel",
      "state": {}
     },
     "36e6cc1bc9084ee4b77fa563d369140f": {
      "model_module": "@jupyter-widgets/base",
      "model_module_version": "1.0.0",
      "model_name": "LayoutModel",
      "state": {}
     },
     "3712826b00734081bd2e95e66b262452": {
      "model_module": "@jupyter-widgets/base",
      "model_module_version": "1.0.0",
      "model_name": "LayoutModel",
      "state": {}
     },
     "3716ff3d617848cabc0715203c48fecc": {
      "model_module": "@jupyter-widgets/base",
      "model_module_version": "1.0.0",
      "model_name": "LayoutModel",
      "state": {}
     },
     "386263fb34634286b83d823bd36abbc6": {
      "model_module": "@jupyter-widgets/controls",
      "model_module_version": "1.0.0",
      "model_name": "VBoxModel",
      "state": {
       "children": [
        "IPY_MODEL_51a7c033c27b4cac8dc4d45899e660e1",
        "IPY_MODEL_8c9019fe9f994b24aab7ccef431fce98",
        "IPY_MODEL_a8c19c7a2f394f18bfecc0a0b773c75d",
        "IPY_MODEL_e9cbc8c83ad54203a90156147a723d38",
        "IPY_MODEL_7fa265ca453f40b095db43dddbb6fb94"
       ],
       "layout": "IPY_MODEL_e6043aad241d49b894e6614dc5a6910f"
      }
     },
     "38da161688bb416aac3c0dc93065e4d1": {
      "model_module": "@jupyter-widgets/base",
      "model_module_version": "1.0.0",
      "model_name": "LayoutModel",
      "state": {}
     },
     "3adcd4b6a3c246629f7b592f28cf4956": {
      "model_module": "@jupyter-widgets/controls",
      "model_module_version": "1.0.0",
      "model_name": "DescriptionStyleModel",
      "state": {
       "description_width": ""
      }
     },
     "3bc575d02d5a4ed7af5ab3f0ba6d8413": {
      "model_module": "@jupyter-widgets/base",
      "model_module_version": "1.0.0",
      "model_name": "LayoutModel",
      "state": {}
     },
     "3bfc33d9ef6e41aa9ec5074b38d95627": {
      "model_module": "@jupyter-widgets/base",
      "model_module_version": "1.0.0",
      "model_name": "LayoutModel",
      "state": {}
     },
     "3c1607e34a8c4054b8a89a1553aac0bf": {
      "model_module": "@jupyter-widgets/base",
      "model_module_version": "1.0.0",
      "model_name": "LayoutModel",
      "state": {}
     },
     "3c21d17f966846f1ac08bb8a73efcbe5": {
      "model_module": "@jupyter-widgets/base",
      "model_module_version": "1.0.0",
      "model_name": "LayoutModel",
      "state": {}
     },
     "3cefc0d0a9194308bbb081c302502fa3": {
      "model_module": "@jupyter-widgets/base",
      "model_module_version": "1.0.0",
      "model_name": "LayoutModel",
      "state": {}
     },
     "3d3d35145b9a4667bddab8a04ff29422": {
      "model_module": "@jupyter-widgets/controls",
      "model_module_version": "1.0.0",
      "model_name": "ButtonStyleModel",
      "state": {}
     },
     "3ed6026ca62b40ac8641a21a90352bb1": {
      "model_module": "@jupyter-widgets/controls",
      "model_module_version": "1.0.0",
      "model_name": "LabelModel",
      "state": {
       "layout": "IPY_MODEL_72d2b58c49bf4e0287a4989d5bbb6dee",
       "style": "IPY_MODEL_5807aae592a94b8c92b96a99b8c766f8"
      }
     },
     "3f010418d87045d19a16eec21bbbb6b1": {
      "model_module": "@jupyter-widgets/controls",
      "model_module_version": "1.0.0",
      "model_name": "DescriptionStyleModel",
      "state": {
       "description_width": ""
      }
     },
     "3ff0aae95bd8485ea62eec3c253618e7": {
      "model_module": "@jupyter-widgets/output",
      "model_module_version": "1.0.0",
      "model_name": "OutputModel",
      "state": {
       "layout": "IPY_MODEL_7d42cc94e3f84cf8ba57be0eb7609f6d"
      }
     },
     "40af9fdaaa494d57a96f79be91fc27df": {
      "model_module": "@jupyter-widgets/base",
      "model_module_version": "1.0.0",
      "model_name": "LayoutModel",
      "state": {}
     },
     "40f77a1d3d96441399375c166afb71e1": {
      "model_module": "@jupyter-widgets/base",
      "model_module_version": "1.0.0",
      "model_name": "LayoutModel",
      "state": {}
     },
     "415f85f228bb4dfba23e0f6ec9dec82e": {
      "model_module": "@jupyter-widgets/base",
      "model_module_version": "1.0.0",
      "model_name": "LayoutModel",
      "state": {}
     },
     "42fc0703faf24c469a2f64dc9fcd6b08": {
      "model_module": "@jupyter-widgets/controls",
      "model_module_version": "1.0.0",
      "model_name": "DescriptionStyleModel",
      "state": {
       "description_width": ""
      }
     },
     "43b4c3546d2a4b9cba0f33911e72949b": {
      "model_module": "@jupyter-widgets/base",
      "model_module_version": "1.0.0",
      "model_name": "LayoutModel",
      "state": {}
     },
     "43eb3835e72241909f89fc26639617c5": {
      "model_module": "@jupyter-widgets/controls",
      "model_module_version": "1.0.0",
      "model_name": "TextModel",
      "state": {
       "description": "verdi bin",
       "layout": "IPY_MODEL_449e13c010434fbc8d1feb2caa037695",
       "style": "IPY_MODEL_6c41e3af9237400ba558fd959ca8cecf",
       "value": "/Users/ricohaeuselmann/.venvwrap/matcloud-jupyter-py2/bin/verdi"
      }
     },
     "449e13c010434fbc8d1feb2caa037695": {
      "model_module": "@jupyter-widgets/base",
      "model_module_version": "1.0.0",
      "model_name": "LayoutModel",
      "state": {}
     },
     "44dd5b7ee1234e1c8726c2cf64752cda": {
      "model_module": "@jupyter-widgets/base",
      "model_module_version": "1.0.0",
      "model_name": "LayoutModel",
      "state": {}
     },
     "45b47a83fbe94b67abcb5b3d522211cc": {
      "model_module": "@jupyter-widgets/controls",
      "model_module_version": "1.0.0",
      "model_name": "DescriptionStyleModel",
      "state": {
       "description_width": ""
      }
     },
     "45ef09786a474fc6a85c6e5f70654105": {
      "model_module": "@jupyter-widgets/controls",
      "model_module_version": "1.0.0",
      "model_name": "ButtonModel",
      "state": {
       "description": "Check",
       "layout": "IPY_MODEL_cf1efabb64e6417b846acd768f925247",
       "style": "IPY_MODEL_f0f926e008f7495a8efcb76819c8bca3"
      }
     },
     "47243431669f4e4e978636620c54015c": {
      "model_module": "@jupyter-widgets/controls",
      "model_module_version": "1.0.0",
      "model_name": "VBoxModel",
      "state": {
       "children": [
        "IPY_MODEL_a78b748efcda4908bed02319713262b9",
        "IPY_MODEL_1c2170c286034b8e87230ca6a16973cc",
        "IPY_MODEL_57626841333042248250b12ca4cb88b5",
        "IPY_MODEL_b830185546a9445986a2dd2864df1e44",
        "IPY_MODEL_56098f235f1e47c4b53ced282078c831"
       ],
       "layout": "IPY_MODEL_d59963211f274b20aabd1da2d304f76a"
      }
     },
     "47467b785eec418c8b992e8a69c13964": {
      "model_module": "@jupyter-widgets/base",
      "model_module_version": "1.0.0",
      "model_name": "LayoutModel",
      "state": {}
     },
     "47e29bc9aaad4be891307f50dc870ece": {
      "model_module": "@jupyter-widgets/controls",
      "model_module_version": "1.0.0",
      "model_name": "DescriptionStyleModel",
      "state": {
       "description_width": ""
      }
     },
     "48520ae000cc4c449b77d62c6ea7bc0e": {
      "model_module": "@jupyter-widgets/base",
      "model_module_version": "1.0.0",
      "model_name": "LayoutModel",
      "state": {}
     },
     "4a28537350d34584b3b4531cf906e359": {
      "model_module": "@jupyter-widgets/controls",
      "model_module_version": "1.0.0",
      "model_name": "LabelModel",
      "state": {
       "layout": "IPY_MODEL_9b18796873c94baf91a23ed49a53a252",
       "style": "IPY_MODEL_5d074018b33642daa9397fa6cc97e8c3"
      }
     },
     "4b0586650cfe47818a78d8ae59ccc857": {
      "model_module": "@jupyter-widgets/controls",
      "model_module_version": "1.0.0",
      "model_name": "VBoxModel",
      "state": {
       "children": [
        "IPY_MODEL_bd473d2d2b52473198ee0854edd22962",
        "IPY_MODEL_d700b1bad0be46ef83b1a7ed99fc8f18",
        "IPY_MODEL_eb5ecb53860c41948c31460816ce02a0",
        "IPY_MODEL_8ee9d5ba6fb447bf87f747eb45486228",
        "IPY_MODEL_ed53d5d8d9164e20bf730813467834a0",
        "IPY_MODEL_ef574c9af3fe42428fa76a21a1247344"
       ],
       "layout": "IPY_MODEL_b2c1cd0e7b0a4a2eae3cfcbe6d694c8f"
      }
     },
     "4bd6eaf707e14a288b370ad3fe3b3269": {
      "model_module": "@jupyter-widgets/base",
      "model_module_version": "1.0.0",
      "model_name": "LayoutModel",
      "state": {}
     },
     "4c3fda7c14d9450eb3c825b11d72e7d5": {
      "model_module": "@jupyter-widgets/controls",
      "model_module_version": "1.0.0",
      "model_name": "HBoxModel",
      "state": {
       "children": [
        "IPY_MODEL_c3e589e0fa8e409db330236477060aa7",
        "IPY_MODEL_8cf04021742e4f84aabfc0928cfe931c"
       ],
       "layout": "IPY_MODEL_29b7dd7e4c0c4e1295da0081f031745a"
      }
     },
     "4e1a3925c86648a2a68974d805054d0e": {
      "model_module": "@jupyter-widgets/controls",
      "model_module_version": "1.0.0",
      "model_name": "VBoxModel",
      "state": {
       "children": [
        "IPY_MODEL_89dadf7347a448f1a939128d8e2d1d81",
        "IPY_MODEL_53f67f1a79ad476ebdd8f1d227f8f49d",
        "IPY_MODEL_bb7a14121cc149afab4f690cede07207",
        "IPY_MODEL_919e787b1d1a4a538f99e346e4bac472",
        "IPY_MODEL_034a2b57f3674615bf204b85ba961084",
        "IPY_MODEL_cf6aa6a001f74fb395890022d12c0eaf",
        "IPY_MODEL_959d4ffab4d34b379ecffda0f7c686ea"
       ],
       "layout": "IPY_MODEL_40af9fdaaa494d57a96f79be91fc27df"
      }
     },
     "4e52e15944f94f029045d844e62aecc3": {
      "model_module": "@jupyter-widgets/base",
      "model_module_version": "1.0.0",
      "model_name": "LayoutModel",
      "state": {}
     },
     "4f5bda0c289f4f0dab6a976f200c8cb7": {
      "model_module": "@jupyter-widgets/controls",
      "model_module_version": "1.0.0",
      "model_name": "HBoxModel",
      "state": {
       "children": [
        "IPY_MODEL_3497da9cee034b91879fb56cd846a5b9",
        "IPY_MODEL_8cf04021742e4f84aabfc0928cfe931c"
       ],
       "layout": "IPY_MODEL_86772def156a4890b12f6569aaa529ce"
      }
     },
     "4f95dab88ac74ce29b77b6b8de28ccdb": {
      "model_module": "@jupyter-widgets/base",
      "model_module_version": "1.0.0",
      "model_name": "LayoutModel",
      "state": {}
     },
     "50ca8c48f40d43c4ad042496c41591f1": {
      "model_module": "@jupyter-widgets/controls",
      "model_module_version": "1.0.0",
      "model_name": "ButtonModel",
      "state": {
       "description": "Check",
       "layout": "IPY_MODEL_3bfc33d9ef6e41aa9ec5074b38d95627",
       "style": "IPY_MODEL_f28f38fd27c143d5a3dde4fe6edef45e"
      }
     },
     "5109e756206641cf82b3d309d0a75200": {
      "model_module": "@jupyter-widgets/base",
      "model_module_version": "1.0.0",
      "model_name": "LayoutModel",
      "state": {}
     },
     "5199def340b84c9991b092b6fc411c2a": {
      "model_module": "@jupyter-widgets/base",
      "model_module_version": "1.0.0",
      "model_name": "LayoutModel",
      "state": {}
     },
     "51a7c033c27b4cac8dc4d45899e660e1": {
      "model_module": "@jupyter-widgets/controls",
      "model_module_version": "1.0.0",
      "model_name": "IntTextModel",
      "state": {
       "description": "Workchain",
       "layout": "IPY_MODEL_3c1607e34a8c4054b8a89a1553aac0bf",
       "step": 1,
       "style": "IPY_MODEL_adfc6ea1e9864a3bb120e39e7dc37c91",
       "value": 3112
      }
     },
     "51a96235c3614906813a4f37bacc9058": {
      "model_module": "@jupyter-widgets/base",
      "model_module_version": "1.0.0",
      "model_name": "LayoutModel",
      "state": {}
     },
     "529893b0820949909f263dba9f27dfa1": {
      "model_module": "@jupyter-widgets/base",
      "model_module_version": "1.0.0",
      "model_name": "LayoutModel",
      "state": {}
     },
     "52c4a4654ba74b3db8bdc00c362076b7": {
      "model_module": "@jupyter-widgets/base",
      "model_module_version": "1.0.0",
      "model_name": "LayoutModel",
      "state": {}
     },
     "52dabacc3b0145edb5039bbc71d5c1bb": {
      "model_module": "@jupyter-widgets/controls",
      "model_module_version": "1.0.0",
      "model_name": "VBoxModel",
      "state": {
       "children": [
        "IPY_MODEL_880047c799c64b018aea454448395e36",
        "IPY_MODEL_bfc1a1c5d5f048a4bf7ce71ea7999845",
        "IPY_MODEL_aee85c5f5b7041b59ae1f124ef669dc1",
        "IPY_MODEL_f082f14726f049e5968908171bc1ed50",
        "IPY_MODEL_971bd7557f504e2596c2d2a0b8df3daf"
       ],
       "layout": "IPY_MODEL_138d406e49c8405bbea68e8b12233655"
      }
     },
     "53aa585c21f34b66afd43ed703743a0f": {
      "model_module": "@jupyter-widgets/controls",
      "model_module_version": "1.0.0",
      "model_name": "HTMLModel",
      "state": {
       "description": "Computer",
       "layout": "IPY_MODEL_0a6f4baeef404586aca98e0e65fdc04c",
       "style": "IPY_MODEL_08769851710f45ff88e72d59360239ea"
      }
     },
     "53f67f1a79ad476ebdd8f1d227f8f49d": {
      "model_module": "@jupyter-widgets/controls",
      "model_module_version": "1.0.0",
      "model_name": "IntTextModel",
      "state": {
       "description": "Workchain",
       "layout": "IPY_MODEL_1376ae820b48486da4f06338ae712dc5",
       "step": 1,
       "style": "IPY_MODEL_3f010418d87045d19a16eec21bbbb6b1",
       "value": 3051
      }
     },
     "5413f4d7e298457686aa05c2314b8439": {
      "model_module": "@jupyter-widgets/base",
      "model_module_version": "1.0.0",
      "model_name": "LayoutModel",
      "state": {}
     },
     "54f28c4a23da4438af90ab0dc057ee43": {
      "model_module": "@jupyter-widgets/controls",
      "model_module_version": "1.0.0",
      "model_name": "HBoxModel",
      "state": {
       "children": [
        "IPY_MODEL_584c4a2c285347779d4dd2a89e8f5c75",
        "IPY_MODEL_8cf04021742e4f84aabfc0928cfe931c"
       ],
       "layout": "IPY_MODEL_9f9d9ff33f7e4531a6c1c323a7eeddb3"
      }
     },
     "56098f235f1e47c4b53ced282078c831": {
      "model_module": "@jupyter-widgets/controls",
      "model_module_version": "1.0.0",
      "model_name": "ButtonModel",
      "state": {
       "description": "Check ",
       "layout": "IPY_MODEL_07c20b0511c846599fcaaab689df3092",
       "style": "IPY_MODEL_be98d1bcc1114ff19eb59df008650c5d"
      }
     },
     "5699154b681d44da923ac9e162942920": {
      "model_module": "@jupyter-widgets/controls",
      "model_module_version": "1.0.0",
      "model_name": "VBoxModel",
      "state": {
       "children": [
        "IPY_MODEL_89dadf7347a448f1a939128d8e2d1d81",
        "IPY_MODEL_53f67f1a79ad476ebdd8f1d227f8f49d",
        "IPY_MODEL_bb7a14121cc149afab4f690cede07207",
        "IPY_MODEL_919e787b1d1a4a538f99e346e4bac472",
        "IPY_MODEL_034a2b57f3674615bf204b85ba961084",
        "IPY_MODEL_cf6aa6a001f74fb395890022d12c0eaf",
        "IPY_MODEL_959d4ffab4d34b379ecffda0f7c686ea"
       ],
       "layout": "IPY_MODEL_92f68875eff64abb9467d12f49f7ce3c"
      }
     },
     "5758f99a0d5d494886916a9f13e26def": {
      "model_module": "@jupyter-widgets/base",
      "model_module_version": "1.0.0",
      "model_name": "LayoutModel",
      "state": {}
     },
     "57626841333042248250b12ca4cb88b5": {
      "model_module": "@jupyter-widgets/controls",
      "model_module_version": "1.0.0",
      "model_name": "LabelModel",
      "state": {
       "layout": "IPY_MODEL_415f85f228bb4dfba23e0f6ec9dec82e",
       "style": "IPY_MODEL_d560c69550964a94bbcf0c6879a701ec"
      }
     },
     "579ff65710e543e9a5fc51ca2f763325": {
      "model_module": "@jupyter-widgets/base",
      "model_module_version": "1.0.0",
      "model_name": "LayoutModel",
      "state": {}
     },
     "57d6f13fbc54417fb655483a9ad0ed63": {
      "model_module": "@jupyter-widgets/controls",
      "model_module_version": "1.0.0",
      "model_name": "HTMLModel",
      "state": {
       "description": "Runtime",
       "layout": "IPY_MODEL_c159082786d641c0a77818562c4205ac",
       "style": "IPY_MODEL_1ed4aa7aa40b47d88220e45914684479",
       "value": "235.843919 sec"
      }
     },
     "5807aae592a94b8c92b96a99b8c766f8": {
      "model_module": "@jupyter-widgets/controls",
      "model_module_version": "1.0.0",
      "model_name": "DescriptionStyleModel",
      "state": {
       "description_width": ""
      }
     },
     "584c4a2c285347779d4dd2a89e8f5c75": {
      "model_module": "@jupyter-widgets/controls",
      "model_module_version": "1.0.0",
      "model_name": "VBoxModel",
      "state": {
       "children": [
        "IPY_MODEL_51a7c033c27b4cac8dc4d45899e660e1",
        "IPY_MODEL_8c9019fe9f994b24aab7ccef431fce98",
        "IPY_MODEL_a8c19c7a2f394f18bfecc0a0b773c75d",
        "IPY_MODEL_e9cbc8c83ad54203a90156147a723d38",
        "IPY_MODEL_7fa265ca453f40b095db43dddbb6fb94"
       ],
       "layout": "IPY_MODEL_d8eaf7b8a5224a7b8222123c066d20de"
      }
     },
     "5aa8d0ac657640d39cdb1d8766cde321": {
      "model_module": "@jupyter-widgets/base",
      "model_module_version": "1.0.0",
      "model_name": "LayoutModel",
      "state": {}
     },
     "5d074018b33642daa9397fa6cc97e8c3": {
      "model_module": "@jupyter-widgets/controls",
      "model_module_version": "1.0.0",
      "model_name": "DescriptionStyleModel",
      "state": {
       "description_width": ""
      }
     },
     "5d5edfbeb52841edaef7a47f606d095f": {
      "model_module": "@jupyter-widgets/base",
      "model_module_version": "1.0.0",
      "model_name": "LayoutModel",
      "state": {}
     },
     "5d90796cd8fb4e8c94b1f6399b5432bb": {
      "model_module": "@jupyter-widgets/base",
      "model_module_version": "1.0.0",
      "model_name": "LayoutModel",
      "state": {}
     },
     "5def1f7dff444be4ac7b4e6dbfed77a7": {
      "model_module": "@jupyter-widgets/base",
      "model_module_version": "1.0.0",
      "model_name": "LayoutModel",
      "state": {}
     },
     "5f15f660c877486bb43a54c014127824": {
      "model_module": "@jupyter-widgets/controls",
      "model_module_version": "1.0.0",
      "model_name": "DescriptionStyleModel",
      "state": {
       "description_width": ""
      }
     },
     "60bb95fd1db14f53be0088cce3b563a3": {
      "model_module": "@jupyter-widgets/base",
      "model_module_version": "1.0.0",
      "model_name": "LayoutModel",
      "state": {}
     },
     "61d3ed5bf4674a5596882e86d06c7891": {
      "model_module": "@jupyter-widgets/controls",
      "model_module_version": "1.0.0",
      "model_name": "LabelModel",
      "state": {
       "layout": "IPY_MODEL_35bbe92e20d9416cbffa83eecc298bf4",
       "style": "IPY_MODEL_eb2e5525e89f4d8991214c049352a4b9"
      }
     },
     "6257b5b6b8b24f4a87fb448500368618": {
      "model_module": "@jupyter-widgets/controls",
      "model_module_version": "1.0.0",
      "model_name": "ButtonStyleModel",
      "state": {}
     },
     "62e724aa65ff454f807393e01c3fa766": {
      "model_module": "@jupyter-widgets/controls",
      "model_module_version": "1.0.0",
      "model_name": "DescriptionStyleModel",
      "state": {
       "description_width": ""
      }
     },
     "63eb5fd0751149b99e10bc2b0f979092": {
      "model_module": "@jupyter-widgets/controls",
      "model_module_version": "1.0.0",
      "model_name": "DescriptionStyleModel",
      "state": {
       "description_width": ""
      }
     },
     "64aca5a423424cc0ac199d7483278844": {
      "model_module": "@jupyter-widgets/controls",
      "model_module_version": "1.0.0",
      "model_name": "ButtonModel",
      "state": {
       "description": "Check ",
       "layout": "IPY_MODEL_042cba70226f45adb31ef1617aa83437",
       "style": "IPY_MODEL_6257b5b6b8b24f4a87fb448500368618"
      }
     },
     "66475ababd4c410591cb91d0cc008aa9": {
      "model_module": "@jupyter-widgets/controls",
      "model_module_version": "1.0.0",
      "model_name": "LabelModel",
      "state": {
       "layout": "IPY_MODEL_6d9f1946a63843218b553fb019dcc7e0",
       "style": "IPY_MODEL_05da9b6207bf49c892caf42cc9e42e1a"
      }
     },
     "66b679fa9b6f4f1bad1c21cee8a9fd4e": {
      "model_module": "@jupyter-widgets/base",
      "model_module_version": "1.0.0",
      "model_name": "LayoutModel",
      "state": {}
     },
     "67a164520cd343e185fdfdf2825ade8a": {
      "model_module": "@jupyter-widgets/controls",
      "model_module_version": "1.0.0",
      "model_name": "DescriptionStyleModel",
      "state": {
       "description_width": ""
      }
     },
     "695b1b8eacda442eab716747b557aa49": {
      "model_module": "@jupyter-widgets/base",
      "model_module_version": "1.0.0",
      "model_name": "LayoutModel",
      "state": {}
     },
     "6a630d6852cb40bfab9d31b90f50b6cd": {
      "model_module": "@jupyter-widgets/base",
      "model_module_version": "1.0.0",
      "model_name": "LayoutModel",
      "state": {}
     },
     "6c14e7dec1db4c0e92fdcd043e2aa6e6": {
      "model_module": "@jupyter-widgets/controls",
      "model_module_version": "1.0.0",
      "model_name": "HTMLModel",
      "state": {
       "description": "State",
       "layout": "IPY_MODEL_365faf821f2342d3903a71ec911540ef",
       "style": "IPY_MODEL_f031bd627f254692965484eae9dee75e",
       "value": "Finished OK"
      }
     },
     "6c41e3af9237400ba558fd959ca8cecf": {
      "model_module": "@jupyter-widgets/controls",
      "model_module_version": "1.0.0",
      "model_name": "DescriptionStyleModel",
      "state": {
       "description_width": ""
      }
     },
     "6c85e862ea6a48f5a9709c6dd9532d87": {
      "model_module": "@jupyter-widgets/controls",
      "model_module_version": "1.0.0",
      "model_name": "IntTextModel",
      "state": {
       "description": "Workchain",
       "layout": "IPY_MODEL_dd65d23d230d4b488dc94faf0dddb006",
       "step": 1,
       "style": "IPY_MODEL_126b763b232842c5a37f17ebd4cd1d01",
       "value": 3282
      }
     },
     "6cbbb170430b4c14a6fee53cbfed21d8": {
      "model_module": "@jupyter-widgets/controls",
      "model_module_version": "1.0.0",
      "model_name": "VBoxModel",
      "state": {
       "children": [
        "IPY_MODEL_d558746de9d247c5ae2d33ea60e1fc24",
        "IPY_MODEL_3ff0aae95bd8485ea62eec3c253618e7",
        "IPY_MODEL_3470f83b9b4f4637919ff93bd124cff9",
        "IPY_MODEL_cf48fb016d2243259a299388fcc44af9",
        "IPY_MODEL_b4e2c405c2a04e089066f6c851b468b9"
       ],
       "layout": "IPY_MODEL_5109e756206641cf82b3d309d0a75200"
      }
     },
     "6cfe62d0c43440d083b3c16cfa206004": {
      "model_module": "@jupyter-widgets/output",
      "model_module_version": "1.0.0",
      "model_name": "OutputModel",
      "state": {
       "layout": "IPY_MODEL_b493912a04df4663a1ab42316fa3aeb4",
       "outputs": [
        {
         "name": "stdout",
         "output_type": "stream",
         "text": "\n                  /-StructureData [3283]\n                 |\n                 |--StructureData [3283]\n                 |\n                 |--StructureData [3285]\n                 |\n                 |--StructureData [3285]\n-- /seekpath [3282]\n                 |--KpointsData [3284]\n                 |\n                 |--KpointsData [3284]\n                 |\n                 |--ParameterData [3286]\n                 |\n                  \\-ParameterData [3286]\n\n"
        }
       ]
      }
     },
     "6d4f5ba09bf348b1a1384cbaa86b73de": {
      "model_module": "@jupyter-widgets/base",
      "model_module_version": "1.0.0",
      "model_name": "LayoutModel",
      "state": {}
     },
     "6d9f1946a63843218b553fb019dcc7e0": {
      "model_module": "@jupyter-widgets/base",
      "model_module_version": "1.0.0",
      "model_name": "LayoutModel",
      "state": {}
     },
     "6ec7d7ff92b840e8a2b0a78794f3b6d8": {
      "model_module": "@jupyter-widgets/controls",
      "model_module_version": "1.0.0",
      "model_name": "HBoxModel",
      "state": {
       "children": [
        "IPY_MODEL_76773a44d9c549df909f87b0a64831d8",
        "IPY_MODEL_8cf04021742e4f84aabfc0928cfe931c"
       ],
       "layout": "IPY_MODEL_579ff65710e543e9a5fc51ca2f763325"
      }
     },
     "70d309ef88424104a2c4a276df3aadcc": {
      "model_module": "@jupyter-widgets/controls",
      "model_module_version": "1.0.0",
      "model_name": "DescriptionStyleModel",
      "state": {
       "description_width": ""
      }
     },
     "72d2b58c49bf4e0287a4989d5bbb6dee": {
      "model_module": "@jupyter-widgets/base",
      "model_module_version": "1.0.0",
      "model_name": "LayoutModel",
      "state": {}
     },
     "74b58c6fe6d640a4aab43e0952c066e6": {
      "model_module": "@jupyter-widgets/base",
      "model_module_version": "1.0.0",
      "model_name": "LayoutModel",
      "state": {}
     },
     "74e7d7b527d24bbda86a0da0a6af6d9d": {
      "model_module": "@jupyter-widgets/output",
      "model_module_version": "1.0.0",
      "model_name": "OutputModel",
      "state": {
       "layout": "IPY_MODEL_da63ce0fa0574f88a9b02cb99d2330fa",
       "outputs": [
        {
         "name": "stdout",
         "output_type": "stream",
         "text": "\n                         /-VaspCalculation [3054]\n                        |\n                        |--seekpath [3061]\n-- /ExampleWorkflow [3051]\n                        |--VaspCalculation [3068]\n                        |\n                         \\-BandsData [3073]\n\n"
        }
       ]
      }
     },
     "752860c9e4534872917775809ca8e650": {
      "model_module": "@jupyter-widgets/base",
      "model_module_version": "1.0.0",
      "model_name": "LayoutModel",
      "state": {}
     },
     "752b3ff8d5e848f4818ec17aac04b7bb": {
      "model_module": "@jupyter-widgets/base",
      "model_module_version": "1.0.0",
      "model_name": "LayoutModel",
      "state": {}
     },
     "76635a5e1abc4b00bf994bc5b922f4f3": {
      "model_module": "@jupyter-widgets/controls",
      "model_module_version": "1.0.0",
      "model_name": "ButtonStyleModel",
      "state": {}
     },
     "76773a44d9c549df909f87b0a64831d8": {
      "model_module": "@jupyter-widgets/controls",
      "model_module_version": "1.0.0",
      "model_name": "VBoxModel",
      "state": {
       "children": [
        "IPY_MODEL_51a7c033c27b4cac8dc4d45899e660e1",
        "IPY_MODEL_8c9019fe9f994b24aab7ccef431fce98",
        "IPY_MODEL_a8c19c7a2f394f18bfecc0a0b773c75d",
        "IPY_MODEL_e9cbc8c83ad54203a90156147a723d38",
        "IPY_MODEL_7fa265ca453f40b095db43dddbb6fb94"
       ],
       "layout": "IPY_MODEL_9932d98c0acc405996975633f8b5846d"
      }
     },
     "788f1c1cb04648a29b6292a430b111f2": {
      "model_module": "@jupyter-widgets/controls",
      "model_module_version": "1.0.0",
      "model_name": "ButtonModel",
      "state": {
       "description": "Check ",
       "layout": "IPY_MODEL_9277aef42d474cda9c72b10d6af79332",
       "style": "IPY_MODEL_837c297b88bd49d0be0e12ad515dece5"
      }
     },
     "78c73dd16ce245ed8f7fd00aa30a46b7": {
      "model_module": "@jupyter-widgets/controls",
      "model_module_version": "1.0.0",
      "model_name": "HBoxModel",
      "state": {
       "children": [
        "IPY_MODEL_e629dc851368492da155d2fe178bfe6a",
        "IPY_MODEL_919e787b1d1a4a538f99e346e4bac472"
       ],
       "layout": "IPY_MODEL_2d7f0fbc56334f69ab62f66843f65414"
      }
     },
     "78ff5bbe64874882972fae15e2cbfb0e": {
      "model_module": "@jupyter-widgets/base",
      "model_module_version": "1.0.0",
      "model_name": "LayoutModel",
      "state": {}
     },
     "79564daf18bb4474813b874bc12b00dd": {
      "model_module": "@jupyter-widgets/controls",
      "model_module_version": "1.0.0",
      "model_name": "VBoxModel",
      "state": {
       "children": [
        "IPY_MODEL_54f28c4a23da4438af90ab0dc057ee43",
        "IPY_MODEL_d700b1bad0be46ef83b1a7ed99fc8f18",
        "IPY_MODEL_89e8cc79d5f04b75aa133b70f80ff38d",
        "IPY_MODEL_8ee9d5ba6fb447bf87f747eb45486228",
        "IPY_MODEL_ed53d5d8d9164e20bf730813467834a0",
        "IPY_MODEL_ef574c9af3fe42428fa76a21a1247344"
       ],
       "layout": "IPY_MODEL_fcf1b57d46ec4ba2832b01a15e669117"
      }
     },
     "7a06933449a34cbda214c4d8a2742460": {
      "model_module": "@jupyter-widgets/output",
      "model_module_version": "1.0.0",
      "model_name": "OutputModel",
      "state": {
       "layout": "IPY_MODEL_296f1a5f26b84d5f9244e5e1d79daa84",
       "outputs": [
        {
         "name": "stdout",
         "output_type": "stream",
         "text": "# Last daemon state_updater check: 0h:00m:16s ago (at 11:54:58 on 2018-04-06)\nPK    Creation    State    Sched. state    Computer    Type\n----  ----------  -------  --------------  ----------  ------\n\nTotal results: 0\n\n\n"
        }
       ]
      }
     },
     "7ba604b08c2644f8b946afac4dcdd92d": {
      "model_module": "@jupyter-widgets/controls",
      "model_module_version": "1.0.0",
      "model_name": "DescriptionStyleModel",
      "state": {
       "description_width": ""
      }
     },
     "7bf28c22c4e446188146dcda0fadd096": {
      "model_module": "@jupyter-widgets/controls",
      "model_module_version": "1.0.0",
      "model_name": "DescriptionStyleModel",
      "state": {
       "description_width": ""
      }
     },
     "7c307fb2bb5d4d2a88922a6ca1d488f1": {
      "model_module": "@jupyter-widgets/controls",
      "model_module_version": "1.0.0",
      "model_name": "ButtonModel",
      "state": {
       "description": "Check",
       "layout": "IPY_MODEL_6d4f5ba09bf348b1a1384cbaa86b73de",
       "style": "IPY_MODEL_c2d2b18275d24beda504a166d5f2a67d"
      }
     },
     "7c5f1923d22f4b63871b47dabecaac38": {
      "model_module": "@jupyter-widgets/base",
      "model_module_version": "1.0.0",
      "model_name": "LayoutModel",
      "state": {}
     },
     "7cff466be0b94197b4ac87c2a41cf258": {
      "model_module": "@jupyter-widgets/controls",
      "model_module_version": "1.0.0",
      "model_name": "DescriptionStyleModel",
      "state": {
       "description_width": ""
      }
     },
     "7d42cc94e3f84cf8ba57be0eb7609f6d": {
      "model_module": "@jupyter-widgets/base",
      "model_module_version": "1.0.0",
      "model_name": "LayoutModel",
      "state": {}
     },
     "7ec2604b7c784099ad083ecd37a4249f": {
      "model_module": "@jupyter-widgets/output",
      "model_module_version": "1.0.0",
      "model_name": "OutputModel",
      "state": {
       "layout": "IPY_MODEL_1adf564bd107423f91f0379fdfe00973",
       "msg_id": "5b3b277148c54b6381668f0de455321a"
      }
     },
     "7fa265ca453f40b095db43dddbb6fb94": {
      "model_module": "@jupyter-widgets/controls",
      "model_module_version": "1.0.0",
      "model_name": "HTMLModel",
      "state": {
       "description": "Structure",
       "layout": "IPY_MODEL_8325143ef9b84728aa41ebab428c13b1",
       "style": "IPY_MODEL_67a164520cd343e185fdfdf2825ade8a",
       "value": "N/A"
      }
     },
     "7fff9832018e4b468e1ed2c05157f769": {
      "model_module": "@jupyter-widgets/base",
      "model_module_version": "1.0.0",
      "model_name": "LayoutModel",
      "state": {}
     },
     "80564ef7554543cea68e60600b72bf74": {
      "model_module": "@jupyter-widgets/base",
      "model_module_version": "1.0.0",
      "model_name": "LayoutModel",
      "state": {}
     },
     "81c05f05d1964da1bdbd71dd6047d62f": {
      "model_module": "@jupyter-widgets/base",
      "model_module_version": "1.0.0",
      "model_name": "LayoutModel",
      "state": {}
     },
     "81f1d9a9ff24479584ca9c30f0420add": {
      "model_module": "@jupyter-widgets/base",
      "model_module_version": "1.0.0",
      "model_name": "LayoutModel",
      "state": {}
     },
     "8266c92a8543418facdb4b83110a1757": {
      "model_module": "@jupyter-widgets/base",
      "model_module_version": "1.0.0",
      "model_name": "LayoutModel",
      "state": {}
     },
     "830f1dcdf4d541488e1569d6d2475317": {
      "model_module": "@jupyter-widgets/controls",
      "model_module_version": "1.0.0",
      "model_name": "VBoxModel",
      "state": {
       "children": [
        "IPY_MODEL_4f5bda0c289f4f0dab6a976f200c8cb7",
        "IPY_MODEL_d700b1bad0be46ef83b1a7ed99fc8f18",
        "IPY_MODEL_66475ababd4c410591cb91d0cc008aa9",
        "IPY_MODEL_8ee9d5ba6fb447bf87f747eb45486228",
        "IPY_MODEL_ed53d5d8d9164e20bf730813467834a0",
        "IPY_MODEL_ef574c9af3fe42428fa76a21a1247344"
       ],
       "layout": "IPY_MODEL_13b97846e0e247f9a201ef582d06d9e9"
      }
     },
     "8325143ef9b84728aa41ebab428c13b1": {
      "model_module": "@jupyter-widgets/base",
      "model_module_version": "1.0.0",
      "model_name": "LayoutModel",
      "state": {}
     },
     "837c297b88bd49d0be0e12ad515dece5": {
      "model_module": "@jupyter-widgets/controls",
      "model_module_version": "1.0.0",
      "model_name": "ButtonStyleModel",
      "state": {}
     },
     "855c5671427247999eb62572067ade6c": {
      "model_module": "@jupyter-widgets/controls",
      "model_module_version": "1.0.0",
      "model_name": "ButtonStyleModel",
      "state": {}
     },
     "8636bb73e3c748e39f52adea86c6ccf6": {
      "model_module": "@jupyter-widgets/controls",
      "model_module_version": "1.0.0",
      "model_name": "HBoxModel",
      "state": {
       "children": [
        "IPY_MODEL_d50bd113b6fe426691b104856bbda9c3",
        "IPY_MODEL_8cf04021742e4f84aabfc0928cfe931c"
       ],
       "layout": "IPY_MODEL_302635dfadd548528ba7308656e08bce"
      }
     },
     "86772def156a4890b12f6569aaa529ce": {
      "model_module": "@jupyter-widgets/base",
      "model_module_version": "1.0.0",
      "model_name": "LayoutModel",
      "state": {}
     },
     "87b95bca60464db99a5bb410ffb20eec": {
      "model_module": "@jupyter-widgets/base",
      "model_module_version": "1.0.0",
      "model_name": "LayoutModel",
      "state": {}
     },
     "880047c799c64b018aea454448395e36": {
      "model_module": "@jupyter-widgets/controls",
      "model_module_version": "1.0.0",
      "model_name": "IntTextModel",
      "state": {
       "description": "Workchain",
       "layout": "IPY_MODEL_fe5fa60524114f6f83a6d00b2ad96fee",
       "step": 1,
       "style": "IPY_MODEL_9aceb871e3f2486f907ba5fd2baecbac",
       "value": 3282
      }
     },
     "89707352f37a4898a96f5b409311e947": {
      "model_module": "@jupyter-widgets/controls",
      "model_module_version": "1.0.0",
      "model_name": "DescriptionStyleModel",
      "state": {
       "description_width": ""
      }
     },
     "89dadf7347a448f1a939128d8e2d1d81": {
      "model_module": "@jupyter-widgets/controls",
      "model_module_version": "1.0.0",
      "model_name": "TextModel",
      "state": {
       "description": "verdi bin",
       "layout": "IPY_MODEL_b2f11a8c34bd40c58a06537628e8e224",
       "style": "IPY_MODEL_d5cee598d2e348e6ad673a386641d163",
       "value": "/Users/ricohaeuselmann/.venvwrap/matcloud-jupyter-py2/bin/verdi"
      }
     },
     "89e8cc79d5f04b75aa133b70f80ff38d": {
      "model_module": "@jupyter-widgets/controls",
      "model_module_version": "1.0.0",
      "model_name": "LabelModel",
      "state": {
       "layout": "IPY_MODEL_5d90796cd8fb4e8c94b1f6399b5432bb",
       "style": "IPY_MODEL_d4183d68414d4cdcbc4eabe8b22f8856"
      }
     },
     "8be6aef146ce40bcb0c8bf8e15286ed3": {
      "model_module": "@jupyter-widgets/controls",
      "model_module_version": "1.0.0",
      "model_name": "HBoxModel",
      "state": {
       "children": [
        "IPY_MODEL_a316869b44764bdf832b8175d116ba07",
        "IPY_MODEL_8cf04021742e4f84aabfc0928cfe931c"
       ],
       "layout": "IPY_MODEL_f6d7775190e449438eeca32108e302e1"
      }
     },
     "8c36bbe8e8c44b9ab902d4fc8bafcd69": {
      "model_module": "@jupyter-widgets/base",
      "model_module_version": "1.0.0",
      "model_name": "LayoutModel",
      "state": {}
     },
     "8c9019fe9f994b24aab7ccef431fce98": {
      "model_module": "@jupyter-widgets/controls",
      "model_module_version": "1.0.0",
      "model_name": "HTMLModel",
      "state": {
       "description": "Computer",
       "layout": "IPY_MODEL_cd9d8330ca08436bba72502ce75ccc4f",
       "style": "IPY_MODEL_a92cac7c0e4a4b59a7c3bf58fb5f75b4",
       "value": "N/A"
      }
     },
     "8cf04021742e4f84aabfc0928cfe931c": {
      "model_module": "@jupyter-widgets/output",
      "model_module_version": "1.0.0",
      "model_name": "OutputModel",
      "state": {
       "layout": "IPY_MODEL_5d5edfbeb52841edaef7a47f606d095f",
       "outputs": [
        {
         "name": "stdout",
         "output_type": "stream",
         "text": "\n-- /ParameterData [3112]-VaspCalculation [3114]\n\n"
        }
       ]
      }
     },
     "8cf497095bf74bc09600cda9d46c577b": {
      "model_module": "@jupyter-widgets/controls",
      "model_module_version": "1.0.0",
      "model_name": "DescriptionStyleModel",
      "state": {
       "description_width": ""
      }
     },
     "8cf689cf3f7d40cabf5ccacb2971cf5a": {
      "model_module": "@jupyter-widgets/base",
      "model_module_version": "1.0.0",
      "model_name": "LayoutModel",
      "state": {}
     },
     "8d28fc866ea341439526a3aac1a43fd2": {
      "model_module": "@jupyter-widgets/base",
      "model_module_version": "1.0.0",
      "model_name": "LayoutModel",
      "state": {}
     },
     "8d84465b8fcd4fce9cd733da471b3fb3": {
      "model_module": "@jupyter-widgets/base",
      "model_module_version": "1.0.0",
      "model_name": "LayoutModel",
      "state": {}
     },
     "8ee9d5ba6fb447bf87f747eb45486228": {
      "model_module": "@jupyter-widgets/output",
      "model_module_version": "1.0.0",
      "model_name": "OutputModel",
      "state": {
       "layout": "IPY_MODEL_40f77a1d3d96441399375c166afb71e1",
       "outputs": [
        {
         "name": "stdout",
         "output_type": "stream",
         "text": "# Last daemon state_updater check: 0h:00m:24s ago (at 12:22:59 on 2018-04-06)\nPK    Creation    State    Sched. state    Computer    Type\n----  ----------  -------  --------------  ----------  ------\n\nTotal results: 0\n\n\n"
        }
       ]
      }
     },
     "8f145300fa8b4cbdb214ab92869d26f3": {
      "model_module": "@jupyter-widgets/base",
      "model_module_version": "1.0.0",
      "model_name": "LayoutModel",
      "state": {}
     },
     "903217b30ab942adacce62994f096c21": {
      "model_module": "@jupyter-widgets/base",
      "model_module_version": "1.0.0",
      "model_name": "LayoutModel",
      "state": {}
     },
     "919e787b1d1a4a538f99e346e4bac472": {
      "model_module": "@jupyter-widgets/controls",
      "model_module_version": "1.0.0",
      "model_name": "TextModel",
      "state": {
       "description": "Runtime",
       "disabled": true,
       "layout": "IPY_MODEL_81f1d9a9ff24479584ca9c30f0420add",
       "style": "IPY_MODEL_f9a473971e26430798c199b5f9c2fb66",
       "value": "111.277084 sec"
      }
     },
     "9200a8f9c075492f8775cf0a7a258b0f": {
      "model_module": "@jupyter-widgets/base",
      "model_module_version": "1.0.0",
      "model_name": "LayoutModel",
      "state": {}
     },
     "9277aef42d474cda9c72b10d6af79332": {
      "model_module": "@jupyter-widgets/base",
      "model_module_version": "1.0.0",
      "model_name": "LayoutModel",
      "state": {}
     },
     "92f35e7fbf83403d8fe1d07f1a41adf5": {
      "model_module": "@jupyter-widgets/base",
      "model_module_version": "1.0.0",
      "model_name": "LayoutModel",
      "state": {}
     },
     "92f68875eff64abb9467d12f49f7ce3c": {
      "model_module": "@jupyter-widgets/base",
      "model_module_version": "1.0.0",
      "model_name": "LayoutModel",
      "state": {}
     },
     "931d87ec9efd428c85a41d3b24d579c5": {
      "model_module": "@jupyter-widgets/base",
      "model_module_version": "1.0.0",
      "model_name": "LayoutModel",
      "state": {}
     },
     "933f84452d544670b5bcadaebf7949a1": {
      "model_module": "@jupyter-widgets/controls",
      "model_module_version": "1.0.0",
      "model_name": "HTMLModel",
      "state": {
       "description": "Structure",
       "layout": "IPY_MODEL_1af53088e53341149f7aebfad90c3bed",
       "style": "IPY_MODEL_264ca9cacda6451ca81d5a816d0571b4",
       "value": "Si"
      }
     },
     "940a00fa33ac443c8a13254a480c7001": {
      "model_module": "@jupyter-widgets/controls",
      "model_module_version": "1.0.0",
      "model_name": "VBoxModel",
      "state": {
       "children": [
        "IPY_MODEL_2d5095c778a84aebb7e13a4734c38183",
        "IPY_MODEL_d234b4a081444aa082d50268f118c8af",
        "IPY_MODEL_c3a4a31a09bd4b34a96e46c3ab944e92",
        "IPY_MODEL_7a06933449a34cbda214c4d8a2742460",
        "IPY_MODEL_788f1c1cb04648a29b6292a430b111f2"
       ],
       "layout": "IPY_MODEL_194ca163cc9f452e82dc20bed33e20e5"
      }
     },
     "959d4ffab4d34b379ecffda0f7c686ea": {
      "model_module": "@jupyter-widgets/controls",
      "model_module_version": "1.0.0",
      "model_name": "ButtonModel",
      "state": {
       "description": "Check ",
       "layout": "IPY_MODEL_80564ef7554543cea68e60600b72bf74",
       "style": "IPY_MODEL_acfe6d73fd1e44639e088d4479a2e31b"
      }
     },
     "95d2a007f5974deca59f951d9398de33": {
      "model_module": "@jupyter-widgets/base",
      "model_module_version": "1.0.0",
      "model_name": "LayoutModel",
      "state": {}
     },
     "96369a6f8aa446a6b4d6f9774dce7ae3": {
      "model_module": "@jupyter-widgets/base",
      "model_module_version": "1.0.0",
      "model_name": "LayoutModel",
      "state": {}
     },
     "971bd7557f504e2596c2d2a0b8df3daf": {
      "model_module": "@jupyter-widgets/controls",
      "model_module_version": "1.0.0",
      "model_name": "HTMLModel",
      "state": {
       "description": "Structure",
       "layout": "IPY_MODEL_74b58c6fe6d640a4aab43e0952c066e6",
       "style": "IPY_MODEL_7ba604b08c2644f8b946afac4dcdd92d"
      }
     },
     "97a051b16d9f4799af81456c6fba5cfe": {
      "model_module": "@jupyter-widgets/controls",
      "model_module_version": "1.0.0",
      "model_name": "HTMLModel",
      "state": {
       "description": "Structure",
       "layout": "IPY_MODEL_5aa8d0ac657640d39cdb1d8766cde321",
       "style": "IPY_MODEL_97d7e0ac85074aba8ec3ed49cbf1cf83",
       "value": "C2"
      }
     },
     "97d7e0ac85074aba8ec3ed49cbf1cf83": {
      "model_module": "@jupyter-widgets/controls",
      "model_module_version": "1.0.0",
      "model_name": "DescriptionStyleModel",
      "state": {
       "description_width": ""
      }
     },
     "9932d98c0acc405996975633f8b5846d": {
      "model_module": "@jupyter-widgets/base",
      "model_module_version": "1.0.0",
      "model_name": "LayoutModel",
      "state": {}
     },
     "9a1cc8be57d642fc8374deade0b4b30f": {
      "model_module": "@jupyter-widgets/base",
      "model_module_version": "1.0.0",
      "model_name": "LayoutModel",
      "state": {}
     },
     "9aceb871e3f2486f907ba5fd2baecbac": {
      "model_module": "@jupyter-widgets/controls",
      "model_module_version": "1.0.0",
      "model_name": "DescriptionStyleModel",
      "state": {
       "description_width": ""
      }
     },
     "9afd915de60b4733ae82227835d0bf5b": {
      "model_module": "@jupyter-widgets/controls",
      "model_module_version": "1.0.0",
      "model_name": "ButtonStyleModel",
      "state": {}
     },
     "9b0c6929a6c74f8f84fbaa9c68e27a2e": {
      "model_module": "@jupyter-widgets/base",
      "model_module_version": "1.0.0",
      "model_name": "LayoutModel",
      "state": {}
     },
     "9b18796873c94baf91a23ed49a53a252": {
      "model_module": "@jupyter-widgets/base",
      "model_module_version": "1.0.0",
      "model_name": "LayoutModel",
      "state": {}
     },
     "9b317d023b5b4b78ab7f5f5a597d9ee3": {
      "model_module": "@jupyter-widgets/base",
      "model_module_version": "1.0.0",
      "model_name": "LayoutModel",
      "state": {}
     },
     "9bb664cfa7ea4b8b9f255750d5abbddc": {
      "model_module": "@jupyter-widgets/base",
      "model_module_version": "1.0.0",
      "model_name": "LayoutModel",
      "state": {}
     },
     "9c4b1136e25a4f5a8739bddd0dfb188b": {
      "model_module": "@jupyter-widgets/base",
      "model_module_version": "1.0.0",
      "model_name": "LayoutModel",
      "state": {}
     },
     "9ca8eab74aa243fbbe38dd725c200652": {
      "model_module": "@jupyter-widgets/base",
      "model_module_version": "1.0.0",
      "model_name": "LayoutModel",
      "state": {}
     },
     "9db72209e80f45eb860a116dc8e8a203": {
      "model_module": "@jupyter-widgets/base",
      "model_module_version": "1.0.0",
      "model_name": "LayoutModel",
      "state": {}
     },
     "9e78179240584f18912589ed6c637d38": {
      "model_module": "@jupyter-widgets/base",
      "model_module_version": "1.0.0",
      "model_name": "LayoutModel",
      "state": {}
     },
     "9f9d9ff33f7e4531a6c1c323a7eeddb3": {
      "model_module": "@jupyter-widgets/base",
      "model_module_version": "1.0.0",
      "model_name": "LayoutModel",
      "state": {}
     },
     "a05c4817bb244134a57c2eb53c5342d0": {
      "model_module": "@jupyter-widgets/controls",
      "model_module_version": "1.0.0",
      "model_name": "DescriptionStyleModel",
      "state": {
       "description_width": ""
      }
     },
     "a25eef10e92b4bbcaa2267135d6642c6": {
      "model_module": "@jupyter-widgets/base",
      "model_module_version": "1.0.0",
      "model_name": "LayoutModel",
      "state": {}
     },
     "a316869b44764bdf832b8175d116ba07": {
      "model_module": "@jupyter-widgets/controls",
      "model_module_version": "1.0.0",
      "model_name": "VBoxModel",
      "state": {
       "children": [
        "IPY_MODEL_51a7c033c27b4cac8dc4d45899e660e1",
        "IPY_MODEL_8c9019fe9f994b24aab7ccef431fce98",
        "IPY_MODEL_a8c19c7a2f394f18bfecc0a0b773c75d",
        "IPY_MODEL_e9cbc8c83ad54203a90156147a723d38",
        "IPY_MODEL_7fa265ca453f40b095db43dddbb6fb94"
       ],
       "layout": "IPY_MODEL_5199def340b84c9991b092b6fc411c2a"
      }
     },
     "a49c71fbd5264aaea13d5fbc20981cdf": {
      "model_module": "@jupyter-widgets/base",
      "model_module_version": "1.0.0",
      "model_name": "LayoutModel",
      "state": {}
     },
     "a4f2d06b15424058aece6719219741f2": {
      "model_module": "@jupyter-widgets/controls",
      "model_module_version": "1.0.0",
      "model_name": "VBoxModel",
      "state": {
       "children": [
        "IPY_MODEL_f196e85e9177454ead23bc93cd9d0aad",
        "IPY_MODEL_30c224cccbe0467a92848cd052ef40a3",
        "IPY_MODEL_f61fb43883084c3f909aabdae034a2e3",
        "IPY_MODEL_d6c321181c414871bb7983134e85d329",
        "IPY_MODEL_0dee749ddf714fdd81870f328284bb29"
       ],
       "layout": "IPY_MODEL_92f35e7fbf83403d8fe1d07f1a41adf5"
      }
     },
     "a78b748efcda4908bed02319713262b9": {
      "model_module": "@jupyter-widgets/controls",
      "model_module_version": "1.0.0",
      "model_name": "HBoxModel",
      "state": {
       "children": [
        "IPY_MODEL_a4f2d06b15424058aece6719219741f2",
        "IPY_MODEL_eaef155d71de40ab8c468fc66e5eab90"
       ],
       "layout": "IPY_MODEL_5413f4d7e298457686aa05c2314b8439"
      }
     },
     "a84468fccf8141a09cee34f79c5add92": {
      "model_module": "@jupyter-widgets/base",
      "model_module_version": "1.0.0",
      "model_name": "LayoutModel",
      "state": {}
     },
     "a8c19c7a2f394f18bfecc0a0b773c75d": {
      "model_module": "@jupyter-widgets/controls",
      "model_module_version": "1.0.0",
      "model_name": "HTMLModel",
      "state": {
       "description": "State",
       "layout": "IPY_MODEL_0d2602786a5046c59ffbc023b60ff1e8",
       "style": "IPY_MODEL_5f15f660c877486bb43a54c014127824",
       "value": "N/A"
      }
     },
     "a92cac7c0e4a4b59a7c3bf58fb5f75b4": {
      "model_module": "@jupyter-widgets/controls",
      "model_module_version": "1.0.0",
      "model_name": "DescriptionStyleModel",
      "state": {
       "description_width": ""
      }
     },
     "a94545e158ba46159a82a41dd42c2845": {
      "model_module": "@jupyter-widgets/base",
      "model_module_version": "1.0.0",
      "model_name": "LayoutModel",
      "state": {}
     },
     "a9e72d91fff5421d9387ce3b9ead7153": {
      "model_module": "@jupyter-widgets/controls",
      "model_module_version": "1.0.0",
      "model_name": "VBoxModel",
      "state": {
       "children": [
        "IPY_MODEL_51a7c033c27b4cac8dc4d45899e660e1",
        "IPY_MODEL_8c9019fe9f994b24aab7ccef431fce98",
        "IPY_MODEL_a8c19c7a2f394f18bfecc0a0b773c75d",
        "IPY_MODEL_e9cbc8c83ad54203a90156147a723d38",
        "IPY_MODEL_7fa265ca453f40b095db43dddbb6fb94"
       ],
       "layout": "IPY_MODEL_8d84465b8fcd4fce9cd733da471b3fb3"
      }
     },
     "aa57b1e30ad540cfa10fd024990c2139": {
      "model_module": "@jupyter-widgets/controls",
      "model_module_version": "1.0.0",
      "model_name": "VBoxModel",
      "state": {
       "children": [
        "IPY_MODEL_b504f38e6af94d588fb4044d52ce7eb7",
        "IPY_MODEL_d700b1bad0be46ef83b1a7ed99fc8f18",
        "IPY_MODEL_bec202e786294a81a70c1c5967d62cd8",
        "IPY_MODEL_8ee9d5ba6fb447bf87f747eb45486228",
        "IPY_MODEL_ed53d5d8d9164e20bf730813467834a0",
        "IPY_MODEL_ef574c9af3fe42428fa76a21a1247344"
       ],
       "layout": "IPY_MODEL_c80945cb85b44d12b9052d8a1207c96a"
      }
     },
     "aae0499df3a04b7783d7dc0681aeb482": {
      "model_module": "@jupyter-widgets/controls",
      "model_module_version": "1.0.0",
      "model_name": "ButtonStyleModel",
      "state": {}
     },
     "ab24eeb343aa471b97202e2d0ed76265": {
      "model_module": "@jupyter-widgets/base",
      "model_module_version": "1.0.0",
      "model_name": "LayoutModel",
      "state": {}
     },
     "ab98c3498219438d86188585a1f9113e": {
      "model_module": "@jupyter-widgets/controls",
      "model_module_version": "1.0.0",
      "model_name": "DescriptionStyleModel",
      "state": {
       "description_width": ""
      }
     },
     "ac9deffaaa044d2c8104911fafb24a7a": {
      "model_module": "@jupyter-widgets/base",
      "model_module_version": "1.0.0",
      "model_name": "LayoutModel",
      "state": {}
     },
     "aca82634b02b4cb5b7ea073926ece446": {
      "model_module": "@jupyter-widgets/controls",
      "model_module_version": "1.0.0",
      "model_name": "HBoxModel",
      "state": {
       "children": [
        "IPY_MODEL_2207b08a17e04ebbb62ea781fcf20241",
        "IPY_MODEL_919e787b1d1a4a538f99e346e4bac472"
       ],
       "layout": "IPY_MODEL_b6ca52bbfd98499a8717e2892777530e"
      }
     },
     "accdb7253fa0492cab9c3d58484fe5a7": {
      "model_module": "@jupyter-widgets/controls",
      "model_module_version": "1.0.0",
      "model_name": "DescriptionStyleModel",
      "state": {
       "description_width": ""
      }
     },
     "acfe6d73fd1e44639e088d4479a2e31b": {
      "model_module": "@jupyter-widgets/controls",
      "model_module_version": "1.0.0",
      "model_name": "ButtonStyleModel",
      "state": {}
     },
     "adeda34039de42278b0bd83b2513925e": {
      "model_module": "@jupyter-widgets/base",
      "model_module_version": "1.0.0",
      "model_name": "LayoutModel",
      "state": {}
     },
     "adfc6ea1e9864a3bb120e39e7dc37c91": {
      "model_module": "@jupyter-widgets/controls",
      "model_module_version": "1.0.0",
      "model_name": "DescriptionStyleModel",
      "state": {
       "description_width": ""
      }
     },
     "ae9b54212ccd4bd3bb326d60f21d4826": {
      "model_module": "@jupyter-widgets/controls",
      "model_module_version": "1.0.0",
      "model_name": "DescriptionStyleModel",
      "state": {
       "description_width": ""
      }
     },
     "aee85c5f5b7041b59ae1f124ef669dc1": {
      "model_module": "@jupyter-widgets/controls",
      "model_module_version": "1.0.0",
      "model_name": "HTMLModel",
      "state": {
       "description": "State",
       "layout": "IPY_MODEL_4e52e15944f94f029045d844e62aecc3",
       "style": "IPY_MODEL_c0e7a139377a4cf78ebcb5e9e3f8dff7"
      }
     },
     "b00624a95c114892be8d2d672eaae0a0": {
      "model_module": "@jupyter-widgets/controls",
      "model_module_version": "1.0.0",
      "model_name": "IntTextModel",
      "state": {
       "description": "Workchain",
       "layout": "IPY_MODEL_1985d7cb42504515ada24433c20b9c5c",
       "step": 1,
       "style": "IPY_MODEL_3adcd4b6a3c246629f7b592f28cf4956",
       "value": 3282
      }
     },
     "b14814c97ff54652a6f7b8b6530f5269": {
      "model_module": "@jupyter-widgets/base",
      "model_module_version": "1.0.0",
      "model_name": "LayoutModel",
      "state": {}
     },
     "b17b287af4ce4523868fc0d249d57cf8": {
      "model_module": "@jupyter-widgets/base",
      "model_module_version": "1.0.0",
      "model_name": "LayoutModel",
      "state": {}
     },
     "b2c1cd0e7b0a4a2eae3cfcbe6d694c8f": {
      "model_module": "@jupyter-widgets/base",
      "model_module_version": "1.0.0",
      "model_name": "LayoutModel",
      "state": {}
     },
     "b2f11a8c34bd40c58a06537628e8e224": {
      "model_module": "@jupyter-widgets/base",
      "model_module_version": "1.0.0",
      "model_name": "LayoutModel",
      "state": {}
     },
     "b34675a1d20a4d7b911c59aabac334cc": {
      "model_module": "@jupyter-widgets/base",
      "model_module_version": "1.0.0",
      "model_name": "LayoutModel",
      "state": {}
     },
     "b371b11d146a4060b5880de16927f4d9": {
      "model_module": "@jupyter-widgets/controls",
      "model_module_version": "1.0.0",
      "model_name": "HTMLModel",
      "state": {
       "description": "Runtime",
       "layout": "IPY_MODEL_bc20a9b7799c45118002534a92eb5e9a",
       "style": "IPY_MODEL_26a34557ae0b49bfaeb42d9c0ce8d3b2",
       "value": "0.251433 sec"
      }
     },
     "b45beb8d9aa44f039a5f8c5a9e34d882": {
      "model_module": "@jupyter-widgets/controls",
      "model_module_version": "1.0.0",
      "model_name": "DescriptionStyleModel",
      "state": {
       "description_width": ""
      }
     },
     "b493912a04df4663a1ab42316fa3aeb4": {
      "model_module": "@jupyter-widgets/base",
      "model_module_version": "1.0.0",
      "model_name": "LayoutModel",
      "state": {}
     },
     "b4e2c405c2a04e089066f6c851b468b9": {
      "model_module": "@jupyter-widgets/controls",
      "model_module_version": "1.0.0",
      "model_name": "ButtonModel",
      "state": {
       "description": "Check ",
       "layout": "IPY_MODEL_b17b287af4ce4523868fc0d249d57cf8",
       "style": "IPY_MODEL_855c5671427247999eb62572067ade6c"
      }
     },
     "b504f38e6af94d588fb4044d52ce7eb7": {
      "model_module": "@jupyter-widgets/controls",
      "model_module_version": "1.0.0",
      "model_name": "HBoxModel",
      "state": {
       "children": [
        "IPY_MODEL_386263fb34634286b83d823bd36abbc6",
        "IPY_MODEL_8cf04021742e4f84aabfc0928cfe931c"
       ],
       "layout": "IPY_MODEL_d8fb381c84d949e78dbd83944d05d040"
      }
     },
     "b5bc07ce9db344d7b392c42233c7b1d8": {
      "model_module": "@jupyter-widgets/controls",
      "model_module_version": "1.0.0",
      "model_name": "LabelModel",
      "state": {
       "layout": "IPY_MODEL_24cf743f231b4cd2845728a71705191a",
       "style": "IPY_MODEL_42fc0703faf24c469a2f64dc9fcd6b08"
      }
     },
     "b674c9a73d334557a50cf17c0ddb0b6f": {
      "model_module": "@jupyter-widgets/base",
      "model_module_version": "1.0.0",
      "model_name": "LayoutModel",
      "state": {}
     },
     "b6c3f8b3a4644e9bb2639aa0adb62329": {
      "model_module": "@jupyter-widgets/base",
      "model_module_version": "1.0.0",
      "model_name": "LayoutModel",
      "state": {}
     },
     "b6ca52bbfd98499a8717e2892777530e": {
      "model_module": "@jupyter-widgets/base",
      "model_module_version": "1.0.0",
      "model_name": "LayoutModel",
      "state": {}
     },
     "b7162fd59a2b46819ec0bcaad9bf1176": {
      "model_module": "@jupyter-widgets/controls",
      "model_module_version": "1.0.0",
      "model_name": "ButtonModel",
      "state": {
       "description": "Check",
       "layout": "IPY_MODEL_c29f367e609641ce997c1e8f728821c3",
       "style": "IPY_MODEL_fc2ae9bb2498431ca6b84a02cca1be4b"
      }
     },
     "b740090d1ca44df8a0cbbeb8cf5f7fa8": {
      "model_module": "@jupyter-widgets/controls",
      "model_module_version": "1.0.0",
      "model_name": "VBoxModel",
      "state": {
       "children": [
        "IPY_MODEL_ed74056fd6ab41bfbf1af35b94b774ad",
        "IPY_MODEL_d700b1bad0be46ef83b1a7ed99fc8f18",
        "IPY_MODEL_2d1fc2c6453b412c93f95b01145ddecf",
        "IPY_MODEL_8ee9d5ba6fb447bf87f747eb45486228",
        "IPY_MODEL_ed53d5d8d9164e20bf730813467834a0",
        "IPY_MODEL_ef574c9af3fe42428fa76a21a1247344"
       ],
       "layout": "IPY_MODEL_a49c71fbd5264aaea13d5fbc20981cdf"
      }
     },
     "b830185546a9445986a2dd2864df1e44": {
      "model_module": "@jupyter-widgets/output",
      "model_module_version": "1.0.0",
      "model_name": "OutputModel",
      "state": {
       "layout": "IPY_MODEL_3bc575d02d5a4ed7af5ab3f0ba6d8413"
      }
     },
     "b873965b1c2a47b1acf87de37cb05afa": {
      "model_module": "@jupyter-widgets/base",
      "model_module_version": "1.0.0",
      "model_name": "LayoutModel",
      "state": {}
     },
     "b8c3815d2ee64a0f82ba815cab32c7c3": {
      "model_module": "@jupyter-widgets/base",
      "model_module_version": "1.0.0",
      "model_name": "LayoutModel",
      "state": {}
     },
     "bb17ef23713840139bb7e3fe55c7f38f": {
      "model_module": "@jupyter-widgets/controls",
      "model_module_version": "1.0.0",
      "model_name": "IntTextModel",
      "state": {
       "description": "Workchain",
       "layout": "IPY_MODEL_931d87ec9efd428c85a41d3b24d579c5",
       "step": 1,
       "style": "IPY_MODEL_0e5bdcabf9c6480e9906f1d570b4700a"
      }
     },
     "bb7a14121cc149afab4f690cede07207": {
      "model_module": "@jupyter-widgets/controls",
      "model_module_version": "1.0.0",
      "model_name": "TextModel",
      "state": {
       "description": "State",
       "disabled": true,
       "layout": "IPY_MODEL_b674c9a73d334557a50cf17c0ddb0b6f",
       "style": "IPY_MODEL_05990a47d7c2481cad606a274d2121d9",
       "value": "Finished OK"
      }
     },
     "bbd0b9b27d114e82a78a16fcdc65d949": {
      "model_module": "@jupyter-widgets/base",
      "model_module_version": "1.0.0",
      "model_name": "LayoutModel",
      "state": {}
     },
     "bc20a9b7799c45118002534a92eb5e9a": {
      "model_module": "@jupyter-widgets/base",
      "model_module_version": "1.0.0",
      "model_name": "LayoutModel",
      "state": {}
     },
     "bc6ae564bd0f42799a1f7b17bae910fb": {
      "model_module": "@jupyter-widgets/base",
      "model_module_version": "1.0.0",
      "model_name": "LayoutModel",
      "state": {}
     },
     "bd473d2d2b52473198ee0854edd22962": {
      "model_module": "@jupyter-widgets/controls",
      "model_module_version": "1.0.0",
      "model_name": "HBoxModel",
      "state": {
       "children": [
        "IPY_MODEL_c7c841016c924c8ebc50d07830f2e4c6",
        "IPY_MODEL_8cf04021742e4f84aabfc0928cfe931c"
       ],
       "layout": "IPY_MODEL_96369a6f8aa446a6b4d6f9774dce7ae3"
      }
     },
     "bdab66ce876945e39ba2bd5ec97f2549": {
      "model_module": "@jupyter-widgets/controls",
      "model_module_version": "1.0.0",
      "model_name": "ButtonModel",
      "state": {
       "description": "Check ",
       "layout": "IPY_MODEL_3716ff3d617848cabc0715203c48fecc",
       "style": "IPY_MODEL_efeb49ed42664496aff99de88d6870af"
      }
     },
     "be98d1bcc1114ff19eb59df008650c5d": {
      "model_module": "@jupyter-widgets/controls",
      "model_module_version": "1.0.0",
      "model_name": "ButtonStyleModel",
      "state": {}
     },
     "bec202e786294a81a70c1c5967d62cd8": {
      "model_module": "@jupyter-widgets/controls",
      "model_module_version": "1.0.0",
      "model_name": "LabelModel",
      "state": {
       "layout": "IPY_MODEL_d80384bc46e446dfb59062ae8cae5120",
       "style": "IPY_MODEL_d393c0de56c84da98c672f7c95c21539"
      }
     },
     "bed7a4bbfa22465c971ce867bd1269d9": {
      "model_module": "@jupyter-widgets/base",
      "model_module_version": "1.0.0",
      "model_name": "LayoutModel",
      "state": {}
     },
     "bf0680adcccf48449b6c0d960ff3f58a": {
      "model_module": "@jupyter-widgets/controls",
      "model_module_version": "1.0.0",
      "model_name": "VBoxModel",
      "state": {
       "children": [
        "IPY_MODEL_89dadf7347a448f1a939128d8e2d1d81",
        "IPY_MODEL_53f67f1a79ad476ebdd8f1d227f8f49d",
        "IPY_MODEL_bb7a14121cc149afab4f690cede07207",
        "IPY_MODEL_919e787b1d1a4a538f99e346e4bac472",
        "IPY_MODEL_d4955a199a884fa7b7200cb36b6baa40",
        "IPY_MODEL_f5916d5faebf44bdbc52324e49cf27c0",
        "IPY_MODEL_959d4ffab4d34b379ecffda0f7c686ea"
       ],
       "layout": "IPY_MODEL_21e51b9877f84fd18ac881a2377806d7"
      }
     },
     "bf099abd3b2f43138fd7bad649a3fb4e": {
      "model_module": "@jupyter-widgets/output",
      "model_module_version": "1.0.0",
      "model_name": "OutputModel",
      "state": {
       "layout": "IPY_MODEL_60bb95fd1db14f53be0088cce3b563a3"
      }
     },
     "bf9d26c82bf74463a61d239fa560f079": {
      "model_module": "@jupyter-widgets/controls",
      "model_module_version": "1.0.0",
      "model_name": "VBoxModel",
      "state": {
       "children": [
        "IPY_MODEL_e5d852ba2793469da9517e2a5f723c26",
        "IPY_MODEL_06337acdc0a048099f75883c5a451611",
        "IPY_MODEL_23d740652e4d44ff9634a631c7d8cc83",
        "IPY_MODEL_dd78418615dd4016afd75a1745294ea5",
        "IPY_MODEL_64aca5a423424cc0ac199d7483278844"
       ],
       "layout": "IPY_MODEL_ac9deffaaa044d2c8104911fafb24a7a"
      }
     },
     "bfc1a1c5d5f048a4bf7ce71ea7999845": {
      "model_module": "@jupyter-widgets/controls",
      "model_module_version": "1.0.0",
      "model_name": "HTMLModel",
      "state": {
       "description": "Computer",
       "layout": "IPY_MODEL_38da161688bb416aac3c0dc93065e4d1",
       "style": "IPY_MODEL_0377d68e421b4c2c92f4903a1b1139d1"
      }
     },
     "c0e7a139377a4cf78ebcb5e9e3f8dff7": {
      "model_module": "@jupyter-widgets/controls",
      "model_module_version": "1.0.0",
      "model_name": "DescriptionStyleModel",
      "state": {
       "description_width": ""
      }
     },
     "c13b5405b16346d4ae5acd4b6e38596a": {
      "model_module": "@jupyter-widgets/output",
      "model_module_version": "1.0.0",
      "model_name": "OutputModel",
      "state": {
       "layout": "IPY_MODEL_6a630d6852cb40bfab9d31b90f50b6cd",
       "outputs": [
        {
         "name": "stdout",
         "output_type": "stream",
         "text": "# Last daemon state_updater check: 0h:00m:14s ago (at 12:24:29 on 2018-04-06)\nPK    Creation    State    Sched. state    Computer    Type\n----  ----------  -------  --------------  ----------  ------\n\nTotal results: 0\n\n\n"
        }
       ]
      }
     },
     "c13c7abfb7154944b8c9e835b930f74a": {
      "model_module": "@jupyter-widgets/base",
      "model_module_version": "1.0.0",
      "model_name": "LayoutModel",
      "state": {}
     },
     "c159082786d641c0a77818562c4205ac": {
      "model_module": "@jupyter-widgets/base",
      "model_module_version": "1.0.0",
      "model_name": "LayoutModel",
      "state": {}
     },
     "c29f367e609641ce997c1e8f728821c3": {
      "model_module": "@jupyter-widgets/base",
      "model_module_version": "1.0.0",
      "model_name": "LayoutModel",
      "state": {}
     },
     "c2d2b18275d24beda504a166d5f2a67d": {
      "model_module": "@jupyter-widgets/controls",
      "model_module_version": "1.0.0",
      "model_name": "ButtonStyleModel",
      "state": {}
     },
     "c3a4a31a09bd4b34a96e46c3ab944e92": {
      "model_module": "@jupyter-widgets/controls",
      "model_module_version": "1.0.0",
      "model_name": "LabelModel",
      "state": {
       "layout": "IPY_MODEL_b14814c97ff54652a6f7b8b6530f5269",
       "style": "IPY_MODEL_ab98c3498219438d86188585a1f9113e"
      }
     },
     "c3ca9642d53a4737b8a157337a95a3eb": {
      "model_module": "@jupyter-widgets/base",
      "model_module_version": "1.0.0",
      "model_name": "LayoutModel",
      "state": {}
     },
     "c3e589e0fa8e409db330236477060aa7": {
      "model_module": "@jupyter-widgets/controls",
      "model_module_version": "1.0.0",
      "model_name": "VBoxModel",
      "state": {
       "children": [
        "IPY_MODEL_51a7c033c27b4cac8dc4d45899e660e1",
        "IPY_MODEL_8c9019fe9f994b24aab7ccef431fce98",
        "IPY_MODEL_a8c19c7a2f394f18bfecc0a0b773c75d",
        "IPY_MODEL_e9cbc8c83ad54203a90156147a723d38",
        "IPY_MODEL_7fa265ca453f40b095db43dddbb6fb94"
       ],
       "layout": "IPY_MODEL_1797ba8309b1480ebf0bf9c81fad09d9"
      }
     },
     "c7c841016c924c8ebc50d07830f2e4c6": {
      "model_module": "@jupyter-widgets/controls",
      "model_module_version": "1.0.0",
      "model_name": "VBoxModel",
      "state": {
       "children": [
        "IPY_MODEL_51a7c033c27b4cac8dc4d45899e660e1",
        "IPY_MODEL_8c9019fe9f994b24aab7ccef431fce98",
        "IPY_MODEL_a8c19c7a2f394f18bfecc0a0b773c75d",
        "IPY_MODEL_e9cbc8c83ad54203a90156147a723d38",
        "IPY_MODEL_7fa265ca453f40b095db43dddbb6fb94"
       ],
       "layout": "IPY_MODEL_36e6cc1bc9084ee4b77fa563d369140f"
      }
     },
     "c7d38d7707644437b3c7901c35900794": {
      "model_module": "@jupyter-widgets/controls",
      "model_module_version": "1.0.0",
      "model_name": "DescriptionStyleModel",
      "state": {
       "description_width": ""
      }
     },
     "c80945cb85b44d12b9052d8a1207c96a": {
      "model_module": "@jupyter-widgets/base",
      "model_module_version": "1.0.0",
      "model_name": "LayoutModel",
      "state": {}
     },
     "cc00f6b4948849c195ca256dcbe3dc89": {
      "model_module": "@jupyter-widgets/base",
      "model_module_version": "1.0.0",
      "model_name": "LayoutModel",
      "state": {}
     },
     "cc49f52822d14763b7b487f20f9d3cc9": {
      "model_module": "@jupyter-widgets/controls",
      "model_module_version": "1.0.0",
      "model_name": "TextModel",
      "state": {
       "description": "verdi bin",
       "layout": "IPY_MODEL_81c05f05d1964da1bdbd71dd6047d62f",
       "style": "IPY_MODEL_d2e0682961fc4541a89fe231c02576a8",
       "value": "/Users/ricohaeuselmann/.venvwrap/matcloud-jupyter-py2/bin/verdi"
      }
     },
     "cd9d8330ca08436bba72502ce75ccc4f": {
      "model_module": "@jupyter-widgets/base",
      "model_module_version": "1.0.0",
      "model_name": "LayoutModel",
      "state": {}
     },
     "cf1efabb64e6417b846acd768f925247": {
      "model_module": "@jupyter-widgets/base",
      "model_module_version": "1.0.0",
      "model_name": "LayoutModel",
      "state": {}
     },
     "cf48fb016d2243259a299388fcc44af9": {
      "model_module": "@jupyter-widgets/output",
      "model_module_version": "1.0.0",
      "model_name": "OutputModel",
      "state": {
       "layout": "IPY_MODEL_9200a8f9c075492f8775cf0a7a258b0f"
      }
     },
     "cf4b058dfde547eca89f2416dbfc0b38": {
      "model_module": "@jupyter-widgets/controls",
      "model_module_version": "1.0.0",
      "model_name": "LabelModel",
      "state": {
       "layout": "IPY_MODEL_66b679fa9b6f4f1bad1c21cee8a9fd4e",
       "style": "IPY_MODEL_47e29bc9aaad4be891307f50dc870ece"
      }
     },
     "cf6aa6a001f74fb395890022d12c0eaf": {
      "model_module": "@jupyter-widgets/output",
      "model_module_version": "1.0.0",
      "model_name": "OutputModel",
      "state": {
       "layout": "IPY_MODEL_7c5f1923d22f4b63871b47dabecaac38",
       "outputs": [
        {
         "name": "stdout",
         "output_type": "stream",
         "text": "# Last daemon state_updater check: 0h:00m:24s ago (at 15:22:22 on 2018-04-05)\nPK    Creation    State    Sched. state    Computer    Type\n----  ----------  -------  --------------  ----------  ------\n\nTotal results: 0\n\n\n"
        }
       ]
      }
     },
     "cf86fcfa6c1c4c40b11bd6a350b886dd": {
      "model_module": "@jupyter-widgets/controls",
      "model_module_version": "1.0.0",
      "model_name": "HBoxModel",
      "state": {
       "children": [
        "IPY_MODEL_1caa01b4dc444085bd441e19140d8f84",
        "IPY_MODEL_919e787b1d1a4a538f99e346e4bac472"
       ],
       "layout": "IPY_MODEL_9c4b1136e25a4f5a8739bddd0dfb188b"
      }
     },
     "d234b4a081444aa082d50268f118c8af": {
      "model_module": "@jupyter-widgets/output",
      "model_module_version": "1.0.0",
      "model_name": "OutputModel",
      "state": {
       "layout": "IPY_MODEL_8cf689cf3f7d40cabf5ccacb2971cf5a",
       "outputs": [
        {
         "name": "stdout",
         "output_type": "stream",
         "text": "PID    Creation time    Process Label    State    Sealed\n-----  ---------------  ---------------  -------  --------\n\n"
        }
       ]
      }
     },
     "d2e0682961fc4541a89fe231c02576a8": {
      "model_module": "@jupyter-widgets/controls",
      "model_module_version": "1.0.0",
      "model_name": "DescriptionStyleModel",
      "state": {
       "description_width": ""
      }
     },
     "d34904ff20af4cc1a08ab3971c51532b": {
      "model_module": "@jupyter-widgets/controls",
      "model_module_version": "1.0.0",
      "model_name": "VBoxModel",
      "state": {
       "children": [
        "IPY_MODEL_6ec7d7ff92b840e8a2b0a78794f3b6d8",
        "IPY_MODEL_d700b1bad0be46ef83b1a7ed99fc8f18",
        "IPY_MODEL_4a28537350d34584b3b4531cf906e359",
        "IPY_MODEL_8ee9d5ba6fb447bf87f747eb45486228",
        "IPY_MODEL_ed53d5d8d9164e20bf730813467834a0",
        "IPY_MODEL_ef574c9af3fe42428fa76a21a1247344"
       ],
       "layout": "IPY_MODEL_f3d0133aac8446038486561e921e5c09"
      }
     },
     "d393c0de56c84da98c672f7c95c21539": {
      "model_module": "@jupyter-widgets/controls",
      "model_module_version": "1.0.0",
      "model_name": "DescriptionStyleModel",
      "state": {
       "description_width": ""
      }
     },
     "d4183d68414d4cdcbc4eabe8b22f8856": {
      "model_module": "@jupyter-widgets/controls",
      "model_module_version": "1.0.0",
      "model_name": "DescriptionStyleModel",
      "state": {
       "description_width": ""
      }
     },
     "d4955a199a884fa7b7200cb36b6baa40": {
      "model_module": "@jupyter-widgets/output",
      "model_module_version": "1.0.0",
      "model_name": "OutputModel",
      "state": {
       "layout": "IPY_MODEL_10e639e0c21d49e49019514a6e399092"
      }
     },
     "d50bd113b6fe426691b104856bbda9c3": {
      "model_module": "@jupyter-widgets/controls",
      "model_module_version": "1.0.0",
      "model_name": "VBoxModel",
      "state": {
       "children": [
        "IPY_MODEL_51a7c033c27b4cac8dc4d45899e660e1",
        "IPY_MODEL_8c9019fe9f994b24aab7ccef431fce98",
        "IPY_MODEL_a8c19c7a2f394f18bfecc0a0b773c75d",
        "IPY_MODEL_e9cbc8c83ad54203a90156147a723d38",
        "IPY_MODEL_7fa265ca453f40b095db43dddbb6fb94"
       ],
       "layout": "IPY_MODEL_1e557d3ee50347b8908f8682c5f9d53c"
      }
     },
     "d53378ed3a6f4e6dae956cdf99486686": {
      "model_module": "@jupyter-widgets/controls",
      "model_module_version": "1.0.0",
      "model_name": "VBoxModel",
      "state": {
       "children": [
        "IPY_MODEL_6c85e862ea6a48f5a9709c6dd9532d87",
        "IPY_MODEL_53aa585c21f34b66afd43ed703743a0f",
        "IPY_MODEL_d615f01d5f1c4ef48f115e8d8b452638",
        "IPY_MODEL_0e64a983c2d74b27a69289c51e5de01b",
        "IPY_MODEL_125532b7d2b14146a312150d177e80ec"
       ],
       "layout": "IPY_MODEL_bed7a4bbfa22465c971ce867bd1269d9"
      }
     },
     "d558746de9d247c5ae2d33ea60e1fc24": {
      "model_module": "@jupyter-widgets/controls",
      "model_module_version": "1.0.0",
      "model_name": "HBoxModel",
      "state": {
       "children": [
        "IPY_MODEL_e04539ea84b44eb0b150effb93b6e91c",
        "IPY_MODEL_dc8c00288bff482a95a3347538be09c1"
       ],
       "layout": "IPY_MODEL_3712826b00734081bd2e95e66b262452"
      }
     },
     "d560c69550964a94bbcf0c6879a701ec": {
      "model_module": "@jupyter-widgets/controls",
      "model_module_version": "1.0.0",
      "model_name": "DescriptionStyleModel",
      "state": {
       "description_width": ""
      }
     },
     "d59963211f274b20aabd1da2d304f76a": {
      "model_module": "@jupyter-widgets/base",
      "model_module_version": "1.0.0",
      "model_name": "LayoutModel",
      "state": {}
     },
     "d5cee598d2e348e6ad673a386641d163": {
      "model_module": "@jupyter-widgets/controls",
      "model_module_version": "1.0.0",
      "model_name": "DescriptionStyleModel",
      "state": {
       "description_width": ""
      }
     },
     "d615f01d5f1c4ef48f115e8d8b452638": {
      "model_module": "@jupyter-widgets/controls",
      "model_module_version": "1.0.0",
      "model_name": "HTMLModel",
      "state": {
       "description": "State",
       "layout": "IPY_MODEL_52c4a4654ba74b3db8bdc00c362076b7",
       "style": "IPY_MODEL_1a026cbae1964ffea46224bfa09289e8",
       "value": "Finished OK"
      }
     },
     "d6c321181c414871bb7983134e85d329": {
      "model_module": "@jupyter-widgets/controls",
      "model_module_version": "1.0.0",
      "model_name": "HTMLModel",
      "state": {
       "description": "Runtime",
       "layout": "IPY_MODEL_4f95dab88ac74ce29b77b6b8de28ccdb",
       "style": "IPY_MODEL_03933fa5e9854046a72f6b02210f706c"
      }
     },
     "d700b1bad0be46ef83b1a7ed99fc8f18": {
      "model_module": "@jupyter-widgets/output",
      "model_module_version": "1.0.0",
      "model_name": "OutputModel",
      "state": {
       "layout": "IPY_MODEL_752860c9e4534872917775809ca8e650",
       "outputs": [
        {
         "name": "stdout",
         "output_type": "stream",
         "text": "PID    Creation time    Process Label    State    Sealed\n-----  ---------------  ---------------  -------  --------\n\n"
        }
       ]
      }
     },
     "d75a4847ed0445408b7cc090449cb833": {
      "model_module": "@jupyter-widgets/controls",
      "model_module_version": "1.0.0",
      "model_name": "DescriptionStyleModel",
      "state": {
       "description_width": ""
      }
     },
     "d80384bc46e446dfb59062ae8cae5120": {
      "model_module": "@jupyter-widgets/base",
      "model_module_version": "1.0.0",
      "model_name": "LayoutModel",
      "state": {}
     },
     "d8eaf7b8a5224a7b8222123c066d20de": {
      "model_module": "@jupyter-widgets/base",
      "model_module_version": "1.0.0",
      "model_name": "LayoutModel",
      "state": {}
     },
     "d8fb100e135340b79081b49c8601b22e": {
      "model_module": "@jupyter-widgets/output",
      "model_module_version": "1.0.0",
      "model_name": "OutputModel",
      "state": {
       "layout": "IPY_MODEL_43b4c3546d2a4b9cba0f33911e72949b",
       "outputs": [
        {
         "name": "stdout",
         "output_type": "stream",
         "text": "PID    Creation time    Process Label    State    Sealed\n-----  ---------------  ---------------  -------  --------\n\n"
        }
       ]
      }
     },
     "d8fb381c84d949e78dbd83944d05d040": {
      "model_module": "@jupyter-widgets/base",
      "model_module_version": "1.0.0",
      "model_name": "LayoutModel",
      "state": {}
     },
     "da63ce0fa0574f88a9b02cb99d2330fa": {
      "model_module": "@jupyter-widgets/base",
      "model_module_version": "1.0.0",
      "model_name": "LayoutModel",
      "state": {}
     },
     "dc8c00288bff482a95a3347538be09c1": {
      "model_module": "@jupyter-widgets/output",
      "model_module_version": "1.0.0",
      "model_name": "OutputModel",
      "state": {
       "layout": "IPY_MODEL_8d28fc866ea341439526a3aac1a43fd2"
      }
     },
     "dd65d23d230d4b488dc94faf0dddb006": {
      "model_module": "@jupyter-widgets/base",
      "model_module_version": "1.0.0",
      "model_name": "LayoutModel",
      "state": {}
     },
     "dd78418615dd4016afd75a1745294ea5": {
      "model_module": "@jupyter-widgets/output",
      "model_module_version": "1.0.0",
      "model_name": "OutputModel",
      "state": {
       "layout": "IPY_MODEL_48520ae000cc4c449b77d62c6ea7bc0e"
      }
     },
     "dea025b6a01b4c598e25be9f7d3fafec": {
      "model_module": "@jupyter-widgets/base",
      "model_module_version": "1.0.0",
      "model_name": "LayoutModel",
      "state": {}
     },
     "e04539ea84b44eb0b150effb93b6e91c": {
      "model_module": "@jupyter-widgets/controls",
      "model_module_version": "1.0.0",
      "model_name": "VBoxModel",
      "state": {
       "children": [
        "IPY_MODEL_b00624a95c114892be8d2d672eaae0a0",
        "IPY_MODEL_efb7d7e3cba440bfa68a7bf1eacafea2",
        "IPY_MODEL_1877a085d81b4c04af84ad3e00242299",
        "IPY_MODEL_b371b11d146a4060b5880de16927f4d9",
        "IPY_MODEL_97a051b16d9f4799af81456c6fba5cfe"
       ],
       "layout": "IPY_MODEL_a94545e158ba46159a82a41dd42c2845"
      }
     },
     "e07f9a761dfe483090a31b74cfde8913": {
      "model_module": "@jupyter-widgets/output",
      "model_module_version": "1.0.0",
      "model_name": "OutputModel",
      "state": {
       "layout": "IPY_MODEL_c3ca9642d53a4737b8a157337a95a3eb",
       "outputs": [
        {
         "name": "stdout",
         "output_type": "stream",
         "text": "PID    Creation time    Process Label    State    Sealed\n-----  ---------------  ---------------  -------  --------\n\n"
        }
       ]
      }
     },
     "e3238fd3a9bc46ba995668b931b0db92": {
      "model_module": "@jupyter-widgets/base",
      "model_module_version": "1.0.0",
      "model_name": "LayoutModel",
      "state": {}
     },
     "e5d852ba2793469da9517e2a5f723c26": {
      "model_module": "@jupyter-widgets/controls",
      "model_module_version": "1.0.0",
      "model_name": "HBoxModel",
      "state": {
       "children": [
        "IPY_MODEL_52dabacc3b0145edb5039bbc71d5c1bb",
        "IPY_MODEL_ee39e59d51074c60a69c0a5d9b143da5"
       ],
       "layout": "IPY_MODEL_87b95bca60464db99a5bb410ffb20eec"
      }
     },
     "e6043aad241d49b894e6614dc5a6910f": {
      "model_module": "@jupyter-widgets/base",
      "model_module_version": "1.0.0",
      "model_name": "LayoutModel",
      "state": {}
     },
     "e629dc851368492da155d2fe178bfe6a": {
      "model_module": "@jupyter-widgets/controls",
      "model_module_version": "1.0.0",
      "model_name": "VBoxModel",
      "state": {
       "children": [
        "IPY_MODEL_89dadf7347a448f1a939128d8e2d1d81",
        "IPY_MODEL_53f67f1a79ad476ebdd8f1d227f8f49d",
        "IPY_MODEL_bb7a14121cc149afab4f690cede07207",
        "IPY_MODEL_919e787b1d1a4a538f99e346e4bac472"
       ],
       "layout": "IPY_MODEL_4bd6eaf707e14a288b370ad3fe3b3269"
      }
     },
     "e6a2baa4658f429dbc25d046372bf19d": {
      "model_module": "@jupyter-widgets/controls",
      "model_module_version": "1.0.0",
      "model_name": "HTMLModel",
      "state": {
       "description": "Computer",
       "layout": "IPY_MODEL_adeda34039de42278b0bd83b2513925e",
       "style": "IPY_MODEL_d75a4847ed0445408b7cc090449cb833",
       "value": "theospc"
      }
     },
     "e89b3cd74ea345ed82d79fb6257e5177": {
      "model_module": "@jupyter-widgets/controls",
      "model_module_version": "1.0.0",
      "model_name": "VBoxModel",
      "state": {
       "children": [
        "IPY_MODEL_8be6aef146ce40bcb0c8bf8e15286ed3",
        "IPY_MODEL_d700b1bad0be46ef83b1a7ed99fc8f18",
        "IPY_MODEL_cf4b058dfde547eca89f2416dbfc0b38",
        "IPY_MODEL_8ee9d5ba6fb447bf87f747eb45486228",
        "IPY_MODEL_ed53d5d8d9164e20bf730813467834a0",
        "IPY_MODEL_ef574c9af3fe42428fa76a21a1247344"
       ],
       "layout": "IPY_MODEL_695b1b8eacda442eab716747b557aa49"
      }
     },
     "e96ecdefcc224bb9bc2ae425e2e4d827": {
      "model_module": "@jupyter-widgets/base",
      "model_module_version": "1.0.0",
      "model_name": "LayoutModel",
      "state": {}
     },
     "e9c5b8ec51f9477882e67fe104e0ecf9": {
      "model_module": "@jupyter-widgets/base",
      "model_module_version": "1.0.0",
      "model_name": "LayoutModel",
      "state": {}
     },
     "e9cbc8c83ad54203a90156147a723d38": {
      "model_module": "@jupyter-widgets/controls",
      "model_module_version": "1.0.0",
      "model_name": "HTMLModel",
      "state": {
       "description": "Runtime",
       "layout": "IPY_MODEL_2035eb52513045d9a1b948b01b09faaa",
       "style": "IPY_MODEL_70d309ef88424104a2c4a276df3aadcc",
       "value": "N/A sec"
      }
     },
     "eaef155d71de40ab8c468fc66e5eab90": {
      "model_module": "@jupyter-widgets/output",
      "model_module_version": "1.0.0",
      "model_name": "OutputModel",
      "state": {
       "layout": "IPY_MODEL_a25eef10e92b4bbcaa2267135d6642c6"
      }
     },
     "eb2e5525e89f4d8991214c049352a4b9": {
      "model_module": "@jupyter-widgets/controls",
      "model_module_version": "1.0.0",
      "model_name": "DescriptionStyleModel",
      "state": {
       "description_width": ""
      }
     },
     "eb532436cd7f4f418a23845e708a293e": {
      "model_module": "@jupyter-widgets/controls",
      "model_module_version": "1.0.0",
      "model_name": "HTMLModel",
      "state": {
       "description": "Computer",
       "layout": "IPY_MODEL_5def1f7dff444be4ac7b4e6dbfed77a7",
       "style": "IPY_MODEL_7bf28c22c4e446188146dcda0fadd096"
      }
     },
     "eb5ecb53860c41948c31460816ce02a0": {
      "model_module": "@jupyter-widgets/controls",
      "model_module_version": "1.0.0",
      "model_name": "LabelModel",
      "state": {
       "layout": "IPY_MODEL_5758f99a0d5d494886916a9f13e26def",
       "style": "IPY_MODEL_45b47a83fbe94b67abcb5b3d522211cc"
      }
     },
     "ec13d015584343b98b0c9ce07d498d6a": {
      "model_module": "@jupyter-widgets/controls",
      "model_module_version": "1.0.0",
      "model_name": "DescriptionStyleModel",
      "state": {
       "description_width": ""
      }
     },
     "ec5f1f03b7994a8aa58dbc70af2061f2": {
      "model_module": "@jupyter-widgets/base",
      "model_module_version": "1.0.0",
      "model_name": "LayoutModel",
      "state": {}
     },
     "ec713dc3045b4d1e9de3a7b203cb59e6": {
      "model_module": "@jupyter-widgets/controls",
      "model_module_version": "1.0.0",
      "model_name": "TextModel",
      "state": {
       "description": "verdi bin",
       "layout": "IPY_MODEL_8c36bbe8e8c44b9ab902d4fc8bafcd69",
       "style": "IPY_MODEL_00767851207544c9a31b06e4e7f7cabf",
       "value": "/Users/ricohaeuselmann/.venvwrap/matcloud-jupyter-py2/bin/verdi"
      }
     },
     "ec83818f5c604380bc87618f9a3bb572": {
      "model_module": "@jupyter-widgets/controls",
      "model_module_version": "1.0.0",
      "model_name": "LabelModel",
      "state": {
       "layout": "IPY_MODEL_9b317d023b5b4b78ab7f5f5a597d9ee3",
       "style": "IPY_MODEL_b45beb8d9aa44f039a5f8c5a9e34d882"
      }
     },
     "ec93e71fc556443ea17ccf604f65da70": {
      "model_module": "@jupyter-widgets/controls",
      "model_module_version": "1.0.0",
      "model_name": "TextModel",
      "state": {
       "description": "verdi bin",
       "layout": "IPY_MODEL_124e968675c74b48a18ef5f8d4c8dd27",
       "style": "IPY_MODEL_06ab942c851b4dc3a2fd36c608473cdb",
       "value": "/Users/ricohaeuselmann/.venvwrap/matcloud-jupyter-py2/bin/verdi"
      }
     },
     "ed53d5d8d9164e20bf730813467834a0": {
      "model_module": "@jupyter-widgets/controls",
      "model_module_version": "1.0.0",
      "model_name": "ButtonModel",
      "state": {
       "description": "Check ",
       "layout": "IPY_MODEL_e3238fd3a9bc46ba995668b931b0db92",
       "style": "IPY_MODEL_2082693ac5b541958b83ece9818b5b48"
      }
     },
     "ed74056fd6ab41bfbf1af35b94b774ad": {
      "model_module": "@jupyter-widgets/controls",
      "model_module_version": "1.0.0",
      "model_name": "HBoxModel",
      "state": {
       "children": [
        "IPY_MODEL_a9e72d91fff5421d9387ce3b9ead7153",
        "IPY_MODEL_8cf04021742e4f84aabfc0928cfe931c"
       ],
       "layout": "IPY_MODEL_b6c3f8b3a4644e9bb2639aa0adb62329"
      }
     },
     "ee39e59d51074c60a69c0a5d9b143da5": {
      "model_module": "@jupyter-widgets/output",
      "model_module_version": "1.0.0",
      "model_name": "OutputModel",
      "state": {
       "layout": "IPY_MODEL_b34675a1d20a4d7b911c59aabac334cc"
      }
     },
     "ef574c9af3fe42428fa76a21a1247344": {
      "model_module": "@jupyter-widgets/output",
      "model_module_version": "1.0.0",
      "model_name": "OutputModel",
      "state": {
       "layout": "IPY_MODEL_e9c5b8ec51f9477882e67fe104e0ecf9",
       "outputs": [
        {
         "ename": "TypeError",
         "evalue": "3112 Is not a WorkCalculation",
         "output_type": "error",
         "traceback": [
          "\u001b[0;31m---------------------------------------------------------------------------\u001b[0m",
          "\u001b[0;31mTypeError\u001b[0m                                 Traceback (most recent call last)",
          "\u001b[0;32m<ipython-input-36-45f08d9c7fdd>\u001b[0m in \u001b[0;36mdecorated\u001b[0;34m(*args, **kwargs)\u001b[0m\n\u001b[1;32m      5\u001b[0m             \u001b[0mresult\u001b[0m \u001b[0;34m=\u001b[0m \u001b[0;34m{\u001b[0m\u001b[0;34m}\u001b[0m\u001b[0;34m\u001b[0m\u001b[0m\n\u001b[1;32m      6\u001b[0m             \u001b[0;32mwith\u001b[0m \u001b[0moutput_widget\u001b[0m\u001b[0;34m:\u001b[0m\u001b[0;34m\u001b[0m\u001b[0m\n\u001b[0;32m----> 7\u001b[0;31m                 \u001b[0mresult\u001b[0m \u001b[0;34m=\u001b[0m \u001b[0mfunc\u001b[0m\u001b[0;34m(\u001b[0m\u001b[0;34m*\u001b[0m\u001b[0margs\u001b[0m\u001b[0;34m,\u001b[0m \u001b[0;34m**\u001b[0m\u001b[0mkwargs\u001b[0m\u001b[0;34m)\u001b[0m\u001b[0;34m\u001b[0m\u001b[0m\n\u001b[0m\u001b[1;32m      8\u001b[0m             \u001b[0;32mreturn\u001b[0m \u001b[0mresult\u001b[0m\u001b[0;34m\u001b[0m\u001b[0m\n\u001b[1;32m      9\u001b[0m         \u001b[0;32mreturn\u001b[0m \u001b[0mdecorated\u001b[0m\u001b[0;34m\u001b[0m\u001b[0m\n",
          "\u001b[0;32m<ipython-input-40-8d9020e7ab91>\u001b[0m in \u001b[0;36mget_workchain_info\u001b[0;34m(pk)\u001b[0m\n\u001b[1;32m     23\u001b[0m             \u001b[0mstate\u001b[0m \u001b[0;34m=\u001b[0m \u001b[0;34m'Running'\u001b[0m\u001b[0;34m\u001b[0m\u001b[0m\n\u001b[1;32m     24\u001b[0m     \u001b[0;32mexcept\u001b[0m \u001b[0mAttributeError\u001b[0m \u001b[0;32mas\u001b[0m \u001b[0merr\u001b[0m\u001b[0;34m:\u001b[0m\u001b[0;34m\u001b[0m\u001b[0m\n\u001b[0;32m---> 25\u001b[0;31m         \u001b[0;32mraise\u001b[0m \u001b[0mTypeError\u001b[0m\u001b[0;34m(\u001b[0m\u001b[0;34m'{} Is not a WorkCalculation'\u001b[0m\u001b[0;34m.\u001b[0m\u001b[0mformat\u001b[0m\u001b[0;34m(\u001b[0m\u001b[0mpk\u001b[0m\u001b[0;34m)\u001b[0m\u001b[0;34m)\u001b[0m\u001b[0;34m\u001b[0m\u001b[0m\n\u001b[0m\u001b[1;32m     26\u001b[0m \u001b[0;34m\u001b[0m\u001b[0m\n\u001b[1;32m     27\u001b[0m     \u001b[0;32mif\u001b[0m \u001b[0mstate\u001b[0m \u001b[0;34m!=\u001b[0m \u001b[0;34m'N/A'\u001b[0m\u001b[0;34m:\u001b[0m\u001b[0;34m\u001b[0m\u001b[0m\n",
          "\u001b[0;31mTypeError\u001b[0m: 3112 Is not a WorkCalculation"
         ]
        }
       ]
      }
     },
     "efb7d7e3cba440bfa68a7bf1eacafea2": {
      "model_module": "@jupyter-widgets/controls",
      "model_module_version": "1.0.0",
      "model_name": "HTMLModel",
      "state": {
       "description": "Computer",
       "layout": "IPY_MODEL_47467b785eec418c8b992e8a69c13964",
       "style": "IPY_MODEL_7cff466be0b94197b4ac87c2a41cf258"
      }
     },
     "efeb49ed42664496aff99de88d6870af": {
      "model_module": "@jupyter-widgets/controls",
      "model_module_version": "1.0.0",
      "model_name": "ButtonStyleModel",
      "state": {}
     },
     "f031bd627f254692965484eae9dee75e": {
      "model_module": "@jupyter-widgets/controls",
      "model_module_version": "1.0.0",
      "model_name": "DescriptionStyleModel",
      "state": {
       "description_width": ""
      }
     },
     "f082f14726f049e5968908171bc1ed50": {
      "model_module": "@jupyter-widgets/controls",
      "model_module_version": "1.0.0",
      "model_name": "HTMLModel",
      "state": {
       "description": "Runtime",
       "layout": "IPY_MODEL_b873965b1c2a47b1acf87de37cb05afa",
       "style": "IPY_MODEL_63eb5fd0751149b99e10bc2b0f979092"
      }
     },
     "f0f926e008f7495a8efcb76819c8bca3": {
      "model_module": "@jupyter-widgets/controls",
      "model_module_version": "1.0.0",
      "model_name": "ButtonStyleModel",
      "state": {}
     },
     "f196e85e9177454ead23bc93cd9d0aad": {
      "model_module": "@jupyter-widgets/controls",
      "model_module_version": "1.0.0",
      "model_name": "IntTextModel",
      "state": {
       "description": "Workchain",
       "layout": "IPY_MODEL_a84468fccf8141a09cee34f79c5add92",
       "step": 1,
       "style": "IPY_MODEL_12559757f1d24b9c839c10fdcaf089c1",
       "value": 3282
      }
     },
     "f28f38fd27c143d5a3dde4fe6edef45e": {
      "model_module": "@jupyter-widgets/controls",
      "model_module_version": "1.0.0",
      "model_name": "ButtonStyleModel",
      "state": {}
     },
     "f3d0133aac8446038486561e921e5c09": {
      "model_module": "@jupyter-widgets/base",
      "model_module_version": "1.0.0",
      "model_name": "LayoutModel",
      "state": {}
     },
     "f5916d5faebf44bdbc52324e49cf27c0": {
      "model_module": "@jupyter-widgets/output",
      "model_module_version": "1.0.0",
      "model_name": "OutputModel",
      "state": {
       "layout": "IPY_MODEL_1673f0210bc24899926dae845226cd64"
      }
     },
     "f61fb43883084c3f909aabdae034a2e3": {
      "model_module": "@jupyter-widgets/controls",
      "model_module_version": "1.0.0",
      "model_name": "HTMLModel",
      "state": {
       "description": "State",
       "layout": "IPY_MODEL_cc00f6b4948849c195ca256dcbe3dc89",
       "style": "IPY_MODEL_007d39bbb9e546a7ad7823420644ebff"
      }
     },
     "f6d7775190e449438eeca32108e302e1": {
      "model_module": "@jupyter-widgets/base",
      "model_module_version": "1.0.0",
      "model_name": "LayoutModel",
      "state": {}
     },
     "f889da8138ca405bb1861dd91dbf3fca": {
      "model_module": "@jupyter-widgets/base",
      "model_module_version": "1.0.0",
      "model_name": "LayoutModel",
      "state": {}
     },
     "f9a473971e26430798c199b5f9c2fb66": {
      "model_module": "@jupyter-widgets/controls",
      "model_module_version": "1.0.0",
      "model_name": "DescriptionStyleModel",
      "state": {
       "description_width": ""
      }
     },
     "fbe15e07211040ce8435f43e638e2307": {
      "model_module": "@jupyter-widgets/base",
      "model_module_version": "1.0.0",
      "model_name": "LayoutModel",
      "state": {}
     },
     "fc2ae9bb2498431ca6b84a02cca1be4b": {
      "model_module": "@jupyter-widgets/controls",
      "model_module_version": "1.0.0",
      "model_name": "ButtonStyleModel",
      "state": {}
     },
     "fc9110860787401cb977b71c64272bf4": {
      "model_module": "@jupyter-widgets/controls",
      "model_module_version": "1.0.0",
      "model_name": "DescriptionStyleModel",
      "state": {
       "description_width": ""
      }
     },
     "fce32697323c47feaf0b21126f93ff16": {
      "model_module": "@jupyter-widgets/controls",
      "model_module_version": "1.0.0",
      "model_name": "HBoxModel",
      "state": {
       "children": [
        "IPY_MODEL_285972cc069644739ca2711d7ce18dc0",
        "IPY_MODEL_8cf04021742e4f84aabfc0928cfe931c"
       ],
       "layout": "IPY_MODEL_8f145300fa8b4cbdb214ab92869d26f3"
      }
     },
     "fcea1ee61a9c434aa343b9e0852564b4": {
      "model_module": "@jupyter-widgets/controls",
      "model_module_version": "1.0.0",
      "model_name": "VBoxModel",
      "state": {
       "children": [
        "IPY_MODEL_8636bb73e3c748e39f52adea86c6ccf6",
        "IPY_MODEL_d700b1bad0be46ef83b1a7ed99fc8f18",
        "IPY_MODEL_3ed6026ca62b40ac8641a21a90352bb1",
        "IPY_MODEL_8ee9d5ba6fb447bf87f747eb45486228",
        "IPY_MODEL_ed53d5d8d9164e20bf730813467834a0"
       ],
       "layout": "IPY_MODEL_9ca8eab74aa243fbbe38dd725c200652"
      }
     },
     "fcf1b57d46ec4ba2832b01a15e669117": {
      "model_module": "@jupyter-widgets/base",
      "model_module_version": "1.0.0",
      "model_name": "LayoutModel",
      "state": {}
     },
     "fe5fa60524114f6f83a6d00b2ad96fee": {
      "model_module": "@jupyter-widgets/base",
      "model_module_version": "1.0.0",
      "model_name": "LayoutModel",
      "state": {}
     },
     "ff6c93bd77dc4253b81ca945804318bc": {
      "model_module": "@jupyter-widgets/base",
      "model_module_version": "1.0.0",
      "model_name": "LayoutModel",
      "state": {}
     },
     "ffaa460408b04ee3a665a0dc8d10c14d": {
      "model_module": "@jupyter-widgets/controls",
      "model_module_version": "1.0.0",
      "model_name": "HBoxModel",
      "state": {
       "children": [
        "IPY_MODEL_d53378ed3a6f4e6dae956cdf99486686",
        "IPY_MODEL_6cfe62d0c43440d083b3c16cfa206004"
       ],
       "layout": "IPY_MODEL_752b3ff8d5e848f4818ec17aac04b7bb"
      }
     },
     "ffd016fa12f3495ba78362dec4c2b9c0": {
      "model_module": "@jupyter-widgets/base",
      "model_module_version": "1.0.0",
      "model_name": "LayoutModel",
      "state": {}
     }
    },
    "version_major": 2,
    "version_minor": 0
   }
  }
 },
 "nbformat": 4,
 "nbformat_minor": 2
}
