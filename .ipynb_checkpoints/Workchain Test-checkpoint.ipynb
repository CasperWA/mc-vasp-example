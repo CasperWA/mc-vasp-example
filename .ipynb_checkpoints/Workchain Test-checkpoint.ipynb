{
 "cells": [
  {
   "cell_type": "code",
   "execution_count": 1,
   "metadata": {},
   "outputs": [],
   "source": [
    "def submit_test_wf(blocking=False, sleeptime=30):\n",
    "    from aiida.orm import DataFactory, WorkflowFactory\n",
    "    from aiida.work import submit, run\n",
    "    from aiida.work.db_types import Int\n",
    "    st_cls = DataFactory('structure')\n",
    "    STRUCTURE_QUERY = st_cls.querybuild()\n",
    "    STRUCTURE = STRUCTURE_QUERY.first()[0]\n",
    "    TestWorkflow = WorkflowFactory('mc-vasp.test')\n",
    "    if blocking:\n",
    "        return run(TestWorkflow, structure=STRUCTURE, sleeptime=Int(sleeptime))\n",
    "    else:\n",
    "        running = submit(TestWorkflow, structure=STRUCTURE, sleeptime=Int(sleeptime))\n",
    "        return running"
   ]
  },
  {
   "cell_type": "code",
   "execution_count": 4,
   "metadata": {},
   "outputs": [],
   "source": [
    "from mc_vasp_example import vasp_example as vex\n",
    "vex.load_dbenv_if_not_loaded()\n",
    "from aiida.work import WorkChain, submit, run\n",
    "from aiida.work.db_types import Str\n",
    "from aiida.orm import load_node\n",
    "\n",
    "class Minimal(WorkChain):\n",
    "    @classmethod\n",
    "    def define(cls, spec):\n",
    "        super(Minimal, cls).define(spec)\n",
    "        spec.outline(\n",
    "            cls.run\n",
    "        )\n",
    "        spec.output('message', valid_type=Str)\n",
    "        \n",
    "    def run(self):\n",
    "        self.out('message', 'Hello World')"
   ]
  },
  {
   "cell_type": "code",
   "execution_count": 5,
   "metadata": {},
   "outputs": [],
   "source": [
    "wc = load_node(submit(Minimal).pid)"
   ]
  },
  {
   "cell_type": "code",
   "execution_count": 8,
   "metadata": {},
   "outputs": [
    {
     "data": {
      "text/plain": [
       "(False, True, False)"
      ]
     },
     "execution_count": 8,
     "metadata": {},
     "output_type": "execute_result"
    }
   ],
   "source": [
    "wc.has_aborted(), wc.has_failed(), wc.has_finished_ok()"
   ]
  },
  {
   "cell_type": "code",
   "execution_count": 5,
   "metadata": {},
   "outputs": [],
   "source": [
    "running = submit_test_wf(blocking=False)"
   ]
  },
  {
   "cell_type": "code",
   "execution_count": 6,
   "metadata": {},
   "outputs": [
    {
     "data": {
      "text/plain": [
       "2707"
      ]
     },
     "execution_count": 6,
     "metadata": {},
     "output_type": "execute_result"
    }
   ],
   "source": [
    "running.pid"
   ]
  },
  {
   "cell_type": "code",
   "execution_count": 15,
   "metadata": {},
   "outputs": [],
   "source": [
    "wc = load_node(2760)"
   ]
  },
  {
   "cell_type": "code",
   "execution_count": 17,
   "metadata": {},
   "outputs": [
    {
     "data": {
      "text/plain": [
       "{u'parser_settings': {u'add_bands': True, u'add_dos': True}}"
      ]
     },
     "execution_count": 17,
     "metadata": {},
     "output_type": "execute_result"
    }
   ],
   "source": [
    "wc.inp.settings.get_dict()"
   ]
  },
  {
   "cell_type": "code",
   "execution_count": null,
   "metadata": {},
   "outputs": [],
   "source": []
  }
 ],
 "metadata": {
  "kernelspec": {
   "display_name": "Python 2",
   "language": "python",
   "name": "python2"
  },
  "language_info": {
   "codemirror_mode": {
    "name": "ipython",
    "version": 2
   },
   "file_extension": ".py",
   "mimetype": "text/x-python",
   "name": "python",
   "nbconvert_exporter": "python",
   "pygments_lexer": "ipython2",
   "version": "2.7.14"
  }
 },
 "nbformat": 4,
 "nbformat_minor": 2
}
