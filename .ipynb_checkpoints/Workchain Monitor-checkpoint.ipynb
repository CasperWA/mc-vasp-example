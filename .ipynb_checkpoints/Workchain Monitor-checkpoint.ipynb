{
 "cells": [
  {
   "cell_type": "code",
   "execution_count": 1,
   "metadata": {},
   "outputs": [],
   "source": [
    "import ipywidgets as ipw\n",
    "from IPython.display import display"
   ]
  },
  {
   "cell_type": "code",
   "execution_count": 2,
   "metadata": {},
   "outputs": [],
   "source": [
    "WORKCHAIN_PK = ipw.IntText(description='Workchain')"
   ]
  },
  {
   "cell_type": "code",
   "execution_count": 3,
   "metadata": {},
   "outputs": [],
   "source": [
    "VERDI_BIN = ipw.Text(description='verdi bin', default='verdi')"
   ]
  },
  {
   "cell_type": "code",
   "execution_count": 4,
   "metadata": {},
   "outputs": [],
   "source": [
    "CHECK = ipw.Button(description='Check')\n",
    "CHECK = ipw.Button(description='Check ')"
   ]
  },
  {
   "cell_type": "code",
   "execution_count": 5,
   "metadata": {},
   "outputs": [],
   "source": [
    "STATE = ipw.Text(description='State', disabled=True)"
   ]
  },
  {
   "cell_type": "code",
   "execution_count": 6,
   "metadata": {},
   "outputs": [],
   "source": [
    "RUNTIME = ipw.Text(description='Runtime', disabled=True)"
   ]
  },
  {
   "cell_type": "code",
   "execution_count": 7,
   "metadata": {},
   "outputs": [],
   "source": [
    "TREE = ipw.Textarea(description='Tree', disabled=True)"
   ]
  },
  {
   "cell_type": "code",
   "execution_count": 8,
   "metadata": {},
   "outputs": [],
   "source": [
    "def get_workchain_info(pk):\n",
    "    from mc_vasp_example import vasp_example as vex\n",
    "    vex.load_dbenv_if_not_loaded()\n",
    "    from aiida.orm import load_node\n",
    "    from aiida.utils.timezone import now\n",
    "    \n",
    "    state = 'N/A'\n",
    "    wc = load_node(pk)\n",
    "    end_time = now()\n",
    "    if wc.has_finished():\n",
    "        state = 'Finished'\n",
    "        end_time = wc.mtime\n",
    "        if wc.has_finished_ok():\n",
    "            state = 'Finished OK'\n",
    "        elif wc.has_failed():\n",
    "            state = 'Failed'\n",
    "        elif wc.has_aborted():\n",
    "            state = 'Aborted'\n",
    "    else:\n",
    "        state = 'Running'\n",
    "    \n",
    "    runtime_delta = end_time - wc.ctime\n",
    "    runtime = runtime_delta.total_seconds()\n",
    "    \n",
    "    return state, runtime\n",
    "\n",
    "def get_workchain_tree(pk, verdi_bin='verdi'):\n",
    "    import subprocess as sp\n",
    "    return sp.check_output([verdi_bin, 'work', 'tree', str(pk)])\n",
    "\n",
    "def check_workchain(pk_button):\n",
    "    global WORKCHAIN_PK, VERDI_BIN, STATE, RUNTIME, TREE\n",
    "    \n",
    "    state, runtime = get_workchain_info(WORKCHAIN_PK.value)\n",
    "    STATE.value = state\n",
    "    RUNTIME.value = '{} sec'.format(runtime)\n",
    "    TREE.value = get_workchain_tree(WORKCHAIN_PK.value, verdi_bin=VERDI_BIN.value)\n",
    "    \n",
    "CHECK.on_click(check_workchain)"
   ]
  },
  {
   "cell_type": "code",
   "execution_count": 9,
   "metadata": {},
   "outputs": [
    {
     "data": {
      "application/vnd.jupyter.widget-view+json": {
       "model_id": "9ae69235ade64ec98eb6a33f2988477a",
       "version_major": 2,
       "version_minor": 0
      },
      "text/plain": [
       "A Jupyter Widget"
      ]
     },
     "metadata": {},
     "output_type": "display_data"
    }
   ],
   "source": [
    "display(ipw.VBox([\n",
    "    VERDI_BIN,\n",
    "    WORKCHAIN_PK,\n",
    "    STATE,\n",
    "    RUNTIME,\n",
    "    TREE,\n",
    "    CHECK\n",
    "]))"
   ]
  },
  {
   "cell_type": "code",
   "execution_count": 10,
   "metadata": {},
   "outputs": [
    {
     "name": "stdout",
     "output_type": "stream",
     "text": [
      "  PID  Creation time                     Process Label    State     Sealed\r\n",
      "-----  --------------------------------  ---------------  --------  --------\r\n",
      " 2663  2018-04-03 10:34:53.909221+00:00  TestWorkflow     FAILED    True\r\n",
      " 2665  2018-04-03 10:42:33.933791+00:00  TestWorkflow     FINISHED  True\r\n",
      " 2666  2018-04-03 10:43:04.017738+00:00  seekpath         FINISHED  True\r\n",
      " 2672  2018-04-03 10:43:27.071398+00:00  TestWorkflow     FINISHED  True\r\n",
      " 2673  2018-04-03 10:43:57.159315+00:00  seekpath         FINISHED  True\r\n",
      " 2679  2018-04-03 10:44:18.165568+00:00  TestWorkflow     FINISHED  True\r\n",
      " 2680  2018-04-03 10:44:48.244966+00:00  seekpath         FINISHED  True\r\n",
      " 2686  2018-04-03 10:45:37.012254+00:00  TestWorkflow     FAILED    True\r\n",
      " 2688  2018-04-03 10:49:15.117645+00:00  TestWorkflow     FAILED    True\r\n",
      " 2689  2018-04-03 10:53:55.563586+00:00  Minimal          FAILED    True\r\n",
      " 2690  2018-04-03 10:54:10.165590+00:00  Minimal          FAILED    True\r\n",
      " 2691  2018-04-03 10:56:42.407470+00:00  Minimal          FAILED    True\r\n",
      " 2693  2018-04-03 11:02:01.172687+00:00  ParentWorkChain  FAILED    True\r\n",
      " 2695  2018-04-03 11:03:56.860897+00:00  ParentWorkChain  FAILED    True\r\n",
      " 2696  2018-04-03 11:03:56.899137+00:00  SubWorkChain     FAILED    True\r\n",
      " 2698  2018-04-03 11:45:54.211033+00:00  TestWorkflow     FAILED    True\r\n",
      " 2700  2018-04-03 11:47:06.772582+00:00  TestWorkflow     FINISHED  True\r\n",
      " 2701  2018-04-03 11:48:06.863688+00:00  seekpath         FINISHED  True\r\n",
      " 2707  2018-04-03 14:50:40.085477+00:00  TestWorkflow     FAILED    True\r\n",
      " 2713  2018-04-03 15:43:29.621523+00:00  ExampleWorkflow  FAILED    True\r\n",
      " 2718  2018-04-03 15:47:29.000587+00:00  ExampleWorkflow  FAILED    True\r\n",
      " 2723  2018-04-03 15:49:00.025780+00:00  ExampleWorkflow  FAILED    True\r\n",
      " 2728  2018-04-03 15:49:42.003403+00:00  ExampleWorkflow  FAILED    True\r\n",
      " 2733  2018-04-03 16:02:32.797159+00:00  ExampleWorkflow  FAILED    True\r\n",
      " 2738  2018-04-03 16:03:52.727467+00:00  ExampleWorkflow  FAILED    True\r\n",
      " 2743  2018-04-03 16:04:57.953796+00:00  ExampleWorkflow  FAILED    True\r\n",
      " 2748  2018-04-03 16:05:29.438423+00:00  ExampleWorkflow  FAILED    True\r\n",
      " 2753  2018-04-03 16:06:55.192608+00:00  ExampleWorkflow  FAILED    True\r\n",
      " 2758  2018-04-03 16:07:50.672963+00:00  ExampleWorkflow  FAILED    True\r\n",
      " 2763  2018-04-03 16:11:54.187900+00:00  Minimal          FAILED    True\r\n",
      " 2765  2018-04-03 16:11:54.374499+00:00  TestWorkflow     FAILED    True\r\n",
      " 2770  2018-04-03 16:12:23.797310+00:00  ExampleWorkflow  FAILED    True\r\n",
      " 2775  2018-04-03 16:14:17.110915+00:00  ExampleWorkflow  FAILED    True\r\n",
      " 2782  2018-04-04 09:36:25.760705+00:00  TestWorkflow     FINISHED  True\r\n",
      " 2783  2018-04-04 09:36:30.930219+00:00  seekpath         FINISHED  True\r\n",
      " 2789  2018-04-04 09:36:56.450580+00:00  TestWorkflow     FAILED    True\r\n",
      " 2791  2018-04-04 09:43:24.212900+00:00  TestWorkflow     FAILED    True\r\n",
      " 2793  2018-04-04 09:44:50.090886+00:00  TestWorkflow     FINISHED  True\r\n",
      " 2794  2018-04-04 09:45:25.840398+00:00  seekpath         FINISHED  True\r\n",
      " 2804  2018-04-04 10:08:12.700600+00:00  ExampleWorkflow  FAILED    True\r\n",
      " 2812  2018-04-04 10:12:45.919384+00:00  ExampleWorkflow  RUNNING   None\r\n"
     ]
    }
   ],
   "source": [
    "!/Users/ricohaeuselmann/.venvwrap/matcloud-jupyter-py2/bin/verdi work list -a"
   ]
  },
  {
   "cell_type": "code",
   "execution_count": 11,
   "metadata": {},
   "outputs": [
    {
     "name": "stdout",
     "output_type": "stream",
     "text": [
      "\r\n",
      "-- /ExampleWorkflow [2812]-VaspCalculation [2815]\r\n"
     ]
    }
   ],
   "source": [
    "!/Users/ricohaeuselmann/.venvwrap/matcloud-jupyter-py2/bin/verdi work tree 2812"
   ]
  },
  {
   "cell_type": "code",
   "execution_count": null,
   "metadata": {},
   "outputs": [],
   "source": []
  }
 ],
 "metadata": {
  "kernelspec": {
   "display_name": "Python 2",
   "language": "python",
   "name": "python2"
  },
  "language_info": {
   "codemirror_mode": {
    "name": "ipython",
    "version": 2
   },
   "file_extension": ".py",
   "mimetype": "text/x-python",
   "name": "python",
   "nbconvert_exporter": "python",
   "pygments_lexer": "ipython2",
   "version": "2.7.14"
  }
 },
 "nbformat": 4,
 "nbformat_minor": 2
}
