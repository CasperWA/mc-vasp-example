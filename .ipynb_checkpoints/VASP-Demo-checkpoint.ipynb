{
 "cells": [
  {
   "cell_type": "markdown",
   "metadata": {},
   "source": [
    "# VASP band structure"
   ]
  },
  {
   "cell_type": "markdown",
   "metadata": {},
   "source": [
    "**Authors: Rico Häuselmannn, Nicolas Mounet, Giovanni Pizzi (THEOS, EPFL)**"
   ]
  },
  {
   "cell_type": "markdown",
   "metadata": {},
   "source": [
    "This automatic workflow allows to compute the band structure of a material with a minimal set of input parameters.\n",
    "It is powered by:\n",
    "- [VASP](http://www.vasp.at) as the quantum engine\n",
    "- [AiiDA](http://www.aiida.net) as the automation platform\n",
    "- [AiiDA-VASP](http://http://aiida-vasp.readthedocs.io/) as the curated pseudopotential family\n",
    "- Custom-made workflows for AiiDA to manage the selection of parameters, the error handling, ...\n",
    "- [AppMode for Jupyter](http://github.com/oschuett/jupyter_appmode) to create a simple UI\n",
    "\n",
    "If you use this tool in your research, please cite [INSERT CITATION HERE]"
   ]
  },
  {
   "cell_type": "code",
   "execution_count": 1,
   "metadata": {},
   "outputs": [],
   "source": [
    "## TODO\n",
    "## REPLACE VBOXES with descriptions\n",
    "#   style = {'description_width': 'initial'}\n",
    "#  IntSlider(description='A too long description', style=style)"
   ]
  },
  {
   "cell_type": "code",
   "execution_count": 2,
   "metadata": {},
   "outputs": [],
   "source": [
    "# Main imports for UI\n",
    "import ipywidgets as ipw\n",
    "from IPython.display import display, clear_output, HTML, Javascript\n",
    "from fileupload import FileUploadWidget"
   ]
  },
  {
   "cell_type": "code",
   "execution_count": 3,
   "metadata": {},
   "outputs": [],
   "source": [
    "import aiida\n",
    "if not aiida.is_dbenv_loaded():\n",
    "    aiida.load_dbenv()\n",
    "from aiida.work import submit, run"
   ]
  },
  {
   "cell_type": "code",
   "execution_count": 72,
   "metadata": {},
   "outputs": [],
   "source": [
    "#from phonon_turnkey_lib import phonondispersion_functions as ph_fn\n",
    "import vasp_example as vex\n",
    "import bands_wf as bwf\n",
    "import subprocess as sp"
   ]
  },
  {
   "cell_type": "code",
   "execution_count": 5,
   "metadata": {},
   "outputs": [],
   "source": [
    "warningsbox = ipw.HTML(\"\")\n",
    "\n",
    "styles = [\n",
    "    \"background-color: rgb(242, 222, 222)\",\n",
    "    \"border-color: rgb(235, 204, 209)\",\n",
    "    \"border-radius: 4px\",\n",
    "    \"border-style: solid\",\n",
    "    \"border-width: 1px\",\n",
    "    \"font-size: 14px\",\n",
    "    \"line-height: 20px\",\n",
    "    \"margin: 0px\",\n",
    "    \"padding: 10px\",\n",
    "    \"padding-left: 20px\",\n",
    "    \"padding-right: 20px\",    \n",
    "]\n",
    "\n",
    "def show_warning(msg):\n",
    "    \"\"\"\n",
    "    Shows a warning in a red box.\n",
    "\n",
    "    If msg is empty or None, removes the box.\n",
    "    :param msg: Should be a valid HTML string (this is not validated)\n",
    "    \"\"\"\n",
    "    global warningsbox\n",
    "    \n",
    "    if not msg:\n",
    "        warningsbox.value = ''\n",
    "    else:\n",
    "        warningsbox.value = '<div style=\"{}\">WARNING! {}</div>'.format(\"; \".join(styles), msg)"
   ]
  },
  {
   "cell_type": "code",
   "execution_count": 6,
   "metadata": {},
   "outputs": [],
   "source": [
    "# An object that can be 'Display'ed to jump back here\n",
    "js_jump = Javascript(\"\"\"window.location.href = \"#warningsbox\";\"\"\")"
   ]
  },
  {
   "cell_type": "markdown",
   "metadata": {},
   "source": [
    "<!-- An anchor for the box rendered in the next cell -->\n",
    "<a id=\"warningsbox\"></a>"
   ]
  },
  {
   "cell_type": "code",
   "execution_count": 7,
   "metadata": {},
   "outputs": [
    {
     "data": {
      "application/vnd.jupyter.widget-view+json": {
       "model_id": "7270887b27e941388bd87bc4019398bf",
       "version_major": 2,
       "version_minor": 0
      },
      "text/plain": [
       "A Jupyter Widget"
      ]
     },
     "metadata": {},
     "output_type": "display_data"
    }
   ],
   "source": [
    "display(warningsbox)\n",
    "# To use: call #show_warning(msg)"
   ]
  },
  {
   "cell_type": "code",
   "execution_count": 8,
   "metadata": {},
   "outputs": [],
   "source": [
    "def nice_errors(default_return=None):\n",
    "    def decorator(fn):\n",
    "        def inner_fn(*args, **kwargs):\n",
    "            try:\n",
    "                # Clean-up before running the function\n",
    "                show_warning('')                \n",
    "                return fn(*args, **kwargs)\n",
    "            except Exception as e:\n",
    "                # \"Eat\" the exception but show an error\n",
    "                show_warning(\"Internal error during execution. Error: {}\".format(\n",
    "                    str(e)))\n",
    "                display(js_jump)\n",
    "                return default_return\n",
    "        return inner_fn\n",
    "    return decorator"
   ]
  },
  {
   "cell_type": "code",
   "execution_count": 20,
   "metadata": {},
   "outputs": [],
   "source": [
    "structure = None\n",
    "\n",
    "upload_out = ipw.HTML()\n",
    "\n",
    "@nice_errors(default_return=None)\n",
    "def on_file_upload(c):\n",
    "    global structure, upload_out\n",
    "    \n",
    "    from aiida.orm import DataFactory\n",
    "    StructureData = DataFactory('structure')\n",
    "    \n",
    "    import ase, ase.io\n",
    "    from tempfile import NamedTemporaryFile\n",
    "    \n",
    "    upload_out.value = \"Uploading structure...\"\n",
    "    tmp = NamedTemporaryFile(suffix=in_file_upload.filename)\n",
    "    f = open(tmp.name, \"w\")\n",
    "    f.write(in_file_upload.data)\n",
    "    f.close()\n",
    "    if tmp.name.endswith('.aiida'):\n",
    "        from aiida.orm.importexport import import_data\n",
    "        upload_out.value = \"Importing data...\"\n",
    "        import_dict = import_data(tmp.name,silent=True)\n",
    "        qs = StructureData.query(pk__in=[_[1] for _ in import_dict['Node']['existing']+import_dict['Node']['new']])\n",
    "        if qs.count()==0:\n",
    "            raise ValueError(\"No structure found!\")\n",
    "        if qs.count() > 1:\n",
    "            upload_out.value = \"<strong>Number of structures found</strong>: %d; considering only the first one.<br>\"%qs.count()\n",
    "        else:\n",
    "            upload_out.value = \"<strong>Structure loaded.</strong><br>\"    \n",
    "        structure = qs.first()\n",
    "    else:\n",
    "        ase_structures = ase.io.read(tmp.name, index=\":\")\n",
    "        if len(ase_structures) > 1:\n",
    "            upload_out.value = \"<strong>Number of structures found</strong>: %d; considering only the first one.<br>\"%len(ase_structure)\n",
    "        else:\n",
    "            upload_out.value = \"<strong>Structure loaded.</strong><br>\"\n",
    "        ase_structure = ase_structures[0]\n",
    "        structure = StructureData(ase = ase_structure)\n",
    "    tmp.close()\n",
    "    #update_view()\n",
    "    upload_out.value += '\\nStructure chemical formula: <strong>%s</strong>.' % structure.get_formula()\n",
    "    \n",
    "#TODO: FileUploadWidget doesn't fire event when same file is uploaded twice\n",
    "in_file_upload = FileUploadWidget(\"Upload Structure\")\n",
    "in_file_upload.observe(on_file_upload, names='data')\n",
    "\n",
    "in_use_example_structure = ipw.Checkbox(\n",
    "    value=False,\n",
    "    description='Use an example structure',\n",
    "    disabled=False\n",
    ")\n",
    "\n",
    "example_structure_options = [['Diamond', 'diamond'], ['Aluminum', 'al'],['GaAs', 'gaas'], ['Cobalt', 'co'], ['Silicon', 'si']]\n",
    "in_example_structure = ipw.Dropdown(\n",
    "    options=example_structure_options,\n",
    "    value=example_structure_options[0][1],\n",
    "    disabled=True\n",
    ")\n",
    "\n",
    "def on_use_example_structure_change(v):\n",
    "    if v['owner'].value:\n",
    "        in_file_upload.disabled = True\n",
    "        in_example_structure.disabled = False\n",
    "    else:\n",
    "        in_file_upload.disabled = False        \n",
    "        in_example_structure.disabled = True\n",
    "\n",
    "# Setup listener\n",
    "in_use_example_structure.observe(on_use_example_structure_change, names='value')\n",
    "\n",
    "structure_group = ipw.VBox(\n",
    "    [\n",
    "        in_file_upload,\n",
    "        upload_out,\n",
    "        ipw.HBox(\n",
    "            [\n",
    "            in_use_example_structure,\n",
    "            in_example_structure,\n",
    "            ]),\n",
    "    ])\n",
    "\n",
    "def get_example_structure(key):\n",
    "    from aiida.orm import DataFactory\n",
    "    from ase.lattice.spacegroup import crystal\n",
    "    StructureData = DataFactory('structure')\n",
    "    \n",
    "    if key == 'diamond':\n",
    "        # This is the lattice constant in angstrom\n",
    "        alat = 3.56\n",
    "        diamond_ase = crystal('C', [(0,0,0)], spacegroup=227,\n",
    "                          cellpar=[alat, alat, alat, 90, 90, 90],primitive_cell=True)\n",
    "        s = StructureData(ase=diamond_ase)\n",
    "        return s\n",
    "    elif key == 'al':\n",
    "        # This is the lattice constant in angstrom\n",
    "        alat = 4.05\n",
    "        Al_ase = crystal('Al', [(0,0,0)], spacegroup=225,\n",
    "                          cellpar=[alat, alat, alat, 90, 90, 90],primitive_cell=True)\n",
    "        s = StructureData(ase=Al_ase)\n",
    "        return s\n",
    "    elif key == 'gaas':\n",
    "        # This is the lattice constant in angstrom\n",
    "        alat = 5.75\n",
    "        GaAs_ase = crystal('GaAs', [(0,0,0),(0.25,0.25,0.25)], spacegroup=216,\n",
    "                          cellpar=[alat, alat, alat, 90, 90, 90],primitive_cell=True)\n",
    "        s = StructureData(ase=GaAs_ase)\n",
    "        return s\n",
    "    elif key == 'co':\n",
    "        # These are the lattice constants in angstrom\n",
    "        a = 2.5\n",
    "        c = 4.07\n",
    "        Co_ase = crystal('Co', [(1./3,2./3,0.25)], spacegroup=194,\n",
    "                          cellpar=[a, a, c, 90, 90, 120],primitive_cell=True)\n",
    "        s = StructureData(ase=Co_ase)\n",
    "        return s\n",
    "    elif key == 'si':\n",
    "        return vex.create_structure_Si()\n",
    "    else:\n",
    "        raise ValueError(\"Unknown or unsupported example structure '{}'\".format(key))\n",
    "\n",
    "def get_structure():\n",
    "    global structure\n",
    "    if in_use_example_structure.value:\n",
    "        structure_key = in_example_structure.value\n",
    "        return get_example_structure(structure_key)\n",
    "    else:\n",
    "        if structure is None:\n",
    "            raise ValueError(\"You did not upload a structure. Either upload a structure or choose an example.\")\n",
    "        else:\n",
    "            return structure"
   ]
  },
  {
   "cell_type": "code",
   "execution_count": 10,
   "metadata": {},
   "outputs": [],
   "source": [
    "ISIF_options = [['ISIF = 4', 4], ['ISIF = 3', 3]]\n",
    "in_relax_mode = ipw.RadioButtons(\n",
    "    options=ISIF_options,\n",
    "    value=ISIF_options[0][1],\n",
    "    disabled=False\n",
    ")\n",
    "\n",
    "relax_group = ipw.HBox(\n",
    "    [\n",
    "        ipw.Label(value=\"ISIF for Structure relaxation: \"), \n",
    "        in_relax_mode\n",
    "    ])"
   ]
  },
  {
   "cell_type": "code",
   "execution_count": 11,
   "metadata": {},
   "outputs": [],
   "source": [
    "@nice_errors(default_return=None)\n",
    "def get_code_options(plugin_classes):\n",
    "    \"\"\"\n",
    "    Return AiiDA codes using a specific set of plugins\n",
    "    \n",
    "    :param plugin_classes: a dictionary of the type\n",
    "      {'pw': 'quantumespresso.pw', 'ph': 'quantumespresso.ph'}\n",
    "      where the key is a label and the value is the plugin to check for.\n",
    "      It will return the set of codes that exist on the same machine.\n",
    "    \"\"\"\n",
    "    from aiida.orm.querybuilder import QueryBuilder\n",
    "    from aiida.orm import Code, Computer\n",
    "    \n",
    "    # TODO: add filter to show only computers configured\n",
    "    # by the current user\n",
    "    \n",
    "    qb = QueryBuilder()\n",
    "    qb.append(Computer,\n",
    "          filters={'enabled': True},\n",
    "          project='name', tag='computer')\n",
    "    ordered_tags = []\n",
    "    for tag, plugin_class in plugin_classes.iteritems():\n",
    "        ordered_tags.append(tag)\n",
    "        qb.append(Code,\n",
    "          filters={'attributes.input_plugin': {'==': plugin_class},\n",
    "                   'attributes.hidden': {\"~==\": True}\n",
    "            },\n",
    "            project='label', tag='{}code'.format(tag), has_computer='computer')\n",
    "    all_results = qb.all()\n",
    "    return [{tag: \"{}@{}\".format(codename, codeset[0]) for codename, tag in zip(codeset[1:], ordered_tags)} \n",
    "            for codeset in all_results]\n",
    "\n",
    "code_options_full = None\n",
    "in_codename = ipw.Dropdown(options=get_code_options({'VASP': 'vasp.vasp'}), disabled=True)\n",
    "\n",
    "\n",
    "code_group = ipw.HBox(\n",
    "    [\n",
    "        ipw.Label(value=\"VASP code to use: \"), \n",
    "        in_codename,\n",
    "        ipw.Label(value=\"Note: only showing code sets that are setup on the same computer\"), \n",
    "    ])"
   ]
  },
  {
   "cell_type": "code",
   "execution_count": 12,
   "metadata": {},
   "outputs": [],
   "source": [
    "in_max_num_machines = ipw.IntSlider(\n",
    "    value=2,\n",
    "    min=1,\n",
    "    max=8,\n",
    "    step=1,\n",
    "    disabled=False,\n",
    "    continuous_update=False,\n",
    "    orientation='horizontal',\n",
    "    readout=True,\n",
    "    readout_format='d'\n",
    ")\n",
    "max_num_machines_group = ipw.VBox([\n",
    "        ipw.HBox(\n",
    "        [\n",
    "            ipw.Label(value=\"Maximum number of compute nodes\"), \n",
    "            in_max_num_machines]\n",
    "        ),\n",
    "        ipw.Label(value=\"Note: putting the value above too high will not make your result come faster, but you will finish your allocation earlier nevertheless...\"), \n",
    "      ])"
   ]
  },
  {
   "cell_type": "code",
   "execution_count": 13,
   "metadata": {},
   "outputs": [],
   "source": [
    "# kpoints distance\n",
    "kpoints_distance_options = [\n",
    "    ['0.3 (quick estimation)', 0.3],\n",
    "    ['0.2', 0.2],\n",
    "    ['0.15 (more accurate)', 0.15],\n",
    "]\n",
    "in_kpoints_distance = ipw.Dropdown(\n",
    "    options=kpoints_distance_options,\n",
    "    value=0.2\n",
    ")\n",
    "\n",
    "kpoints_distance_box = ipw.HBox(\n",
    "    [\n",
    "        ipw.Label(value=\"k-points distance (smaller is slower and more accurate)\"), \n",
    "        in_kpoints_distance\n",
    "    ])"
   ]
  },
  {
   "cell_type": "code",
   "execution_count": 14,
   "metadata": {},
   "outputs": [],
   "source": [
    "in_max_walltime = ipw.IntSlider(\n",
    "    value=24,\n",
    "    min=1,\n",
    "    max=24,\n",
    "    step=1,\n",
    "    disabled=False,\n",
    "    continuous_update=False,\n",
    "    orientation='horizontal',\n",
    "    readout=True,\n",
    "    readout_format='d'\n",
    ")\n",
    "max_walltime_group = ipw.HBox(\n",
    "        [\n",
    "            ipw.Label(value=\"Maximum walltime per job (hours)\"), \n",
    "            in_max_walltime]\n",
    "        )"
   ]
  },
  {
   "cell_type": "code",
   "execution_count": 21,
   "metadata": {},
   "outputs": [
    {
     "data": {
      "application/vnd.jupyter.widget-view+json": {
       "model_id": "9cc81d99b6eb4937b9141ec0ef2b565f",
       "version_major": 2,
       "version_minor": 0
      },
      "text/plain": [
       "A Jupyter Widget"
      ]
     },
     "metadata": {},
     "output_type": "display_data"
    },
    {
     "data": {
      "application/vnd.jupyter.widget-view+json": {
       "model_id": "b1b218603dfb4e70a8901ce8059bf21d",
       "version_major": 2,
       "version_minor": 0
      },
      "text/plain": [
       "A Jupyter Widget"
      ]
     },
     "metadata": {},
     "output_type": "display_data"
    },
    {
     "data": {
      "application/vnd.jupyter.widget-view+json": {
       "model_id": "78c4682ca25c4f079fdbc794b11dddc6",
       "version_major": 2,
       "version_minor": 0
      },
      "text/plain": [
       "A Jupyter Widget"
      ]
     },
     "metadata": {},
     "output_type": "display_data"
    },
    {
     "data": {
      "application/vnd.jupyter.widget-view+json": {
       "model_id": "0515b2e3e0444577b3428c2abf51cf3d",
       "version_major": 2,
       "version_minor": 0
      },
      "text/plain": [
       "A Jupyter Widget"
      ]
     },
     "metadata": {},
     "output_type": "display_data"
    },
    {
     "data": {
      "application/vnd.jupyter.widget-view+json": {
       "model_id": "cf10fa9eacae43c787000454a75c84d5",
       "version_major": 2,
       "version_minor": 0
      },
      "text/plain": [
       "A Jupyter Widget"
      ]
     },
     "metadata": {},
     "output_type": "display_data"
    }
   ],
   "source": [
    "# Group options and show them\n",
    "input_group = ipw.VBox([\n",
    "    relax_group,\n",
    "#    in_do_mag,\n",
    "#    in_do_bands,\n",
    "#    in_do_phonons,\n",
    "])\n",
    "basic_group = ipw.VBox([\n",
    "#    sssp_group,\n",
    "    kpoints_distance_box,\n",
    "])\n",
    "cpu_group = ipw.VBox([\n",
    "    code_group,\n",
    "    #phpostcode_group,\n",
    "    #max_num_machines_group,\n",
    "    #target_time_group\n",
    "])\n",
    "advanced_group = ipw.VBox([\n",
    "#    smearing_box,\n",
    "#    mixingbeta_box,\n",
    "#    cutofffactor_box,\n",
    "    max_walltime_group\n",
    "])\n",
    "###############################\n",
    "structure_accordion = ipw.Accordion(children=[\n",
    "    structure_group,\n",
    "])\n",
    "structure_accordion.set_title(0, \"Crystal structure\")\n",
    "structure_accordion.selected_index = 0\n",
    "display(structure_accordion)\n",
    "\n",
    "\n",
    "input_accordion = ipw.Accordion(children=[\n",
    "    input_group,\n",
    "])\n",
    "input_accordion.set_title(0, \"Main input\")\n",
    "input_accordion.selected_index = 0\n",
    "display(input_accordion)\n",
    "\n",
    "cpu_accordion = ipw.Accordion(children=[\n",
    "    cpu_group,\n",
    "])\n",
    "cpu_accordion.set_title(0, \"Computers, codes and parallelization\")\n",
    "cpu_accordion.selected_index = 0\n",
    "display(cpu_accordion)\n",
    "\n",
    "basic_accordion = ipw.Accordion(children=[\n",
    "    basic_group,\n",
    "])\n",
    "basic_accordion.set_title(0, \"Basic numerical options\")\n",
    "basic_accordion.selected_index = 0\n",
    "display(basic_accordion)\n",
    "\n",
    "# I create two independent accordions, with one child each, so we can keep them both open\n",
    "advanced_accordion = ipw.Accordion(children=[\n",
    "    advanced_group,\n",
    "])\n",
    "advanced_accordion.set_title(0, \"Advanced options\")\n",
    "# Collapsed by default\n",
    "advanced_accordion.selected_index = None\n",
    "display(advanced_accordion)"
   ]
  },
  {
   "cell_type": "code",
   "execution_count": 16,
   "metadata": {},
   "outputs": [],
   "source": [
    "# This will be used (and displayed) later to show the output of the validator\n",
    "validator_out = ipw.Output()"
   ]
  },
  {
   "cell_type": "code",
   "execution_count": 17,
   "metadata": {},
   "outputs": [],
   "source": [
    "from aiida.work.db_types import Int, Float, Str\n",
    "def validate():\n",
    "    \n",
    "    generated_input = {}\n",
    "    generated_input['relax_ISIF'] =  Int(in_relax_mode.value)\n",
    "    generated_input['relax_kpts_dist'] = Float(in_kpoints_distance.value)\n",
    "    #generated_input['automatic_parallelization'] = {\n",
    "    #    'max_num_machines': in_max_num_machines.value,\n",
    "    #    'target_time_seconds': in_target_time.value * 3600,\n",
    "    #    'max_wall_time_seconds': in_max_walltime.value * 3600\n",
    "    #}\n",
    "    if in_codename.value is None:\n",
    "        raise ValueError(\"No VASP codes have been specified...\") \n",
    "    generated_input['vasp_codename'] = Str(in_codename.value['VASP'])\n",
    "    generated_input['structure'] = vex.new_or_existing_structure(get_structure())\n",
    "    \n",
    "    return generated_input \n",
    "    \n",
    "    \n",
    "    #global in_SSSP_type\n",
    "    #print in_SSSP_type.value\n",
    "    #if in_SSSP_type.value == \"Efficiency\":\n",
    "    #    pass\n",
    "    #else:\n",
    "    #    raise ValueError(\"Unsupported value for the SSSP group\")"
   ]
  },
  {
   "cell_type": "code",
   "execution_count": 76,
   "metadata": {},
   "outputs": [],
   "source": [
    "vex = reload(vex)\n",
    "bwf = reload(bwf)\n",
    "@nice_errors(default_return=None)\n",
    "def run_wf(inputs):\n",
    "    return run(bwf.ExampleWorkflow, **inputs)\n",
    "\n",
    "@nice_errors(default_return=None)\n",
    "def submit_wf(inputs):\n",
    "    return submit(bwf.ExampleWorkflow, **inputs)"
   ]
  },
  {
   "cell_type": "code",
   "execution_count": 79,
   "metadata": {},
   "outputs": [
    {
     "data": {
      "application/vnd.jupyter.widget-view+json": {
       "model_id": "89ad404f3bfc44dca57542e35565079a",
       "version_major": 2,
       "version_minor": 0
      },
      "text/plain": [
       "A Jupyter Widget"
      ]
     },
     "metadata": {},
     "output_type": "display_data"
    },
    {
     "data": {
      "application/vnd.jupyter.widget-view+json": {
       "model_id": "964f16a776844feba77fd02031474f02",
       "version_major": 2,
       "version_minor": 0
      },
      "text/plain": [
       "A Jupyter Widget"
      ]
     },
     "metadata": {},
     "output_type": "display_data"
    },
    {
     "data": {
      "application/vnd.jupyter.widget-view+json": {
       "model_id": "de706a204aeb4274b21e9613819c864d",
       "version_major": 2,
       "version_minor": 0
      },
      "text/plain": [
       "A Jupyter Widget"
      ]
     },
     "metadata": {},
     "output_type": "display_data"
    },
    {
     "data": {
      "application/vnd.jupyter.widget-view+json": {
       "model_id": "f543a2ae16a741f9b103ebef326b68d1",
       "version_major": 2,
       "version_minor": 0
      },
      "text/plain": [
       "A Jupyter Widget"
      ]
     },
     "metadata": {},
     "output_type": "display_data"
    },
    {
     "data": {
      "application/javascript": [
       "window.location.href = \"#warningsbox\";"
      ],
      "text/plain": [
       "<IPython.core.display.Javascript object>"
      ]
     },
     "metadata": {},
     "output_type": "display_data"
    },
    {
     "ename": "TypeError",
     "evalue": "'NoneType' object has no attribute '__getitem__'",
     "output_type": "error",
     "traceback": [
      "\u001b[0;31m---------------------------------------------------------------------------\u001b[0m",
      "\u001b[0;31mTypeError\u001b[0m                                 Traceback (most recent call last)",
      "\u001b[0;32m<ipython-input-79-2b78e57d33f0>\u001b[0m in \u001b[0;36mon_run\u001b[0;34m(b)\u001b[0m\n\u001b[1;32m     79\u001b[0m     \u001b[0mwf_info\u001b[0m \u001b[0;34m=\u001b[0m \u001b[0mrun_wf\u001b[0m\u001b[0;34m(\u001b[0m\u001b[0mlatest_validated_data\u001b[0m\u001b[0;34m)\u001b[0m\u001b[0;34m\u001b[0m\u001b[0m\n\u001b[1;32m     80\u001b[0m \u001b[0;34m\u001b[0m\u001b[0m\n\u001b[0;32m---> 81\u001b[0;31m     \u001b[0mfiles\u001b[0m \u001b[0;34m=\u001b[0m \u001b[0mwf_info\u001b[0m\u001b[0;34m[\u001b[0m\u001b[0;34m'bands'\u001b[0m\u001b[0;34m]\u001b[0m\u001b[0;34m.\u001b[0m\u001b[0mexport\u001b[0m\u001b[0;34m(\u001b[0m\u001b[0;34m'bands.png'\u001b[0m\u001b[0;34m,\u001b[0m \u001b[0mfileformat\u001b[0m\u001b[0;34m=\u001b[0m\u001b[0;34m'mpl_png'\u001b[0m\u001b[0;34m,\u001b[0m \u001b[0moverwrite\u001b[0m\u001b[0;34m=\u001b[0m\u001b[0mTrue\u001b[0m\u001b[0;34m)\u001b[0m\u001b[0;34m\u001b[0m\u001b[0m\n\u001b[0m\u001b[1;32m     82\u001b[0m     \u001b[0;32mfrom\u001b[0m \u001b[0mpy\u001b[0m\u001b[0;34m.\u001b[0m\u001b[0mpath\u001b[0m \u001b[0;32mimport\u001b[0m \u001b[0mlocal\u001b[0m\u001b[0;34m\u001b[0m\u001b[0m\n\u001b[1;32m     83\u001b[0m     \u001b[0mimg_path\u001b[0m \u001b[0;34m=\u001b[0m \u001b[0mlocal\u001b[0m\u001b[0;34m(\u001b[0m\u001b[0mfiles\u001b[0m\u001b[0;34m[\u001b[0m\u001b[0;36m0\u001b[0m\u001b[0;34m]\u001b[0m\u001b[0;34m)\u001b[0m\u001b[0;34m\u001b[0m\u001b[0m\n",
      "\u001b[0;31mTypeError\u001b[0m: 'NoneType' object has no attribute '__getitem__'"
     ]
    }
   ],
   "source": [
    "validate_button = ipw.Button(\n",
    "    description='Validate input',\n",
    "    disabled=False,\n",
    "    button_style='info', # 'success', 'info', 'warning', 'danger' or ''\n",
    "    #tooltip='',\n",
    "    icon='check'\n",
    ")\n",
    "run_button = ipw.Button(\n",
    "    description='Run workflow with validated input',\n",
    "    disabled=False,\n",
    "    button_style='success', # 'success', 'info', 'warning', 'danger' or ''\n",
    "    #tooltip='',\n",
    "    icon='play',\n",
    "    layout=ipw.Layout(width='initial'), # Full width of the button\n",
    ")\n",
    "\n",
    "wf_out_bands = ipw.Image(format='png')\n",
    "\n",
    "#kill_button = ipw.Button(\n",
    "#    description='Kill all jobs',\n",
    "#    disabled=True,\n",
    "#    button_style='danger', # 'success', 'info', 'warning', 'danger' or ''\n",
    "#    #tooltip='',\n",
    "#    icon='stop'\n",
    "#)\n",
    "\n",
    "## Now empty, will be filled with run_button by the validator\n",
    "run_box = ipw.HBox(\n",
    "    [\n",
    "    ])\n",
    "\n",
    "## Now empty, will be filled after run_button is clicked\n",
    "wf_status_box = ipw.VBox(\n",
    "    [\n",
    "    ])\n",
    "\n",
    "\n",
    "latest_validated_data = None\n",
    "\n",
    "def on_validate(b):\n",
    "    global run_button, run_box, latest_validated_data\n",
    "    \n",
    "    b.disabled = True\n",
    "    run_box.children = []\n",
    "    \n",
    "    try:\n",
    "        validator_out.clear_output()\n",
    "        latest_validated_data = validate()\n",
    "    except ValueError as e:\n",
    "        show_warning(str(e))\n",
    "        display(js_jump)\n",
    "    else:\n",
    "        # Validated ok\n",
    "        run_box.children = [run_button]\n",
    "        with validator_out:\n",
    "            display(ipw.HTML(\"<strong>general parameters</strong>\"))\n",
    "            display({k: v for k, v in latest_validated_data.items() if k != 'structure'})\n",
    "            display(ipw.HTML(\"<strong>structure</strong>\"))\n",
    "            display(latest_validated_data['structure'])\n",
    "            display(ipw.Label(\"Cell\"))\n",
    "            display(latest_validated_data['structure'].cell)\n",
    "            display(ipw.Label(\"Sites\"))\n",
    "            display(latest_validated_data['structure'].sites)\n",
    "    finally:\n",
    "        # Re-enable anyway button\n",
    "        b.disabled = False\n",
    "    \n",
    "validate_button.on_click(on_validate)\n",
    "\n",
    "def on_run(b):\n",
    "    from matplotlib import pyplot as plt\n",
    "    global validate_button, wf_status_box, latest_validated_data\n",
    "    #global kill_button\n",
    "    validate_button.disabled = True\n",
    "    b.disabled = True\n",
    "    #kill_button.disabled = False\n",
    "    \n",
    "    ## We run the WF!\n",
    "    wf_info = run_wf(latest_validated_data)\n",
    "    \n",
    "    files = wf_info['bands'].export('bands.png', fileformat='mpl_png', overwrite=True)\n",
    "    from py.path import local\n",
    "    img_path = local(files[0])\n",
    "    wf_out_bands.value=img_path.read()\n",
    "    \n",
    "    wf_status_box.children = [wf_out_bands]\n",
    "    \n",
    "    ## We try to run the WF and it fails\n",
    "    # wf_info = submit_wf(latest_validated_data)\n",
    "    #\n",
    "    # img_path = local(files[0])\n",
    "    # wf_out_status = ipw.Textarea()\n",
    "    # wf_out_status.disabled = True\n",
    "    #\n",
    "    # wf_status_box.children = [wf_out_status]\n",
    "    #\n",
    "    # workcalc = load_node(wf_info.pid)\n",
    "    # while not workcalc.has_finished() and not workcalc.has_aborted():\n",
    "    \n",
    "    \n",
    "    ## Now, we show some links (if all went well)\n",
    "    #if wf_info is not None:\n",
    "    #    wf_status_box.children = [\n",
    "    #        ipw.HTML(\"The workflow was run with <strong>workflow ID = {}</strong>. Please note down this number for future reference.\".format(wf_info.pid)),\n",
    "    #        ipw.HTML('<a target=\"_blank\" href=\"phonon%20status%20monitor.ipynb?wf_pk={0}\">Monitor the status and check results of workflow {0}</a>.'.format(wf_info.pid)),\n",
    "    #        ]\n",
    "    \n",
    "run_button.on_click(on_run)\n",
    "\n",
    "#def on_kill(b):\n",
    "#    global run_button, validate_button\n",
    "#    validate_button.disabled = False\n",
    "#    b.disabled = True\n",
    "#    run_button.disabled = True\n",
    "#    print 'Killing not implemented yet!'    \n",
    "#kill_button.on_click(on_kill)\n",
    "\n",
    "display(ipw.HBox(\n",
    "    [\n",
    "        validate_button,\n",
    "        #run_button,\n",
    "        #kill_button       \n",
    "    ]))\n",
    "\n",
    "display(ipw.HBox(\n",
    "    [\n",
    "        validator_out,\n",
    "        #kill_button       \n",
    "    ]))\n",
    "\n",
    "display(run_box)\n",
    "display(wf_status_box)\n",
    "#display(wf_out_bands)"
   ]
  },
  {
   "cell_type": "code",
   "execution_count": null,
   "metadata": {},
   "outputs": [],
   "source": []
  }
 ],
 "metadata": {
  "kernelspec": {
   "display_name": "Python 2",
   "language": "python",
   "name": "python2"
  },
  "language_info": {
   "codemirror_mode": {
    "name": "ipython",
    "version": 2
   },
   "file_extension": ".py",
   "mimetype": "text/x-python",
   "name": "python",
   "nbconvert_exporter": "python",
   "pygments_lexer": "ipython2",
   "version": "2.7.14"
  },
  "widgets": {
   "application/vnd.jupyter.widget-state+json": {
    "state": {
     "01cd9dd229574ae890850f32784b1ab8": {
      "model_module": "@jupyter-widgets/controls",
      "model_module_version": "1.0.0",
      "model_name": "HBoxModel",
      "state": {
       "children": [
        "IPY_MODEL_64a7b07e5aac400d8ec9bf0127fac37f"
       ],
       "layout": "IPY_MODEL_59f99f7d0e114ae3904850fb91d00b3a"
      }
     },
     "01d1601ddcbc43c09c958aadd6d4885d": {
      "model_module": "@jupyter-widgets/base",
      "model_module_version": "1.0.0",
      "model_name": "LayoutModel",
      "state": {}
     },
     "01ddbdd3350c4582b1c7c007844ea56d": {
      "model_module": "@jupyter-widgets/controls",
      "model_module_version": "1.0.0",
      "model_name": "DescriptionStyleModel",
      "state": {
       "description_width": ""
      }
     },
     "024b3434d7704d9ca4417cde7a842486": {
      "model_module": "@jupyter-widgets/controls",
      "model_module_version": "1.0.0",
      "model_name": "ButtonModel",
      "state": {
       "button_style": "info",
       "description": "Validate input",
       "icon": "check",
       "layout": "IPY_MODEL_614d8ddd198d48a99acc6e346c1b2c86",
       "style": "IPY_MODEL_0a568037f6fe4fccb7bfba9af6197600"
      }
     },
     "0515b2e3e0444577b3428c2abf51cf3d": {
      "model_module": "@jupyter-widgets/controls",
      "model_module_version": "1.0.0",
      "model_name": "AccordionModel",
      "state": {
       "_titles": {
        "0": "Basic numerical options"
       },
       "children": [
        "IPY_MODEL_20621ada5b824019bf36067d52256f25"
       ],
       "layout": "IPY_MODEL_34ea3e2a7d684fe38f4bf231170e5b8c"
      }
     },
     "0682e0f7ad374a79985119fe66df76a4": {
      "model_module": "@jupyter-widgets/controls",
      "model_module_version": "1.0.0",
      "model_name": "ButtonStyleModel",
      "state": {}
     },
     "08d987c06f3647419d9ebf0e1af3f51b": {
      "model_module": "@jupyter-widgets/base",
      "model_module_version": "1.0.0",
      "model_name": "LayoutModel",
      "state": {}
     },
     "08f4df619c8b4e61acdbb56ddeed056c": {
      "model_module": "@jupyter-widgets/base",
      "model_module_version": "1.0.0",
      "model_name": "LayoutModel",
      "state": {
       "width": "initial"
      }
     },
     "0943147c826349f19d5aefce6b598493": {
      "model_module": "@jupyter-widgets/base",
      "model_module_version": "1.0.0",
      "model_name": "LayoutModel",
      "state": {}
     },
     "0a2388401abc4d59980d3a6b4f12fe52": {
      "model_module": "@jupyter-widgets/base",
      "model_module_version": "1.0.0",
      "model_name": "LayoutModel",
      "state": {}
     },
     "0a568037f6fe4fccb7bfba9af6197600": {
      "model_module": "@jupyter-widgets/controls",
      "model_module_version": "1.0.0",
      "model_name": "ButtonStyleModel",
      "state": {}
     },
     "0b124df98cab419988f179977c892e8f": {
      "model_module": "@jupyter-widgets/base",
      "model_module_version": "1.0.0",
      "model_name": "LayoutModel",
      "state": {}
     },
     "0cc503cc75024905b34d07c5b71d3052": {
      "model_module": "@jupyter-widgets/base",
      "model_module_version": "1.0.0",
      "model_name": "LayoutModel",
      "state": {}
     },
     "0d9032eb2cb94b6ca597089085e00a84": {
      "model_module": "@jupyter-widgets/controls",
      "model_module_version": "1.0.0",
      "model_name": "VBoxModel",
      "state": {
       "children": [
        "IPY_MODEL_4cce68c709b4491b83a5142e8cfb45ac"
       ],
       "layout": "IPY_MODEL_87660b67c13542d18aaff0d71cd91e97"
      }
     },
     "0e1ee71c602a4bd8b7ddc091995bc2c3": {
      "model_module": "@jupyter-widgets/controls",
      "model_module_version": "1.0.0",
      "model_name": "VBoxModel",
      "state": {
       "children": [
        "IPY_MODEL_4cce68c709b4491b83a5142e8cfb45ac"
       ],
       "layout": "IPY_MODEL_ca400f35827042c598f912fcc6301616"
      }
     },
     "0ee80b8115ac4fee953bb0eb0c6b9838": {
      "model_module": "@jupyter-widgets/base",
      "model_module_version": "1.0.0",
      "model_name": "LayoutModel",
      "state": {}
     },
     "12111609151340ed92cec3b1a5143e69": {
      "model_module": "@jupyter-widgets/controls",
      "model_module_version": "1.0.0",
      "model_name": "DropdownModel",
      "state": {
       "_options_labels": [
        "0.3 (quick estimation)",
        "0.2",
        "0.15 (more accurate)"
       ],
       "index": 0,
       "layout": "IPY_MODEL_ee48fa6b08894aa9bc5f06a575fe9752",
       "style": "IPY_MODEL_f04d9c7d38014d468b3f159c75d99530"
      }
     },
     "12eefdebf8b44d1f97d8265699b64b92": {
      "model_module": "@jupyter-widgets/controls",
      "model_module_version": "1.0.0",
      "model_name": "HBoxModel",
      "state": {
       "children": [
        "IPY_MODEL_3cb7f7258e7645f4b80849bd986ec63c"
       ],
       "layout": "IPY_MODEL_0b124df98cab419988f179977c892e8f"
      }
     },
     "14299f01eb9d459282dadb0ac1430d89": {
      "model_module": "@jupyter-widgets/controls",
      "model_module_version": "1.0.0",
      "model_name": "ButtonModel",
      "state": {
       "button_style": "success",
       "description": "Run workflow with validated input",
       "disabled": true,
       "icon": "play",
       "layout": "IPY_MODEL_f502c4bb6c594c399f1e4573d76ced21",
       "style": "IPY_MODEL_d9e131c14ee94c3fb2e91e29c3b29259"
      }
     },
     "1854e0f79b4f4e00b1ea0bca306a97c6": {
      "model_module": "@jupyter-widgets/controls",
      "model_module_version": "1.0.0",
      "model_name": "LabelModel",
      "state": {
       "layout": "IPY_MODEL_9c12a84f64fb496c895bcd3f3395107f",
       "style": "IPY_MODEL_e618428779e843609bdba0373945a164",
       "value": "Note: putting the value above too high will not make your result come faster, but you will finish your allocation earlier nevertheless..."
      }
     },
     "18d336f1b4c240ca8b031aea620421e1": {
      "model_module": "@jupyter-widgets/controls",
      "model_module_version": "1.0.0",
      "model_name": "HTMLModel",
      "state": {
       "layout": "IPY_MODEL_8e22576d91ee4448819fae80f2607562",
       "style": "IPY_MODEL_f06795730683497cb3251d358a3fe0e0",
       "value": "<strong>structure</strong>"
      }
     },
     "18ec7dc429514cb082a3507a9343781d": {
      "model_module": "@jupyter-widgets/base",
      "model_module_version": "1.0.0",
      "model_name": "LayoutModel",
      "state": {}
     },
     "19e009fb6e914731a7153362dbc5c455": {
      "model_module": "@jupyter-widgets/base",
      "model_module_version": "1.0.0",
      "model_name": "LayoutModel",
      "state": {}
     },
     "19f312f927d146c1963a13b884043437": {
      "model_module": "@jupyter-widgets/base",
      "model_module_version": "1.0.0",
      "model_name": "LayoutModel",
      "state": {}
     },
     "1bdac7e26e8d4ad49070761d180cd25f": {
      "model_module": "@jupyter-widgets/base",
      "model_module_version": "1.0.0",
      "model_name": "LayoutModel",
      "state": {}
     },
     "1c036eea32ad463797f3741a0fb7d026": {
      "model_module": "@jupyter-widgets/controls",
      "model_module_version": "1.0.0",
      "model_name": "HBoxModel",
      "state": {
       "layout": "IPY_MODEL_2b403f543212477dbf3fe3ecbf5943e8"
      }
     },
     "1d663f2b03dc4d0b842e0f87d294fe7e": {
      "model_module": "@jupyter-widgets/base",
      "model_module_version": "1.0.0",
      "model_name": "LayoutModel",
      "state": {}
     },
     "1eccb0f5fbba43a28d9dbee318e7901d": {
      "model_module": "@jupyter-widgets/controls",
      "model_module_version": "1.0.0",
      "model_name": "DescriptionStyleModel",
      "state": {
       "description_width": ""
      }
     },
     "20621ada5b824019bf36067d52256f25": {
      "model_module": "@jupyter-widgets/controls",
      "model_module_version": "1.0.0",
      "model_name": "VBoxModel",
      "state": {
       "children": [
        "IPY_MODEL_5d98e457a17d4f39a5c308d7b9a6c976"
       ],
       "layout": "IPY_MODEL_ada56a1f0afc412796570200627a0876"
      }
     },
     "2253e11b77d04fd9a248bb8238461cc5": {
      "model_module": "@jupyter-widgets/controls",
      "model_module_version": "1.0.0",
      "model_name": "DescriptionStyleModel",
      "state": {
       "description_width": ""
      }
     },
     "2334d666f70c43cfac99d419226e62b6": {
      "model_module": "@jupyter-widgets/base",
      "model_module_version": "1.0.0",
      "model_name": "LayoutModel",
      "state": {}
     },
     "23f223f63d94425d8bb8c67989698618": {
      "model_module": "@jupyter-widgets/base",
      "model_module_version": "1.0.0",
      "model_name": "LayoutModel",
      "state": {}
     },
     "247ab9ed8493451b9db0cb24529a9a9a": {
      "model_module": "@jupyter-widgets/base",
      "model_module_version": "1.0.0",
      "model_name": "LayoutModel",
      "state": {}
     },
     "250b7cca92034b25a14a8f2094f78000": {
      "model_module": "@jupyter-widgets/base",
      "model_module_version": "1.0.0",
      "model_name": "LayoutModel",
      "state": {}
     },
     "25624d2bcfd243a698fba9241351e481": {
      "model_module": "@jupyter-widgets/controls",
      "model_module_version": "1.0.0",
      "model_name": "ButtonModel",
      "state": {
       "button_style": "success",
       "description": "Run workflow with validated input",
       "icon": "play",
       "layout": "IPY_MODEL_3f2332b9854044a1a1564b267b328a6f",
       "style": "IPY_MODEL_8e97668367744c28a1f4b46110ab2856"
      }
     },
     "25730cf6985b4602b738a24ebae3e62e": {
      "model_module": "@jupyter-widgets/base",
      "model_module_version": "1.0.0",
      "model_name": "LayoutModel",
      "state": {}
     },
     "2631538b9491484290cd75cb8ddf8869": {
      "model_module": "@jupyter-widgets/controls",
      "model_module_version": "1.0.0",
      "model_name": "VBoxModel",
      "state": {
       "children": [
        "IPY_MODEL_8e32db28027149c098c3d1526e644162"
       ],
       "layout": "IPY_MODEL_456fc9f58c6f43d4b1b89e2342965ef0"
      }
     },
     "27822a48dab3420caa6f4fc72d622eb5": {
      "model_module": "@jupyter-widgets/controls",
      "model_module_version": "1.0.0",
      "model_name": "HTMLModel",
      "state": {
       "layout": "IPY_MODEL_19f312f927d146c1963a13b884043437",
       "style": "IPY_MODEL_9bd5f6189696434a913d2a9b39c639f6",
       "value": "<strong>structure</strong>"
      }
     },
     "281589561fdf4e6da31725fc235c1c94": {
      "model_module": "@jupyter-widgets/controls",
      "model_module_version": "1.0.0",
      "model_name": "LabelModel",
      "state": {
       "layout": "IPY_MODEL_bcca98ece15a4e1fb42df8a95aee4112",
       "style": "IPY_MODEL_80f06f85f6ca4b6e85d187035ff5fa6a",
       "value": "VASP code to use: "
      }
     },
     "2a17bed0322e473395f19e43dc665f18": {
      "model_module": "@jupyter-widgets/base",
      "model_module_version": "1.0.0",
      "model_name": "LayoutModel",
      "state": {}
     },
     "2b403f543212477dbf3fe3ecbf5943e8": {
      "model_module": "@jupyter-widgets/base",
      "model_module_version": "1.0.0",
      "model_name": "LayoutModel",
      "state": {}
     },
     "2c6228ee76d5498697964a495d743e1d": {
      "model_module": "@jupyter-widgets/base",
      "model_module_version": "1.0.0",
      "model_name": "LayoutModel",
      "state": {}
     },
     "2cec864fd7f741c3a4e22e7e6af9bf91": {
      "model_module": "@jupyter-widgets/controls",
      "model_module_version": "1.0.0",
      "model_name": "HBoxModel",
      "state": {
       "children": [
        "IPY_MODEL_4fb6e2b1b52d4ed985c225d6387de8cc",
        "IPY_MODEL_8bc7bc88df604073bee7cdd89c6cbe6a"
       ],
       "layout": "IPY_MODEL_4eade9c471d14295af2e2c570a4a106f"
      }
     },
     "2e353be416064c25a24a5885e734b481": {
      "model_module": "@jupyter-widgets/controls",
      "model_module_version": "1.0.0",
      "model_name": "IntSliderModel",
      "state": {
       "continuous_update": false,
       "layout": "IPY_MODEL_fe7966b782594298a635c6c2a6c48927",
       "max": 24,
       "min": 1,
       "style": "IPY_MODEL_756e273273c440dda5faf593b03564e6",
       "value": 1
      }
     },
     "2e39c855d1c9433f91b86bb157702164": {
      "model_module": "@jupyter-widgets/controls",
      "model_module_version": "1.0.0",
      "model_name": "ButtonModel",
      "state": {
       "button_style": "info",
       "description": "Validate input",
       "disabled": true,
       "icon": "check",
       "layout": "IPY_MODEL_686b244dcdc74b419131eac593ac8eef",
       "style": "IPY_MODEL_c421781ab02f477cab3f84a94e768b19"
      }
     },
     "30b8c07135e2464eb6e8b0df181e97ec": {
      "model_module": "@jupyter-widgets/controls",
      "model_module_version": "1.0.0",
      "model_name": "AccordionModel",
      "state": {
       "_titles": {
        "0": "Advanced options"
       },
       "children": [
        "IPY_MODEL_735c67cc17304d16924f92f19c59c532"
       ],
       "layout": "IPY_MODEL_f500617f77d744eba6c6661ce941b7c5"
      }
     },
     "3215298335bd4dc488593e63d6f5a56d": {
      "model_module": "@jupyter-widgets/base",
      "model_module_version": "1.0.0",
      "model_name": "LayoutModel",
      "state": {}
     },
     "32b8484e4e3b4ace9b69fcebde3e5f9a": {
      "model_module": "@jupyter-widgets/controls",
      "model_module_version": "1.0.0",
      "model_name": "ImageModel",
      "state": {
       "layout": "IPY_MODEL_c76984d51c7f4adf844e534ab3823d5a",
       "value": {}
      }
     },
     "332fdb391bd04065b0348972bd141a24": {
      "model_module": "@jupyter-widgets/controls",
      "model_module_version": "1.0.0",
      "model_name": "LabelModel",
      "state": {
       "layout": "IPY_MODEL_717c2995d11748caa3a1d4f5850dceb0",
       "style": "IPY_MODEL_53c3e4157cfa48c1a41010751b84b60d",
       "value": "Maximum walltime per job (hours)"
      }
     },
     "34300b7f1f154b28aa58e249da2a64a8": {
      "model_module": "@jupyter-widgets/base",
      "model_module_version": "1.0.0",
      "model_name": "LayoutModel",
      "state": {}
     },
     "34af5b2a14474bb2ba3908428f9974a5": {
      "model_module": "@jupyter-widgets/base",
      "model_module_version": "1.0.0",
      "model_name": "LayoutModel",
      "state": {}
     },
     "34b0b89586b343ca808d90d27fc47b0a": {
      "model_module": "@jupyter-widgets/base",
      "model_module_version": "1.0.0",
      "model_name": "LayoutModel",
      "state": {}
     },
     "34b8b163396d4911bc5f8e8ff865c9ac": {
      "model_module": "@jupyter-widgets/base",
      "model_module_version": "1.0.0",
      "model_name": "LayoutModel",
      "state": {}
     },
     "34c74d485a53424a99c9261ee8d0e3ad": {
      "model_module": "@jupyter-widgets/controls",
      "model_module_version": "1.0.0",
      "model_name": "DescriptionStyleModel",
      "state": {
       "description_width": ""
      }
     },
     "34ea3e2a7d684fe38f4bf231170e5b8c": {
      "model_module": "@jupyter-widgets/base",
      "model_module_version": "1.0.0",
      "model_name": "LayoutModel",
      "state": {}
     },
     "3505d83491854ed4ab9d198ca506d991": {
      "model_module": "@jupyter-widgets/base",
      "model_module_version": "1.0.0",
      "model_name": "LayoutModel",
      "state": {}
     },
     "352661c6dba84a3fb89efe22e37cbe4e": {
      "model_module": "@jupyter-widgets/controls",
      "model_module_version": "1.0.0",
      "model_name": "ImageModel",
      "state": {
       "layout": "IPY_MODEL_9fc06c5a5679478998bc0fc0f0341cb0",
       "value": {}
      }
     },
     "35392e1b4e064815b17e59ad55d67d48": {
      "model_module": "@jupyter-widgets/controls",
      "model_module_version": "1.0.0",
      "model_name": "LabelModel",
      "state": {
       "layout": "IPY_MODEL_8a889992d064417488bd1e75151e9326",
       "style": "IPY_MODEL_f4eb928debc34e9799b5f7621858e7f7",
       "value": "Sites"
      }
     },
     "355b0e9059cc4c719f720dc1eb800a83": {
      "model_module": "@jupyter-widgets/controls",
      "model_module_version": "1.0.0",
      "model_name": "HTMLModel",
      "state": {
       "layout": "IPY_MODEL_4bfc7d8a669343b08511810990989e19",
       "style": "IPY_MODEL_bedf90044beb4b1b9949668ffddf62fa",
       "value": "<strong>general parameters</strong>"
      }
     },
     "357744ed66ab4fb089e10ae1baa0da5a": {
      "model_module": "@jupyter-widgets/base",
      "model_module_version": "1.0.0",
      "model_name": "LayoutModel",
      "state": {
       "width": "initial"
      }
     },
     "37c7c28a91b248dc87be68462e18d7b9": {
      "model_module": "@jupyter-widgets/base",
      "model_module_version": "1.0.0",
      "model_name": "LayoutModel",
      "state": {}
     },
     "37e80ee937594305a1ef794fe704803c": {
      "model_module": "@jupyter-widgets/controls",
      "model_module_version": "1.0.0",
      "model_name": "VBoxModel",
      "state": {
       "children": [
        "IPY_MODEL_5d98e457a17d4f39a5c308d7b9a6c976"
       ],
       "layout": "IPY_MODEL_18ec7dc429514cb082a3507a9343781d"
      }
     },
     "39287f30de9c440cb98d62f7074bd65c": {
      "model_module": "@jupyter-widgets/controls",
      "model_module_version": "1.0.0",
      "model_name": "HBoxModel",
      "state": {
       "children": [
        "IPY_MODEL_3b586ff503454c61bc7e74d734e45ca1",
        "IPY_MODEL_9d06209dc6b24a4a942af836b35e2a54"
       ],
       "layout": "IPY_MODEL_dc0392ddb0f34d6c866d4965005ea333"
      }
     },
     "39992f2ba5b6456c953343763545084d": {
      "model_module": "@jupyter-widgets/controls",
      "model_module_version": "1.0.0",
      "model_name": "ButtonStyleModel",
      "state": {}
     },
     "399f74d0b3d847fbbcdea5d800da3d57": {
      "model_module": "@jupyter-widgets/controls",
      "model_module_version": "1.0.0",
      "model_name": "ImageModel",
      "state": {
       "layout": "IPY_MODEL_23f223f63d94425d8bb8c67989698618",
       "value": {}
      }
     },
     "39f30e10e5dc4f36a5baa1507377ab3f": {
      "model_module": "@jupyter-widgets/controls",
      "model_module_version": "1.0.0",
      "model_name": "ButtonModel",
      "state": {
       "button_style": "info",
       "description": "Validate input",
       "icon": "check",
       "layout": "IPY_MODEL_e6e6369a3a6947b283a1960b0c69df5a",
       "style": "IPY_MODEL_97e05a95fa3f445db64c9c019d1e16c8"
      }
     },
     "3a48ff5c2f9744679b87ea7f0f639730": {
      "model_module": "@jupyter-widgets/base",
      "model_module_version": "1.0.0",
      "model_name": "LayoutModel",
      "state": {}
     },
     "3b586ff503454c61bc7e74d734e45ca1": {
      "model_module": "@jupyter-widgets/controls",
      "model_module_version": "1.0.0",
      "model_name": "CheckboxModel",
      "state": {
       "description": "Use an example structure",
       "disabled": false,
       "layout": "IPY_MODEL_bebddc30ac08486984ef9e222e2dfd9a",
       "style": "IPY_MODEL_5ae59080d5bd4dad80d9f17c1d40a3fe",
       "value": true
      }
     },
     "3b7c379785be4f8183b69a57a13bd3eb": {
      "model_module": "@jupyter-widgets/controls",
      "model_module_version": "1.0.0",
      "model_name": "ButtonStyleModel",
      "state": {}
     },
     "3cb7f7258e7645f4b80849bd986ec63c": {
      "model_module": "@jupyter-widgets/controls",
      "model_module_version": "1.0.0",
      "model_name": "ButtonModel",
      "state": {
       "button_style": "success",
       "description": "Run workflow with validated input",
       "disabled": true,
       "icon": "play",
       "layout": "IPY_MODEL_08f4df619c8b4e61acdbb56ddeed056c",
       "style": "IPY_MODEL_0682e0f7ad374a79985119fe66df76a4"
      }
     },
     "3f2332b9854044a1a1564b267b328a6f": {
      "model_module": "@jupyter-widgets/base",
      "model_module_version": "1.0.0",
      "model_name": "LayoutModel",
      "state": {
       "width": "initial"
      }
     },
     "40e57ba86ef343779dbeaf85ec651d25": {
      "model_module": "@jupyter-widgets/controls",
      "model_module_version": "1.0.0",
      "model_name": "DescriptionStyleModel",
      "state": {
       "description_width": ""
      }
     },
     "42c1298a60fd4910a43121463bbf7fc3": {
      "model_module": "@jupyter-widgets/base",
      "model_module_version": "1.0.0",
      "model_name": "LayoutModel",
      "state": {}
     },
     "4451f0e19b3c4072a62855fd85ee4309": {
      "model_module": "@jupyter-widgets/controls",
      "model_module_version": "1.0.0",
      "model_name": "HBoxModel",
      "state": {
       "children": [
        "IPY_MODEL_024b3434d7704d9ca4417cde7a842486"
       ],
       "layout": "IPY_MODEL_47d14a95a3a44b278cfa3e4dd3c09521"
      }
     },
     "456fc9f58c6f43d4b1b89e2342965ef0": {
      "model_module": "@jupyter-widgets/base",
      "model_module_version": "1.0.0",
      "model_name": "LayoutModel",
      "state": {}
     },
     "47869335945b420da0db3ba2c3197d1c": {
      "model_module": "@jupyter-widgets/controls",
      "model_module_version": "1.0.0",
      "model_name": "DescriptionStyleModel",
      "state": {
       "description_width": ""
      }
     },
     "47d14a95a3a44b278cfa3e4dd3c09521": {
      "model_module": "@jupyter-widgets/base",
      "model_module_version": "1.0.0",
      "model_name": "LayoutModel",
      "state": {}
     },
     "48392823f23b474f9a65accd622651d4": {
      "model_module": "@jupyter-widgets/controls",
      "model_module_version": "1.0.0",
      "model_name": "HTMLModel",
      "state": {
       "layout": "IPY_MODEL_b8f8df1a33524109af348ef087187c43",
       "style": "IPY_MODEL_e5f526c6188d4bff99f95727c1733a87",
       "value": "<a target=\"_blank\" href=\"phonon%20status%20monitor.ipynb?wf_pk=2565\">Monitor the status and check results of workflow 2565</a>."
      }
     },
     "48da1d74c1f34be1818e9cdffeeb217b": {
      "model_module": "@jupyter-widgets/base",
      "model_module_version": "1.0.0",
      "model_name": "LayoutModel",
      "state": {}
     },
     "4959e615538e4ef1b6178c5bf7dab294": {
      "model_module": "@jupyter-widgets/controls",
      "model_module_version": "1.0.0",
      "model_name": "DescriptionStyleModel",
      "state": {
       "description_width": ""
      }
     },
     "4ab2f1f759784d198953212829366072": {
      "model_module": "@jupyter-widgets/base",
      "model_module_version": "1.0.0",
      "model_name": "LayoutModel",
      "state": {}
     },
     "4bfc7d8a669343b08511810990989e19": {
      "model_module": "@jupyter-widgets/base",
      "model_module_version": "1.0.0",
      "model_name": "LayoutModel",
      "state": {}
     },
     "4cce68c709b4491b83a5142e8cfb45ac": {
      "model_module": "@jupyter-widgets/controls",
      "model_module_version": "1.0.0",
      "model_name": "HBoxModel",
      "state": {
       "children": [
        "IPY_MODEL_281589561fdf4e6da31725fc235c1c94",
        "IPY_MODEL_8c8f5d5be00040e08b5090cfc0997244",
        "IPY_MODEL_e425cd5ca008407da651cdd85109a104"
       ],
       "layout": "IPY_MODEL_eb95952edd8941bbb25c2cd99b10e920"
      }
     },
     "4d824136f9094703a4ee3142d1619aea": {
      "model_module": "@jupyter-widgets/base",
      "model_module_version": "1.0.0",
      "model_name": "LayoutModel",
      "state": {}
     },
     "4eade9c471d14295af2e2c570a4a106f": {
      "model_module": "@jupyter-widgets/base",
      "model_module_version": "1.0.0",
      "model_name": "LayoutModel",
      "state": {}
     },
     "4eca2d02e3dc48ff8132dd6becd0a6d3": {
      "model_module": "@jupyter-widgets/controls",
      "model_module_version": "1.0.0",
      "model_name": "VBoxModel",
      "state": {
       "children": [
        "IPY_MODEL_524f6157df724b95892071a1a2840e08",
        "IPY_MODEL_e91118ed816946f0adb0915785a3c927",
        "IPY_MODEL_39287f30de9c440cb98d62f7074bd65c"
       ],
       "layout": "IPY_MODEL_be26961ca57044eda013bf9bafe0fd96"
      }
     },
     "4fb6e2b1b52d4ed985c225d6387de8cc": {
      "model_module": "@jupyter-widgets/controls",
      "model_module_version": "1.0.0",
      "model_name": "LabelModel",
      "state": {
       "layout": "IPY_MODEL_1d663f2b03dc4d0b842e0f87d294fe7e",
       "style": "IPY_MODEL_bd14d728f07344069264fb07f9bb70dd",
       "value": "Maximum number of compute nodes"
      }
     },
     "5127ae2433f44bc4b3303b77deebd79d": {
      "model_module": "@jupyter-widgets/controls",
      "model_module_version": "1.0.0",
      "model_name": "DescriptionStyleModel",
      "state": {
       "description_width": ""
      }
     },
     "51ee4594f6c14730870e351f0a3afb9f": {
      "model_module": "@jupyter-widgets/controls",
      "model_module_version": "1.0.0",
      "model_name": "HBoxModel",
      "state": {
       "children": [
        "IPY_MODEL_2e39c855d1c9433f91b86bb157702164"
       ],
       "layout": "IPY_MODEL_83ee1171ed4b456c88b97754a7921607"
      }
     },
     "524f6157df724b95892071a1a2840e08": {
      "model_module": "@jupyter-widgets/base",
      "model_module_version": "1.0.0",
      "model_name": "DOMWidgetModel",
      "state": {
       "_dom_classes": [
        "widget_item",
        "btn-group"
       ],
       "_model_name": "DOMWidgetModel",
       "_view_module": "fileupload",
       "_view_module_version": "",
       "_view_name": "FileUploadView",
       "data_base64": "",
       "filename": "",
       "label": "Upload Structure",
       "layout": "IPY_MODEL_19e009fb6e914731a7153362dbc5c455"
      }
     },
     "53c3e4157cfa48c1a41010751b84b60d": {
      "model_module": "@jupyter-widgets/controls",
      "model_module_version": "1.0.0",
      "model_name": "DescriptionStyleModel",
      "state": {
       "description_width": ""
      }
     },
     "5490e7e621ef4226acfde8b3922878f8": {
      "model_module": "@jupyter-widgets/controls",
      "model_module_version": "1.0.0",
      "model_name": "RadioButtonsModel",
      "state": {
       "_options_labels": [
        "ISIF = 4",
        "ISIF = 3"
       ],
       "index": 0,
       "layout": "IPY_MODEL_e25243ed71d440228c431994cc2779af",
       "style": "IPY_MODEL_5127ae2433f44bc4b3303b77deebd79d"
      }
     },
     "5514031c04714375ac0fb50d1b9f95bb": {
      "model_module": "@jupyter-widgets/base",
      "model_module_version": "1.0.0",
      "model_name": "LayoutModel",
      "state": {}
     },
     "5616f9b387c6455ab15eb054a9bc8e19": {
      "model_module": "@jupyter-widgets/controls",
      "model_module_version": "1.0.0",
      "model_name": "ButtonStyleModel",
      "state": {}
     },
     "5717bc90442d4ee4bf92a87350bc7aa1": {
      "model_module": "@jupyter-widgets/controls",
      "model_module_version": "1.0.0",
      "model_name": "DescriptionStyleModel",
      "state": {
       "description_width": ""
      }
     },
     "574e1f5e8630464db1c0fa1f9beb7109": {
      "model_module": "@jupyter-widgets/controls",
      "model_module_version": "1.0.0",
      "model_name": "DescriptionStyleModel",
      "state": {
       "description_width": ""
      }
     },
     "577057ad2585472982279cc4b97b0f5b": {
      "model_module": "@jupyter-widgets/controls",
      "model_module_version": "1.0.0",
      "model_name": "DescriptionStyleModel",
      "state": {
       "description_width": ""
      }
     },
     "58fbca12adbb4d2aa0daca4e26776fe7": {
      "model_module": "@jupyter-widgets/controls",
      "model_module_version": "1.0.0",
      "model_name": "VBoxModel",
      "state": {
       "layout": "IPY_MODEL_8d478d4902334ff5ba9fa91039271d79"
      }
     },
     "59f99f7d0e114ae3904850fb91d00b3a": {
      "model_module": "@jupyter-widgets/base",
      "model_module_version": "1.0.0",
      "model_name": "LayoutModel",
      "state": {}
     },
     "5ae59080d5bd4dad80d9f17c1d40a3fe": {
      "model_module": "@jupyter-widgets/controls",
      "model_module_version": "1.0.0",
      "model_name": "DescriptionStyleModel",
      "state": {
       "description_width": ""
      }
     },
     "5b8e1a246cb941d49723af6b0d92e0ce": {
      "model_module": "@jupyter-widgets/controls",
      "model_module_version": "1.0.0",
      "model_name": "VBoxModel",
      "state": {
       "children": [
        "IPY_MODEL_e81f815fa93649f19d91a1162577d933",
        "IPY_MODEL_ba7b26f3a91c43439c7447955cce54cc",
        "IPY_MODEL_ffbc756ca8aa4076b78bc93489f4b5ed"
       ],
       "layout": "IPY_MODEL_9bf9535d68d74caf8eafebeb853fdac3"
      }
     },
     "5d98e457a17d4f39a5c308d7b9a6c976": {
      "model_module": "@jupyter-widgets/controls",
      "model_module_version": "1.0.0",
      "model_name": "HBoxModel",
      "state": {
       "children": [
        "IPY_MODEL_8cab83723379442ab464c394eaa84cbc",
        "IPY_MODEL_12111609151340ed92cec3b1a5143e69"
       ],
       "layout": "IPY_MODEL_25730cf6985b4602b738a24ebae3e62e"
      }
     },
     "600a513bbbab427887cdf34684a11241": {
      "model_module": "@jupyter-widgets/controls",
      "model_module_version": "1.0.0",
      "model_name": "HTMLModel",
      "state": {
       "layout": "IPY_MODEL_08d987c06f3647419d9ebf0e1af3f51b",
       "style": "IPY_MODEL_2253e11b77d04fd9a248bb8238461cc5",
       "value": "<strong>structure</strong>"
      }
     },
     "614d8ddd198d48a99acc6e346c1b2c86": {
      "model_module": "@jupyter-widgets/base",
      "model_module_version": "1.0.0",
      "model_name": "LayoutModel",
      "state": {}
     },
     "624c0d60511c4b3ab1e53dc63fa43229": {
      "model_module": "@jupyter-widgets/controls",
      "model_module_version": "1.0.0",
      "model_name": "DescriptionStyleModel",
      "state": {
       "description_width": ""
      }
     },
     "62e96416e1364b8e9ce3e9b82614e4ea": {
      "model_module": "@jupyter-widgets/controls",
      "model_module_version": "1.0.0",
      "model_name": "HBoxModel",
      "state": {
       "children": [
        "IPY_MODEL_c681fd0014b241aab419ca4c3789b35c"
       ],
       "layout": "IPY_MODEL_dcaac1b229f44594a063d5c30b57cc08"
      }
     },
     "62fbe43818a8465fbb17db6f3cdcbb67": {
      "model_module": "@jupyter-widgets/controls",
      "model_module_version": "1.0.0",
      "model_name": "HBoxModel",
      "state": {
       "children": [
        "IPY_MODEL_c681fd0014b241aab419ca4c3789b35c"
       ],
       "layout": "IPY_MODEL_b2bb88d0585140efacb2d33ad0b9412c"
      }
     },
     "64699009ebf74ce9bd337e50cb0622c2": {
      "model_module": "@jupyter-widgets/base",
      "model_module_version": "1.0.0",
      "model_name": "LayoutModel",
      "state": {}
     },
     "64a7b07e5aac400d8ec9bf0127fac37f": {
      "model_module": "@jupyter-widgets/controls",
      "model_module_version": "1.0.0",
      "model_name": "ButtonModel",
      "state": {
       "button_style": "info",
       "description": "Validate input",
       "disabled": true,
       "icon": "check",
       "layout": "IPY_MODEL_798d2dc406a0455e996ce80dd7987b4c",
       "style": "IPY_MODEL_bb41700192994f7cbf325983ad14259f"
      }
     },
     "657a7c452ff94c4aba74a4f6b0ff265c": {
      "model_module": "@jupyter-widgets/base",
      "model_module_version": "1.0.0",
      "model_name": "LayoutModel",
      "state": {}
     },
     "66902d621f414813b25c59c9ee6c5e72": {
      "model_module": "@jupyter-widgets/base",
      "model_module_version": "1.0.0",
      "model_name": "LayoutModel",
      "state": {}
     },
     "67f4d4035bb345d298c196f3527cdba8": {
      "model_module": "@jupyter-widgets/base",
      "model_module_version": "1.0.0",
      "model_name": "LayoutModel",
      "state": {}
     },
     "686b244dcdc74b419131eac593ac8eef": {
      "model_module": "@jupyter-widgets/base",
      "model_module_version": "1.0.0",
      "model_name": "LayoutModel",
      "state": {}
     },
     "69d237bd54c4443ea48c4601c0f1ee9d": {
      "model_module": "@jupyter-widgets/controls",
      "model_module_version": "1.0.0",
      "model_name": "HTMLModel",
      "state": {
       "layout": "IPY_MODEL_0a2388401abc4d59980d3a6b4f12fe52",
       "style": "IPY_MODEL_577057ad2585472982279cc4b97b0f5b",
       "value": "The workflow was run with <strong>workflow ID = 2565</strong>. Please note down this number for future reference."
      }
     },
     "6c27ca88935142fd88b1ac6aab8eac7c": {
      "model_module": "@jupyter-widgets/controls",
      "model_module_version": "1.0.0",
      "model_name": "DescriptionStyleModel",
      "state": {
       "description_width": ""
      }
     },
     "6f2542a6a9124fd9a229e3b59ce59a5b": {
      "model_module": "@jupyter-widgets/controls",
      "model_module_version": "1.0.0",
      "model_name": "HBoxModel",
      "state": {
       "children": [
        "IPY_MODEL_332fdb391bd04065b0348972bd141a24",
        "IPY_MODEL_2e353be416064c25a24a5885e734b481"
       ],
       "layout": "IPY_MODEL_d98478f34c82459eb656ea3f0d2eb8f2"
      }
     },
     "707bf641f103469bad3ff3b8fd9ed511": {
      "model_module": "@jupyter-widgets/controls",
      "model_module_version": "1.0.0",
      "model_name": "AccordionModel",
      "state": {
       "_titles": {
        "0": "Main input"
       },
       "children": [
        "IPY_MODEL_873e61c6544a40aeb96ca656ddf29aa1"
       ],
       "layout": "IPY_MODEL_c2530f5e266542b4a71c6366596b323a"
      }
     },
     "70a85661251940da80da036d861f5f7a": {
      "model_module": "@jupyter-widgets/controls",
      "model_module_version": "1.0.0",
      "model_name": "LabelModel",
      "state": {
       "layout": "IPY_MODEL_3215298335bd4dc488593e63d6f5a56d",
       "style": "IPY_MODEL_eda468d4bf304336963a02aecc02c0fe",
       "value": "Sites"
      }
     },
     "70e8c45d80e14c379ff990c293238efd": {
      "model_module": "@jupyter-widgets/base",
      "model_module_version": "1.0.0",
      "model_name": "LayoutModel",
      "state": {}
     },
     "717c2995d11748caa3a1d4f5850dceb0": {
      "model_module": "@jupyter-widgets/base",
      "model_module_version": "1.0.0",
      "model_name": "LayoutModel",
      "state": {}
     },
     "7270887b27e941388bd87bc4019398bf": {
      "model_module": "@jupyter-widgets/controls",
      "model_module_version": "1.0.0",
      "model_name": "HTMLModel",
      "state": {
       "layout": "IPY_MODEL_d997ae6c1023485fb1b4bb6f76dcbdca",
       "style": "IPY_MODEL_1eccb0f5fbba43a28d9dbee318e7901d"
      }
     },
     "72fb1d16c5204b2ca0a75758f9bdb13e": {
      "model_module": "@jupyter-widgets/base",
      "model_module_version": "1.0.0",
      "model_name": "LayoutModel",
      "state": {}
     },
     "735c67cc17304d16924f92f19c59c532": {
      "model_module": "@jupyter-widgets/controls",
      "model_module_version": "1.0.0",
      "model_name": "VBoxModel",
      "state": {
       "children": [
        "IPY_MODEL_6f2542a6a9124fd9a229e3b59ce59a5b"
       ],
       "layout": "IPY_MODEL_8083b1d8b3f443a88e1bc0d472461aba"
      }
     },
     "746133ee768d4587b4390009add2280a": {
      "model_module": "@jupyter-widgets/base",
      "model_module_version": "1.0.0",
      "model_name": "LayoutModel",
      "state": {}
     },
     "756e273273c440dda5faf593b03564e6": {
      "model_module": "@jupyter-widgets/controls",
      "model_module_version": "1.0.0",
      "model_name": "SliderStyleModel",
      "state": {
       "description_width": ""
      }
     },
     "75d29b5ee13e48aeae46cefc47d07711": {
      "model_module": "@jupyter-widgets/base",
      "model_module_version": "1.0.0",
      "model_name": "LayoutModel",
      "state": {}
     },
     "764a4c4c38bd43b4839ac5defdff0017": {
      "model_module": "@jupyter-widgets/base",
      "model_module_version": "1.0.0",
      "model_name": "LayoutModel",
      "state": {}
     },
     "7721a848aa814cd78daf4eadc18d46c3": {
      "model_module": "@jupyter-widgets/controls",
      "model_module_version": "1.0.0",
      "model_name": "VBoxModel",
      "state": {
       "children": [
        "IPY_MODEL_6f2542a6a9124fd9a229e3b59ce59a5b"
       ],
       "layout": "IPY_MODEL_34af5b2a14474bb2ba3908428f9974a5"
      }
     },
     "78c4682ca25c4f079fdbc794b11dddc6": {
      "model_module": "@jupyter-widgets/controls",
      "model_module_version": "1.0.0",
      "model_name": "AccordionModel",
      "state": {
       "_titles": {
        "0": "Computers, codes and parallelization"
       },
       "children": [
        "IPY_MODEL_0e1ee71c602a4bd8b7ddc091995bc2c3"
       ],
       "layout": "IPY_MODEL_dfea329900d2404da6b609675391ec5c"
      }
     },
     "798d2dc406a0455e996ce80dd7987b4c": {
      "model_module": "@jupyter-widgets/base",
      "model_module_version": "1.0.0",
      "model_name": "LayoutModel",
      "state": {}
     },
     "7a75d9c3d51e4880b9e978be5b30d81c": {
      "model_module": "@jupyter-widgets/controls",
      "model_module_version": "1.0.0",
      "model_name": "HTMLModel",
      "state": {
       "layout": "IPY_MODEL_64699009ebf74ce9bd337e50cb0622c2",
       "style": "IPY_MODEL_e23f99d6d0474063a21c27e34ffaff23",
       "value": "<a target=\"_blank\" href=\"phonon%20status%20monitor.ipynb?wf_pk=2561\">Monitor the status and check results of workflow 2561</a>."
      }
     },
     "7a97088c4b02409fb14a76293b06f6eb": {
      "model_module": "@jupyter-widgets/base",
      "model_module_version": "1.0.0",
      "model_name": "LayoutModel",
      "state": {}
     },
     "7e25f66a3f224a50b223a86ca9fac3c0": {
      "model_module": "@jupyter-widgets/controls",
      "model_module_version": "1.0.0",
      "model_name": "HBoxModel",
      "state": {
       "children": [
        "IPY_MODEL_c681fd0014b241aab419ca4c3789b35c"
       ],
       "layout": "IPY_MODEL_2a17bed0322e473395f19e43dc665f18"
      }
     },
     "7fff6976b56e49e5b7b54f759c736611": {
      "model_module": "@jupyter-widgets/controls",
      "model_module_version": "1.0.0",
      "model_name": "DescriptionStyleModel",
      "state": {
       "description_width": ""
      }
     },
     "8062e70dce7e49348cc3f2c9996c750e": {
      "model_module": "@jupyter-widgets/controls",
      "model_module_version": "1.0.0",
      "model_name": "HBoxModel",
      "state": {
       "layout": "IPY_MODEL_9906d62f1be045a389a38491f79e6fc4"
      }
     },
     "8083b1d8b3f443a88e1bc0d472461aba": {
      "model_module": "@jupyter-widgets/base",
      "model_module_version": "1.0.0",
      "model_name": "LayoutModel",
      "state": {}
     },
     "80b2bb3caa6b43a6b07d9200b856751e": {
      "model_module": "@jupyter-widgets/base",
      "model_module_version": "1.0.0",
      "model_name": "LayoutModel",
      "state": {}
     },
     "80f06f85f6ca4b6e85d187035ff5fa6a": {
      "model_module": "@jupyter-widgets/controls",
      "model_module_version": "1.0.0",
      "model_name": "DescriptionStyleModel",
      "state": {
       "description_width": ""
      }
     },
     "816ada906b5f45048c017a22a87b9b9a": {
      "model_module": "@jupyter-widgets/controls",
      "model_module_version": "1.0.0",
      "model_name": "DropdownModel",
      "state": {
       "_options_labels": [
        "Diamond",
        "Aluminum",
        "GaAs",
        "Cobalt",
        "Silicon"
       ],
       "index": 4,
       "layout": "IPY_MODEL_4ab2f1f759784d198953212829366072",
       "style": "IPY_MODEL_47869335945b420da0db3ba2c3197d1c"
      }
     },
     "825833945c7e40a4a5d9b1a13ca08150": {
      "model_module": "@jupyter-widgets/controls",
      "model_module_version": "1.0.0",
      "model_name": "ButtonModel",
      "state": {
       "button_style": "info",
       "description": "Validate input",
       "disabled": true,
       "icon": "check",
       "layout": "IPY_MODEL_c7823f3939e643f6a406f03e0d3d9aba",
       "style": "IPY_MODEL_df210a3fd53f469fa5badbdbf70b90f0"
      }
     },
     "83ee1171ed4b456c88b97754a7921607": {
      "model_module": "@jupyter-widgets/base",
      "model_module_version": "1.0.0",
      "model_name": "LayoutModel",
      "state": {}
     },
     "873e61c6544a40aeb96ca656ddf29aa1": {
      "model_module": "@jupyter-widgets/controls",
      "model_module_version": "1.0.0",
      "model_name": "VBoxModel",
      "state": {
       "children": [
        "IPY_MODEL_8e32db28027149c098c3d1526e644162"
       ],
       "layout": "IPY_MODEL_0ee80b8115ac4fee953bb0eb0c6b9838"
      }
     },
     "87660b67c13542d18aaff0d71cd91e97": {
      "model_module": "@jupyter-widgets/base",
      "model_module_version": "1.0.0",
      "model_name": "LayoutModel",
      "state": {}
     },
     "8a889992d064417488bd1e75151e9326": {
      "model_module": "@jupyter-widgets/base",
      "model_module_version": "1.0.0",
      "model_name": "LayoutModel",
      "state": {}
     },
     "8bc7bc88df604073bee7cdd89c6cbe6a": {
      "model_module": "@jupyter-widgets/controls",
      "model_module_version": "1.0.0",
      "model_name": "IntSliderModel",
      "state": {
       "continuous_update": false,
       "layout": "IPY_MODEL_247ab9ed8493451b9db0cb24529a9a9a",
       "max": 8,
       "min": 1,
       "style": "IPY_MODEL_d248e122bc884ae991a3241c03c0957d",
       "value": 2
      }
     },
     "8be12bf2884a44c0b54915903254de52": {
      "model_module": "@jupyter-widgets/controls",
      "model_module_version": "1.0.0",
      "model_name": "AccordionModel",
      "state": {
       "_titles": {
        "0": "Computers, codes and parallelization"
       },
       "children": [
        "IPY_MODEL_0d9032eb2cb94b6ca597089085e00a84"
       ],
       "layout": "IPY_MODEL_657a7c452ff94c4aba74a4f6b0ff265c"
      }
     },
     "8c8f5d5be00040e08b5090cfc0997244": {
      "model_module": "@jupyter-widgets/controls",
      "model_module_version": "1.0.0",
      "model_name": "DropdownModel",
      "state": {
       "_options_labels": [
        "{'VASP': 'vasp@monch'}"
       ],
       "disabled": true,
       "index": 0,
       "layout": "IPY_MODEL_70e8c45d80e14c379ff990c293238efd",
       "style": "IPY_MODEL_40e57ba86ef343779dbeaf85ec651d25"
      }
     },
     "8cab83723379442ab464c394eaa84cbc": {
      "model_module": "@jupyter-widgets/controls",
      "model_module_version": "1.0.0",
      "model_name": "LabelModel",
      "state": {
       "layout": "IPY_MODEL_cbefa871e9b14972b2bc04cb062dec15",
       "style": "IPY_MODEL_7fff6976b56e49e5b7b54f759c736611",
       "value": "k-points distance (smaller is slower and more accurate)"
      }
     },
     "8d478d4902334ff5ba9fa91039271d79": {
      "model_module": "@jupyter-widgets/base",
      "model_module_version": "1.0.0",
      "model_name": "LayoutModel",
      "state": {}
     },
     "8d84a103f82c40c796fdebb3d0d03ef4": {
      "model_module": "@jupyter-widgets/controls",
      "model_module_version": "1.0.0",
      "model_name": "VBoxModel",
      "state": {
       "layout": "IPY_MODEL_3505d83491854ed4ab9d198ca506d991"
      }
     },
     "8e22576d91ee4448819fae80f2607562": {
      "model_module": "@jupyter-widgets/base",
      "model_module_version": "1.0.0",
      "model_name": "LayoutModel",
      "state": {}
     },
     "8e32db28027149c098c3d1526e644162": {
      "model_module": "@jupyter-widgets/controls",
      "model_module_version": "1.0.0",
      "model_name": "HBoxModel",
      "state": {
       "children": [
        "IPY_MODEL_f68ceda8fe614a7e9facdc466c194564",
        "IPY_MODEL_5490e7e621ef4226acfde8b3922878f8"
       ],
       "layout": "IPY_MODEL_4d824136f9094703a4ee3142d1619aea"
      }
     },
     "8e97668367744c28a1f4b46110ab2856": {
      "model_module": "@jupyter-widgets/controls",
      "model_module_version": "1.0.0",
      "model_name": "ButtonStyleModel",
      "state": {}
     },
     "8eb6c94f9e88438cb445884fdaa31318": {
      "model_module": "@jupyter-widgets/controls",
      "model_module_version": "1.0.0",
      "model_name": "LabelModel",
      "state": {
       "layout": "IPY_MODEL_3a48ff5c2f9744679b87ea7f0f639730",
       "style": "IPY_MODEL_db48d59e974d4373b5d300bf1942a66b",
       "value": "Cell"
      }
     },
     "8ede3eb651ef4ae2bec8fd514593d336": {
      "model_module": "@jupyter-widgets/controls",
      "model_module_version": "1.0.0",
      "model_name": "VBoxModel",
      "state": {
       "children": [
        "IPY_MODEL_69d237bd54c4443ea48c4601c0f1ee9d",
        "IPY_MODEL_48392823f23b474f9a65accd622651d4"
       ],
       "layout": "IPY_MODEL_250b7cca92034b25a14a8f2094f78000"
      }
     },
     "902f66c3e39a4aa98d85308b913e653c": {
      "model_module": "@jupyter-widgets/controls",
      "model_module_version": "1.0.0",
      "model_name": "DescriptionStyleModel",
      "state": {
       "description_width": ""
      }
     },
     "914e38a644274c7f8e808d934188ebd8": {
      "model_module": "@jupyter-widgets/controls",
      "model_module_version": "1.0.0",
      "model_name": "HBoxModel",
      "state": {
       "layout": "IPY_MODEL_caaa2b4e84a14080b366f5414a32ff74"
      }
     },
     "97e05a95fa3f445db64c9c019d1e16c8": {
      "model_module": "@jupyter-widgets/controls",
      "model_module_version": "1.0.0",
      "model_name": "ButtonStyleModel",
      "state": {}
     },
     "98851f7802294be78640fbee95e684a8": {
      "model_module": "@jupyter-widgets/controls",
      "model_module_version": "1.0.0",
      "model_name": "HBoxModel",
      "state": {
       "children": [
        "IPY_MODEL_39f30e10e5dc4f36a5baa1507377ab3f"
       ],
       "layout": "IPY_MODEL_2c6228ee76d5498697964a495d743e1d"
      }
     },
     "9906d62f1be045a389a38491f79e6fc4": {
      "model_module": "@jupyter-widgets/base",
      "model_module_version": "1.0.0",
      "model_name": "LayoutModel",
      "state": {}
     },
     "9bd5f6189696434a913d2a9b39c639f6": {
      "model_module": "@jupyter-widgets/controls",
      "model_module_version": "1.0.0",
      "model_name": "DescriptionStyleModel",
      "state": {
       "description_width": ""
      }
     },
     "9bf9535d68d74caf8eafebeb853fdac3": {
      "model_module": "@jupyter-widgets/base",
      "model_module_version": "1.0.0",
      "model_name": "LayoutModel",
      "state": {}
     },
     "9c12a84f64fb496c895bcd3f3395107f": {
      "model_module": "@jupyter-widgets/base",
      "model_module_version": "1.0.0",
      "model_name": "LayoutModel",
      "state": {}
     },
     "9cc7add90bbd460d91af3cd8e39db4c3": {
      "model_module": "@jupyter-widgets/controls",
      "model_module_version": "1.0.0",
      "model_name": "LabelModel",
      "state": {
       "layout": "IPY_MODEL_72fb1d16c5204b2ca0a75758f9bdb13e",
       "style": "IPY_MODEL_01ddbdd3350c4582b1c7c007844ea56d",
       "value": "Cell"
      }
     },
     "9cc81d99b6eb4937b9141ec0ef2b565f": {
      "model_module": "@jupyter-widgets/controls",
      "model_module_version": "1.0.0",
      "model_name": "AccordionModel",
      "state": {
       "_titles": {
        "0": "Crystal structure"
       },
       "children": [
        "IPY_MODEL_4eca2d02e3dc48ff8132dd6becd0a6d3"
       ],
       "layout": "IPY_MODEL_fbe1ce22faa74b71adfa31b8e1a0e473"
      }
     },
     "9d06209dc6b24a4a942af836b35e2a54": {
      "model_module": "@jupyter-widgets/controls",
      "model_module_version": "1.0.0",
      "model_name": "DropdownModel",
      "state": {
       "_options_labels": [
        "Diamond",
        "Aluminum",
        "GaAs",
        "Cobalt",
        "Silicon"
       ],
       "index": 4,
       "layout": "IPY_MODEL_48da1d74c1f34be1818e9cdffeeb217b",
       "style": "IPY_MODEL_34c74d485a53424a99c9261ee8d0e3ad"
      }
     },
     "9f9626174fcf469a939c4ea17ec1d55d": {
      "model_module": "@jupyter-widgets/base",
      "model_module_version": "1.0.0",
      "model_name": "LayoutModel",
      "state": {}
     },
     "9fc06c5a5679478998bc0fc0f0341cb0": {
      "model_module": "@jupyter-widgets/base",
      "model_module_version": "1.0.0",
      "model_name": "LayoutModel",
      "state": {}
     },
     "a3cc74fe276446609d621ae50fb8a8e5": {
      "model_module": "@jupyter-widgets/controls",
      "model_module_version": "1.0.0",
      "model_name": "VBoxModel",
      "state": {
       "layout": "IPY_MODEL_2334d666f70c43cfac99d419226e62b6"
      }
     },
     "aa0fda86542a4f1a9ce5c313e9409f46": {
      "model_module": "@jupyter-widgets/controls",
      "model_module_version": "1.0.0",
      "model_name": "ButtonModel",
      "state": {
       "button_style": "info",
       "description": "Validate input",
       "icon": "check",
       "layout": "IPY_MODEL_34b8b163396d4911bc5f8e8ff865c9ac",
       "style": "IPY_MODEL_39992f2ba5b6456c953343763545084d"
      }
     },
     "ab81ea678acc4bf1b536cfee14409217": {
      "model_module": "@jupyter-widgets/controls",
      "model_module_version": "1.0.0",
      "model_name": "HTMLModel",
      "state": {
       "layout": "IPY_MODEL_c0a1894a9129490cbc6b8a0d1c418b5d",
       "style": "IPY_MODEL_b235cc40050b4129a9c68504c20c5271",
       "value": "<strong>general parameters</strong>"
      }
     },
     "ac1e65da3eae4e619128f7ef1eea9866": {
      "model_module": "@jupyter-widgets/controls",
      "model_module_version": "1.0.0",
      "model_name": "HBoxModel",
      "state": {
       "children": [
        "IPY_MODEL_c681fd0014b241aab419ca4c3789b35c"
       ],
       "layout": "IPY_MODEL_1bdac7e26e8d4ad49070761d180cd25f"
      }
     },
     "ac7800da5e3a42838d7eb838a0690b7c": {
      "model_module": "@jupyter-widgets/controls",
      "model_module_version": "1.0.0",
      "model_name": "ButtonModel",
      "state": {
       "button_style": "success",
       "description": "Run workflow with validated input",
       "icon": "play",
       "layout": "IPY_MODEL_357744ed66ab4fb089e10ae1baa0da5a",
       "style": "IPY_MODEL_5616f9b387c6455ab15eb054a9bc8e19"
      }
     },
     "ad1d625023534080a6ef44a2c4677282": {
      "model_module": "@jupyter-widgets/controls",
      "model_module_version": "1.0.0",
      "model_name": "VBoxModel",
      "state": {
       "children": [
        "IPY_MODEL_b5a7f1a0690f4e4781caf89852c23475",
        "IPY_MODEL_7a75d9c3d51e4880b9e978be5b30d81c"
       ],
       "layout": "IPY_MODEL_75d29b5ee13e48aeae46cefc47d07711"
      }
     },
     "ad5e12591ae847f48c8247a25448db37": {
      "model_module": "@jupyter-widgets/controls",
      "model_module_version": "1.0.0",
      "model_name": "ButtonStyleModel",
      "state": {}
     },
     "ada56a1f0afc412796570200627a0876": {
      "model_module": "@jupyter-widgets/base",
      "model_module_version": "1.0.0",
      "model_name": "LayoutModel",
      "state": {}
     },
     "ae9e9e16dc5240f59feeaca05129862d": {
      "model_module": "@jupyter-widgets/controls",
      "model_module_version": "1.0.0",
      "model_name": "VBoxModel",
      "state": {
       "layout": "IPY_MODEL_67f4d4035bb345d298c196f3527cdba8"
      }
     },
     "afe7ea13a4ce48a58651a454d5bb5d8c": {
      "model_module": "@jupyter-widgets/controls",
      "model_module_version": "1.0.0",
      "model_name": "HBoxModel",
      "state": {
       "children": [
        "IPY_MODEL_c681fd0014b241aab419ca4c3789b35c"
       ],
       "layout": "IPY_MODEL_34300b7f1f154b28aa58e249da2a64a8"
      }
     },
     "b1b218603dfb4e70a8901ce8059bf21d": {
      "model_module": "@jupyter-widgets/controls",
      "model_module_version": "1.0.0",
      "model_name": "AccordionModel",
      "state": {
       "_titles": {
        "0": "Main input"
       },
       "children": [
        "IPY_MODEL_2631538b9491484290cd75cb8ddf8869"
       ],
       "layout": "IPY_MODEL_746133ee768d4587b4390009add2280a"
      }
     },
     "b235cc40050b4129a9c68504c20c5271": {
      "model_module": "@jupyter-widgets/controls",
      "model_module_version": "1.0.0",
      "model_name": "DescriptionStyleModel",
      "state": {
       "description_width": ""
      }
     },
     "b2bb88d0585140efacb2d33ad0b9412c": {
      "model_module": "@jupyter-widgets/base",
      "model_module_version": "1.0.0",
      "model_name": "LayoutModel",
      "state": {}
     },
     "b3fa094a87c94764bb3f0e8d14a81129": {
      "model_module": "@jupyter-widgets/controls",
      "model_module_version": "1.0.0",
      "model_name": "VBoxModel",
      "state": {
       "children": [
        "IPY_MODEL_2cec864fd7f741c3a4e22e7e6af9bf91",
        "IPY_MODEL_1854e0f79b4f4e00b1ea0bca306a97c6"
       ],
       "layout": "IPY_MODEL_0943147c826349f19d5aefce6b598493"
      }
     },
     "b5a7f1a0690f4e4781caf89852c23475": {
      "model_module": "@jupyter-widgets/controls",
      "model_module_version": "1.0.0",
      "model_name": "HTMLModel",
      "state": {
       "layout": "IPY_MODEL_c4f183272fa14f59a024bff04b5e1451",
       "style": "IPY_MODEL_6c27ca88935142fd88b1ac6aab8eac7c",
       "value": "The workflow was run with <strong>workflow ID = 2561</strong>. Please note down this number for future reference."
      }
     },
     "b8f8df1a33524109af348ef087187c43": {
      "model_module": "@jupyter-widgets/base",
      "model_module_version": "1.0.0",
      "model_name": "LayoutModel",
      "state": {}
     },
     "b97a508f1ad648aca123bbbfa1c6c2ed": {
      "model_module": "@jupyter-widgets/base",
      "model_module_version": "1.0.0",
      "model_name": "LayoutModel",
      "state": {}
     },
     "b9bf61da131941f19e6b4846e7b5f46a": {
      "model_module": "@jupyter-widgets/controls",
      "model_module_version": "1.0.0",
      "model_name": "HBoxModel",
      "state": {
       "children": [
        "IPY_MODEL_aa0fda86542a4f1a9ce5c313e9409f46"
       ],
       "layout": "IPY_MODEL_34b0b89586b343ca808d90d27fc47b0a"
      }
     },
     "ba7b26f3a91c43439c7447955cce54cc": {
      "model_module": "@jupyter-widgets/controls",
      "model_module_version": "1.0.0",
      "model_name": "HTMLModel",
      "state": {
       "layout": "IPY_MODEL_b97a508f1ad648aca123bbbfa1c6c2ed",
       "style": "IPY_MODEL_e300cc3a34e340fda115c09ad603a1a1"
      }
     },
     "bb41700192994f7cbf325983ad14259f": {
      "model_module": "@jupyter-widgets/controls",
      "model_module_version": "1.0.0",
      "model_name": "ButtonStyleModel",
      "state": {}
     },
     "bcca98ece15a4e1fb42df8a95aee4112": {
      "model_module": "@jupyter-widgets/base",
      "model_module_version": "1.0.0",
      "model_name": "LayoutModel",
      "state": {}
     },
     "bd14d728f07344069264fb07f9bb70dd": {
      "model_module": "@jupyter-widgets/controls",
      "model_module_version": "1.0.0",
      "model_name": "DescriptionStyleModel",
      "state": {
       "description_width": ""
      }
     },
     "be26961ca57044eda013bf9bafe0fd96": {
      "model_module": "@jupyter-widgets/base",
      "model_module_version": "1.0.0",
      "model_name": "LayoutModel",
      "state": {}
     },
     "bebddc30ac08486984ef9e222e2dfd9a": {
      "model_module": "@jupyter-widgets/base",
      "model_module_version": "1.0.0",
      "model_name": "LayoutModel",
      "state": {}
     },
     "bedf90044beb4b1b9949668ffddf62fa": {
      "model_module": "@jupyter-widgets/controls",
      "model_module_version": "1.0.0",
      "model_name": "DescriptionStyleModel",
      "state": {
       "description_width": ""
      }
     },
     "c068e7bbe6384aebbe9d6a9919620c39": {
      "model_module": "@jupyter-widgets/base",
      "model_module_version": "1.0.0",
      "model_name": "LayoutModel",
      "state": {}
     },
     "c0a1894a9129490cbc6b8a0d1c418b5d": {
      "model_module": "@jupyter-widgets/base",
      "model_module_version": "1.0.0",
      "model_name": "LayoutModel",
      "state": {}
     },
     "c12d79d14f3846fa84f901be2c6daa81": {
      "model_module": "@jupyter-widgets/controls",
      "model_module_version": "1.0.0",
      "model_name": "CheckboxModel",
      "state": {
       "description": "Use an example structure",
       "disabled": false,
       "layout": "IPY_MODEL_e9eb65bdf84e4f519a04f46bfe76cb7b",
       "style": "IPY_MODEL_cf388dfd09f8415db8da71999bb4e5a9",
       "value": true
      }
     },
     "c2530f5e266542b4a71c6366596b323a": {
      "model_module": "@jupyter-widgets/base",
      "model_module_version": "1.0.0",
      "model_name": "LayoutModel",
      "state": {}
     },
     "c29d30ce2d474210b5b3dfce50ab15f7": {
      "model_module": "@jupyter-widgets/controls",
      "model_module_version": "1.0.0",
      "model_name": "AccordionModel",
      "state": {
       "_titles": {
        "0": "Basic numerical options"
       },
       "children": [
        "IPY_MODEL_37e80ee937594305a1ef794fe704803c"
       ],
       "layout": "IPY_MODEL_0cc503cc75024905b34d07c5b71d3052"
      }
     },
     "c38a02d345b04cbda4acdc8dc6cc90b0": {
      "model_module": "@jupyter-widgets/base",
      "model_module_version": "1.0.0",
      "model_name": "LayoutModel",
      "state": {
       "width": "initial"
      }
     },
     "c3d662ab755047d08028ac808efbc131": {
      "model_module": "@jupyter-widgets/controls",
      "model_module_version": "1.0.0",
      "model_name": "HBoxModel",
      "state": {
       "children": [
        "IPY_MODEL_14299f01eb9d459282dadb0ac1430d89"
       ],
       "layout": "IPY_MODEL_9f9626174fcf469a939c4ea17ec1d55d"
      }
     },
     "c421781ab02f477cab3f84a94e768b19": {
      "model_module": "@jupyter-widgets/controls",
      "model_module_version": "1.0.0",
      "model_name": "ButtonStyleModel",
      "state": {}
     },
     "c4f183272fa14f59a024bff04b5e1451": {
      "model_module": "@jupyter-widgets/base",
      "model_module_version": "1.0.0",
      "model_name": "LayoutModel",
      "state": {}
     },
     "c681fd0014b241aab419ca4c3789b35c": {
      "model_module": "@jupyter-widgets/output",
      "model_module_version": "1.0.0",
      "model_name": "OutputModel",
      "state": {
       "layout": "IPY_MODEL_c068e7bbe6384aebbe9d6a9919620c39",
       "outputs": [
        {
         "data": {
          "application/vnd.jupyter.widget-view+json": {
           "model_id": "d597b6be890c4311b145194606c699fb",
           "version_major": 2,
           "version_minor": 0
          },
          "text/plain": "A Jupyter Widget"
         },
         "metadata": {},
         "output_type": "display_data"
        },
        {
         "data": {
          "text/plain": "{'relax_ISIF': 4, 'relax_kpts_dist': 0.3, 'vasp_codename': 'vasp@monch'}"
         },
         "metadata": {},
         "output_type": "display_data"
        },
        {
         "data": {
          "application/vnd.jupyter.widget-view+json": {
           "model_id": "600a513bbbab427887cdf34684a11241",
           "version_major": 2,
           "version_minor": 0
          },
          "text/plain": "A Jupyter Widget"
         },
         "metadata": {},
         "output_type": "display_data"
        },
        {
         "data": {
          "text/plain": "<StructureData: uuid: 6f2b2067-fff4-4f43-beac-6d9d8044709a (pk: 2440)>"
         },
         "metadata": {},
         "output_type": "display_data"
        },
        {
         "data": {
          "application/vnd.jupyter.widget-view+json": {
           "model_id": "9cc7add90bbd460d91af3cd8e39db4c3",
           "version_major": 2,
           "version_minor": 0
          },
          "text/plain": "A Jupyter Widget"
         },
         "metadata": {},
         "output_type": "display_data"
        },
        {
         "data": {
          "text/plain": "[[2.7, 0.0, 2.7], [2.7, 2.7, 0.0], [0.0, 2.7, 2.7]]"
         },
         "metadata": {},
         "output_type": "display_data"
        },
        {
         "data": {
          "application/vnd.jupyter.widget-view+json": {
           "model_id": "70a85661251940da80da036d861f5f7a",
           "version_major": 2,
           "version_minor": 0
          },
          "text/plain": "A Jupyter Widget"
         },
         "metadata": {},
         "output_type": "display_data"
        },
        {
         "data": {
          "text/plain": "[<Site: kind name 'Si' @ 1.35,1.35,1.35>]"
         },
         "metadata": {},
         "output_type": "display_data"
        }
       ]
      }
     },
     "c76984d51c7f4adf844e534ab3823d5a": {
      "model_module": "@jupyter-widgets/base",
      "model_module_version": "1.0.0",
      "model_name": "LayoutModel",
      "state": {}
     },
     "c7823f3939e643f6a406f03e0d3d9aba": {
      "model_module": "@jupyter-widgets/base",
      "model_module_version": "1.0.0",
      "model_name": "LayoutModel",
      "state": {}
     },
     "ca400f35827042c598f912fcc6301616": {
      "model_module": "@jupyter-widgets/base",
      "model_module_version": "1.0.0",
      "model_name": "LayoutModel",
      "state": {}
     },
     "caaa2b4e84a14080b366f5414a32ff74": {
      "model_module": "@jupyter-widgets/base",
      "model_module_version": "1.0.0",
      "model_name": "LayoutModel",
      "state": {}
     },
     "cac9e90a7b9a402380d840e3f1ba53b3": {
      "model_module": "@jupyter-widgets/base",
      "model_module_version": "1.0.0",
      "model_name": "LayoutModel",
      "state": {
       "width": "initial"
      }
     },
     "cadd578d02b142bcaf998e0d25ddcd8f": {
      "model_module": "@jupyter-widgets/controls",
      "model_module_version": "1.0.0",
      "model_name": "HBoxModel",
      "state": {
       "children": [
        "IPY_MODEL_c681fd0014b241aab419ca4c3789b35c"
       ],
       "layout": "IPY_MODEL_f75d6b3a16a343628133cf18d6a49fd2"
      }
     },
     "cbefa871e9b14972b2bc04cb062dec15": {
      "model_module": "@jupyter-widgets/base",
      "model_module_version": "1.0.0",
      "model_name": "LayoutModel",
      "state": {}
     },
     "ce8add540f524bdb9631a1f324106fbf": {
      "model_module": "@jupyter-widgets/controls",
      "model_module_version": "1.0.0",
      "model_name": "ButtonModel",
      "state": {
       "button_style": "success",
       "description": "Run workflow with validated input",
       "icon": "play",
       "layout": "IPY_MODEL_cac9e90a7b9a402380d840e3f1ba53b3",
       "style": "IPY_MODEL_3b7c379785be4f8183b69a57a13bd3eb"
      }
     },
     "cf10fa9eacae43c787000454a75c84d5": {
      "model_module": "@jupyter-widgets/controls",
      "model_module_version": "1.0.0",
      "model_name": "AccordionModel",
      "state": {
       "_titles": {
        "0": "Advanced options"
       },
       "children": [
        "IPY_MODEL_7721a848aa814cd78daf4eadc18d46c3"
       ],
       "layout": "IPY_MODEL_764a4c4c38bd43b4839ac5defdff0017"
      }
     },
     "cf388dfd09f8415db8da71999bb4e5a9": {
      "model_module": "@jupyter-widgets/controls",
      "model_module_version": "1.0.0",
      "model_name": "DescriptionStyleModel",
      "state": {
       "description_width": ""
      }
     },
     "d10d151d42d84a599bea9f534d5b7d75": {
      "model_module": "@jupyter-widgets/controls",
      "model_module_version": "1.0.0",
      "model_name": "HBoxModel",
      "state": {
       "children": [
        "IPY_MODEL_fe8cccfe04d44ba6b999c9093df8e020"
       ],
       "layout": "IPY_MODEL_5514031c04714375ac0fb50d1b9f95bb"
      }
     },
     "d248e122bc884ae991a3241c03c0957d": {
      "model_module": "@jupyter-widgets/controls",
      "model_module_version": "1.0.0",
      "model_name": "SliderStyleModel",
      "state": {
       "description_width": ""
      }
     },
     "d597b6be890c4311b145194606c699fb": {
      "model_module": "@jupyter-widgets/controls",
      "model_module_version": "1.0.0",
      "model_name": "HTMLModel",
      "state": {
       "layout": "IPY_MODEL_37c7c28a91b248dc87be68462e18d7b9",
       "style": "IPY_MODEL_4959e615538e4ef1b6178c5bf7dab294",
       "value": "<strong>general parameters</strong>"
      }
     },
     "d98478f34c82459eb656ea3f0d2eb8f2": {
      "model_module": "@jupyter-widgets/base",
      "model_module_version": "1.0.0",
      "model_name": "LayoutModel",
      "state": {}
     },
     "d997ae6c1023485fb1b4bb6f76dcbdca": {
      "model_module": "@jupyter-widgets/base",
      "model_module_version": "1.0.0",
      "model_name": "LayoutModel",
      "state": {}
     },
     "d9e131c14ee94c3fb2e91e29c3b29259": {
      "model_module": "@jupyter-widgets/controls",
      "model_module_version": "1.0.0",
      "model_name": "ButtonStyleModel",
      "state": {}
     },
     "db48d59e974d4373b5d300bf1942a66b": {
      "model_module": "@jupyter-widgets/controls",
      "model_module_version": "1.0.0",
      "model_name": "DescriptionStyleModel",
      "state": {
       "description_width": ""
      }
     },
     "dc0392ddb0f34d6c866d4965005ea333": {
      "model_module": "@jupyter-widgets/base",
      "model_module_version": "1.0.0",
      "model_name": "LayoutModel",
      "state": {}
     },
     "dcaac1b229f44594a063d5c30b57cc08": {
      "model_module": "@jupyter-widgets/base",
      "model_module_version": "1.0.0",
      "model_name": "LayoutModel",
      "state": {}
     },
     "df210a3fd53f469fa5badbdbf70b90f0": {
      "model_module": "@jupyter-widgets/controls",
      "model_module_version": "1.0.0",
      "model_name": "ButtonStyleModel",
      "state": {}
     },
     "dfea329900d2404da6b609675391ec5c": {
      "model_module": "@jupyter-widgets/base",
      "model_module_version": "1.0.0",
      "model_name": "LayoutModel",
      "state": {}
     },
     "e0cf7bae187446b6a05444f073041e12": {
      "model_module": "@jupyter-widgets/controls",
      "model_module_version": "1.0.0",
      "model_name": "LabelModel",
      "state": {
       "layout": "IPY_MODEL_eb1abf7e23194d83bab54e3ec8dc31bd",
       "style": "IPY_MODEL_902f66c3e39a4aa98d85308b913e653c",
       "value": "Sites"
      }
     },
     "e23f99d6d0474063a21c27e34ffaff23": {
      "model_module": "@jupyter-widgets/controls",
      "model_module_version": "1.0.0",
      "model_name": "DescriptionStyleModel",
      "state": {
       "description_width": ""
      }
     },
     "e25243ed71d440228c431994cc2779af": {
      "model_module": "@jupyter-widgets/base",
      "model_module_version": "1.0.0",
      "model_name": "LayoutModel",
      "state": {}
     },
     "e300cc3a34e340fda115c09ad603a1a1": {
      "model_module": "@jupyter-widgets/controls",
      "model_module_version": "1.0.0",
      "model_name": "DescriptionStyleModel",
      "state": {
       "description_width": ""
      }
     },
     "e3a84208d8fa4db896066896cd03aa31": {
      "model_module": "@jupyter-widgets/controls",
      "model_module_version": "1.0.0",
      "model_name": "LabelModel",
      "state": {
       "layout": "IPY_MODEL_80b2bb3caa6b43a6b07d9200b856751e",
       "style": "IPY_MODEL_e80d793544e640d88e3c9e1c65a63462",
       "value": "Cell"
      }
     },
     "e425cd5ca008407da651cdd85109a104": {
      "model_module": "@jupyter-widgets/controls",
      "model_module_version": "1.0.0",
      "model_name": "LabelModel",
      "state": {
       "layout": "IPY_MODEL_e8bcbbc58f95404e9cad79fe4c96d977",
       "style": "IPY_MODEL_5717bc90442d4ee4bf92a87350bc7aa1",
       "value": "Note: only showing code sets that are setup on the same computer"
      }
     },
     "e5f526c6188d4bff99f95727c1733a87": {
      "model_module": "@jupyter-widgets/controls",
      "model_module_version": "1.0.0",
      "model_name": "DescriptionStyleModel",
      "state": {
       "description_width": ""
      }
     },
     "e618428779e843609bdba0373945a164": {
      "model_module": "@jupyter-widgets/controls",
      "model_module_version": "1.0.0",
      "model_name": "DescriptionStyleModel",
      "state": {
       "description_width": ""
      }
     },
     "e69398db723e48e78998685db773d674": {
      "model_module": "@jupyter-widgets/controls",
      "model_module_version": "1.0.0",
      "model_name": "AccordionModel",
      "state": {
       "_titles": {
        "0": "Crystal structure"
       },
       "children": [
        "IPY_MODEL_5b8e1a246cb941d49723af6b0d92e0ce"
       ],
       "layout": "IPY_MODEL_66902d621f414813b25c59c9ee6c5e72"
      }
     },
     "e6e6369a3a6947b283a1960b0c69df5a": {
      "model_module": "@jupyter-widgets/base",
      "model_module_version": "1.0.0",
      "model_name": "LayoutModel",
      "state": {}
     },
     "e80d793544e640d88e3c9e1c65a63462": {
      "model_module": "@jupyter-widgets/controls",
      "model_module_version": "1.0.0",
      "model_name": "DescriptionStyleModel",
      "state": {
       "description_width": ""
      }
     },
     "e81f815fa93649f19d91a1162577d933": {
      "model_module": "@jupyter-widgets/base",
      "model_module_version": "1.0.0",
      "model_name": "DOMWidgetModel",
      "state": {
       "_dom_classes": [
        "widget_item",
        "btn-group"
       ],
       "_model_name": "DOMWidgetModel",
       "_view_module": "fileupload",
       "_view_module_version": "",
       "_view_name": "FileUploadView",
       "data_base64": "",
       "filename": "",
       "label": "Upload Structure",
       "layout": "IPY_MODEL_42c1298a60fd4910a43121463bbf7fc3"
      }
     },
     "e8bcbbc58f95404e9cad79fe4c96d977": {
      "model_module": "@jupyter-widgets/base",
      "model_module_version": "1.0.0",
      "model_name": "LayoutModel",
      "state": {}
     },
     "e91118ed816946f0adb0915785a3c927": {
      "model_module": "@jupyter-widgets/controls",
      "model_module_version": "1.0.0",
      "model_name": "HTMLModel",
      "state": {
       "layout": "IPY_MODEL_f58c66f9fa214aacacc823b912228da9",
       "style": "IPY_MODEL_574e1f5e8630464db1c0fa1f9beb7109"
      }
     },
     "e9eb65bdf84e4f519a04f46bfe76cb7b": {
      "model_module": "@jupyter-widgets/base",
      "model_module_version": "1.0.0",
      "model_name": "LayoutModel",
      "state": {}
     },
     "eb1abf7e23194d83bab54e3ec8dc31bd": {
      "model_module": "@jupyter-widgets/base",
      "model_module_version": "1.0.0",
      "model_name": "LayoutModel",
      "state": {}
     },
     "eb95952edd8941bbb25c2cd99b10e920": {
      "model_module": "@jupyter-widgets/base",
      "model_module_version": "1.0.0",
      "model_name": "LayoutModel",
      "state": {}
     },
     "eda468d4bf304336963a02aecc02c0fe": {
      "model_module": "@jupyter-widgets/controls",
      "model_module_version": "1.0.0",
      "model_name": "DescriptionStyleModel",
      "state": {
       "description_width": ""
      }
     },
     "edd4cfa28b5140458d50bb5cda374381": {
      "model_module": "@jupyter-widgets/controls",
      "model_module_version": "1.0.0",
      "model_name": "HBoxModel",
      "state": {
       "children": [
        "IPY_MODEL_825833945c7e40a4a5d9b1a13ca08150"
       ],
       "layout": "IPY_MODEL_01d1601ddcbc43c09c958aadd6d4885d"
      }
     },
     "ee48fa6b08894aa9bc5f06a575fe9752": {
      "model_module": "@jupyter-widgets/base",
      "model_module_version": "1.0.0",
      "model_name": "LayoutModel",
      "state": {}
     },
     "f04d9c7d38014d468b3f159c75d99530": {
      "model_module": "@jupyter-widgets/controls",
      "model_module_version": "1.0.0",
      "model_name": "DescriptionStyleModel",
      "state": {
       "description_width": ""
      }
     },
     "f06795730683497cb3251d358a3fe0e0": {
      "model_module": "@jupyter-widgets/controls",
      "model_module_version": "1.0.0",
      "model_name": "DescriptionStyleModel",
      "state": {
       "description_width": ""
      }
     },
     "f06b5051a93f47a48a67b09ea8b2bd63": {
      "model_module": "@jupyter-widgets/base",
      "model_module_version": "1.0.0",
      "model_name": "LayoutModel",
      "state": {}
     },
     "f4eb928debc34e9799b5f7621858e7f7": {
      "model_module": "@jupyter-widgets/controls",
      "model_module_version": "1.0.0",
      "model_name": "DescriptionStyleModel",
      "state": {
       "description_width": ""
      }
     },
     "f500617f77d744eba6c6661ce941b7c5": {
      "model_module": "@jupyter-widgets/base",
      "model_module_version": "1.0.0",
      "model_name": "LayoutModel",
      "state": {}
     },
     "f502c4bb6c594c399f1e4573d76ced21": {
      "model_module": "@jupyter-widgets/base",
      "model_module_version": "1.0.0",
      "model_name": "LayoutModel",
      "state": {
       "width": "initial"
      }
     },
     "f58c66f9fa214aacacc823b912228da9": {
      "model_module": "@jupyter-widgets/base",
      "model_module_version": "1.0.0",
      "model_name": "LayoutModel",
      "state": {}
     },
     "f68ceda8fe614a7e9facdc466c194564": {
      "model_module": "@jupyter-widgets/controls",
      "model_module_version": "1.0.0",
      "model_name": "LabelModel",
      "state": {
       "layout": "IPY_MODEL_7a97088c4b02409fb14a76293b06f6eb",
       "style": "IPY_MODEL_624c0d60511c4b3ab1e53dc63fa43229",
       "value": "ISIF for Structure relaxation: "
      }
     },
     "f75d6b3a16a343628133cf18d6a49fd2": {
      "model_module": "@jupyter-widgets/base",
      "model_module_version": "1.0.0",
      "model_name": "LayoutModel",
      "state": {}
     },
     "fbe1ce22faa74b71adfa31b8e1a0e473": {
      "model_module": "@jupyter-widgets/base",
      "model_module_version": "1.0.0",
      "model_name": "LayoutModel",
      "state": {}
     },
     "fe7966b782594298a635c6c2a6c48927": {
      "model_module": "@jupyter-widgets/base",
      "model_module_version": "1.0.0",
      "model_name": "LayoutModel",
      "state": {}
     },
     "fe8cccfe04d44ba6b999c9093df8e020": {
      "model_module": "@jupyter-widgets/controls",
      "model_module_version": "1.0.0",
      "model_name": "ButtonModel",
      "state": {
       "button_style": "success",
       "description": "Run workflow with validated input",
       "disabled": true,
       "icon": "play",
       "layout": "IPY_MODEL_c38a02d345b04cbda4acdc8dc6cc90b0",
       "style": "IPY_MODEL_ad5e12591ae847f48c8247a25448db37"
      }
     },
     "ffbc756ca8aa4076b78bc93489f4b5ed": {
      "model_module": "@jupyter-widgets/controls",
      "model_module_version": "1.0.0",
      "model_name": "HBoxModel",
      "state": {
       "children": [
        "IPY_MODEL_c12d79d14f3846fa84f901be2c6daa81",
        "IPY_MODEL_816ada906b5f45048c017a22a87b9b9a"
       ],
       "layout": "IPY_MODEL_f06b5051a93f47a48a67b09ea8b2bd63"
      }
     }
    },
    "version_major": 2,
    "version_minor": 0
   }
  }
 },
 "nbformat": 4,
 "nbformat_minor": 2
}
