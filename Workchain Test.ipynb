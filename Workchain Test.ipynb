{
 "cells": [
  {
   "cell_type": "code",
   "execution_count": 1,
   "metadata": {},
   "outputs": [],
   "source": [
    "def submit_test_wf(blocking=False, sleeptime=30):\n",
    "    from aiida.orm import DataFactory, WorkflowFactory\n",
    "    from aiida.work import submit, run\n",
    "    from aiida.work.db_types import Int\n",
    "    st_cls = DataFactory('structure')\n",
    "    STRUCTURE_QUERY = st_cls.querybuild()\n",
    "    STRUCTURE = STRUCTURE_QUERY.first()[0]\n",
    "    TestWorkflow = WorkflowFactory('mc-vasp.test')\n",
    "    if blocking:\n",
    "        return run(TestWorkflow, structure=STRUCTURE, sleeptime=Int(sleeptime))\n",
    "    else:\n",
    "        running = submit(TestWorkflow, structure=STRUCTURE, sleeptime=Int(sleeptime))\n",
    "        return running"
   ]
  },
  {
   "cell_type": "code",
   "execution_count": 2,
   "metadata": {},
   "outputs": [],
   "source": [
    "from mc_vasp_example import vasp_example as vex\n",
    "vex.load_dbenv_if_not_loaded()\n",
    "from aiida.work import WorkChain, submit, run\n",
    "from aiida.work.db_types import Str\n",
    "from aiida.orm import load_node\n",
    "\n",
    "class Minimal(WorkChain):\n",
    "    @classmethod\n",
    "    def define(cls, spec):\n",
    "        super(Minimal, cls).define(spec)\n",
    "        spec.outline(\n",
    "            cls.run\n",
    "        )\n",
    "        spec.output('message', valid_type=Str)\n",
    "        \n",
    "    def run(self):\n",
    "        self.out('message', 'Hello World')"
   ]
  },
  {
   "cell_type": "code",
   "execution_count": 3,
   "metadata": {},
   "outputs": [],
   "source": [
    "wc = load_node(submit(Minimal).pid)"
   ]
  },
  {
   "cell_type": "code",
   "execution_count": 4,
   "metadata": {},
   "outputs": [
    {
     "data": {
      "text/plain": [
       "(False, False, False)"
      ]
     },
     "execution_count": 4,
     "metadata": {},
     "output_type": "execute_result"
    }
   ],
   "source": [
    "wc.has_aborted(), wc.has_failed(), wc.has_finished_ok()"
   ]
  },
  {
   "cell_type": "code",
   "execution_count": 3,
   "metadata": {},
   "outputs": [],
   "source": [
    "running = submit_test_wf(blocking=False, sleeptime=30)"
   ]
  },
  {
   "cell_type": "code",
   "execution_count": 4,
   "metadata": {},
   "outputs": [
    {
     "data": {
      "text/plain": [
       "2793"
      ]
     },
     "execution_count": 4,
     "metadata": {},
     "output_type": "execute_result"
    }
   ],
   "source": [
    "running.pid"
   ]
  },
  {
   "cell_type": "code",
   "execution_count": 81,
   "metadata": {},
   "outputs": [],
   "source": [
    "wc = load_node(3607)"
   ]
  },
  {
   "cell_type": "code",
   "execution_count": 79,
   "metadata": {},
   "outputs": [
    {
     "data": {
      "text/plain": [
       "{u'num_procs': 1,\n",
       " u'queue_name': u'batch',\n",
       " u'relax_ISIF': 3,\n",
       " u'relax_kpts_dist': 0.3,\n",
       " u'structure': <StructureData: uuid: 6f2b2067-fff4-4f43-beac-6d9d8044709a (pk: 2440)>,\n",
       " u'vasp_codename': u'vasp@theospc'}"
      ]
     },
     "execution_count": 79,
     "metadata": {},
     "output_type": "execute_result"
    }
   ],
   "source": [
    "wc.get_inputs_dict()"
   ]
  },
  {
   "cell_type": "code",
   "execution_count": 73,
   "metadata": {},
   "outputs": [
    {
     "data": {
      "text/plain": [
       "{u'CALL': <VaspCalculation: uuid: 21d32359-3a97-4fc8-9fd9-cc413455935e (pk: 3610)>,\n",
       " u'CALL_3610': <VaspCalculation: uuid: 21d32359-3a97-4fc8-9fd9-cc413455935e (pk: 3610)>,\n",
       " u'CALL_3617': <WorkCalculation: uuid: c19a16a6-cf9c-4b1b-8f82-863f9d988323 (pk: 3617)>,\n",
       " u'CALL_3624': <VaspCalculation: uuid: 6f64b65f-64d6-4c15-a36b-5b61608d3dee (pk: 3624)>,\n",
       " u'bands': <BandsData: uuid: 19b3c302-8c3d-4600-b9c6-94dd2313d046 (pk: 3629)>,\n",
       " u'bands_3629': <BandsData: uuid: 19b3c302-8c3d-4600-b9c6-94dd2313d046 (pk: 3629)>}"
      ]
     },
     "execution_count": 73,
     "metadata": {},
     "output_type": "execute_result"
    }
   ],
   "source": [
    "wc.get_outputs_dict()"
   ]
  },
  {
   "cell_type": "code",
   "execution_count": 13,
   "metadata": {},
   "outputs": [
    {
     "data": {
      "text/plain": [
       "u'FAILED'"
      ]
     },
     "execution_count": 13,
     "metadata": {},
     "output_type": "execute_result"
    }
   ],
   "source": [
    "wc.get_state()"
   ]
  },
  {
   "cell_type": "code",
   "execution_count": 15,
   "metadata": {},
   "outputs": [
    {
     "data": {
      "text/plain": [
       "{'kpoints': <KpointsData: uuid: 907d07e3-0c25-4359-b9b7-13f972cd8108 (pk: 2785)>,\n",
       " 'structure': <StructureData: uuid: bcc63abd-2b2d-4597-8e5c-eee22f81ec42 (pk: 2784)>}"
      ]
     },
     "execution_count": 15,
     "metadata": {},
     "output_type": "execute_result"
    }
   ],
   "source": [
    "running"
   ]
  },
  {
   "cell_type": "code",
   "execution_count": 74,
   "metadata": {},
   "outputs": [],
   "source": [
    "calc = load_node(3624)"
   ]
  },
  {
   "cell_type": "code",
   "execution_count": 76,
   "metadata": {},
   "outputs": [
    {
     "data": {
      "text/plain": [
       "'Al'"
      ]
     },
     "execution_count": 76,
     "metadata": {},
     "output_type": "execute_result"
    }
   ],
   "source": [
    "calc.inp.structure.get_formula()"
   ]
  },
  {
   "cell_type": "code",
   "execution_count": 83,
   "metadata": {},
   "outputs": [
    {
     "data": {
      "image/png": "[encoded data removed]",
      "text/plain": [
       "<Figure size 432x288 with 1 Axes>"
      ]
     },
     "metadata": {},
     "output_type": "display_data"
    }
   ],
   "source": [
    "wc.out.bands.show_mpl()"
   ]
  },
  {
   "cell_type": "code",
   "execution_count": 37,
   "metadata": {},
   "outputs": [],
   "source": [
    "from aiida.orm import WorkflowFactory"
   ]
  },
  {
   "cell_type": "code",
   "execution_count": 39,
   "metadata": {},
   "outputs": [],
   "source": [
    "inps = WorkflowFactory('mc-vasp.example').get_inputs_template()"
   ]
  },
  {
   "cell_type": "code",
   "execution_count": 45,
   "metadata": {},
   "outputs": [
    {
     "data": {
      "text/plain": [
       "{u'num_procs': 1,\n",
       " u'queue_name': u'batch',\n",
       " u'relax_ISIF': 3,\n",
       " u'relax_kpts_dist': 0.3,\n",
       " u'structure': <StructureData: uuid: 6f2b2067-fff4-4f43-beac-6d9d8044709a (pk: 2440)>,\n",
       " u'vasp_codename': u'vasp@theospc'}"
      ]
     },
     "execution_count": 45,
     "metadata": {},
     "output_type": "execute_result"
    }
   ],
   "source": [
    "wc.get_inputs_dict()"
   ]
  },
  {
   "cell_type": "code",
   "execution_count": 65,
   "metadata": {},
   "outputs": [
    {
     "ename": "AttributeError",
     "evalue": "DbAttribute with key last_jobinfo for node 3404 not found in db",
     "output_type": "error",
     "traceback": [
      "\u001b[0;31m---------------------------------------------------------------------------\u001b[0m",
      "\u001b[0;31mAttributeError\u001b[0m                            Traceback (most recent call last)",
      "\u001b[0;32m<ipython-input-65-d225f8ac8ef0>\u001b[0m in \u001b[0;36m<module>\u001b[0;34m()\u001b[0m\n\u001b[1;32m      1\u001b[0m \u001b[0;32mimport\u001b[0m \u001b[0mjson\u001b[0m\u001b[0;34m\u001b[0m\u001b[0m\n\u001b[0;32m----> 2\u001b[0;31m \u001b[0mjson\u001b[0m\u001b[0;34m.\u001b[0m\u001b[0mloads\u001b[0m\u001b[0;34m(\u001b[0m\u001b[0mcalc\u001b[0m\u001b[0;34m.\u001b[0m\u001b[0mget_attr\u001b[0m\u001b[0;34m(\u001b[0m\u001b[0;34m'last_jobinfo'\u001b[0m\u001b[0;34m)\u001b[0m\u001b[0;34m)\u001b[0m\u001b[0;34m\u001b[0m\u001b[0m\n\u001b[0m",
      "\u001b[0;32m/Users/ricohaeuselmann/.venvwrap/matcloud-jupyter-py2/lib/python2.7/site-packages/aiida/orm/implementation/general/node.pyc\u001b[0m in \u001b[0;36mget_attr\u001b[0;34m(self, key, default)\u001b[0m\n\u001b[1;32m    912\u001b[0m                         \"DbAttribute '{}' does not exist\".format(key))\n\u001b[1;32m    913\u001b[0m             \u001b[0;32melse\u001b[0m\u001b[0;34m:\u001b[0m\u001b[0;34m\u001b[0m\u001b[0m\n\u001b[0;32m--> 914\u001b[0;31m                 \u001b[0;32mreturn\u001b[0m \u001b[0mself\u001b[0m\u001b[0;34m.\u001b[0m\u001b[0m_get_db_attr\u001b[0m\u001b[0;34m(\u001b[0m\u001b[0mkey\u001b[0m\u001b[0;34m)\u001b[0m\u001b[0;34m\u001b[0m\u001b[0m\n\u001b[0m\u001b[1;32m    915\u001b[0m         \u001b[0;32mexcept\u001b[0m \u001b[0mAttributeError\u001b[0m\u001b[0;34m:\u001b[0m\u001b[0;34m\u001b[0m\u001b[0m\n\u001b[1;32m    916\u001b[0m             \u001b[0;32mif\u001b[0m \u001b[0mdefault\u001b[0m \u001b[0;32mis\u001b[0m \u001b[0m_NO_DEFAULT\u001b[0m\u001b[0;34m:\u001b[0m\u001b[0;34m\u001b[0m\u001b[0m\n",
      "\u001b[0;32m/Users/ricohaeuselmann/.venvwrap/matcloud-jupyter-py2/lib/python2.7/site-packages/aiida/orm/implementation/django/node.pyc\u001b[0m in \u001b[0;36m_get_db_attr\u001b[0;34m(self, key)\u001b[0m\n\u001b[1;32m    292\u001b[0m         \u001b[0;32mfrom\u001b[0m \u001b[0maiida\u001b[0m\u001b[0;34m.\u001b[0m\u001b[0mbackends\u001b[0m\u001b[0;34m.\u001b[0m\u001b[0mdjsite\u001b[0m\u001b[0;34m.\u001b[0m\u001b[0mdb\u001b[0m\u001b[0;34m.\u001b[0m\u001b[0mmodels\u001b[0m \u001b[0;32mimport\u001b[0m \u001b[0mDbAttribute\u001b[0m\u001b[0;34m\u001b[0m\u001b[0m\n\u001b[1;32m    293\u001b[0m         return DbAttribute.get_value_for_node(\n\u001b[0;32m--> 294\u001b[0;31m             dbnode=self.dbnode, key=key)\n\u001b[0m\u001b[1;32m    295\u001b[0m \u001b[0;34m\u001b[0m\u001b[0m\n\u001b[1;32m    296\u001b[0m     \u001b[0;32mdef\u001b[0m \u001b[0m_set_db_extra\u001b[0m\u001b[0;34m(\u001b[0m\u001b[0mself\u001b[0m\u001b[0;34m,\u001b[0m \u001b[0mkey\u001b[0m\u001b[0;34m,\u001b[0m \u001b[0mvalue\u001b[0m\u001b[0;34m,\u001b[0m \u001b[0mexclusive\u001b[0m\u001b[0;34m=\u001b[0m\u001b[0mFalse\u001b[0m\u001b[0;34m)\u001b[0m\u001b[0;34m:\u001b[0m\u001b[0;34m\u001b[0m\u001b[0m\n",
      "\u001b[0;32m/Users/ricohaeuselmann/.venvwrap/matcloud-jupyter-py2/lib/python2.7/site-packages/aiida/backends/djsite/db/models.pyc\u001b[0m in \u001b[0;36mget_value_for_node\u001b[0;34m(cls, dbnode, key)\u001b[0m\n\u001b[1;32m   1083\u001b[0m         \u001b[0;32mexcept\u001b[0m \u001b[0mObjectDoesNotExist\u001b[0m\u001b[0;34m:\u001b[0m\u001b[0;34m\u001b[0m\u001b[0m\n\u001b[1;32m   1084\u001b[0m             raise AttributeError(\"{} with key {} for node {} not found \"\n\u001b[0;32m-> 1085\u001b[0;31m                                  \"in db\".format(cls.__name__, key, dbnode.pk))\n\u001b[0m\u001b[1;32m   1086\u001b[0m         \u001b[0;32mreturn\u001b[0m \u001b[0mattr\u001b[0m\u001b[0;34m.\u001b[0m\u001b[0mgetvalue\u001b[0m\u001b[0;34m(\u001b[0m\u001b[0;34m)\u001b[0m\u001b[0;34m\u001b[0m\u001b[0m\n\u001b[1;32m   1087\u001b[0m \u001b[0;34m\u001b[0m\u001b[0m\n",
      "\u001b[0;31mAttributeError\u001b[0m: DbAttribute with key last_jobinfo for node 3404 not found in db"
     ]
    }
   ],
   "source": [
    "import json\n",
    "json.loads(calc.get_attr('last_jobinfo'))"
   ]
  },
  {
   "cell_type": "code",
   "execution_count": null,
   "metadata": {},
   "outputs": [],
   "source": []
  }
 ],
 "metadata": {
  "kernelspec": {
   "display_name": "Python 2",
   "language": "python",
   "name": "python2"
  },
  "language_info": {
   "codemirror_mode": {
    "name": "ipython",
    "version": 2
   },
   "file_extension": ".py",
   "mimetype": "text/x-python",
   "name": "python",
   "nbconvert_exporter": "python",
   "pygments_lexer": "ipython2",
   "version": "2.7.14"
  }
 },
 "nbformat": 4,
 "nbformat_minor": 2
}
