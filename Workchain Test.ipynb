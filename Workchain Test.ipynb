{
 "cells": [
  {
   "cell_type": "code",
   "execution_count": 1,
   "metadata": {},
   "outputs": [],
   "source": [
    "def submit_test_wf(blocking=False, sleeptime=30):\n",
    "    from aiida.orm import DataFactory, WorkflowFactory\n",
    "    from aiida.work import submit, run\n",
    "    from aiida.work.db_types import Int\n",
    "    st_cls = DataFactory('structure')\n",
    "    STRUCTURE_QUERY = st_cls.querybuild()\n",
    "    STRUCTURE = STRUCTURE_QUERY.first()[0]\n",
    "    TestWorkflow = WorkflowFactory('mc-vasp.test')\n",
    "    if blocking:\n",
    "        return run(TestWorkflow, structure=STRUCTURE, sleeptime=Int(sleeptime))\n",
    "    else:\n",
    "        running = submit(TestWorkflow, structure=STRUCTURE, sleeptime=Int(sleeptime))\n",
    "        return running"
   ]
  },
  {
   "cell_type": "code",
   "execution_count": 2,
   "metadata": {},
   "outputs": [],
   "source": [
    "from mc_vasp_example import vasp_example as vex\n",
    "vex.load_dbenv_if_not_loaded()\n",
    "from aiida.work import WorkChain, submit, run\n",
    "from aiida.work.db_types import Str\n",
    "from aiida.orm import load_node\n",
    "\n",
    "class Minimal(WorkChain):\n",
    "    @classmethod\n",
    "    def define(cls, spec):\n",
    "        super(Minimal, cls).define(spec)\n",
    "        spec.outline(\n",
    "            cls.run\n",
    "        )\n",
    "        spec.output('message', valid_type=Str)\n",
    "        \n",
    "    def run(self):\n",
    "        self.out('message', 'Hello World')"
   ]
  },
  {
   "cell_type": "code",
   "execution_count": 3,
   "metadata": {},
   "outputs": [],
   "source": [
    "wc = load_node(submit(Minimal).pid)"
   ]
  },
  {
   "cell_type": "code",
   "execution_count": 4,
   "metadata": {},
   "outputs": [
    {
     "data": {
      "text/plain": [
       "(False, False, False)"
      ]
     },
     "execution_count": 4,
     "metadata": {},
     "output_type": "execute_result"
    }
   ],
   "source": [
    "wc.has_aborted(), wc.has_failed(), wc.has_finished_ok()"
   ]
  },
  {
   "cell_type": "code",
   "execution_count": 3,
   "metadata": {},
   "outputs": [],
   "source": [
    "running = submit_test_wf(blocking=False, sleeptime=30)"
   ]
  },
  {
   "cell_type": "code",
   "execution_count": 4,
   "metadata": {},
   "outputs": [
    {
     "data": {
      "text/plain": [
       "2793"
      ]
     },
     "execution_count": 4,
     "metadata": {},
     "output_type": "execute_result"
    }
   ],
   "source": [
    "running.pid"
   ]
  },
  {
   "cell_type": "code",
   "execution_count": 5,
   "metadata": {},
   "outputs": [],
   "source": [
    "wc = load_node(2812)"
   ]
  },
  {
   "cell_type": "code",
   "execution_count": 11,
   "metadata": {},
   "outputs": [
    {
     "data": {
      "text/plain": [
       "{u'parser_settings': {u'add_chgcar': True,\n",
       "  u'add_structure': True,\n",
       "  u'add_wavecar': True}}"
      ]
     },
     "execution_count": 11,
     "metadata": {},
     "output_type": "execute_result"
    }
   ],
   "source": [
    "wc.inp.settings.get_dict()"
   ]
  },
  {
   "cell_type": "code",
   "execution_count": 12,
   "metadata": {},
   "outputs": [
    {
     "data": {
      "text/plain": [
       "{u'remote_folder': <RemoteData: uuid: fc6d2c78-94a6-4180-9f7c-ed4abb5a8b13 (pk: 2779)>,\n",
       " u'remote_folder_2779': <RemoteData: uuid: fc6d2c78-94a6-4180-9f7c-ed4abb5a8b13 (pk: 2779)>,\n",
       " u'retrieved': <FolderData: uuid: f402ede3-5cfd-4015-a501-8dec9774463c (pk: 2780)>,\n",
       " u'retrieved_2780': <FolderData: uuid: f402ede3-5cfd-4015-a501-8dec9774463c (pk: 2780)>}"
      ]
     },
     "execution_count": 12,
     "metadata": {},
     "output_type": "execute_result"
    }
   ],
   "source": [
    "wc.get_outputs_dict()"
   ]
  },
  {
   "cell_type": "code",
   "execution_count": 13,
   "metadata": {},
   "outputs": [
    {
     "data": {
      "text/plain": [
       "u'FAILED'"
      ]
     },
     "execution_count": 13,
     "metadata": {},
     "output_type": "execute_result"
    }
   ],
   "source": [
    "wc.get_state()"
   ]
  },
  {
   "cell_type": "code",
   "execution_count": 15,
   "metadata": {},
   "outputs": [
    {
     "data": {
      "text/plain": [
       "{'kpoints': <KpointsData: uuid: 907d07e3-0c25-4359-b9b7-13f972cd8108 (pk: 2785)>,\n",
       " 'structure': <StructureData: uuid: bcc63abd-2b2d-4597-8e5c-eee22f81ec42 (pk: 2784)>}"
      ]
     },
     "execution_count": 15,
     "metadata": {},
     "output_type": "execute_result"
    }
   ],
   "source": [
    "running"
   ]
  },
  {
   "cell_type": "code",
   "execution_count": 8,
   "metadata": {},
   "outputs": [
    {
     "data": {
      "text/plain": [
       "True"
      ]
     },
     "execution_count": 8,
     "metadata": {},
     "output_type": "execute_result"
    }
   ],
   "source": [
    "wc.has_parent"
   ]
  },
  {
   "cell_type": "code",
   "execution_count": null,
   "metadata": {},
   "outputs": [],
   "source": []
  }
 ],
 "metadata": {
  "kernelspec": {
   "display_name": "Python 2",
   "language": "python",
   "name": "python2"
  },
  "language_info": {
   "codemirror_mode": {
    "name": "ipython",
    "version": 2
   },
   "file_extension": ".py",
   "mimetype": "text/x-python",
   "name": "python",
   "nbconvert_exporter": "python",
   "pygments_lexer": "ipython2",
   "version": "2.7.14"
  }
 },
 "nbformat": 4,
 "nbformat_minor": 2
}
