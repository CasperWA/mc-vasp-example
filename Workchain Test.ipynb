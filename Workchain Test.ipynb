{
 "cells": [
  {
   "cell_type": "code",
   "execution_count": 13,
   "metadata": {},
   "outputs": [],
   "source": [
    "def submit_test_wf(run=False, sleeptime=60):\n",
    "    from test_wf import TestWorkflow\n",
    "    from aiida.orm import DataFactory\n",
    "    from aiida.work import submit, run\n",
    "    from aiida.work.db_types import Int\n",
    "    st_cls = DataFactory('structure')\n",
    "    STRUCTURE_QUERY = st_cls.querybuild()\n",
    "    STRUCTURE = STRUCTURE_QUERY.first()[0]\n",
    "    if run:\n",
    "        return run(TestWorkflow, structure=STRUCTURE, sleeptime=Int(sleeptime))\n",
    "    else:\n",
    "        running = submit(TestWorkflow, structure=STRUCTURE, sleeptime=Int(sleeptime))\n",
    "        return running"
   ]
  },
  {
   "cell_type": "code",
   "execution_count": 4,
   "metadata": {},
   "outputs": [],
   "source": [
    "import vasp_example as vex\n",
    "vex.load_dbenv_if_not_loaded()\n",
    "from aiida.work import WorkChain, submit, run\n",
    "from aiida.work.db_types import Str\n",
    "from aiida.orm import load_node\n",
    "\n",
    "class Minimal(WorkChain):\n",
    "    @classmethod\n",
    "    def define(cls, spec):\n",
    "        super(Minimal, cls).define(spec)\n",
    "        spec.outline(\n",
    "            cls.run\n",
    "        )\n",
    "        spec.output('message', valid_type=Str)\n",
    "        \n",
    "    def run(self):\n",
    "        self.out('message', 'Hello World')"
   ]
  },
  {
   "cell_type": "code",
   "execution_count": 5,
   "metadata": {},
   "outputs": [],
   "source": [
    "wc = load_node(submit(Minimal).pid)"
   ]
  },
  {
   "cell_type": "code",
   "execution_count": 8,
   "metadata": {},
   "outputs": [
    {
     "data": {
      "text/plain": [
       "(False, True, False)"
      ]
     },
     "execution_count": 8,
     "metadata": {},
     "output_type": "execute_result"
    }
   ],
   "source": [
    "wc.has_aborted(), wc.has_failed(), wc.has_finished_ok()"
   ]
  },
  {
   "cell_type": "code",
   "execution_count": 14,
   "metadata": {},
   "outputs": [],
   "source": [
    "running = submit_test_wf(run=True)"
   ]
  },
  {
   "cell_type": "code",
   "execution_count": 12,
   "metadata": {},
   "outputs": [
    {
     "data": {
      "text/plain": [
       "2698"
      ]
     },
     "execution_count": 12,
     "metadata": {},
     "output_type": "execute_result"
    }
   ],
   "source": [
    "running.pid"
   ]
  },
  {
   "cell_type": "code",
   "execution_count": null,
   "metadata": {},
   "outputs": [],
   "source": []
  }
 ],
 "metadata": {
  "kernelspec": {
   "display_name": "Python 2",
   "language": "python",
   "name": "python2"
  },
  "language_info": {
   "codemirror_mode": {
    "name": "ipython",
    "version": 2
   },
   "file_extension": ".py",
   "mimetype": "text/x-python",
   "name": "python",
   "nbconvert_exporter": "python",
   "pygments_lexer": "ipython2",
   "version": "2.7.14"
  }
 },
 "nbformat": 4,
 "nbformat_minor": 2
}
