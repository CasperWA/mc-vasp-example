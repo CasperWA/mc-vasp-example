{
 "cells": [
  {
   "cell_type": "code",
   "execution_count": 21,
   "metadata": {},
   "outputs": [],
   "source": [
    "import vasp_example as vex\n",
    "from vasp_example import load_dbenv_if_not_loaded, get_data_cls\n",
    "load_dbenv_if_not_loaded()"
   ]
  },
  {
   "cell_type": "code",
   "execution_count": 52,
   "metadata": {},
   "outputs": [],
   "source": [
    "import datetime\n",
    "import time\n",
    "import numpy as np\n",
    "from aiida.orm import DataFactory, CalculationFactory, Code, load_node, load_workflow\n",
    "from aiida.tools.data.array.kpoints import get_explicit_kpoints_path\n",
    "from aiida.work import run, submit"
   ]
  },
  {
   "cell_type": "code",
   "execution_count": 28,
   "metadata": {},
   "outputs": [],
   "source": [
    "import numpy\n",
    "\n",
    "\n",
    "def create_structure_Si():\n",
    "    structure_cls = get_data_cls('structure')\n",
    "    alat = 5.4\n",
    "    structure = structure_cls(cell=numpy.array([[.5, 0, .5], [.5, .5, 0], [0, .5, .5]]) * alat)\n",
    "    structure.append_atom(position=numpy.array([.25, .25, .25]) * alat, symbols='Si')\n",
    "    return structure\n",
    "\n",
    "\n",
    "def create_kpoints_path():\n",
    "    return get_explicit_kpoints_path(structure=create_structure_Si())\n",
    "\n",
    "\n",
    "def create_params_simple():\n",
    "    param_cls = get_data_cls('parameter')\n",
    "    return param_cls(dict={'prec': 'NORMAL', 'encut': 200, 'ediff': 1e-8, 'ialgo': 38, 'ismear': 0, 'sigma': 0.1})\n",
    "\n",
    "\n",
    "def import_pots(folder_path, family_name):\n",
    "    pot_cls = get_data_cls('vasp.potcar')\n",
    "    pot_cls.upload_potcar_family(folder_path, group_name=family_name, group_description='Test family', stop_if_existing=False)\n"
   ]
  },
  {
   "cell_type": "code",
   "execution_count": 4,
   "metadata": {},
   "outputs": [],
   "source": [
    "proc = CalculationFactory('vasp.vasp').process()"
   ]
  },
  {
   "cell_type": "code",
   "execution_count": 44,
   "metadata": {},
   "outputs": [],
   "source": [
    "def make_example_inputs():\n",
    "    import numpy as np\n",
    "    potcar_cls = get_data_cls('vasp.potcar')\n",
    "    inputs = proc.get_inputs_template()\n",
    "    potcar_map = {'Si': 'Si'}\n",
    "    auto_kpoints = create_kpoints_path()\n",
    "    inputs._label = 'Test {}'.format(vex.now_str())\n",
    "    inputs.code = 'vasp@monch'\n",
    "    inputs._description = 'This is a test'\n",
    "    inputs._options.max_wallclock_seconds = 3000\n",
    "    inputs._options.resources = {'num_machines': 1, 'num_mpiprocs_per_machine': 20}\n",
    "    inputs._options.queue_name = 'dphys_compute'\n",
    "    inputs._options.computer = Code.get_from_string(inputs['code']).get_computer()\n",
    "    inputs.kpoints = DataFactory('array.kpoints')(kpoints_mesh=[10, 10, 10])  # auto_kpoints['explicit_kpoints']\n",
    "    inputs.parameters = create_params_simple()\n",
    "    inputs.structure = vex.new_or_existing_structure(auto_kpoints['conv_structure'])\n",
    "    inputs.potential = potcar_cls.get_potcars_from_structure(family_name='PBE', structure=inputs.structure, mapping=potcar_map)\n",
    "    inputs.settings = DataFactory('parameter')(dict={'parser_settings':{'add_structure': True}})\n",
    "    inputs['code'] = Code.get_from_string('vasp')\n",
    "    return inputs"
   ]
  },
  {
   "cell_type": "code",
   "execution_count": 54,
   "metadata": {},
   "outputs": [],
   "source": [
    "def run_example():\n",
    "    return submit(proc, **make_example_inputs())"
   ]
  },
  {
   "cell_type": "code",
   "execution_count": 33,
   "metadata": {},
   "outputs": [],
   "source": [
    "def poll_calc(running):\n",
    "    result = load_node(running.pid)\n",
    "    state = result.get_state()\n",
    "    while not state in ['FINISHED', 'FAILED', 'PARSINGFAILED']:\n",
    "        result = load_node(running.pid)\n",
    "        state = result.get_state()\n",
    "        print state\n",
    "        time.sleep(10)\n",
    "    print result.get_state"
   ]
  },
  {
   "cell_type": "code",
   "execution_count": 57,
   "metadata": {},
   "outputs": [
    {
     "ename": "ModificationNotAllowed",
     "evalue": "Can add an output node to a calculation only if it is in one of the following states: [u'SUBMITTING', u'RETRIEVING', u'PARSING'], it is instead FINISHED",
     "output_type": "error",
     "traceback": [
      "\u001b[0;31m---------------------------------------------------------------------------\u001b[0m",
      "\u001b[0;31mModificationNotAllowed\u001b[0m                    Traceback (most recent call last)",
      "\u001b[0;32m<ipython-input-57-53bb925c1ead>\u001b[0m in \u001b[0;36m<module>\u001b[0;34m()\u001b[0m\n\u001b[1;32m      1\u001b[0m \u001b[0;31m#running = run_example()\u001b[0m\u001b[0;34m\u001b[0m\u001b[0;34m\u001b[0m\u001b[0m\n\u001b[0;32m----> 2\u001b[0;31m \u001b[0mrun\u001b[0m\u001b[0;34m(\u001b[0m\u001b[0mproc\u001b[0m\u001b[0;34m,\u001b[0m \u001b[0;34m**\u001b[0m\u001b[0mmake_example_inputs\u001b[0m\u001b[0;34m(\u001b[0m\u001b[0;34m)\u001b[0m\u001b[0;34m)\u001b[0m\u001b[0;34m\u001b[0m\u001b[0m\n\u001b[0m",
      "\u001b[0;32m/Users/ricohaeuselmann/Code/aiida-fork/aiida/work/run.pyc\u001b[0m in \u001b[0;36mrun\u001b[0;34m(process_class, *args, **inputs)\u001b[0m\n\u001b[1;32m     88\u001b[0m     \u001b[0;32melif\u001b[0m \u001b[0missubclass\u001b[0m\u001b[0;34m(\u001b[0m\u001b[0mprocess_class\u001b[0m\u001b[0;34m,\u001b[0m \u001b[0mProcess\u001b[0m\u001b[0;34m)\u001b[0m\u001b[0;34m:\u001b[0m\u001b[0;34m\u001b[0m\u001b[0m\n\u001b[1;32m     89\u001b[0m         \u001b[0mreturn_pid\u001b[0m \u001b[0;34m=\u001b[0m \u001b[0minputs\u001b[0m\u001b[0;34m.\u001b[0m\u001b[0mpop\u001b[0m\u001b[0;34m(\u001b[0m\u001b[0;34m'_return_pid'\u001b[0m\u001b[0;34m,\u001b[0m \u001b[0mFalse\u001b[0m\u001b[0;34m)\u001b[0m\u001b[0;34m\u001b[0m\u001b[0m\n\u001b[0;32m---> 90\u001b[0;31m         \u001b[0mfut\u001b[0m \u001b[0;34m=\u001b[0m \u001b[0mserial_engine\u001b[0m\u001b[0;34m.\u001b[0m\u001b[0msubmit\u001b[0m\u001b[0;34m(\u001b[0m\u001b[0mprocess_class\u001b[0m\u001b[0;34m,\u001b[0m \u001b[0minputs\u001b[0m\u001b[0;34m)\u001b[0m\u001b[0;34m\u001b[0m\u001b[0m\n\u001b[0m\u001b[1;32m     91\u001b[0m         \u001b[0mresult\u001b[0m \u001b[0;34m=\u001b[0m \u001b[0mfut\u001b[0m\u001b[0;34m.\u001b[0m\u001b[0mresult\u001b[0m\u001b[0;34m(\u001b[0m\u001b[0;34m)\u001b[0m\u001b[0;34m\u001b[0m\u001b[0m\n\u001b[1;32m     92\u001b[0m         \u001b[0;32mif\u001b[0m \u001b[0mreturn_pid\u001b[0m\u001b[0;34m:\u001b[0m\u001b[0;34m\u001b[0m\u001b[0m\n",
      "\u001b[0;32m/Users/ricohaeuselmann/.venvwrap/matcloud-jupyter-py2/lib/python2.7/site-packages/plum/engine/execution_engine.pyc\u001b[0m in \u001b[0;36msubmit\u001b[0;34m(self, process_class, inputs)\u001b[0m\n\u001b[1;32m    149\u001b[0m         \u001b[0;34m:\u001b[0m\u001b[0mrtype\u001b[0m\u001b[0;34m:\u001b[0m \u001b[0;34m:\u001b[0m\u001b[0;32mclass\u001b[0m\u001b[0;34m:\u001b[0m\u001b[0;34m`\u001b[0m\u001b[0mFuture\u001b[0m\u001b[0;34m`\u001b[0m\u001b[0;34m\u001b[0m\u001b[0m\n\u001b[1;32m    150\u001b[0m         \"\"\"\n\u001b[0;32m--> 151\u001b[0;31m         \u001b[0;32mreturn\u001b[0m \u001b[0mself\u001b[0m\u001b[0;34m.\u001b[0m\u001b[0mrun\u001b[0m\u001b[0;34m(\u001b[0m\u001b[0mprocess_class\u001b[0m\u001b[0;34m.\u001b[0m\u001b[0mnew_instance\u001b[0m\u001b[0;34m(\u001b[0m\u001b[0minputs\u001b[0m\u001b[0;34m)\u001b[0m\u001b[0;34m)\u001b[0m\u001b[0;34m\u001b[0m\u001b[0m\n\u001b[0m\u001b[1;32m    152\u001b[0m \u001b[0;34m\u001b[0m\u001b[0m\n\u001b[1;32m    153\u001b[0m     \u001b[0;32mdef\u001b[0m \u001b[0mrun_from\u001b[0m\u001b[0;34m(\u001b[0m\u001b[0mself\u001b[0m\u001b[0;34m,\u001b[0m \u001b[0mcheckpoint\u001b[0m\u001b[0;34m)\u001b[0m\u001b[0;34m:\u001b[0m\u001b[0;34m\u001b[0m\u001b[0m\n",
      "\u001b[0;32m/Users/ricohaeuselmann/.venvwrap/matcloud-jupyter-py2/lib/python2.7/site-packages/plum/process.pyc\u001b[0m in \u001b[0;36mnew_instance\u001b[0;34m(cls, inputs, pid, logger)\u001b[0m\n\u001b[1;32m    102\u001b[0m         \"\"\"\n\u001b[1;32m    103\u001b[0m         \u001b[0mproc\u001b[0m \u001b[0;34m=\u001b[0m \u001b[0mProcess\u001b[0m\u001b[0;34m.\u001b[0m\u001b[0minstantiate\u001b[0m\u001b[0;34m(\u001b[0m\u001b[0mcls\u001b[0m\u001b[0;34m,\u001b[0m \u001b[0mlogger\u001b[0m\u001b[0;34m)\u001b[0m\u001b[0;34m\u001b[0m\u001b[0m\n\u001b[0;32m--> 104\u001b[0;31m         \u001b[0mproc\u001b[0m\u001b[0;34m.\u001b[0m\u001b[0mperform_create\u001b[0m\u001b[0;34m(\u001b[0m\u001b[0mpid\u001b[0m\u001b[0;34m,\u001b[0m \u001b[0minputs\u001b[0m\u001b[0;34m)\u001b[0m\u001b[0;34m\u001b[0m\u001b[0m\n\u001b[0m\u001b[1;32m    105\u001b[0m         \u001b[0;32mreturn\u001b[0m \u001b[0mproc\u001b[0m\u001b[0;34m\u001b[0m\u001b[0m\n\u001b[1;32m    106\u001b[0m \u001b[0;34m\u001b[0m\u001b[0m\n",
      "\u001b[0;32m/Users/ricohaeuselmann/.venvwrap/matcloud-jupyter-py2/lib/python2.7/site-packages/plum/process.pyc\u001b[0m in \u001b[0;36mperform_create\u001b[0;34m(self, pid, inputs, saved_instance_state)\u001b[0m\n\u001b[1;32m    358\u001b[0m \u001b[0;34m\u001b[0m\u001b[0m\n\u001b[1;32m    359\u001b[0m         \u001b[0mself\u001b[0m\u001b[0;34m.\u001b[0m\u001b[0m_called\u001b[0m \u001b[0;34m=\u001b[0m \u001b[0mFalse\u001b[0m\u001b[0;34m\u001b[0m\u001b[0m\n\u001b[0;32m--> 360\u001b[0;31m         \u001b[0mself\u001b[0m\u001b[0;34m.\u001b[0m\u001b[0mon_create\u001b[0m\u001b[0;34m(\u001b[0m\u001b[0mpid\u001b[0m\u001b[0;34m,\u001b[0m \u001b[0minputs\u001b[0m\u001b[0;34m,\u001b[0m \u001b[0msaved_instance_state\u001b[0m\u001b[0;34m)\u001b[0m\u001b[0;34m\u001b[0m\u001b[0m\n\u001b[0m\u001b[1;32m    361\u001b[0m         \u001b[0;32massert\u001b[0m \u001b[0mself\u001b[0m\u001b[0;34m.\u001b[0m\u001b[0m_called\u001b[0m\u001b[0;34m,\u001b[0m\u001b[0;31m \u001b[0m\u001b[0;31m\\\u001b[0m\u001b[0;34m\u001b[0m\u001b[0m\n\u001b[1;32m    362\u001b[0m             \u001b[0;34m\"on_create was not called\\n\"\u001b[0m\u001b[0;31m \u001b[0m\u001b[0;31m\\\u001b[0m\u001b[0;34m\u001b[0m\u001b[0m\n",
      "\u001b[0;32m/Users/ricohaeuselmann/Code/aiida-fork/aiida/work/process.pyc\u001b[0m in \u001b[0;36mon_create\u001b[0;34m(self, pid, inputs, saved_instance_state)\u001b[0m\n\u001b[1;32m    216\u001b[0m                 \u001b[0;32mpass\u001b[0m\u001b[0;34m\u001b[0m\u001b[0m\n\u001b[1;32m    217\u001b[0m \u001b[0;34m\u001b[0m\u001b[0m\n\u001b[0;32m--> 218\u001b[0;31m             \u001b[0mself\u001b[0m\u001b[0;34m.\u001b[0m\u001b[0m_pid\u001b[0m \u001b[0;34m=\u001b[0m \u001b[0mself\u001b[0m\u001b[0;34m.\u001b[0m\u001b[0m_create_and_setup_db_record\u001b[0m\u001b[0;34m(\u001b[0m\u001b[0;34m)\u001b[0m\u001b[0;34m\u001b[0m\u001b[0m\n\u001b[0m\u001b[1;32m    219\u001b[0m         \u001b[0;32melse\u001b[0m\u001b[0;34m:\u001b[0m\u001b[0;34m\u001b[0m\u001b[0m\n\u001b[1;32m    220\u001b[0m             \u001b[0;32mif\u001b[0m \u001b[0mself\u001b[0m\u001b[0;34m.\u001b[0m\u001b[0mSaveKeys\u001b[0m\u001b[0;34m.\u001b[0m\u001b[0mCALC_ID\u001b[0m\u001b[0;34m.\u001b[0m\u001b[0mvalue\u001b[0m \u001b[0;32min\u001b[0m \u001b[0msaved_instance_state\u001b[0m\u001b[0;34m:\u001b[0m\u001b[0;34m\u001b[0m\u001b[0m\n",
      "\u001b[0;32m/Users/ricohaeuselmann/Code/aiida-fork/aiida/work/process.pyc\u001b[0m in \u001b[0;36m_create_and_setup_db_record\u001b[0;34m(self)\u001b[0m\n\u001b[1;32m    330\u001b[0m     \u001b[0;32mdef\u001b[0m \u001b[0m_create_and_setup_db_record\u001b[0m\u001b[0;34m(\u001b[0m\u001b[0mself\u001b[0m\u001b[0;34m)\u001b[0m\u001b[0;34m:\u001b[0m\u001b[0;34m\u001b[0m\u001b[0m\n\u001b[1;32m    331\u001b[0m         \u001b[0mself\u001b[0m\u001b[0;34m.\u001b[0m\u001b[0m_calc\u001b[0m \u001b[0;34m=\u001b[0m \u001b[0mself\u001b[0m\u001b[0;34m.\u001b[0m\u001b[0mcreate_db_record\u001b[0m\u001b[0;34m(\u001b[0m\u001b[0;34m)\u001b[0m\u001b[0;34m\u001b[0m\u001b[0m\n\u001b[0;32m--> 332\u001b[0;31m         \u001b[0mself\u001b[0m\u001b[0;34m.\u001b[0m\u001b[0m_setup_db_record\u001b[0m\u001b[0;34m(\u001b[0m\u001b[0;34m)\u001b[0m\u001b[0;34m\u001b[0m\u001b[0m\n\u001b[0m\u001b[1;32m    333\u001b[0m         \u001b[0;32mif\u001b[0m \u001b[0mself\u001b[0m\u001b[0;34m.\u001b[0m\u001b[0minputs\u001b[0m\u001b[0;34m.\u001b[0m\u001b[0m_store_provenance\u001b[0m\u001b[0;34m:\u001b[0m\u001b[0;34m\u001b[0m\u001b[0m\n\u001b[1;32m    334\u001b[0m             \u001b[0mself\u001b[0m\u001b[0;34m.\u001b[0m\u001b[0mcalc\u001b[0m\u001b[0;34m.\u001b[0m\u001b[0mstore_all\u001b[0m\u001b[0;34m(\u001b[0m\u001b[0muse_cache\u001b[0m\u001b[0;34m=\u001b[0m\u001b[0mself\u001b[0m\u001b[0;34m.\u001b[0m\u001b[0m_use_cache_enabled\u001b[0m\u001b[0;34m(\u001b[0m\u001b[0;34m)\u001b[0m\u001b[0;34m)\u001b[0m\u001b[0;34m\u001b[0m\u001b[0m\n",
      "\u001b[0;32m/Users/ricohaeuselmann/Code/aiida-fork/aiida/work/legacy/job_process.pyc\u001b[0m in \u001b[0;36m_setup_db_record\u001b[0;34m(self)\u001b[0m\n\u001b[1;32m    152\u001b[0m \u001b[0;34m\u001b[0m\u001b[0m\n\u001b[1;32m    153\u001b[0m         \u001b[0;32mif\u001b[0m \u001b[0mparent_calc\u001b[0m\u001b[0;34m:\u001b[0m\u001b[0;34m\u001b[0m\u001b[0m\n\u001b[0;32m--> 154\u001b[0;31m             \u001b[0mself\u001b[0m\u001b[0;34m.\u001b[0m\u001b[0m_calc\u001b[0m\u001b[0;34m.\u001b[0m\u001b[0madd_link_from\u001b[0m\u001b[0;34m(\u001b[0m\u001b[0mparent_calc\u001b[0m\u001b[0;34m,\u001b[0m \u001b[0;34m\"CALL\"\u001b[0m\u001b[0;34m,\u001b[0m \u001b[0mLinkType\u001b[0m\u001b[0;34m.\u001b[0m\u001b[0mCALL\u001b[0m\u001b[0;34m)\u001b[0m\u001b[0;34m\u001b[0m\u001b[0m\n\u001b[0m\u001b[1;32m    155\u001b[0m \u001b[0;34m\u001b[0m\u001b[0m\n\u001b[1;32m    156\u001b[0m         \u001b[0mself\u001b[0m\u001b[0;34m.\u001b[0m\u001b[0m_add_description_and_label\u001b[0m\u001b[0;34m(\u001b[0m\u001b[0;34m)\u001b[0m\u001b[0;34m\u001b[0m\u001b[0m\n",
      "\u001b[0;32m/Users/ricohaeuselmann/Code/aiida-fork/aiida/orm/implementation/general/calculation/job/__init__.pyc\u001b[0m in \u001b[0;36madd_link_from\u001b[0;34m(self, src, label, link_type)\u001b[0m\n\u001b[1;32m    538\u001b[0m \u001b[0;34m\u001b[0m\u001b[0m\n\u001b[1;32m    539\u001b[0m         return super(AbstractJobCalculation, self).add_link_from(src, label,\n\u001b[0;32m--> 540\u001b[0;31m                                                                  link_type)\n\u001b[0m\u001b[1;32m    541\u001b[0m \u001b[0;34m\u001b[0m\u001b[0m\n\u001b[1;32m    542\u001b[0m     \u001b[0;32mdef\u001b[0m \u001b[0m_replace_link_from\u001b[0m\u001b[0;34m(\u001b[0m\u001b[0mself\u001b[0m\u001b[0;34m,\u001b[0m \u001b[0msrc\u001b[0m\u001b[0;34m,\u001b[0m \u001b[0mlabel\u001b[0m\u001b[0;34m,\u001b[0m \u001b[0mlink_type\u001b[0m\u001b[0;34m=\u001b[0m\u001b[0mLinkType\u001b[0m\u001b[0;34m.\u001b[0m\u001b[0mINPUT\u001b[0m\u001b[0;34m)\u001b[0m\u001b[0;34m:\u001b[0m\u001b[0;34m\u001b[0m\u001b[0m\n",
      "\u001b[0;32m/Users/ricohaeuselmann/Code/aiida-fork/aiida/orm/implementation/general/calculation/__init__.pyc\u001b[0m in \u001b[0;36madd_link_from\u001b[0;34m(self, src, label, link_type)\u001b[0m\n\u001b[1;32m    308\u001b[0m \u001b[0;34m\u001b[0m\u001b[0m\n\u001b[1;32m    309\u001b[0m         return super(AbstractCalculation, self).add_link_from(\n\u001b[0;32m--> 310\u001b[0;31m             src, label, link_type)\n\u001b[0m\u001b[1;32m    311\u001b[0m \u001b[0;34m\u001b[0m\u001b[0m\n\u001b[1;32m    312\u001b[0m     \u001b[0;32mdef\u001b[0m \u001b[0m_replace_link_from\u001b[0m\u001b[0;34m(\u001b[0m\u001b[0mself\u001b[0m\u001b[0;34m,\u001b[0m \u001b[0msrc\u001b[0m\u001b[0;34m,\u001b[0m \u001b[0mlabel\u001b[0m\u001b[0;34m,\u001b[0m \u001b[0mlink_type\u001b[0m\u001b[0;34m=\u001b[0m\u001b[0mLinkType\u001b[0m\u001b[0;34m.\u001b[0m\u001b[0mINPUT\u001b[0m\u001b[0;34m)\u001b[0m\u001b[0;34m:\u001b[0m\u001b[0;34m\u001b[0m\u001b[0m\n",
      "\u001b[0;32m/Users/ricohaeuselmann/Code/aiida-fork/aiida/orm/mixins.pyc\u001b[0m in \u001b[0;36madd_link_from\u001b[0;34m(self, src, label, link_type)\u001b[0m\n\u001b[1;32m     36\u001b[0m             \u001b[0;32mraise\u001b[0m \u001b[0mModificationNotAllowed\u001b[0m\u001b[0;34m(\u001b[0m\u001b[0;34m'Cannot add a link from a sealed node'\u001b[0m\u001b[0;34m)\u001b[0m\u001b[0;34m\u001b[0m\u001b[0m\n\u001b[1;32m     37\u001b[0m \u001b[0;34m\u001b[0m\u001b[0m\n\u001b[0;32m---> 38\u001b[0;31m         \u001b[0msuper\u001b[0m\u001b[0;34m(\u001b[0m\u001b[0mSealable\u001b[0m\u001b[0;34m,\u001b[0m \u001b[0mself\u001b[0m\u001b[0;34m)\u001b[0m\u001b[0;34m.\u001b[0m\u001b[0madd_link_from\u001b[0m\u001b[0;34m(\u001b[0m\u001b[0msrc\u001b[0m\u001b[0;34m,\u001b[0m \u001b[0mlabel\u001b[0m\u001b[0;34m=\u001b[0m\u001b[0mlabel\u001b[0m\u001b[0;34m,\u001b[0m \u001b[0mlink_type\u001b[0m\u001b[0;34m=\u001b[0m\u001b[0mlink_type\u001b[0m\u001b[0;34m)\u001b[0m\u001b[0;34m\u001b[0m\u001b[0m\n\u001b[0m\u001b[1;32m     39\u001b[0m \u001b[0;34m\u001b[0m\u001b[0m\n\u001b[1;32m     40\u001b[0m     \u001b[0;34m@\u001b[0m\u001b[0mproperty\u001b[0m\u001b[0;34m\u001b[0m\u001b[0m\n",
      "\u001b[0;32m/Users/ricohaeuselmann/Code/aiida-fork/aiida/orm/implementation/general/node.pyc\u001b[0m in \u001b[0;36madd_link_from\u001b[0;34m(self, src, label, link_type)\u001b[0m\n\u001b[1;32m    475\u001b[0m         \u001b[0;31m# Check if the source allows output links from this node\u001b[0m\u001b[0;34m\u001b[0m\u001b[0;34m\u001b[0m\u001b[0m\n\u001b[1;32m    476\u001b[0m         \u001b[0;31m# (will raise ValueError if this is not the case)\u001b[0m\u001b[0;34m\u001b[0m\u001b[0;34m\u001b[0m\u001b[0m\n\u001b[0;32m--> 477\u001b[0;31m         \u001b[0msrc\u001b[0m\u001b[0;34m.\u001b[0m\u001b[0m_linking_as_output\u001b[0m\u001b[0;34m(\u001b[0m\u001b[0mself\u001b[0m\u001b[0;34m,\u001b[0m \u001b[0mlink_type\u001b[0m\u001b[0;34m)\u001b[0m\u001b[0;34m\u001b[0m\u001b[0m\n\u001b[0m\u001b[1;32m    478\u001b[0m \u001b[0;34m\u001b[0m\u001b[0m\n\u001b[1;32m    479\u001b[0m         \u001b[0;31m# If both are stored, write directly on the DB\u001b[0m\u001b[0;34m\u001b[0m\u001b[0;34m\u001b[0m\u001b[0m\n",
      "\u001b[0;32m/Users/ricohaeuselmann/Code/aiida-fork/aiida/orm/implementation/general/calculation/job/__init__.pyc\u001b[0m in \u001b[0;36m_linking_as_output\u001b[0;34m(self, dest, link_type)\u001b[0m\n\u001b[1;32m    202\u001b[0m                 \u001b[0;34m\"Can add an output node to a calculation only if it is in one \"\u001b[0m\u001b[0;34m\u001b[0m\u001b[0m\n\u001b[1;32m    203\u001b[0m                 \"of the following states: {}, it is instead {}\".format(\n\u001b[0;32m--> 204\u001b[0;31m                     valid_states, self.get_state()))\n\u001b[0m\u001b[1;32m    205\u001b[0m \u001b[0;34m\u001b[0m\u001b[0m\n\u001b[1;32m    206\u001b[0m         return super(AbstractJobCalculation, self)._linking_as_output(dest,\n",
      "\u001b[0;31mModificationNotAllowed\u001b[0m: Can add an output node to a calculation only if it is in one of the following states: [u'SUBMITTING', u'RETRIEVING', u'PARSING'], it is instead FINISHED"
     ]
    }
   ],
   "source": [
    "running = run_example()"
   ]
  },
  {
   "cell_type": "code",
   "execution_count": null,
   "metadata": {},
   "outputs": [],
   "source": [
    "poll_calc(running)"
   ]
  },
  {
   "cell_type": "code",
   "execution_count": 49,
   "metadata": {},
   "outputs": [
    {
     "data": {
      "text/plain": [
       "2424"
      ]
     },
     "execution_count": 49,
     "metadata": {},
     "output_type": "execute_result"
    }
   ],
   "source": [
    "running.pid"
   ]
  },
  {
   "cell_type": "code",
   "execution_count": 8,
   "metadata": {},
   "outputs": [],
   "source": [
    "def show_bands(calc):\n",
    "    result.out.output_band.show_mpl()"
   ]
  },
  {
   "cell_type": "code",
   "execution_count": 9,
   "metadata": {},
   "outputs": [],
   "source": [
    "# Main imports for UI\n",
    "import ipywidgets as widgets\n",
    "from IPython.display import display, clear_output, HTML, Javascript\n",
    "from fileupload import FileUploadWidget\n",
    "from phono_ui import show_warning, init_warnings, nice_errors"
   ]
  },
  {
   "cell_type": "code",
   "execution_count": 10,
   "metadata": {},
   "outputs": [
    {
     "data": {
      "application/vnd.jupyter.widget-view+json": {
       "model_id": "9f8d2f4ba433458c90a4ea5b7cf79e9b",
       "version_major": 2,
       "version_minor": 0
      },
      "text/plain": [
       "A Jupyter Widget"
      ]
     },
     "metadata": {},
     "output_type": "display_data"
    }
   ],
   "source": [
    "init_warnings()"
   ]
  },
  {
   "cell_type": "code",
   "execution_count": 11,
   "metadata": {},
   "outputs": [],
   "source": [
    "structure = None\n",
    "\n",
    "upload_out = widgets.HTML()\n",
    "\n",
    "@nice_errors(default_return=None)\n",
    "def on_file_upload(c):\n",
    "    global structure, upload_out\n",
    "    \n",
    "    from aiida.orm import DataFactory\n",
    "    StructureData = DataFactory('structure')\n",
    "    \n",
    "    import ase, ase.io\n",
    "    from tempfile import NamedTemporaryFile\n",
    "    \n",
    "    upload_out.value = \"Uploading structure...\"\n",
    "    tmp = NamedTemporaryFile(suffix=in_file_upload.filename)\n",
    "    f = open(tmp.name, \"w\")\n",
    "    f.write(in_file_upload.data)\n",
    "    f.close()\n",
    "    if tmp.name.endswith('.aiida'):\n",
    "        from aiida.orm.importexport import import_data\n",
    "        upload_out.value = \"Importing data...\"\n",
    "        import_dict = import_data(tmp.name,silent=True)\n",
    "        qs = StructureData.query(pk__in=[_[1] for _ in import_dict['Node']['existing']+import_dict['Node']['new']])\n",
    "        if qs.count()==0:\n",
    "            raise ValueError(\"No structure found!\")\n",
    "        if qs.count() > 1:\n",
    "            upload_out.value = \"<strong>Number of structures found</strong>: %d; considering only the first one.<br>\"%qs.count()\n",
    "        else:\n",
    "            upload_out.value = \"<strong>Structure loaded.</strong><br>\"    \n",
    "        structure = qs.first()\n",
    "    else:\n",
    "        ase_structures = ase.io.read(tmp.name, index=\":\")\n",
    "        if len(ase_structures) > 1:\n",
    "            upload_out.value = \"<strong>Number of structures found</strong>: %d; considering only the first one.<br>\"%len(ase_structure)\n",
    "        else:\n",
    "            upload_out.value = \"<strong>Structure loaded.</strong><br>\"\n",
    "        ase_structure = ase_structures[0]\n",
    "        structure = StructureData(ase = ase_structure)\n",
    "    tmp.close()\n",
    "    #update_view()\n",
    "    upload_out.value += '\\nStructure chemical formula: <strong>%s</strong>.' % structure.get_formula()\n",
    "    \n",
    "#TODO: FileUploadWidget doesn't fire event when same file is uploaded twice\n",
    "in_file_upload = FileUploadWidget(\"Upload Structure\")\n",
    "in_file_upload.observe(on_file_upload, names='data')\n",
    "\n",
    "in_use_example_structure = widgets.Checkbox(\n",
    "    value=False,\n",
    "    description='Use an example structure',\n",
    "    disabled=False\n",
    ")\n",
    "\n",
    "example_structure_options = [['Diamond', 'diamond'], ['Aluminum', 'al'],['GaAs', 'gaas'], ['Cobalt', 'co']]\n",
    "in_example_structure = widgets.Dropdown(\n",
    "    options=example_structure_options,\n",
    "    value=example_structure_options[0][1],\n",
    "    disabled=True\n",
    ")\n",
    "\n",
    "def on_use_example_structure_change(v):\n",
    "    if v['owner'].value:\n",
    "        in_file_upload.disabled = True\n",
    "        in_example_structure.disabled = False\n",
    "    else:\n",
    "        in_file_upload.disabled = False        \n",
    "        in_example_structure.disabled = True\n",
    "\n",
    "# Setup listener\n",
    "in_use_example_structure.observe(on_use_example_structure_change, names='value')\n",
    "\n",
    "structure_group = widgets.VBox(\n",
    "    [\n",
    "        in_file_upload,\n",
    "        upload_out,\n",
    "        widgets.HBox(\n",
    "            [\n",
    "            in_use_example_structure,\n",
    "            in_example_structure,\n",
    "            ]),\n",
    "    ])\n",
    "\n",
    "def get_example_structure(key):\n",
    "    from aiida.orm import DataFactory\n",
    "    from ase.lattice.spacegroup import crystal\n",
    "    StructureData = DataFactory('structure')\n",
    "    \n",
    "    if key == 'diamond':\n",
    "        # This is the lattice constant in angstrom\n",
    "        alat = 3.56\n",
    "        diamond_ase = crystal('C', [(0,0,0)], spacegroup=227,\n",
    "                          cellpar=[alat, alat, alat, 90, 90, 90],primitive_cell=True)\n",
    "        s = StructureData(ase=diamond_ase)\n",
    "        return s\n",
    "    elif key == 'al':\n",
    "        # This is the lattice constant in angstrom\n",
    "        alat = 4.05\n",
    "        Al_ase = crystal('Al', [(0,0,0)], spacegroup=225,\n",
    "                          cellpar=[alat, alat, alat, 90, 90, 90],primitive_cell=True)\n",
    "        s = StructureData(ase=Al_ase)\n",
    "        return s\n",
    "    elif key == 'gaas':\n",
    "        # This is the lattice constant in angstrom\n",
    "        alat = 5.75\n",
    "        GaAs_ase = crystal('GaAs', [(0,0,0),(0.25,0.25,0.25)], spacegroup=216,\n",
    "                          cellpar=[alat, alat, alat, 90, 90, 90],primitive_cell=True)\n",
    "        s = StructureData(ase=GaAs_ase)\n",
    "        return s\n",
    "    elif key == 'co':\n",
    "        # These are the lattice constants in angstrom\n",
    "        a = 2.5\n",
    "        c = 4.07\n",
    "        Co_ase = crystal('Co', [(1./3,2./3,0.25)], spacegroup=194,\n",
    "                          cellpar=[a, a, c, 90, 90, 120],primitive_cell=True)\n",
    "        s = StructureData(ase=Co_ase)\n",
    "        return s\n",
    "    else:\n",
    "        raise ValueError(\"Unknown or unsupported example structure '{}'\".format(key))\n",
    "\n",
    "def get_structure():\n",
    "    global structure\n",
    "    if in_use_example_structure.value:\n",
    "        structure_key = in_example_structure.value\n",
    "        return get_example_structure(structure_key)\n",
    "    else:\n",
    "        if structure is None:\n",
    "            raise ValueError(\"You did not upload a structure. Either upload a structure or choose an example.\")\n",
    "        else:\n",
    "            return structure"
   ]
  },
  {
   "cell_type": "code",
   "execution_count": 12,
   "metadata": {},
   "outputs": [],
   "source": [
    "relax_options = [['no relaxation', 'scf'], ['relax only atoms', 'relax'], ['relax cell and atoms', 'vc-relax']]\n",
    "in_relax_mode = widgets.RadioButtons(\n",
    "    options=relax_options,\n",
    "    value=relax_options[2][1],\n",
    "    disabled=False\n",
    ")\n",
    "\n",
    "relax_group = widgets.HBox(\n",
    "    [\n",
    "        widgets.Label(value=\"Structure relaxation: \"), \n",
    "        in_relax_mode\n",
    "    ])"
   ]
  },
  {
   "cell_type": "code",
   "execution_count": 13,
   "metadata": {},
   "outputs": [],
   "source": [
    "in_do_mag = widgets.Checkbox(\n",
    "    value=False,\n",
    "    description='Use magnetism',\n",
    "    disabled=False\n",
    ")\n",
    "\n",
    "in_do_bands = widgets.Checkbox(\n",
    "    value=True,\n",
    "    description='Compute electronic bands',\n",
    "    disabled=False\n",
    ")\n",
    "\n",
    "in_do_phonons = widgets.Checkbox(\n",
    "    value=True,\n",
    "    description='Compute phonons',\n",
    "    disabled=False\n",
    ")"
   ]
  },
  {
   "cell_type": "code",
   "execution_count": 25,
   "metadata": {},
   "outputs": [
    {
     "data": {
      "application/vnd.jupyter.widget-view+json": {
       "model_id": "393fd596a629483f98d35e14020927cd",
       "version_major": 2,
       "version_minor": 0
      },
      "text/plain": [
       "A Jupyter Widget"
      ]
     },
     "metadata": {},
     "output_type": "display_data"
    }
   ],
   "source": [
    "structure_group"
   ]
  },
  {
   "cell_type": "code",
   "execution_count": 63,
   "metadata": {},
   "outputs": [
    {
     "data": {
      "text/plain": [
       "<StructureData: uuid: a1648e20-2704-436e-9229-950825e3688d (unstored)>"
      ]
     },
     "execution_count": 63,
     "metadata": {},
     "output_type": "execute_result"
    }
   ],
   "source": [
    "get_structure()"
   ]
  },
  {
   "cell_type": "markdown",
   "metadata": {},
   "source": [
    "## UI Experiments"
   ]
  },
  {
   "cell_type": "code",
   "execution_count": 14,
   "metadata": {},
   "outputs": [],
   "source": [
    "STRUCTURE_PICKER = widgets.Dropdown(\n",
    "    options={\n",
    "        'Si': create_structure_Si\n",
    "    },\n",
    "    value=create_structure_Si,\n",
    "    description='Choose a Material',\n",
    "    style={'description_width': 'initial'}\n",
    ")\n",
    "\n",
    "\n",
    "def get_key_value_display(key, value, **kwargs):\n",
    "    key_label = widgets.Label(value=str(key).upper())\n",
    "    value_label = widgets.Label(value=str(value))\n",
    "    return widgets.Box([key_label, value_label], **kwargs)\n",
    "\n",
    "\n",
    "def get_parameters_display(parameters, **kwargs):\n",
    "    key_values = parameters.get_dict()\n",
    "    items_layout = widgets.Layout(justify_content='space-between')\n",
    "    widgets_list = [get_key_value_display(key, value, layout=items_layout) for key, value in key_values.items()]\n",
    "    if not 'layout' in kwargs:\n",
    "        kwargs['layout'] = widgets.Layout(\n",
    "            width=kwargs.pop('width', '30%'),\n",
    "            border=kwargs.pop('border', 'solid')\n",
    "        )\n",
    "    return widgets.VBox(widgets_list, **kwargs)\n",
    "\n",
    "\n",
    "class HtmlTable(object):\n",
    "    table_tpl = '<table class=\"table\">\\n{header}{rows}\\n</table>'\n",
    "    table_head_tpl = '<thead>{tr_row}</thead>'\n",
    "    table_row_tpl = '<tr>{row}</tr>'\n",
    "    table_cell_tpl = '<td>{}</td>'\n",
    "\n",
    "    def __init__(self, header=None, rows=None):\n",
    "        self.rows = rows or []\n",
    "        self.header = header or []\n",
    "        \n",
    "    @classmethod\n",
    "    def build_row(cls, row):\n",
    "        td_list = [cls.table_cell_tpl.format(item) for item in row]\n",
    "        tr_string = cls.table_row_tpl.format(row=''.join(td_list))\n",
    "        return tr_string\n",
    "    \n",
    "    @classmethod\n",
    "    def build_header(cls, row):\n",
    "        return cls.table_head_tpl.format(tr_row=cls.build_row(row))\n",
    "    \n",
    "    def build_table(self):\n",
    "        header = self.build_header(self.header) if self.header else ''\n",
    "        rows = [self.build_row(row) for row in self.rows]\n",
    "        rows_str = '\\n'.join(rows)\n",
    "        table = self.table_tpl.format(header=header, rows=rows_str)\n",
    "        return table\n",
    "        \n",
    "    def __str__(self):\n",
    "        return self.build_table()\n",
    "    \n",
    "\n",
    "def get_kpoints_display(kpoints, **kwargs):\n",
    "    special_points = kpoints.get_special_points()[0]\n",
    "    header = ['Name', 'x', 'y', 'z']\n",
    "    rows = [[name, pos[0], pos[1], pos[2]] for name, pos in special_points.items()]\n",
    "    special_points_table = HtmlTable(header=header, rows=rows)\n",
    "    path = ' -> '.join([label[1] for label in kpoints.labels])\n",
    "    template = '<p>{special_points}</p><p>{path}</p>'\n",
    "    if not 'layout' in kwargs:\n",
    "        kwargs['layout'] = widgets.Layout(\n",
    "            width=kwargs.pop('width', '40%'),\n",
    "            border=kwargs.pop('border', 'solid')\n",
    "        )\n",
    "    return widgets.HTML(value=template.format(special_points=special_points_table, path=path), **kwargs)"
   ]
  },
  {
   "cell_type": "code",
   "execution_count": 15,
   "metadata": {},
   "outputs": [],
   "source": [
    "inputs = make_example_inputs()"
   ]
  },
  {
   "cell_type": "code",
   "execution_count": 16,
   "metadata": {},
   "outputs": [],
   "source": [
    "#display(widgets.Box([get_parameters_display(inputs.parameters), get_kpoints_display(inputs.kpoints)]))"
   ]
  },
  {
   "cell_type": "code",
   "execution_count": 17,
   "metadata": {},
   "outputs": [],
   "source": [
    "import nglview"
   ]
  },
  {
   "cell_type": "code",
   "execution_count": 18,
   "metadata": {},
   "outputs": [],
   "source": [
    "STRUCTURE_VIEWER = nglview.NGLWidget()"
   ]
  },
  {
   "cell_type": "code",
   "execution_count": 19,
   "metadata": {},
   "outputs": [],
   "source": [
    "def refresh_structure_view(atoms):\n",
    "    global STRUCTURE_VIEWER\n",
    "    viewer = STRUCTURE_VIEWER\n",
    "    if hasattr(viewer, \"component_0\"):\n",
    "        #viewer.clear_representations()\n",
    "        viewer.component_0.remove_ball_and_stick()\n",
    "        viewer.component_0.remove_ball_and_stick()\n",
    "        viewer.component_0.remove_ball_and_stick()\n",
    "        viewer.component_0.remove_unitcell()\n",
    "        cid = viewer.component_0.id\n",
    "        viewer.remove_component(cid)\n",
    "\n",
    "    viewer.add_component(nglview.ASEStructure(atoms)) # adds ball+stick\n",
    "    viewer.add_unitcell()\n",
    "    viewer.center()"
   ]
  },
  {
   "cell_type": "code",
   "execution_count": 20,
   "metadata": {},
   "outputs": [],
   "source": [
    "#display(widgets.VBox([STRUCTURE_VIEWER], layout=widgets.Layout(border='solid')))"
   ]
  },
  {
   "cell_type": "code",
   "execution_count": 21,
   "metadata": {},
   "outputs": [],
   "source": [
    "refresh_structure_view(inputs.structure.get_ase())"
   ]
  },
  {
   "cell_type": "code",
   "execution_count": 22,
   "metadata": {},
   "outputs": [],
   "source": [
    "#STRUCTURE_VIEWER.display()"
   ]
  },
  {
   "cell_type": "code",
   "execution_count": 23,
   "metadata": {},
   "outputs": [],
   "source": [
    "#nglview.show_ase(asestruc)"
   ]
  },
  {
   "cell_type": "code",
   "execution_count": 24,
   "metadata": {},
   "outputs": [],
   "source": [
    "view = nglview.show_pdbid(\"3pqr\")"
   ]
  },
  {
   "cell_type": "markdown",
   "metadata": {},
   "source": [
    "## Workchain Experiments"
   ]
  },
  {
   "cell_type": "code",
   "execution_count": 139,
   "metadata": {},
   "outputs": [],
   "source": [
    "import bands_wf as bwf\n",
    "bwf = reload(bwf)\n",
    "vex = reload(vex)"
   ]
  },
  {
   "cell_type": "code",
   "execution_count": 140,
   "metadata": {},
   "outputs": [],
   "source": [
    "inputs = bwf.ExampleWorkflow.get_inputs_template()\n",
    "inputs.structure = create_structure_Si()\n",
    "inputs._label = 'ExampleWf'\n",
    "inputs._description = 'This is a Test'\n",
    "wf = bwf.ExampleWorkflow()"
   ]
  },
  {
   "cell_type": "code",
   "execution_count": 141,
   "metadata": {},
   "outputs": [],
   "source": [
    "inp_args = wf.create_input_args(inputs)"
   ]
  },
  {
   "cell_type": "code",
   "execution_count": 143,
   "metadata": {},
   "outputs": [],
   "source": [
    "#inputs = {'structure': create_structure_Si()}\n",
    "result = run(bwf.ExampleWorkflow, **inputs)"
   ]
  },
  {
   "cell_type": "code",
   "execution_count": null,
   "metadata": {},
   "outputs": [],
   "source": [
    "running = namestuple('running', ['pid'])(pid=2484)"
   ]
  },
  {
   "cell_type": "code",
   "execution_count": 147,
   "metadata": {},
   "outputs": [
    {
     "data": {
      "image/png": "[encoded data removed]",
      "text/plain": [
       "<Figure size 432x288 with 1 Axes>"
      ]
     },
     "metadata": {},
     "output_type": "display_data"
    }
   ],
   "source": [
    "result['bands'].show_mpl()"
   ]
  },
  {
   "cell_type": "code",
   "execution_count": null,
   "metadata": {},
   "outputs": [],
   "source": []
  }
 ],
 "metadata": {
  "kernelspec": {
   "display_name": "Python 2",
   "language": "python",
   "name": "python2"
  },
  "language_info": {
   "codemirror_mode": {
    "name": "ipython",
    "version": 2
   },
   "file_extension": ".py",
   "mimetype": "text/x-python",
   "name": "python",
   "nbconvert_exporter": "python",
   "pygments_lexer": "ipython2",
   "version": "2.7.14"
  }
 },
 "nbformat": 4,
 "nbformat_minor": 2
}
