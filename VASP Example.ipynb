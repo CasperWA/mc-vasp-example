{
 "cells": [
  {
   "cell_type": "code",
   "execution_count": 1,
   "metadata": {},
   "outputs": [],
   "source": [
    "from aiida import load_dbenv\n",
    "load_dbenv()"
   ]
  },
  {
   "cell_type": "code",
   "execution_count": 2,
   "metadata": {},
   "outputs": [],
   "source": [
    "import datetime\n",
    "import time\n",
    "import numpy as np\n",
    "from aiida.orm import DataFactory, CalculationFactory, Code, load_node\n",
    "from aiida.tools.data.array.kpoints import get_explicit_kpoints_path\n",
    "from aiida.work import run, submit"
   ]
  },
  {
   "cell_type": "code",
   "execution_count": 3,
   "metadata": {},
   "outputs": [],
   "source": [
    "import numpy\n",
    "\n",
    "\n",
    "def get_data_cls(descriptor):\n",
    "    load_dbenv_if_not_loaded()\n",
    "    from aiida.orm import DataFactory\n",
    "    return DataFactory(descriptor)\n",
    "\n",
    "\n",
    "def simple(pot_family, import_from, queue, code, computer, no_import):\n",
    "    load_dbenv_if_not_loaded()\n",
    "    from aiida.orm import CalculationFactory, Code\n",
    "    if not no_import:\n",
    "        click.echo('importing POTCAR files...')\n",
    "        with cli_spinner():\n",
    "            import_pots(import_from, pot_family)\n",
    "    pot_cls = get_data_cls('vasp.potcar')\n",
    "    pot_si = pot_cls.find_one(family=pot_family, full_name='Si')\n",
    "\n",
    "    vasp_calc = CalculationFactory('vasp.vasp')()\n",
    "    vasp_calc.use_structure(create_structure_Si())\n",
    "    vasp_calc.use_kpoints(create_kpoints())\n",
    "    vasp_calc.use_parameters(create_params_simple())\n",
    "    code = Code.get_from_string('{}@{}'.format(code, computer))\n",
    "    vasp_calc.use_code(code)\n",
    "    vasp_calc.use_potential(pot_si, 'Si')\n",
    "    vasp_calc.set_computer(code.get_computer())\n",
    "    vasp_calc.set_queue_name(queue)\n",
    "    vasp_calc.set_resources({'num_machines': 1, 'num_mpiprocs_per_machine': 20})\n",
    "    vasp_calc.label = 'Test VASP run'\n",
    "    vasp_calc.store_all()\n",
    "    vasp_calc.submit()\n",
    "\n",
    "\n",
    "def load_dbenv_if_not_loaded():\n",
    "    from aiida import load_dbenv, is_dbenv_loaded\n",
    "    if not is_dbenv_loaded():\n",
    "        load_dbenv()\n",
    "\n",
    "\n",
    "def create_structure_Si():\n",
    "    structure_cls = get_data_cls('structure')\n",
    "    alat = 5.4\n",
    "    structure = structure_cls(cell=numpy.array([[.5, 0, .5], [.5, .5, 0], [0, .5, .5]]) * alat)\n",
    "    structure.append_atom(position=numpy.array([.25, .25, .25]) * alat, symbols='Si')\n",
    "    return structure\n",
    "\n",
    "\n",
    "def create_kpoints_path():\n",
    "    return get_explicit_kpoints_path(structure=create_structure_Si())\n",
    "\n",
    "def create_params_noncol():\n",
    "    param_cls = get_data_cls('parameter')\n",
    "    return param_cls(\n",
    "        dict={\n",
    "            'SYSTEM': 'InAs',\n",
    "            'EDIFF': 1e-5,\n",
    "            'LORBIT': 11,\n",
    "            'LSORBIT': '.True.',\n",
    "            'GGA_COMPAT': '.False.',\n",
    "            'ISMEAR': 0,\n",
    "            'SIGMA': 0.05,\n",
    "            'GGA': 'PE',\n",
    "            'ENCUT': '280.00 eV',\n",
    "            'MAGMOM': '6*0.0',\n",
    "            'NBANDS': 24,\n",
    "        })\n",
    "\n",
    "\n",
    "def create_params_simple():\n",
    "    param_cls = get_data_cls('parameter')\n",
    "    return param_cls(dict={'prec': 'NORMAL', 'encut': 200, 'ediff': 1e-8, 'ialgo': 38, 'ismear': 0, 'sigma': 0.1})\n",
    "\n",
    "\n",
    "def import_pots(folder_path, family_name):\n",
    "    pot_cls = get_data_cls('vasp.potcar')\n",
    "    pot_cls.upload_potcar_family(folder_path, group_name=family_name, group_description='Test family', stop_if_existing=False)\n"
   ]
  },
  {
   "cell_type": "code",
   "execution_count": 4,
   "metadata": {},
   "outputs": [],
   "source": [
    "def now_str():\n",
    "    now = datetime.datetime.now()\n",
    "    return now.strftime(format='%Y-%m-%d %H:%M')"
   ]
  },
  {
   "cell_type": "code",
   "execution_count": 5,
   "metadata": {},
   "outputs": [],
   "source": [
    "def is_same_structure(left, right):\n",
    "    result = True\n",
    "    result &= bool(np.all(np.array(left.cell) - np.array(right.cell) < 1e-10))\n",
    "    result &= bool(left.get_formula() == right.get_formula())\n",
    "    result &= bool(left.get_kind_names() == right.get_kind_names())\n",
    "    return result"
   ]
  },
  {
   "cell_type": "code",
   "execution_count": 6,
   "metadata": {},
   "outputs": [],
   "source": [
    "def new_or_existing_structure(new_structure):\n",
    "    structure_cls = get_data_cls('structure')\n",
    "    result = new_structure\n",
    "    query = structure_cls.querybuild()\n",
    "    structures = [item[0] for item in query.all()]\n",
    "    same_structures = [structure for structure in structures if is_same_structure(new_structure, structure)]\n",
    "    if same_structures:\n",
    "        result = same_structures[0]\n",
    "    return result"
   ]
  },
  {
   "cell_type": "code",
   "execution_count": 7,
   "metadata": {},
   "outputs": [],
   "source": [
    "proc = CalculationFactory('vasp.vasp').process()"
   ]
  },
  {
   "cell_type": "code",
   "execution_count": 8,
   "metadata": {},
   "outputs": [],
   "source": [
    "def make_example_inputs():\n",
    "    potcar_cls = get_data_cls('vasp.potcar')\n",
    "    inputs = proc.get_inputs_template()\n",
    "    potcar_map = {'Si': 'Si'}\n",
    "    auto_kpoints = create_kpoints_path()\n",
    "    inputs._label = 'Test {}'.format(now_str())\n",
    "    inputs.code = 'vasp@monch'\n",
    "    inputs._description = 'This is a test'\n",
    "    inputs._options.max_wallclock_seconds = 3000\n",
    "    inputs._options.resources = {'num_machines': 1, 'num_mpiprocs_per_machine': 20}\n",
    "    inputs._options.queue_name = 'dphys_compute'\n",
    "    inputs._options.computer = Code.get_from_string(inputs['code']).get_computer()\n",
    "    inputs.kpoints = auto_kpoints['explicit_kpoints']\n",
    "    inputs.parameters = create_params_simple()\n",
    "    inputs.structure = new_or_existing_structure(auto_kpoints['conv_structure'])\n",
    "    inputs.potential = potcar_cls.get_potcars_from_structure(family_name='PBE', structure=inputs.structure, mapping=potcar_map)\n",
    "    inputs.settings = DataFactory('parameter')(dict={'parser_settings':{'add_bands': True, 'add_dos': True}})\n",
    "    inputs['code'] = Code.get_from_string('vasp')\n",
    "    return inputs"
   ]
  },
  {
   "cell_type": "code",
   "execution_count": 9,
   "metadata": {},
   "outputs": [],
   "source": [
    "def run_example():\n",
    "    return submit(proc, **make_example_inputs())"
   ]
  },
  {
   "cell_type": "code",
   "execution_count": 10,
   "metadata": {},
   "outputs": [],
   "source": [
    "def poll_calc():\n",
    "    result = load_node(running.pid)\n",
    "    state = result.get_state()\n",
    "    while not state in ['FINISHED', 'FAILED']:\n",
    "        result = load_node(running.pid)\n",
    "        state = result.get_state()\n",
    "        print state\n",
    "        time.sleep(10)"
   ]
  },
  {
   "cell_type": "code",
   "execution_count": 11,
   "metadata": {},
   "outputs": [],
   "source": [
    "def show_bands(calc):\n",
    "    result.out.output_band.show_mpl()"
   ]
  },
  {
   "cell_type": "code",
   "execution_count": 30,
   "metadata": {},
   "outputs": [],
   "source": [
    "# Main imports for UI\n",
    "import ipywidgets as widgets\n",
    "from IPython.display import display, clear_output, HTML, Javascript\n",
    "from fileupload import FileUploadWidget"
   ]
  },
  {
   "cell_type": "code",
   "execution_count": 28,
   "metadata": {},
   "outputs": [],
   "source": [
    "warningsbox = widgets.HTML(\"\")\n",
    "\n",
    "styles = [\n",
    "    \"background-color: rgb(242, 222, 222)\",\n",
    "    \"border-color: rgb(235, 204, 209)\",\n",
    "    \"border-radius: 4px\",\n",
    "    \"border-style: solid\",\n",
    "    \"border-width: 1px\",\n",
    "    \"font-size: 14px\",\n",
    "    \"line-height: 20px\",\n",
    "    \"margin: 0px\",\n",
    "    \"padding: 10px\",\n",
    "    \"padding-left: 20px\",\n",
    "    \"padding-right: 20px\",    \n",
    "]\n",
    "\n",
    "def show_warning(msg):\n",
    "    \"\"\"\n",
    "    Shows a warning in a red box.\n",
    "\n",
    "    If msg is empty or None, removes the box.\n",
    "    :param msg: Should be a valid HTML string (this is not validated)\n",
    "    \"\"\"\n",
    "    global warningsbox\n",
    "    \n",
    "    if not msg:\n",
    "        warningsbox.value = ''\n",
    "    else:\n",
    "        warningsbox.value = '<div style=\"{}\">WARNING! {}</div>'.format(\"; \".join(styles), msg)"
   ]
  },
  {
   "cell_type": "code",
   "execution_count": 31,
   "metadata": {},
   "outputs": [],
   "source": [
    "# An object that can be 'Display'ed to jump back here\n",
    "js_jump = Javascript(\"\"\"window.location.href = \"#warningsbox\";\"\"\")"
   ]
  },
  {
   "cell_type": "code",
   "execution_count": 32,
   "metadata": {},
   "outputs": [
    {
     "data": {
      "application/vnd.jupyter.widget-view+json": {
       "model_id": "9d9336f281d84e19b489c31b3d4befd3",
       "version_major": 2,
       "version_minor": 0
      },
      "text/plain": [
       "A Jupyter Widget"
      ]
     },
     "metadata": {},
     "output_type": "display_data"
    }
   ],
   "source": [
    "display(warningsbox)\n",
    "# To use: call #show_warning(msg)"
   ]
  },
  {
   "cell_type": "code",
   "execution_count": 33,
   "metadata": {},
   "outputs": [],
   "source": [
    "def nice_errors(default_return=None):\n",
    "    def decorator(fn):\n",
    "        def inner_fn(*args, **kwargs):\n",
    "            try:\n",
    "                # Clean-up before running the function\n",
    "                show_warning('')                \n",
    "                return fn(*args, **kwargs)\n",
    "            except Exception as e:\n",
    "                # \"Eat\" the exception but show an error\n",
    "                show_warning(\"Internal error during execution. Error: {}\".format(\n",
    "                    str(e)))\n",
    "                display(js_jump)\n",
    "                return default_return\n",
    "        return inner_fn\n",
    "    return decorator"
   ]
  },
  {
   "cell_type": "code",
   "execution_count": 38,
   "metadata": {},
   "outputs": [],
   "source": [
    "structure = None\n",
    "\n",
    "upload_out = widgets.HTML()\n",
    "\n",
    "@nice_errors(default_return=None)\n",
    "def on_file_upload(c):\n",
    "    global structure, upload_out\n",
    "    \n",
    "    from aiida.orm import DataFactory\n",
    "    StructureData = DataFactory('structure')\n",
    "    \n",
    "    import ase, ase.io\n",
    "    from tempfile import NamedTemporaryFile\n",
    "    \n",
    "    upload_out.value = \"Uploading structure...\"\n",
    "    tmp = NamedTemporaryFile(suffix=in_file_upload.filename)\n",
    "    f = open(tmp.name, \"w\")\n",
    "    f.write(in_file_upload.data)\n",
    "    f.close()\n",
    "    if tmp.name.endswith('.aiida'):\n",
    "        from aiida.orm.importexport import import_data\n",
    "        upload_out.value = \"Importing data...\"\n",
    "        import_dict = import_data(tmp.name,silent=True)\n",
    "        qs = StructureData.query(pk__in=[_[1] for _ in import_dict['Node']['existing']+import_dict['Node']['new']])\n",
    "        if qs.count()==0:\n",
    "            raise ValueError(\"No structure found!\")\n",
    "        if qs.count() > 1:\n",
    "            upload_out.value = \"<strong>Number of structures found</strong>: %d; considering only the first one.<br>\"%qs.count()\n",
    "        else:\n",
    "            upload_out.value = \"<strong>Structure loaded.</strong><br>\"    \n",
    "        structure = qs.first()\n",
    "    else:\n",
    "        ase_structures = ase.io.read(tmp.name, index=\":\")\n",
    "        if len(ase_structures) > 1:\n",
    "            upload_out.value = \"<strong>Number of structures found</strong>: %d; considering only the first one.<br>\"%len(ase_structure)\n",
    "        else:\n",
    "            upload_out.value = \"<strong>Structure loaded.</strong><br>\"\n",
    "        ase_structure = ase_structures[0]\n",
    "        structure = StructureData(ase = ase_structure)\n",
    "    tmp.close()\n",
    "    #update_view()\n",
    "    upload_out.value += '\\nStructure chemical formula: <strong>%s</strong>.' % structure.get_formula()\n",
    "    \n",
    "#TODO: FileUploadWidget doesn't fire event when same file is uploaded twice\n",
    "in_file_upload = FileUploadWidget(\"Upload Structure\")\n",
    "in_file_upload.observe(on_file_upload, names='data')\n",
    "\n",
    "in_use_example_structure = widgets.Checkbox(\n",
    "    value=False,\n",
    "    description='Use an example structure',\n",
    "    disabled=False\n",
    ")\n",
    "\n",
    "example_structure_options = [['Diamond', 'diamond'], ['Aluminum', 'al'],['GaAs', 'gaas'], ['Cobalt', 'co']]\n",
    "in_example_structure = widgets.Dropdown(\n",
    "    options=example_structure_options,\n",
    "    value=example_structure_options[0][1],\n",
    "    disabled=True\n",
    ")\n",
    "\n",
    "def on_use_example_structure_change(v):\n",
    "    if v['owner'].value:\n",
    "        in_file_upload.disabled = True\n",
    "        in_example_structure.disabled = False\n",
    "    else:\n",
    "        in_file_upload.disabled = False        \n",
    "        in_example_structure.disabled = True\n",
    "\n",
    "# Setup listener\n",
    "in_use_example_structure.observe(on_use_example_structure_change, names='value')\n",
    "\n",
    "structure_group = widgets.VBox(\n",
    "    [\n",
    "        in_file_upload,\n",
    "        upload_out,\n",
    "        widgets.HBox(\n",
    "            [\n",
    "            in_use_example_structure,\n",
    "            in_example_structure,\n",
    "            ]),\n",
    "    ])\n",
    "\n",
    "def get_example_structure(key):\n",
    "    from aiida.orm import DataFactory\n",
    "    from ase.lattice.spacegroup import crystal\n",
    "    StructureData = DataFactory('structure')\n",
    "    \n",
    "    if key == 'diamond':\n",
    "        # This is the lattice constant in angstrom\n",
    "        alat = 3.56\n",
    "        diamond_ase = crystal('C', [(0,0,0)], spacegroup=227,\n",
    "                          cellpar=[alat, alat, alat, 90, 90, 90],primitive_cell=True)\n",
    "        s = StructureData(ase=diamond_ase)\n",
    "        return s\n",
    "    elif key == 'al':\n",
    "        # This is the lattice constant in angstrom\n",
    "        alat = 4.05\n",
    "        Al_ase = crystal('Al', [(0,0,0)], spacegroup=225,\n",
    "                          cellpar=[alat, alat, alat, 90, 90, 90],primitive_cell=True)\n",
    "        s = StructureData(ase=Al_ase)\n",
    "        return s\n",
    "    elif key == 'gaas':\n",
    "        # This is the lattice constant in angstrom\n",
    "        alat = 5.75\n",
    "        GaAs_ase = crystal('GaAs', [(0,0,0),(0.25,0.25,0.25)], spacegroup=216,\n",
    "                          cellpar=[alat, alat, alat, 90, 90, 90],primitive_cell=True)\n",
    "        s = StructureData(ase=GaAs_ase)\n",
    "        return s\n",
    "    elif key == 'co':\n",
    "        # These are the lattice constants in angstrom\n",
    "        a = 2.5\n",
    "        c = 4.07\n",
    "        Co_ase = crystal('Co', [(1./3,2./3,0.25)], spacegroup=194,\n",
    "                          cellpar=[a, a, c, 90, 90, 120],primitive_cell=True)\n",
    "        s = StructureData(ase=Co_ase)\n",
    "        return s\n",
    "    else:\n",
    "        raise ValueError(\"Unknown or unsupported example structure '{}'\".format(key))\n",
    "\n",
    "def get_structure():\n",
    "    global structure\n",
    "    if in_use_example_structure.value:\n",
    "        structure_key = in_example_structure.value\n",
    "        return get_example_structure(structure_key)\n",
    "    else:\n",
    "        if structure is None:\n",
    "            raise ValueError(\"You did not upload a structure. Either upload a structure or choose an example.\")\n",
    "        else:\n",
    "            return structure"
   ]
  },
  {
   "cell_type": "code",
   "execution_count": 13,
   "metadata": {},
   "outputs": [],
   "source": [
    "STRUCTURE_PICKER = widgets.Dropdown(\n",
    "    options={\n",
    "        'Si': create_structure_Si\n",
    "    },\n",
    "    value=create_structure_Si,\n",
    "    description='Choose a Material',\n",
    "    style={'description_width': 'initial'}\n",
    ")\n",
    "\n",
    "\n",
    "def get_key_value_display(key, value, **kwargs):\n",
    "    key_label = widgets.Label(value=str(key).upper())\n",
    "    value_label = widgets.Label(value=str(value))\n",
    "    return widgets.Box([key_label, value_label], **kwargs)\n",
    "\n",
    "\n",
    "def get_parameters_display(parameters, **kwargs):\n",
    "    key_values = parameters.get_dict()\n",
    "    items_layout = widgets.Layout(justify_content='space-between')\n",
    "    widgets_list = [get_key_value_display(key, value, layout=items_layout) for key, value in key_values.items()]\n",
    "    if not 'layout' in kwargs:\n",
    "        kwargs['layout'] = widgets.Layout(\n",
    "            width=kwargs.pop('width', '30%'),\n",
    "            border=kwargs.pop('border', 'solid')\n",
    "        )\n",
    "    return widgets.VBox(widgets_list, **kwargs)\n",
    "\n",
    "\n",
    "class HtmlTable(object):\n",
    "    table_tpl = '<table class=\"table\">\\n{header}{rows}\\n</table>'\n",
    "    table_head_tpl = '<thead>{tr_row}</thead>'\n",
    "    table_row_tpl = '<tr>{row}</tr>'\n",
    "    table_cell_tpl = '<td>{}</td>'\n",
    "\n",
    "    def __init__(self, header=None, rows=None):\n",
    "        self.rows = rows or []\n",
    "        self.header = header or []\n",
    "        \n",
    "    @classmethod\n",
    "    def build_row(cls, row):\n",
    "        td_list = [cls.table_cell_tpl.format(item) for item in row]\n",
    "        tr_string = cls.table_row_tpl.format(row=''.join(td_list))\n",
    "        return tr_string\n",
    "    \n",
    "    @classmethod\n",
    "    def build_header(cls, row):\n",
    "        return cls.table_head_tpl.format(tr_row=cls.build_row(row))\n",
    "    \n",
    "    def build_table(self):\n",
    "        header = self.build_header(self.header) if self.header else ''\n",
    "        rows = [self.build_row(row) for row in self.rows]\n",
    "        rows_str = '\\n'.join(rows)\n",
    "        table = self.table_tpl.format(header=header, rows=rows_str)\n",
    "        return table\n",
    "        \n",
    "    def __str__(self):\n",
    "        return self.build_table()\n",
    "    \n",
    "\n",
    "def get_kpoints_display(kpoints, **kwargs):\n",
    "    special_points = kpoints.get_special_points()[0]\n",
    "    header = ['Name', 'x', 'y', 'z']\n",
    "    rows = [[name, pos[0], pos[1], pos[2]] for name, pos in special_points.items()]\n",
    "    special_points_table = HtmlTable(header=header, rows=rows)\n",
    "    path = ' -> '.join([label[1] for label in kpoints.labels])\n",
    "    template = '<p>{special_points}</p><p>{path}</p>'\n",
    "    if not 'layout' in kwargs:\n",
    "        kwargs['layout'] = widgets.Layout(\n",
    "            width=kwargs.pop('width', '40%'),\n",
    "            border=kwargs.pop('border', 'solid')\n",
    "        )\n",
    "    return widgets.HTML(value=template.format(special_points=special_points_table, path=path), **kwargs)"
   ]
  },
  {
   "cell_type": "code",
   "execution_count": 14,
   "metadata": {},
   "outputs": [],
   "source": [
    "inputs = make_example_inputs()"
   ]
  },
  {
   "cell_type": "code",
   "execution_count": 15,
   "metadata": {},
   "outputs": [
    {
     "data": {
      "application/vnd.jupyter.widget-view+json": {
       "model_id": "88fa1da4d9e14d1b92cda5702337b43f",
       "version_major": 2,
       "version_minor": 0
      },
      "text/plain": [
       "A Jupyter Widget"
      ]
     },
     "metadata": {},
     "output_type": "display_data"
    }
   ],
   "source": [
    "display(widgets.Box([get_parameters_display(inputs.parameters), get_kpoints_display(inputs.kpoints)]))"
   ]
  },
  {
   "cell_type": "code",
   "execution_count": 16,
   "metadata": {},
   "outputs": [
    {
     "data": {
      "text/plain": [
       "({'G': [0.0, 0.0, 0.0],\n",
       "  'K': [0.375, 0.375, 0.75],\n",
       "  'L': [0.5, 0.5, 0.5],\n",
       "  'U': [0.625, 0.25, 0.625],\n",
       "  'W': [0.5, 0.25, 0.75],\n",
       "  'X': [0.5, 0.0, 0.5]},\n",
       " [(0, 'GAMMA'),\n",
       "  (45, 'X'),\n",
       "  (60, 'U'),\n",
       "  (61, 'K'),\n",
       "  (109, 'GAMMA'),\n",
       "  (148, 'L'),\n",
       "  (179, 'W'),\n",
       "  (201, 'X')])"
      ]
     },
     "execution_count": 16,
     "metadata": {},
     "output_type": "execute_result"
    }
   ],
   "source": [
    "inputs.kpoints.get_special_points()[0], inputs.kpoints.labels"
   ]
  },
  {
   "cell_type": "code",
   "execution_count": 17,
   "metadata": {},
   "outputs": [],
   "source": [
    "import nglview"
   ]
  },
  {
   "cell_type": "code",
   "execution_count": 18,
   "metadata": {},
   "outputs": [],
   "source": [
    "STRUCTURE_VIEWER = nglview.NGLWidget()"
   ]
  },
  {
   "cell_type": "code",
   "execution_count": 19,
   "metadata": {},
   "outputs": [],
   "source": [
    "def refresh_structure_view(atoms):\n",
    "    global STRUCTURE_VIEWER\n",
    "    viewer = STRUCTURE_VIEWER\n",
    "    if hasattr(viewer, \"component_0\"):\n",
    "        #viewer.clear_representations()\n",
    "        viewer.component_0.remove_ball_and_stick()\n",
    "        viewer.component_0.remove_ball_and_stick()\n",
    "        viewer.component_0.remove_ball_and_stick()\n",
    "        viewer.component_0.remove_unitcell()\n",
    "        cid = viewer.component_0.id\n",
    "        viewer.remove_component(cid)\n",
    "\n",
    "    viewer.add_component(nglview.ASEStructure(atoms)) # adds ball+stick\n",
    "    viewer.add_unitcell()\n",
    "    viewer.center()"
   ]
  },
  {
   "cell_type": "code",
   "execution_count": 20,
   "metadata": {},
   "outputs": [
    {
     "data": {
      "application/vnd.jupyter.widget-view+json": {
       "model_id": "7aa9d88c71a54aac8d4b87e65fb2dd8a",
       "version_major": 2,
       "version_minor": 0
      },
      "text/plain": [
       "A Jupyter Widget"
      ]
     },
     "metadata": {},
     "output_type": "display_data"
    }
   ],
   "source": [
    "display(widgets.VBox([STRUCTURE_VIEWER], layout=widgets.Layout(border='solid')))"
   ]
  },
  {
   "cell_type": "code",
   "execution_count": 21,
   "metadata": {},
   "outputs": [],
   "source": [
    "refresh_structure_view(inputs.structure.get_ase())"
   ]
  },
  {
   "cell_type": "code",
   "execution_count": 22,
   "metadata": {},
   "outputs": [
    {
     "data": {
      "text/plain": [
       "<nglview.component.ComponentViewer at 0x10d14bf10>"
      ]
     },
     "execution_count": 22,
     "metadata": {},
     "output_type": "execute_result"
    }
   ],
   "source": [
    "STRUCTURE_VIEWER.add_component(nglview.ASEStructure(inputs.structure.get_ase()))"
   ]
  },
  {
   "cell_type": "code",
   "execution_count": 23,
   "metadata": {},
   "outputs": [],
   "source": [
    "STRUCTURE_VIEWER.add_unitcell()"
   ]
  },
  {
   "cell_type": "code",
   "execution_count": 24,
   "metadata": {},
   "outputs": [
    {
     "data": {
      "application/vnd.jupyter.widget-view+json": {
       "model_id": "83418e76cad2425da48fdf3e87060e9f",
       "version_major": 2,
       "version_minor": 0
      },
      "text/plain": [
       "A Jupyter Widget"
      ]
     },
     "metadata": {},
     "output_type": "display_data"
    }
   ],
   "source": [
    "STRUCTURE_VIEWER.display()"
   ]
  },
  {
   "cell_type": "code",
   "execution_count": 25,
   "metadata": {},
   "outputs": [],
   "source": [
    "asestruc = inputs.structure.get_ase()"
   ]
  },
  {
   "cell_type": "code",
   "execution_count": 26,
   "metadata": {},
   "outputs": [
    {
     "data": {
      "text/plain": [
       "Atoms(symbols='Si4', pbc=True, cell=[5.4, 5.4, 5.4], masses=...)"
      ]
     },
     "execution_count": 26,
     "metadata": {},
     "output_type": "execute_result"
    }
   ],
   "source": [
    "asestruc"
   ]
  },
  {
   "cell_type": "code",
   "execution_count": 27,
   "metadata": {},
   "outputs": [
    {
     "data": {
      "application/vnd.jupyter.widget-view+json": {
       "model_id": "f53f73396e9c4cf08175d576a7a8054d",
       "version_major": 2,
       "version_minor": 0
      },
      "text/plain": [
       "A Jupyter Widget"
      ]
     },
     "metadata": {},
     "output_type": "display_data"
    }
   ],
   "source": [
    "nglview.show_ase(asestruc)"
   ]
  },
  {
   "cell_type": "code",
   "execution_count": 28,
   "metadata": {},
   "outputs": [],
   "source": [
    "view = nglview.show_pdbid(\"3pqr\")"
   ]
  },
  {
   "cell_type": "code",
   "execution_count": 29,
   "metadata": {},
   "outputs": [
    {
     "data": {
      "application/vnd.jupyter.widget-view+json": {
       "model_id": "ece4935d5d304a2da170e03b292f91f6",
       "version_major": 2,
       "version_minor": 0
      },
      "text/plain": [
       "A Jupyter Widget"
      ]
     },
     "metadata": {},
     "output_type": "display_data"
    }
   ],
   "source": [
    "view"
   ]
  },
  {
   "cell_type": "code",
   "execution_count": null,
   "metadata": {},
   "outputs": [],
   "source": []
  }
 ],
 "metadata": {
  "kernelspec": {
   "display_name": "Python 2",
   "language": "python",
   "name": "python2"
  },
  "language_info": {
   "codemirror_mode": {
    "name": "ipython",
    "version": 2
   },
   "file_extension": ".py",
   "mimetype": "text/x-python",
   "name": "python",
   "nbconvert_exporter": "python",
   "pygments_lexer": "ipython2",
   "version": "2.7.14"
  }
 },
 "nbformat": 4,
 "nbformat_minor": 2
}
