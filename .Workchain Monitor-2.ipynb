{
 "cells": [
  {
   "cell_type": "code",
   "execution_count": 1,
   "metadata": {},
   "outputs": [],
   "source": [
    "import ipywidgets as ipw\n",
    "from IPython.display import display\n",
    "import sys\n",
    "import py"
   ]
  },
  {
   "cell_type": "code",
   "execution_count": 2,
   "metadata": {},
   "outputs": [],
   "source": [
    "def capture(output_widget):\n",
    "    def decorator(func):\n",
    "        def decorated(*args, **kwargs):\n",
    "            output_widget.clear_output()\n",
    "            result = {}\n",
    "            with output_widget:\n",
    "                result = func(*args, **kwargs)\n",
    "            return result\n",
    "        return decorated\n",
    "    return decorator"
   ]
  },
  {
   "cell_type": "code",
   "execution_count": 3,
   "metadata": {},
   "outputs": [],
   "source": [
    "WORKCHAIN_PK = ipw.IntText(description='Workchain')"
   ]
  },
  {
   "cell_type": "code",
   "execution_count": 4,
   "metadata": {},
   "outputs": [],
   "source": [
    "VERDI_BIN = ipw.Text(description='verdi bin', default='verdi')\n",
    "#VERDI_BIN.value = py.path.local(sys.executable).dirpath().join('verdi').strpath\n",
    "VERDI_BIN.value = 'verdi'"
   ]
  },
  {
   "cell_type": "code",
   "execution_count": 5,
   "metadata": {},
   "outputs": [],
   "source": [
    "COMPUTER = ipw.HTML(description='Computer')"
   ]
  },
  {
   "cell_type": "code",
   "execution_count": 6,
   "metadata": {},
   "outputs": [],
   "source": [
    "CHECK = ipw.Button(description='Check')\n",
    "CHECK = ipw.Button(description='Check ')"
   ]
  },
  {
   "cell_type": "code",
   "execution_count": 7,
   "metadata": {},
   "outputs": [],
   "source": [
    "STATE = ipw.HTML(description='State')"
   ]
  },
  {
   "cell_type": "code",
   "execution_count": 8,
   "metadata": {},
   "outputs": [],
   "source": [
    "RUNTIME = ipw.HTML(description='Runtime')"
   ]
  },
  {
   "cell_type": "code",
   "execution_count": 9,
   "metadata": {},
   "outputs": [],
   "source": [
    "FORMULA = ipw.HTML(description='Structure')"
   ]
  },
  {
   "cell_type": "code",
   "execution_count": 10,
   "metadata": {},
   "outputs": [],
   "source": [
    "TREE = ipw.Output()"
   ]
  },
  {
   "cell_type": "code",
   "execution_count": 11,
   "metadata": {},
   "outputs": [],
   "source": [
    "WORK_LIST = ipw.Output()"
   ]
  },
  {
   "cell_type": "code",
   "execution_count": 12,
   "metadata": {},
   "outputs": [],
   "source": [
    "CALC_LIST = ipw.Output()"
   ]
  },
  {
   "cell_type": "code",
   "execution_count": 13,
   "metadata": {},
   "outputs": [],
   "source": [
    "GET_INFO_ERR = ipw.Output()"
   ]
  },
  {
   "cell_type": "code",
   "execution_count": 14,
   "metadata": {},
   "outputs": [],
   "source": [
    "BANDS = ipw.Output()"
   ]
  },
  {
   "cell_type": "code",
   "execution_count": 15,
   "metadata": {},
   "outputs": [],
   "source": [
    "RESULTS = ipw.HTML(description='Results')"
   ]
  },
  {
   "cell_type": "code",
   "execution_count": 16,
   "metadata": {},
   "outputs": [],
   "source": [
    "OUTPUT = ipw.HBox([RESULTS, BANDS])"
   ]
  },
  {
   "cell_type": "code",
   "execution_count": 17,
   "metadata": {},
   "outputs": [],
   "source": [
    "def dict2html(in_dict):\n",
    "    lines = ['{} = {}'.format(key, val) for key, val in in_dict.items()]\n",
    "    return '<br/>'.join(lines)\n",
    "        "
   ]
  },
  {
   "cell_type": "code",
   "execution_count": 18,
   "metadata": {},
   "outputs": [],
   "source": [
    "def plot_mpl(all_data):\n",
    "    from matplotlib import rc\n",
    "    \n",
    "    # Uncomment to change default font\n",
    "    #rc('font',**{'family':'sans-serif','sans-serif':['Helvetica']})\n",
    "    #rc('font', **{'family': 'serif', 'serif': ['Computer Modern', 'CMU Serif', 'Times New Roman']})\n",
    "    # To use proper font for, e.g., Gamma if usetex is set to False\n",
    "    rc('mathtext', fontset='cm')\n",
    "\n",
    "    rc('text', usetex=True)\n",
    "    import matplotlib.pyplot as plt\n",
    "    plt.rcParams.update({'text.latex.preview': True})\n",
    "\n",
    "    import pylab as pl\n",
    "\n",
    "    # I use json to make sure the input is sanitized\n",
    "    import json\n",
    "\n",
    "    print_comment = False\n",
    "\n",
    "    if not all_data.get('use_latex', False):\n",
    "        rc('text', usetex=False)\n",
    "\n",
    "    #x = all_data['x']\n",
    "    #bands = all_data['bands']\n",
    "    paths = all_data['paths']\n",
    "    tick_pos = all_data['tick_pos']\n",
    "    tick_labels = all_data['tick_labels']\n",
    "\n",
    "    # Option for bands (all, or those of type 1 if there are two spins)\n",
    "    further_plot_options1 = {}\n",
    "    further_plot_options1['color'] = all_data.get('bands_color', 'k')\n",
    "    further_plot_options1['linewidth'] = all_data.get('bands_linewidth', 0.5)\n",
    "    further_plot_options1['linestyle'] = all_data.get('bands_linestyle', None)\n",
    "    further_plot_options1['marker'] = all_data.get('bands_marker', None)\n",
    "    further_plot_options1['markersize'] = all_data.get('bands_markersize', None)\n",
    "    further_plot_options1['markeredgecolor'] = all_data.get('bands_markeredgecolor', None)\n",
    "    further_plot_options1['markeredgewidth'] = all_data.get('bands_markeredgewidth', None)\n",
    "    further_plot_options1['markerfacecolor'] = all_data.get('bands_markerfacecolor', None)\n",
    "\n",
    "    # Options for second-type of bands if present (e.g. spin up vs. spin down)\n",
    "    further_plot_options2 = {}\n",
    "    further_plot_options2['color'] = all_data.get('bands_color2', 'r')\n",
    "    # Use the values of further_plot_options1 by default\n",
    "    further_plot_options2['linewidth'] = all_data.get('bands_linewidth2',\n",
    "        further_plot_options1['linewidth']\n",
    "        )\n",
    "    further_plot_options2['linestyle'] = all_data.get('bands_linestyle2',\n",
    "        further_plot_options1['linestyle']\n",
    "        )\n",
    "    further_plot_options2['marker'] = all_data.get('bands_marker2',\n",
    "        further_plot_options1['marker']\n",
    "        )\n",
    "    further_plot_options2['markersize'] = all_data.get('bands_markersize2',\n",
    "        further_plot_options1['markersize']\n",
    "        )\n",
    "    further_plot_options2['markeredgecolor'] = all_data.get('bands_markeredgecolor2',\n",
    "        further_plot_options1['markeredgecolor']\n",
    "        )\n",
    "    further_plot_options2['markeredgewidth'] = all_data.get('bands_markeredgewidth2',\n",
    "        further_plot_options1['markeredgewidth']\n",
    "        )\n",
    "    further_plot_options2['markerfacecolor'] = all_data.get('bands_markerfacecolor2',\n",
    "        further_plot_options1['markerfacecolor']\n",
    "        )\n",
    "\n",
    "    fig = pl.figure()\n",
    "    p = fig.add_subplot(1,1,1)\n",
    "\n",
    "    first_band_1 = True\n",
    "    first_band_2 = True\n",
    "\n",
    "    for path in paths:\n",
    "        if path['length'] <= 1:\n",
    "            # Avoid printing empty lines\n",
    "            continue\n",
    "        x = path['x']\n",
    "        #for band in bands:\n",
    "        for band, band_type in zip(path['values'], all_data['band_type_idx']):\n",
    "\n",
    "            # For now we support only two colors\n",
    "            if band_type % 2 == 0:\n",
    "                further_plot_options = further_plot_options1\n",
    "            else:\n",
    "                further_plot_options = further_plot_options2\n",
    "\n",
    "            # Put the legend text only once\n",
    "            label = None\n",
    "            if first_band_1 and band_type % 2 == 0:\n",
    "                first_band_1 = False\n",
    "                label = all_data.get('legend_text', None)\n",
    "            elif first_band_2 and band_type % 2 == 1:\n",
    "                first_band_2 = False\n",
    "                label = all_data.get('legend_text2', None)\n",
    "\n",
    "            p.plot(x, band, label=label,\n",
    "                   **further_plot_options\n",
    "            )\n",
    "\n",
    "\n",
    "    p.set_xticks(tick_pos)\n",
    "    p.set_xticklabels(tick_labels)\n",
    "    p.set_xlim([all_data['x_min_lim'], all_data['x_max_lim']])\n",
    "    p.set_ylim([all_data['y_min_lim'], all_data['y_max_lim']])\n",
    "    p.xaxis.grid(True, which='major', color='#888888', linestyle='-', linewidth=0.5)\n",
    "\n",
    "    if all_data.get('plot_zero_axis', False):\n",
    "        p.axhline(\n",
    "            0.,\n",
    "            color=all_data.get('zero_axis_color', '#888888'),\n",
    "            linestyle=all_data.get('zero_axis_linestyle', '--'),\n",
    "            linewidth=all_data.get('zero_axis_linewidth', 0.5),\n",
    "            )\n",
    "    if all_data['title']:\n",
    "        p.set_title(all_data['title'])\n",
    "    if all_data['legend_text']:\n",
    "        p.legend(loc='best')\n",
    "    p.set_ylabel(all_data['yaxis_label'])\n",
    "\n",
    "    try:\n",
    "        if print_comment:\n",
    "            print all_data['comment']\n",
    "    except KeyError:\n",
    "        pass\n",
    "    pl.close()\n",
    "    #pl.show()\n",
    "    return fig"
   ]
  },
  {
   "cell_type": "code",
   "execution_count": 19,
   "metadata": {},
   "outputs": [],
   "source": [
    "@capture(GET_INFO_ERR)\n",
    "def get_workchain_info(pk):\n",
    "    from mc_vasp_example import vasp_example as vex\n",
    "    vex.load_dbenv_if_not_loaded()\n",
    "    from aiida.orm import load_node, Code\n",
    "    from aiida.utils.timezone import now\n",
    "    \n",
    "    state = 'N/A'\n",
    "    wc = load_node(pk)\n",
    "    \n",
    "    end_time = now()\n",
    "    try:\n",
    "        if wc.has_finished():\n",
    "            state = 'Finished'\n",
    "            end_time = wc.mtime\n",
    "            if wc.has_finished_ok():\n",
    "                state = 'Finished OK'\n",
    "            elif wc.has_failed():\n",
    "                state = 'Failed'\n",
    "            elif wc.has_aborted():\n",
    "                state = 'Aborted'\n",
    "        else:\n",
    "            state = 'Running'\n",
    "    except AttributeError as err:\n",
    "        raise TypeError('{} Is not a WorkCalculation'.format(pk))\n",
    "    \n",
    "    if state != 'N/A':\n",
    "        runtime_delta = end_time - wc.ctime\n",
    "        runtime = runtime_delta.total_seconds()\n",
    "    else:\n",
    "        runtime = 'N/A'\n",
    "    \n",
    "    inputs = wc.get_inputs_dict()\n",
    "    \n",
    "    structure = inputs.get('structure', None)\n",
    "    formula = ''\n",
    "    if structure:\n",
    "        formula = wc.inp.structure.get_formula()\n",
    "    \n",
    "    codename = inputs.get('vasp_codename', None)\n",
    "    computer = ''\n",
    "    if codename:\n",
    "        computer = Code.get_from_string(codename.value).get_computer().name\n",
    "        \n",
    "    outputs = wc.get_outputs_dict()\n",
    "    \n",
    "    out_bands = outputs.get('bands', None)\n",
    "    bands_data = None\n",
    "    if out_bands:\n",
    "        bands_data = out_bands._matplotlib_get_dict()\n",
    "    \n",
    "    results = 'N/A'\n",
    "    if out_bands:\n",
    "        bands_calc_res = out_bands.inp.output_band.get_outputs_dict().get('output_parameters', None)\n",
    "        results = dict2html(bands_calc_res.get_dict())\n",
    "    \n",
    "    return {'state': state, 'runtime': runtime, 'formula': formula, 'computer': computer, 'bands': bands_data, 'results': results}\n",
    "\n",
    "\n",
    "def get_workchain_tree(pk, verdi_bin='verdi'):\n",
    "    import subprocess as sp\n",
    "    output = sp.check_output([verdi_bin, 'work', 'tree', str(pk)])\n",
    "    TREE.clear_output()\n",
    "    with TREE:\n",
    "    #return sp.check_output([verdi_bin, 'work', 'tree', str(pk)])\n",
    "        print output\n",
    "   \n",
    "\n",
    "def get_verdi_work_list(pk, verdi_bin='verdi'):\n",
    "    import subprocess as sp\n",
    "    output = sp.check_output([verdi_bin, 'work', 'list'])\n",
    "    WORK_LIST.clear_output()\n",
    "    with WORK_LIST:\n",
    "        print output\n",
    "        \n",
    "\n",
    "def get_verdi_calc_list(pk, verdi_bin='verdi'):\n",
    "    import subprocess as sp\n",
    "    output = sp.check_output([verdi_bin, 'calculation', 'list'])\n",
    "    CALC_LIST.clear_output()    \n",
    "    with CALC_LIST:\n",
    "        print output\n",
    "\n",
    "        \n",
    "def preplot(check_button):\n",
    "    from matplotlib import pyplot\n",
    "    \n",
    "    #global WORKCHAIN_PK\n",
    "    #info = get_workchain_info(WORKCHAIN_PK.value)\n",
    "    #bands = info.get('bands', 'NA')\n",
    "    #if bands:\n",
    "    #    display(plot_mpl(bands))\n",
    "        \n",
    "    pyplot.close()\n",
    "    \n",
    "\n",
    "def update_bands(bands):\n",
    "    global BANDS, OUTPUT\n",
    "    fig = plot_mpl(bands)\n",
    "    BANDS = ipw.Output()\n",
    "    output_children = [i for i in OUTPUT.children]\n",
    "    output_children[1] = BANDS\n",
    "    OUTPUT.children = output_children\n",
    "    BANDS.append_display_data(fig)\n",
    "    \n",
    "\n",
    "def check_workchain(check_button):\n",
    "    global WORKCHAIN_PK, VERDI_BIN, STATE, RUNTIME, TREE, RESULTS\n",
    "    \n",
    "    check_button.disabled=True\n",
    "    try:\n",
    "        info = get_workchain_info(WORKCHAIN_PK.value)\n",
    "        #state, runtime, formula, computer = get_workchain_info(WORKCHAIN_PK.value)\n",
    "        STATE.value = info.get('state', 'N/A')\n",
    "        RUNTIME.value = '{} sec'.format(info.get('runtime', 'N/A'))\n",
    "        FORMULA.value = info.get('formula', 'N/A')\n",
    "        COMPUTER.value = info.get('computer', 'N/A')\n",
    "        RESULTS.value = info.get('results', 'N/A')\n",
    "        #TREE.value = get_workchain_tree(WORKCHAIN_PK.value, verdi_bin=VERDI_BIN.value)\n",
    "        get_workchain_tree(WORKCHAIN_PK.value, verdi_bin=VERDI_BIN.value)\n",
    "        bands = info.get('bands', None)\n",
    "        BANDS.clear_output()\n",
    "        if bands:\n",
    "            update_bands(bands)\n",
    "            \n",
    "        get_verdi_work_list(WORKCHAIN_PK.value, verdi_bin=VERDI_BIN.value)\n",
    "        get_verdi_calc_list(WORKCHAIN_PK.value, verdi_bin=VERDI_BIN.value)\n",
    "    finally:\n",
    "        check_button.disabled = False\n",
    "\n",
    "    \n",
    "#CHECK.on_click(preplot)\n",
    "CHECK.on_click(check_workchain)"
   ]
  },
  {
   "cell_type": "code",
   "execution_count": 20,
   "metadata": {},
   "outputs": [
    {
     "data": {
      "application/vnd.jupyter.widget-view+json": {
       "model_id": "0ee142e3cf3d4c4684c1eb5faa78e75c",
       "version_major": 2,
       "version_minor": 0
      },
      "text/html": [
       "<p>Failed to display Jupyter Widget of type <code>VBox</code>.</p>\n",
       "<p>\n",
       "  If you're reading this message in the Jupyter Notebook or JupyterLab Notebook, it may mean\n",
       "  that the widgets JavaScript is still loading. If this message persists, it\n",
       "  likely means that the widgets JavaScript library is either not installed or\n",
       "  not enabled. See the <a href=\"https://ipywidgets.readthedocs.io/en/stable/user_install.html\">Jupyter\n",
       "  Widgets Documentation</a> for setup instructions.\n",
       "</p>\n",
       "<p>\n",
       "  If you're reading this message in another frontend (for example, a static\n",
       "  rendering on GitHub or <a href=\"https://nbviewer.jupyter.org/\">NBViewer</a>),\n",
       "  it may mean that your frontend doesn't currently support widgets.\n",
       "</p>\n"
      ],
      "text/plain": [
       "VBox(children=(HBox(children=(VBox(children=(IntText(value=0, description=u'Workchain'), HTML(value=u'', description=u'Computer'), HTML(value=u'', description=u'State'), HTML(value=u'', description=u'Runtime'), HTML(value=u'', description=u'Structure'))), Output())), VBox(children=(HBox(children=(HTML(value=u'', description=u'Results'), Output())), Accordion(children=(VBox(children=(Output(), Label(value=u''), Output())),), selected_index=None, _titles={u'0': 'Running Processes'}))), Button(description=u'Check ', style=ButtonStyle()), Output()))"
      ]
     },
     "metadata": {},
     "output_type": "display_data"
    }
   ],
   "source": [
    "INPUT_STATE = ipw.VBox([WORKCHAIN_PK, COMPUTER, STATE, RUNTIME, FORMULA])\n",
    "TOP = ipw.HBox([INPUT_STATE, TREE])\n",
    "LISTS = ipw.Accordion([ipw.VBox([WORK_LIST, ipw.Label(value=''), CALC_LIST])])\n",
    "LISTS.set_title(0, 'Running Processes')\n",
    "LISTS.selected_index = None\n",
    "BOTTOM = ipw.VBox([OUTPUT, LISTS])\n",
    "display(ipw.VBox([\n",
    "    TOP,\n",
    "    BOTTOM,\n",
    "    CHECK,\n",
    "    GET_INFO_ERR\n",
    "]))"
   ]
  },
  {
   "cell_type": "code",
   "execution_count": 21,
   "metadata": {},
   "outputs": [],
   "source": [
    "#!/Users/ricohaeuselmann/.venvwrap/matcloud-jupyter-py2/bin/verdi work list"
   ]
  },
  {
   "cell_type": "code",
   "execution_count": 22,
   "metadata": {},
   "outputs": [],
   "source": [
    "#!/Users/ricohaeuselmann/.venvwrap/matcloud-jupyter-py2/bin/verdi calculation list"
   ]
  },
  {
   "cell_type": "code",
   "execution_count": 23,
   "metadata": {},
   "outputs": [],
   "source": [
    "## Output: Add Total energy + bandstructure"
   ]
  },
  {
   "cell_type": "code",
   "execution_count": 24,
   "metadata": {},
   "outputs": [],
   "source": [
    "DEV_NULL = ipw.Output()\n",
    "from matplotlib import pyplot\n",
    "with DEV_NULL:\n",
    "    fig = plot_mpl(get_workchain_info(813)['bands'])\n",
    "    display(fig)\n",
    "    pyplot.close()"
   ]
  },
  {
   "cell_type": "code",
   "execution_count": 25,
   "metadata": {},
   "outputs": [],
   "source": [
    "#Si - 813\n",
    "#GaAs - 859"
   ]
  }
 ],
 "metadata": {
  "kernelspec": {
   "display_name": "Python 2",
   "language": "python",
   "name": "python2"
  },
  "language_info": {
   "codemirror_mode": {
    "name": "ipython",
    "version": 2
   },
   "file_extension": ".py",
   "mimetype": "text/x-python",
   "name": "python",
   "nbconvert_exporter": "python",
   "pygments_lexer": "ipython2",
   "version": "2.7.14"
  }
 },
 "nbformat": 4,
 "nbformat_minor": 2
}
