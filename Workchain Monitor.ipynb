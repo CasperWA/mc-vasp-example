{
 "cells": [
  {
   "cell_type": "code",
   "execution_count": 1,
   "metadata": {},
   "outputs": [],
   "source": [
    "import ipywidgets as ipw\n",
    "from IPython.display import display"
   ]
  },
  {
   "cell_type": "code",
   "execution_count": 10,
   "metadata": {},
   "outputs": [],
   "source": [
    "WORKCHAIN_PK = ipw.IntText(description='Workchain')"
   ]
  },
  {
   "cell_type": "code",
   "execution_count": 52,
   "metadata": {},
   "outputs": [],
   "source": [
    "CHECK = ipw.Button(description='Check')\n",
    "CHECK = ipw.Button(description='Check ')"
   ]
  },
  {
   "cell_type": "code",
   "execution_count": 50,
   "metadata": {},
   "outputs": [],
   "source": [
    "STATE = ipw.Text(description='State', disabled=True)"
   ]
  },
  {
   "cell_type": "code",
   "execution_count": 59,
   "metadata": {},
   "outputs": [],
   "source": [
    "RUNTIME = ipw.Text(description='Runtime', disabled=True)"
   ]
  },
  {
   "cell_type": "code",
   "execution_count": 61,
   "metadata": {},
   "outputs": [],
   "source": [
    "def get_workchain_info(pk):\n",
    "    import vasp_example as vex\n",
    "    vex.load_dbenv_if_not_loaded()\n",
    "    from aiida.orm import load_node\n",
    "    from aiida.utils.timezone import now\n",
    "    \n",
    "    state = 'N/A'\n",
    "    wc = load_node(pk)\n",
    "    end_time = now()\n",
    "    if wc.has_finished():\n",
    "        state = 'Finished'\n",
    "        end_time = wc.mtime\n",
    "        if wc.has_finished_ok():\n",
    "            state = 'Finished OK'\n",
    "        elif wc.has_failed():\n",
    "            state = 'Failed'\n",
    "        elif wc.has_aborted():\n",
    "            state = 'Aborted'\n",
    "    else:\n",
    "        state = 'Running'\n",
    "    \n",
    "    runtime_delta = end_time - wc.ctime\n",
    "    runtime = runtime_delta.total_seconds()\n",
    "    \n",
    "    return state, runtime\n",
    "\n",
    "def check_workchain(pk):\n",
    "    global WORKCHAIN_PK, STATE, RUNTIME\n",
    "    \n",
    "    state, runtime = get_workchain_info(WORKCHAIN_PK.value)\n",
    "    STATE.value = state\n",
    "    RUNTIME.value = '{} sec'.format(runtime)\n",
    "    \n",
    "CHECK.on_click(check_workchain)"
   ]
  },
  {
   "cell_type": "code",
   "execution_count": 62,
   "metadata": {},
   "outputs": [
    {
     "data": {
      "application/vnd.jupyter.widget-view+json": {
       "model_id": "56c1579f17cb4c34a779e156ab4fa31e",
       "version_major": 2,
       "version_minor": 0
      },
      "text/plain": [
       "A Jupyter Widget"
      ]
     },
     "metadata": {},
     "output_type": "display_data"
    }
   ],
   "source": [
    "display(ipw.VBox([\n",
    "    WORKCHAIN_PK,\n",
    "    STATE,\n",
    "    RUNTIME,\n",
    "    CHECK\n",
    "]))"
   ]
  },
  {
   "cell_type": "code",
   "execution_count": null,
   "metadata": {},
   "outputs": [],
   "source": []
  }
 ],
 "metadata": {
  "kernelspec": {
   "display_name": "Python 2",
   "language": "python",
   "name": "python2"
  },
  "language_info": {
   "codemirror_mode": {
    "name": "ipython",
    "version": 2
   },
   "file_extension": ".py",
   "mimetype": "text/x-python",
   "name": "python",
   "nbconvert_exporter": "python",
   "pygments_lexer": "ipython2",
   "version": "2.7.14"
  }
 },
 "nbformat": 4,
 "nbformat_minor": 2
}
